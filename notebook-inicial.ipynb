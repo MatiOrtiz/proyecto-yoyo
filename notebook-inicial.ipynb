{
 "cells": [
  {
   "cell_type": "code",
   "execution_count": null,
   "metadata": {},
   "outputs": [],
   "source": [
    "\n",
    "# Detecta los cuadros en la imagen\n",
    "# Utilizar con imagen del tablero de fondo\n",
    "# Conocida el tamaño de cada cuadro, y la cantidad, se puede calcular cuántos pixeles ocupa cada cuadro.\n",
    "import numpy as np\n",
    "import cv2\n",
    "import matplotlib.pyplot as plt\n",
    " \n",
    "# Cargado de la imagen\n",
    "original = cv2.imread(\"Videos/PruebaCuadros3.jpeg\")\n",
    "original = cv2.resize(original, (500,500))\n",
    "\n",
    "plt.figure(figsize=(5, 5))\n",
    "plt.imshow(original)\n",
    "plt.title('Imagen Original')\n",
    "plt.axis('off')  # Ocultar los ejes\n",
    "plt.show()\n",
    "#cv2.imshow(\"original\", original)\n",
    " \n",
    "# Conversión a escala de grises\n",
    "gris = cv2.cvtColor(original, cv2.COLOR_BGR2GRAY)\n",
    " \n",
    "# Aplicar suavizado\n",
    "gauss = cv2.GaussianBlur(gris, (7,7), 0)\n",
    "gauss = cv2.resize(gauss, (500,500))\n",
    "\n",
    "plt.figure(figsize=(5, 5))\n",
    "plt.imshow(gauss)\n",
    "plt.title('Imagen suavizada')\n",
    "plt.axis('off')  # Ocultar los ejes\n",
    "plt.show()\n",
    "#cv2.imshow(\"suavizado\", gauss)\n",
    " \n",
    "# Detección de los bordes con Canny\n",
    "canny = cv2.Canny(gauss, 50, 150)\n",
    "canny = cv2.resize(canny, (500,500))\n",
    " \n",
    "plt.figure(figsize=(5, 5))\n",
    "plt.imshow(canny)\n",
    "plt.title('bordes')\n",
    "plt.axis('off')  # Ocultar los ejes\n",
    "plt.show()\n",
    "#cv2.imshow(\"canny\", canny)\n",
    " \n",
    "# Busca los contornos\n",
    "(contornos,_) = cv2.findContours(canny.copy(), cv2.RETR_EXTERNAL, cv2.CHAIN_APPROX_SIMPLE)\n",
    " \n",
    "print(\"{} objetos encontrados \".format(len(contornos)))\n",
    " \n",
    "cv2.drawContours(original,contornos,-1,(0,0,255), 2)\n",
    "\n",
    "plt.figure(figsize=(5, 5))\n",
    "plt.imshow(original)\n",
    "plt.title('contornos')\n",
    "plt.axis('off')  # Ocultar los ejes\n",
    "plt.show()\n",
    "#cv2.imshow(\"contornos\", original)\n",
    " \n",
    "cv2.waitKey(0)"
   ]
  },
  {
   "cell_type": "code",
   "execution_count": 8,
   "metadata": {},
   "outputs": [
    {
     "name": "stdout",
     "output_type": "stream",
     "text": [
      "Bounding Box seleccionado: (534, 155, 11, 13)\n"
     ]
    }
   ],
   "source": [
    "#Código para calcular la bbox de un punto\n",
    "import cv2\n",
    "\n",
    "# Cargar el video\n",
    "video = cv2.VideoCapture(r\"Videos\\yoyo.mp4\")\n",
    "\n",
    "# Leer el primer frame\n",
    "ret, frame = video.read()\n",
    "\n",
    "# Seleccionar el área a trackear\n",
    "bbox = cv2.selectROI(\"Seleccionar bbox\", frame, fromCenter=False, showCrosshair=True)\n",
    "\n",
    "# Mostrar el área seleccionada\n",
    "print(\"Bounding Box seleccionado:\", bbox)\n",
    "\n",
    "# Dibuja el rectángulo sobre el primer frame\n",
    "x, y, w, h = bbox\n",
    "cv2.rectangle(frame, (int(x), int(y)), (int(x + w), int(y + h)), (255, 0, 0), 2)\n",
    "\n",
    "\n",
    "# Mostrar el frame con el rectángulo\n",
    "cv2.imshow(\"Bounding Box Seleccionado\", frame)\n",
    "cv2.waitKey(0)\n",
    "cv2.destroyAllWindows()\n"
   ]
  },
  {
   "cell_type": "code",
   "execution_count": 1,
   "metadata": {},
   "outputs": [
    {
     "name": "stdout",
     "output_type": "stream",
     "text": [
      "La medida del hilo en pixeles es de:  3628.3469137919997\n"
     ]
    }
   ],
   "source": [
    "# Convierte la medida del hilo de metros a pixeles\n",
    "\n",
    "medidaHilo= float(input(\"Ingrese la medida del hilo en cm: \"));\n",
    "medidaHiloPixeles= (medidaHilo/100 * 3779.5280352);\n",
    "print(\"La medida del hilo en pixeles es de: \",medidaHiloPixeles);\n"
   ]
  },
  {
   "cell_type": "code",
   "execution_count": null,
   "metadata": {},
   "outputs": [],
   "source": [
    "# Convierte la medida de pixeles a metros \n",
    "\n",
    "#Completar var medida con info del video\n",
    "#medida= \n",
    "medidaEnMetros= (medida/3779.5280352);\n",
    "print(\"La medida en metros es: \",medidaEnMetros);"
   ]
  }
 ],
 "metadata": {
  "kernelspec": {
   "display_name": "Python 3",
   "language": "python",
   "name": "python3"
  },
  "language_info": {
   "codemirror_mode": {
    "name": "ipython",
    "version": 3
   },
   "file_extension": ".py",
   "mimetype": "text/x-python",
   "name": "python",
   "nbconvert_exporter": "python",
   "pygments_lexer": "ipython3",
   "version": "3.12.6"
  }
 },
 "nbformat": 4,
 "nbformat_minor": 2
}

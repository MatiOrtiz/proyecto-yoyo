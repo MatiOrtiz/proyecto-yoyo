{
 "cells": [
  {
   "cell_type": "code",
   "execution_count": 1,
   "metadata": {},
   "outputs": [
    {
     "name": "stdout",
     "output_type": "stream",
     "text": [
      "La medida del hilo en pixeles es de:  3779.5280352\n"
     ]
    }
   ],
   "source": [
    "# Convierte la medida del hilo de metros a pixeles\n",
    "\n",
    "medidaHilo= float(input(\"Ingrese la medida del hilo en cm: \"));\n",
    "medidaHiloPixeles= (medidaHilo/100 * 3779.5280352);\n",
    "print(\"La medida del hilo en pixeles es de: \",medidaHiloPixeles);\n"
   ]
  },
  {
   "cell_type": "code",
   "execution_count": null,
   "metadata": {},
   "outputs": [],
   "source": [
    "# Convierte la medida de pixeles a metros \n",
    "\n",
    "#Completar var medida con info del video\n",
    "#medida= \n",
    "medidaEnMetros= (medida/3779.5280352);\n",
    "print(\"La medida en metros es: \",medidaEnMetros);"
   ]
  }
 ],
 "metadata": {
  "kernelspec": {
   "display_name": "Python 3",
   "language": "python",
   "name": "python3"
  },
  "language_info": {
   "codemirror_mode": {
    "name": "ipython",
    "version": 3
   },
   "file_extension": ".py",
   "mimetype": "text/x-python",
   "name": "python",
   "nbconvert_exporter": "python",
   "pygments_lexer": "ipython3",
   "version": "3.12.5"
  }
 },
 "nbformat": 4,
 "nbformat_minor": 2
}

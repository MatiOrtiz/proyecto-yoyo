{
 "cells": [
  {
   "cell_type": "markdown",
   "metadata": {
    "id": "9cZ7TmU37KYu"
   },
   "source": [
    "# Dependencias"
   ]
  },
  {
   "cell_type": "code",
   "execution_count": 2,
   "metadata": {
    "colab": {
     "base_uri": "https://localhost:8080/"
    },
    "executionInfo": {
     "elapsed": 7363,
     "status": "ok",
     "timestamp": 1731742230043,
     "user": {
      "displayName": "Tomas Rueda",
      "userId": "17662183962868927666"
     },
     "user_tz": 180
    },
    "id": "SRSCwzSZ0BnT",
    "outputId": "c798b320-e67d-479a-d572-f0684a1fd8f2"
   },
   "outputs": [
    {
     "name": "stdout",
     "output_type": "stream",
     "text": [
      "Requirement already satisfied: opencv-contrib-python in c:\\users\\usuario\\appdata\\local\\programs\\python\\python312\\lib\\site-packages (4.10.0.84)\n",
      "Requirement already satisfied: numpy>=1.21.2 in c:\\users\\usuario\\appdata\\local\\programs\\python\\python312\\lib\\site-packages (from opencv-contrib-python) (2.1.1)\n",
      "Note: you may need to restart the kernel to use updated packages.\n"
     ]
    },
    {
     "name": "stderr",
     "output_type": "stream",
     "text": [
      "WARNING: Ignoring invalid distribution ~pencv-contrib-python (c:\\Users\\Usuario\\AppData\\Local\\Programs\\Python\\Python312\\Lib\\site-packages)\n",
      "WARNING: Ignoring invalid distribution ~pencv-contrib-python (c:\\Users\\Usuario\\AppData\\Local\\Programs\\Python\\Python312\\Lib\\site-packages)\n",
      "WARNING: Ignoring invalid distribution ~pencv-contrib-python (c:\\Users\\Usuario\\AppData\\Local\\Programs\\Python\\Python312\\Lib\\site-packages)\n",
      "WARNING: Ignoring invalid distribution ~pencv-contrib-python (c:\\Users\\Usuario\\AppData\\Local\\Programs\\Python\\Python312\\Lib\\site-packages)\n",
      "\n",
      "[notice] A new release of pip is available: 24.2 -> 24.3.1\n",
      "[notice] To update, run: python.exe -m pip install --upgrade pip\n"
     ]
    },
    {
     "name": "stdout",
     "output_type": "stream",
     "text": [
      "Requirement already satisfied: plotly in c:\\users\\usuario\\appdata\\local\\programs\\python\\python312\\lib\\site-packages (5.24.1)\n",
      "Requirement already satisfied: tenacity>=6.2.0 in c:\\users\\usuario\\appdata\\local\\programs\\python\\python312\\lib\\site-packages (from plotly) (9.0.0)\n",
      "Requirement already satisfied: packaging in c:\\users\\usuario\\appdata\\roaming\\python\\python312\\site-packages (from plotly) (24.1)\n",
      "Note: you may need to restart the kernel to use updated packages.\n"
     ]
    },
    {
     "name": "stderr",
     "output_type": "stream",
     "text": [
      "WARNING: Ignoring invalid distribution ~pencv-contrib-python (c:\\Users\\Usuario\\AppData\\Local\\Programs\\Python\\Python312\\Lib\\site-packages)\n",
      "WARNING: Ignoring invalid distribution ~pencv-contrib-python (c:\\Users\\Usuario\\AppData\\Local\\Programs\\Python\\Python312\\Lib\\site-packages)\n",
      "WARNING: Ignoring invalid distribution ~pencv-contrib-python (c:\\Users\\Usuario\\AppData\\Local\\Programs\\Python\\Python312\\Lib\\site-packages)\n",
      "WARNING: Ignoring invalid distribution ~pencv-contrib-python (c:\\Users\\Usuario\\AppData\\Local\\Programs\\Python\\Python312\\Lib\\site-packages)\n",
      "\n",
      "[notice] A new release of pip is available: 24.2 -> 24.3.1\n",
      "[notice] To update, run: python.exe -m pip install --upgrade pip\n"
     ]
    }
   ],
   "source": [
    "%pip install opencv-contrib-python\n",
    "%pip install plotly\n",
    "import cv2\n",
    "import numpy as np\n",
    "import pandas as pd\n",
    "import plotly.graph_objects as go\n",
    "from plotly.subplots import make_subplots\n",
    "import plotly.io as pio\n",
    "import scipy.signal as signal\n",
    "from scipy.optimize import curve_fit"
   ]
  },
  {
   "cell_type": "code",
   "execution_count": 3,
   "metadata": {
    "colab": {
     "base_uri": "https://localhost:8080/"
    },
    "executionInfo": {
     "elapsed": 2582,
     "status": "ok",
     "timestamp": 1731742187585,
     "user": {
      "displayName": "Tomas Rueda",
      "userId": "17662183962868927666"
     },
     "user_tz": 180
    },
    "id": "mwvDT5fv4HkX",
    "outputId": "c8eda19a-ee79-46c3-b26b-06379387abc1"
   },
   "outputs": [],
   "source": [
    "#%pip uninstall opencv-python -y\n",
    "#q%pip uninstall opencv-contrib-python -y"
   ]
  },
  {
   "cell_type": "markdown",
   "metadata": {
    "id": "BXvvEOq7hhtk"
   },
   "source": [
    "# Definiciones"
   ]
  },
  {
   "cell_type": "code",
   "execution_count": 138,
   "metadata": {
    "executionInfo": {
     "elapsed": 286,
     "status": "ok",
     "timestamp": 1731742232045,
     "user": {
      "displayName": "Tomas Rueda",
      "userId": "17662183962868927666"
     },
     "user_tz": 180
    },
    "id": "Aw7RYknIhxMV"
   },
   "outputs": [],
   "source": [
    "# Carga el video\n",
    "nombre_video = '120gris.mov'\n",
    "cap = cv2.VideoCapture('Videos/' + nombre_video) # Local\n",
    "if not cap.isOpened():\n",
    "  cap = cv2.VideoCapture('/content/' + nombre_video) # Colab\n",
    "\n",
    "\n",
    "# Medida del hilo del yoyo en metros\n",
    "medida_metros = 0.96\n",
    "# Cantidad de pixeles en 0.96 metros\n",
    "medida_pixeles = 1600\n",
    "\n",
    "#Define los rectangulos a trackear\n",
    "bboxCentro = (490, 178, 115, 86)\n",
    "bboxBorde = (526, 240, 28, 28)\n",
    "\n",
    "#Constante de conversion px a metros\n",
    "const_XY = medida_metros/medida_pixeles\n",
    "\n",
    "# Variables para guardar las posiciones y tiempos\n",
    "positionsCentro = []\n",
    "positionsCentro_m = []\n",
    "positionsBorde = []\n",
    "positionsBorde_m = []\n",
    "fps = cap.get(cv2.CAP_PROP_FPS)  # Obtiene los FPS del video\n",
    "frame_duration = 1.0 / fps  # Duración de cada frame en segundos # Si hay error acá, revisar video\n",
    "frame_count = 0"
   ]
  },
  {
   "cell_type": "markdown",
   "metadata": {
    "id": "W_hA0GPH6-Sw"
   },
   "source": [
    "# Trackeo"
   ]
  },
  {
   "cell_type": "code",
   "execution_count": 139,
   "metadata": {
    "executionInfo": {
     "elapsed": 5,
     "status": "ok",
     "timestamp": 1731742232769,
     "user": {
      "displayName": "Tomas Rueda",
      "userId": "17662183962868927666"
     },
     "user_tz": 180
    },
    "id": "ocGM5P8C0MCQ"
   },
   "outputs": [],
   "source": [
    "def calcularPosiciones(frame, bbox, positions, positions_m, number):\n",
    "    # Calcular centro\n",
    "    (x, y, w, h) = [int(v) for v in bbox]\n",
    "    center_x = x + w // 2\n",
    "    center_y = y + h // 2\n",
    "    # Dibujar bounding box\n",
    "    cv2.rectangle(frame, (x, y), (x + w, y + h), (0, 255, 0), 2)\n",
    "    # Dibuja centro\n",
    "    cv2.circle(frame, (center_x, center_y), 5, (0, 0, 255), -1)\n",
    "\n",
    "    # Guarda posiciones\n",
    "    current_time = frame_count * frame_duration\n",
    "    positions.append((current_time, center_x, cap.get(cv2.CAP_PROP_FRAME_HEIGHT) - center_y))\n",
    "    positions_m.append((current_time, center_x * const_XY, (cap.get(cv2.CAP_PROP_FRAME_HEIGHT) - center_y) * const_XY))"
   ]
  },
  {
   "cell_type": "code",
   "execution_count": 140,
   "metadata": {
    "executionInfo": {
     "elapsed": 182308,
     "status": "ok",
     "timestamp": 1731742415073,
     "user": {
      "displayName": "Tomas Rueda",
      "userId": "17662183962868927666"
     },
     "user_tz": 180
    },
    "id": "05tAQnvtheER"
   },
   "outputs": [],
   "source": [
    "# Inicializar bounding boxes\n",
    "bbox1 = bboxCentro\n",
    "bbox2 = bboxBorde\n",
    "# Crear trackers\n",
    "trackerCentro = cv2.TrackerCSRT_create()\n",
    "trackerBorde = cv2.TrackerCSRT_create()\n",
    "# Leer primer frame\n",
    "ret, frame = cap.read()\n",
    "if not ret:\n",
    "    print(\"No se pudo leer el video.\")\n",
    "    cap.release()\n",
    "    cv2.destroyAllWindows()\n",
    "# Inicializar trackers\n",
    "ok1 = trackerCentro.init(frame, bbox1) # Si hay error acá, compilar definiciones\n",
    "ok2 = trackerBorde.init(frame, bbox2)\n",
    "\n",
    "while True:\n",
    "    # Lee el siguiente frame\n",
    "    ret, frame = cap.read()\n",
    "\n",
    "    if not ret:\n",
    "        break\n",
    "\n",
    "    # Actualiza ambos trackers\n",
    "    ok1, bbox1 = trackerCentro.update(frame)\n",
    "    ok2, bbox2 = trackerBorde.update(frame)\n",
    "    if ok1 and ok2:\n",
    "        calcularPosiciones(frame, bbox1, positionsCentro, positionsCentro_m, 1)\n",
    "        calcularPosiciones(frame, bbox2, positionsBorde, positionsBorde_m, 2)\n",
    "\n",
    "    # Muestra el frame con el seguimiento SOLO LOCAL, NO COLAB\n",
    "    display_frame = cv2.resize(frame, (400, 1000))\n",
    "    cv2.imshow('Object Tracking', display_frame)\n",
    "\n",
    "    # Rompe el bucle si se presiona la tecla 'q'\n",
    "    if cv2.waitKey(1) & 0xFF == ord('q'):\n",
    "        break\n",
    "\n",
    "    # Incrementa el contador de frames\n",
    "    frame_count += 1\n",
    "\n",
    "#Guarda las posiciones sin procesar en csv\n",
    "dfPosicionesCentro = pd.DataFrame(positionsCentro_m)\n",
    "dfPosicionesBorde = pd.DataFrame(positionsBorde_m)\n",
    "\n",
    "dfPosicionesCentro.to_csv('posicionesCentro.csv', index = False, float_format='%.6f' )\n",
    "dfPosicionesBorde.to_csv('posicionesBorde.csv', index = False, float_format='%.6f' )\n",
    "\n",
    "\n",
    "# Libera la captura y cierra las ventanas\n",
    "cap.release()\n",
    "cv2.destroyAllWindows()"
   ]
  },
  {
   "cell_type": "markdown",
   "metadata": {
    "id": "Ph31EEQYhipp"
   },
   "source": [
    "# Datos"
   ]
  },
  {
   "cell_type": "code",
   "execution_count": 141,
   "metadata": {
    "executionInfo": {
     "elapsed": 3,
     "status": "ok",
     "timestamp": 1731742415073,
     "user": {
      "displayName": "Tomas Rueda",
      "userId": "17662183962868927666"
     },
     "user_tz": 180
    },
    "id": "hKNibXM1jnKH"
   },
   "outputs": [],
   "source": [
    "#Función para pasar de coordenadas cartesianas a polares\n",
    "\n",
    "def cartesian_to_polar(x_coords, y_coords):\n",
    "    '''\n",
    "    Esta función devuelve una lista con el radio r y otra lista con el ángulo theta medido desde la horizontal para las coordenadas polares a\n",
    "    partir de las coordenadas cartesianas.\n",
    "    x: lista con los valores de x\n",
    "    y: lista con los valores de y\n",
    "    '''\n",
    "    r_coords = [] # Inicializo una lista vacía para los valores de la coordenada r\n",
    "    theta_coords = [] # Inicializo una lista vacía para los valores del ángulo medido desde el eje +x\n",
    "    for x, y in zip(x_coords, y_coords):\n",
    "        r = np.sqrt(x**2 + y**2)\n",
    "        theta = np.arctan2(y, x)\n",
    "        r_coords.append(r)\n",
    "        theta_coords.append(theta)\n",
    "\n",
    "    return r_coords, theta_coords"
   ]
  },
  {
   "cell_type": "code",
   "execution_count": 142,
   "metadata": {
    "executionInfo": {
     "elapsed": 2,
     "status": "ok",
     "timestamp": 1731742415073,
     "user": {
      "displayName": "Tomas Rueda",
      "userId": "17662183962868927666"
     },
     "user_tz": 180
    },
    "id": "QxJekv8vyAIg"
   },
   "outputs": [],
   "source": [
    "suavizado = True\n",
    "\n",
    "def crear_dataframe(positions):\n",
    "    # Crea el DataFrame y aplica filtros\n",
    "    df = pd.DataFrame(positions, columns=['Time (sec)', 'X', 'Y'])\n",
    "\n",
    "    if suavizado:\n",
    "      window_size = 21\n",
    "      polynomial_order = 3\n",
    "      df['X'] = signal.savgol_filter(df['X'], window_size, polynomial_order)\n",
    "      df['Y'] = signal.savgol_filter(df['Y'], window_size, polynomial_order)\n",
    "\n",
    "    diff_size = 7\n",
    "\n",
    "    # Calcular coordenadas polares\n",
    "    df['R'], df['Theta'] = cartesian_to_polar(df['X'], df['Y'])  # Agregar coordenadas polares\n",
    "\n",
    "    # Continuar con el resto del cálculo\n",
    "    df['Delta_Time'] = df['Time (sec)'].diff().fillna(0)\n",
    "    df['Delta_X'] = df['X'].diff(diff_size).fillna(0)\n",
    "    df['Delta_Y'] = df['Y'].diff(diff_size).fillna(0)\n",
    "\n",
    "    # Velocidades\n",
    "    df['Speed_X'] = df['Delta_X'] / df['Delta_Time']\n",
    "    df.loc[0, 'Speed_X'] = df.loc[1, 'Speed_X']\n",
    "    df['Speed_Y'] = df['Delta_Y'] / df['Delta_Time']\n",
    "    df.loc[0, 'Speed_Y'] = df.loc[1, 'Speed_Y']\n",
    "    df['Speed_X'] = df['Speed_X'].replace([np.inf, -np.inf], 0)\n",
    "    df['Speed_Y'] = df['Speed_Y'].replace([np.inf, -np.inf], 0)\n",
    "    df['Speed'] = np.sqrt(df['Speed_X']**2 + df['Speed_Y']**2)\n",
    "    df['Speed'] = df['Speed'].replace([np.inf, -np.inf], 0)\n",
    "\n",
    "    # Savitzky-Golay filters para suavizar las velocidades\n",
    "    if suavizado:\n",
    "      df['Speed_X'] = signal.savgol_filter(df['Speed_X'], window_size, polynomial_order)\n",
    "      df['Speed_Y'] = signal.savgol_filter(df['Speed_Y'], window_size, polynomial_order)\n",
    "      df['Speed'] = signal.savgol_filter(df['Speed'], window_size, polynomial_order)\n",
    "\n",
    "    # Calcular aceleraciones\n",
    "    df['Acceleration_X'] = df['Speed_X'].diff(diff_size) / df['Delta_Time']\n",
    "    df['Acceleration_X'] = df['Acceleration_X'].fillna(0)\n",
    "    df['Acceleration_Y'] = df['Speed_Y'].diff(diff_size) / df['Delta_Time']\n",
    "    df['Acceleration_Y'] = df['Acceleration_Y'].fillna(0)\n",
    "    df['Acceleration_X'] = df['Acceleration_X'].replace([np.inf, -np.inf], 0)\n",
    "    df['Acceleration_Y'] = df['Acceleration_Y'].replace([np.inf, -np.inf], 0)\n",
    "    df['Acceleration'] = np.sqrt(df['Acceleration_X']**2 + df['Acceleration_Y']**2)\n",
    "    df['Acceleration'] = df['Acceleration'].replace([np.inf, -np.inf], 0)\n",
    "\n",
    "    # Cálculo de la velocidad angular\n",
    "    df['Delta_Theta'] = df['Theta'].diff().fillna(0)  # Cambio en el ángulo\n",
    "    df['Angular_Velocity'] = df['Delta_Theta'] / df['Delta_Time']  # Velocidad angular en radianes por segundo\n",
    "    df['Angular_Velocity'] = df['Angular_Velocity'].replace([np.inf, -np.inf], 0)  # Eliminar infinitos\n",
    "    if suavizado:\n",
    "      df['Angular_Velocity'] = signal.savgol_filter(df['Angular_Velocity'], window_size, polynomial_order)\n",
    "\n",
    "    #Cálculo de la aceleración angular\n",
    "    df['Delta_Omega']= df['Angular_Velocity'].diff().fillna(0)\n",
    "    df['Angular_Acceleration'] = df['Delta_Omega'] / df['Delta_Time']\n",
    "    #df['Angular_Acceleration'] = df['Angular_Acceleration'].replace([np.inf, -np.inf], 0)\n",
    "    if suavizado:\n",
    "      df['Angular_Acceleration'] = signal.savgol_filter(df['Angular_Acceleration'], window_size, polynomial_order)\n",
    "\n",
    "    # Separar dataframes para velocidades y aceleraciones\n",
    "    df_speed = df[['Time (sec)', 'Speed_X', 'Speed_Y', 'Speed']][df['Speed'] != 0].copy()\n",
    "    df_acceleration = df[['Time (sec)', 'Acceleration_X', 'Acceleration_Y', 'Acceleration']][df['Acceleration'] != 0].copy()\n",
    "\n",
    "    return df, df_speed, df_acceleration\n",
    "\n",
    "\n",
    "\n",
    "\n",
    "def crear_dataframeRelativo(dfA, dfB):\n",
    "    dfCombined = pd.merge(dfA, dfB, on='Time (sec)')\n",
    "    dfCombined['Delta_Time'] = dfCombined['Time (sec)'].diff().fillna(0)\n",
    "\n",
    "    # Posición relativa en X e Y\n",
    "    dfCombined['Relative_Position_X'] = dfCombined['X_x'] - dfCombined['X_y']\n",
    "    dfCombined['Relative_Position_Y'] = dfCombined['Y_x'] - dfCombined['Y_y']\n",
    "\n",
    "    # Calcular coordenadas polares de la posición relativa\n",
    "    dfCombined['R_Relative'], dfCombined['Theta_Relative'] = cartesian_to_polar(\n",
    "        dfCombined['Relative_Position_X'], dfCombined['Relative_Position_Y']\n",
    "    )\n",
    "\n",
    "    dfCombined['Theta_Relative'] = np.unwrap(dfCombined['Theta_Relative'])\n",
    "    dfCombined.loc[dfCombined['Delta_Time'] <= 1e-5, 'Angular_Velocity_Relative'] = 0\n",
    "\n",
    "    # Calcular la velocidad angular relativa, manejando posibles discontinuidades\n",
    "    dfCombined['Delta_Theta'] = dfCombined['Theta_Relative'].diff().fillna(0)\n",
    "    dfCombined['Relative_Angular_Velocity'] = dfCombined['Delta_Theta'] / dfCombined['Delta_Time']\n",
    "    dfCombined['Relative_Angular_Velocity'] = dfCombined['Relative_Angular_Velocity'].replace([np.inf, -np.inf], 0)\n",
    "\n",
    "    #Aceleración angular relativa\n",
    "    dfCombined['Delta_Relative_Omega'] = dfCombined['Relative_Angular_Velocity'].diff().fillna(0)\n",
    "    dfCombined['Relative_Angular_Acceleration'] = dfCombined['Delta_Relative_Omega'] / dfCombined['Delta_Time']\n",
    "    if suavizado:\n",
    "      dfCombined['Relative_Angular_Acceleration'] = signal.savgol_filter(dfCombined['Relative_Angular_Acceleration'], 26, 2)\n",
    "\n",
    "    # Calcular velocidades y aceleraciones relativas\n",
    "    dfCombined['Delta_X'] = dfCombined['Relative_Position_X'].diff().fillna(0)\n",
    "    dfCombined['Delta_Y'] = dfCombined['Relative_Position_Y'].diff().fillna(0)\n",
    "    dfCombined['Relative_Speed_X'] = dfCombined['Delta_X'] / dfCombined['Delta_Time']\n",
    "    dfCombined['Relative_Speed_Y'] = dfCombined['Delta_Y'] / dfCombined['Delta_Time']\n",
    "    if suavizado:\n",
    "      dfCombined['Relative_Speed_X'] = signal.savgol_filter(dfCombined['Relative_Speed_X'], 26, 2)\n",
    "      dfCombined['Relative_Speed_Y'] = signal.savgol_filter(dfCombined['Relative_Speed_Y'], 26, 2)\n",
    "\n",
    "    dfCombined['Relative_Acceleration_X'] = dfCombined['Relative_Speed_X'].diff() / dfCombined['Delta_Time']\n",
    "    dfCombined['Relative_Acceleration_Y'] = dfCombined['Relative_Speed_Y'].diff() / dfCombined['Delta_Time']\n",
    "    if suavizado:\n",
    "      dfCombined['Relative_Acceleration_X'] = signal.savgol_filter(dfCombined['Relative_Acceleration_X'], 26, 2)\n",
    "      dfCombined['Relative_Acceleration_Y'] = signal.savgol_filter(dfCombined['Relative_Acceleration_Y'], 26, 2)\n",
    "\n",
    "    # Crear dataframes de velocidad y aceleración relativas\n",
    "    dfCombined_speed = dfCombined[['Time (sec)', 'Relative_Speed_X', 'Relative_Speed_Y']]\n",
    "    dfCombined_acceleration = dfCombined[['Time (sec)', 'Relative_Acceleration_X', 'Relative_Acceleration_Y']]\n",
    "\n",
    "    return dfCombined, dfCombined_speed, dfCombined_acceleration\n"
   ]
  },
  {
   "cell_type": "code",
   "execution_count": 143,
   "metadata": {
    "colab": {
     "base_uri": "https://localhost:8080/",
     "height": 476
    },
    "collapsed": true,
    "executionInfo": {
     "elapsed": 603,
     "status": "ok",
     "timestamp": 1731744345293,
     "user": {
      "displayName": "Tomas Rueda",
      "userId": "17662183962868927666"
     },
     "user_tz": 180
    },
    "id": "h7ZS-93Rhw7_",
    "outputId": "09fbb219-bd8f-4139-842e-e95ac603ce97"
   },
   "outputs": [
    {
     "name": "stdout",
     "output_type": "stream",
     "text": [
      "Datos de posiciones, velocidades y velocidad angular relativa guardados en archivos CSV.\n"
     ]
    }
   ],
   "source": [
    "# Creamos los DataFrames para los puntos\n",
    "dfCentro, dfCentro_speed, dfCentro_acceleration = crear_dataframe(positionsCentro_m)\n",
    "dfBorde, dfBorde_speed, dfBorde_acceleration = crear_dataframe(positionsBorde_m)\n",
    "dfRelativoBordeCentro, dfRelativoBordeCentro_speed, dfRelativoBordeCentro_acceleration = crear_dataframeRelativo(dfBorde, dfCentro)\n",
    "\n",
    "# Guardamos los DataFrames actualizados en archivos CSV (es para chequear después si todo está en orden)\n",
    "dfCentro.to_csv('DataFrameA.csv', index=False, float_format='%.6f')\n",
    "dfBorde.to_csv('DataFrameB.csv', index=False, float_format='%.6f')\n",
    "dfRelativoBordeCentro.to_csv('DataFrameC.csv', index=False, float_format='%.6f')\n",
    "print(\"Datos de posiciones, velocidades y velocidad angular relativa guardados en archivos CSV.\")\n",
    "\n",
    "# Comprobación opcional de conteo de filas\n",
    "#print(dfCentro_acceleration.count())\n",
    "#print(dfCentro_speed.count())\n",
    "#print(dfRelativoBordeCentro.count())\n",
    "#dfRelativoBordeCentro['R_Relative']"
   ]
  },
  {
   "cell_type": "markdown",
   "metadata": {
    "id": "7hcES7m0hqBH"
   },
   "source": [
    "# Graficos"
   ]
  },
  {
   "cell_type": "code",
   "execution_count": 144,
   "metadata": {
    "executionInfo": {
     "elapsed": 274,
     "status": "ok",
     "timestamp": 1731748886933,
     "user": {
      "displayName": "Tomas Rueda",
      "userId": "17662183962868927666"
     },
     "user_tz": 180
    },
    "id": "jB5INxE4yusW"
   },
   "outputs": [],
   "source": [
    "pio.renderers.default = 'vscode'  # 'browser' | 'vscode' | colab"
   ]
  },
  {
   "cell_type": "code",
   "execution_count": 145,
   "metadata": {
    "colab": {
     "base_uri": "https://localhost:8080/",
     "height": 1000
    },
    "executionInfo": {
     "elapsed": 1615,
     "status": "ok",
     "timestamp": 1731742417152,
     "user": {
      "displayName": "Tomas Rueda",
      "userId": "17662183962868927666"
     },
     "user_tz": 180
    },
    "id": "H-qvuS0OhwlV",
    "outputId": "82637691-af52-4e5a-dfd7-bb6cc80b597a"
   },
   "outputs": [
    {
     "data": {
      "application/vnd.plotly.v1+json": {
       "config": {
        "plotlyServerURL": "https://plot.ly"
       },
       "data": [
        {
         "marker": {
          "color": "blue"
         },
         "mode": "lines",
         "type": "scatter",
         "x": [
          0.3285574251835121,
          0.3284666290231507,
          0.32848273054176935,
          0.3285999465065826,
          0.3288124936848048,
          0.3291145888436505,
          0.32950044875033424,
          0.32996429017207035,
          0.3305003298760735,
          0.33110278462955794,
          0.3317658711997342,
          0.3324855181431797,
          0.3332696959790738,
          0.3340829029094432,
          0.3348315789473641,
          0.3356773455377531,
          0.33660647270349353,
          0.3375510951291228,
          0.33849552141222183,
          0.339476234063415,
          0.34047558025498087,
          0.34150944753186874,
          0.3425415495259844,
          0.3435375612945363,
          0.34446511932003476,
          0.3453273618829638,
          0.34617254004576214,
          0.34690003269041725,
          0.34757692056227074,
          0.3480988558352358,
          0.3485574370709337,
          0.34885090195845336,
          0.3490744717525037,
          0.3492385271479092,
          0.3493534488394899,
          0.3494296175220658,
          0.3494774138904571,
          0.34950721863948375,
          0.3495294124639658,
          0.34955437605872336,
          0.34959249011857646
         ],
         "xaxis": "x",
         "y": [
          1.0187118577075098,
          1.0185246753246753,
          1.0184059556004637,
          1.018325707549506,
          1.0182539401864346,
          1.01816066252588,
          1.018015883582474,
          1.0177896123708483,
          1.0174518579056337,
          1.0169726292014625,
          1.0163219352729518,
          1.0153698594311735,
          1.0141855508335926,
          1.012693298463537,
          1.0109484145145342,
          1.008965805818882,
          1.0066883949002812,
          1.0041063746322196,
          1.0012572082379734,
          0.9981940503432365,
          0.9948794377247338,
          0.9913251389342793,
          0.987558613926107,
          0.9835688787185227,
          0.9793251389342796,
          0.9750488394900167,
          0.9705124550506576,
          0.9659140895717429,
          0.9611523373651395,
          0.9562607388035181,
          0.9512137953579478,
          0.9459514695830482,
          0.9404878599661205,
          0.9348125650093609,
          0.9289151832149539,
          0.9227853130850837,
          0.9164125531219346,
          0.909786501827691,
          0.9028967577045371,
          0.8957329192546574,
          0.888284584980236
         ],
         "yaxis": "y"
        },
        {
         "marker": {
          "color": "red"
         },
         "mode": "lines",
         "name": "Velocidad Total",
         "type": "scatter",
         "x": [
          0,
          0.008333333333333333,
          0.016666666666666666,
          0.025,
          0.03333333333333333,
          0.041666666666666664,
          0.05,
          0.058333333333333334,
          0.06666666666666667,
          0.075,
          0.08333333333333333,
          0.09166666666666666,
          0.1,
          0.10833333333333334,
          0.11666666666666667,
          0.125,
          0.13333333333333333,
          0.14166666666666666,
          0.15,
          0.15833333333333333,
          0.16666666666666666,
          0.175,
          0.18333333333333332,
          0.19166666666666665,
          0.2,
          0.20833333333333334,
          0.21666666666666667,
          0.225,
          0.23333333333333334,
          0.24166666666666667,
          0.25,
          0.2583333333333333,
          0.26666666666666666,
          0.275,
          0.2833333333333333,
          0.2916666666666667,
          0.3,
          0.30833333333333335,
          0.31666666666666665,
          0.325,
          0.3333333333333333
         ],
         "xaxis": "x2",
         "y": [
          0.018411857498776028,
          -0.010786104025955246,
          -0.02339991733160619,
          -0.019687000007478802,
          0.00009523035712489039,
          0.035689356172902906,
          0.08683795985055318,
          0.1532836238007738,
          0.23476893043426258,
          0.3310364621617178,
          0.4418288013938322,
          0.5684780158294467,
          0.7123327875813398,
          0.8724430752669554,
          1.0465868115338626,
          1.232803870114559,
          1.4257930633813523,
          1.6215173906203248,
          1.8319978599918836,
          2.0464305867123023,
          2.261085601722771,
          2.4720883985321507,
          2.675145994869927,
          2.868735073124307,
          3.0507759875456184,
          3.220387552282774,
          3.3779323899170315,
          3.525275758205753,
          3.6653029247005646,
          3.7999108188491353,
          3.9314714141575844,
          4.057342789710109,
          4.185712826794246,
          4.319100150228967,
          4.4600233848331845,
          4.611001155425816,
          4.7745520868257785,
          4.953194803851987,
          5.1494479313233565,
          5.365830094058804,
          5.604859916877247
         ],
         "yaxis": "y2"
        },
        {
         "marker": {
          "color": "green"
         },
         "mode": "lines",
         "type": "scatter",
         "x": [
          0,
          0.008333333333333333,
          0.016666666666666666,
          0.025,
          0.03333333333333333,
          0.041666666666666664,
          0.05,
          0.058333333333333334,
          0.06666666666666667,
          0.075,
          0.08333333333333333,
          0.09166666666666666,
          0.1,
          0.10833333333333334,
          0.11666666666666667,
          0.125,
          0.13333333333333333,
          0.14166666666666666,
          0.15,
          0.15833333333333333,
          0.16666666666666666,
          0.175,
          0.18333333333333332,
          0.19166666666666665,
          0.2,
          0.20833333333333334,
          0.21666666666666667,
          0.225,
          0.23333333333333334,
          0.24166666666666667,
          0.25,
          0.2583333333333333,
          0.26666666666666666,
          0.275,
          0.2833333333333333,
          0.2916666666666667,
          0.3,
          0.30833333333333335,
          0.31666666666666665,
          0.325,
          0.3333333333333333
         ],
         "xaxis": "x3",
         "y": [
          0.3285574251835121,
          0.3284666290231507,
          0.32848273054176935,
          0.3285999465065826,
          0.3288124936848048,
          0.3291145888436505,
          0.32950044875033424,
          0.32996429017207035,
          0.3305003298760735,
          0.33110278462955794,
          0.3317658711997342,
          0.3324855181431797,
          0.3332696959790738,
          0.3340829029094432,
          0.3348315789473641,
          0.3356773455377531,
          0.33660647270349353,
          0.3375510951291228,
          0.33849552141222183,
          0.339476234063415,
          0.34047558025498087,
          0.34150944753186874,
          0.3425415495259844,
          0.3435375612945363,
          0.34446511932003476,
          0.3453273618829638,
          0.34617254004576214,
          0.34690003269041725,
          0.34757692056227074,
          0.3480988558352358,
          0.3485574370709337,
          0.34885090195845336,
          0.3490744717525037,
          0.3492385271479092,
          0.3493534488394899,
          0.3494296175220658,
          0.3494774138904571,
          0.34950721863948375,
          0.3495294124639658,
          0.34955437605872336,
          0.34959249011857646
         ],
         "yaxis": "y3"
        },
        {
         "marker": {
          "color": "magenta"
         },
         "mode": "lines",
         "type": "scatter",
         "x": [
          0,
          0.008333333333333333,
          0.016666666666666666,
          0.025,
          0.03333333333333333,
          0.041666666666666664,
          0.05,
          0.058333333333333334,
          0.06666666666666667,
          0.075,
          0.08333333333333333,
          0.09166666666666666,
          0.1,
          0.10833333333333334,
          0.11666666666666667,
          0.125,
          0.13333333333333333,
          0.14166666666666666,
          0.15,
          0.15833333333333333,
          0.16666666666666666,
          0.175,
          0.18333333333333332,
          0.19166666666666665,
          0.2,
          0.20833333333333334,
          0.21666666666666667,
          0.225,
          0.23333333333333334,
          0.24166666666666667,
          0.25,
          0.2583333333333333,
          0.26666666666666666,
          0.275,
          0.2833333333333333,
          0.2916666666666667,
          0.3,
          0.30833333333333335,
          0.31666666666666665,
          0.325,
          0.3333333333333333
         ],
         "xaxis": "x4",
         "y": [
          1.0187118577075098,
          1.0185246753246753,
          1.0184059556004637,
          1.018325707549506,
          1.0182539401864346,
          1.01816066252588,
          1.018015883582474,
          1.0177896123708483,
          1.0174518579056337,
          1.0169726292014625,
          1.0163219352729518,
          1.0153698594311735,
          1.0141855508335926,
          1.012693298463537,
          1.0109484145145342,
          1.008965805818882,
          1.0066883949002812,
          1.0041063746322196,
          1.0012572082379734,
          0.9981940503432365,
          0.9948794377247338,
          0.9913251389342793,
          0.987558613926107,
          0.9835688787185227,
          0.9793251389342796,
          0.9750488394900167,
          0.9705124550506576,
          0.9659140895717429,
          0.9611523373651395,
          0.9562607388035181,
          0.9512137953579478,
          0.9459514695830482,
          0.9404878599661205,
          0.9348125650093609,
          0.9289151832149539,
          0.9227853130850837,
          0.9164125531219346,
          0.909786501827691,
          0.9028967577045371,
          0.8957329192546574,
          0.888284584980236
         ],
         "yaxis": "y4"
        },
        {
         "marker": {
          "color": "blue"
         },
         "mode": "lines",
         "type": "scatter",
         "x": [
          0,
          0.008333333333333333,
          0.016666666666666666,
          0.025,
          0.03333333333333333,
          0.041666666666666664,
          0.05,
          0.058333333333333334,
          0.06666666666666667,
          0.075,
          0.08333333333333333,
          0.09166666666666666,
          0.1,
          0.10833333333333334,
          0.11666666666666667,
          0.125,
          0.13333333333333333,
          0.14166666666666666,
          0.15,
          0.15833333333333333,
          0.16666666666666666,
          0.175,
          0.18333333333333332,
          0.19166666666666665,
          0.2,
          0.20833333333333334,
          0.21666666666666667,
          0.225,
          0.23333333333333334,
          0.24166666666666667,
          0.25,
          0.2583333333333333,
          0.26666666666666666,
          0.275,
          0.2833333333333333,
          0.2916666666666667,
          0.3,
          0.30833333333333335,
          0.31666666666666665,
          0.325,
          0.3333333333333333
         ],
         "xaxis": "x5",
         "y": [
          0.0025916390415763957,
          -0.018488062173168205,
          -0.02233633754793357,
          -0.010817169650840591,
          0.014205458949989848,
          0.050867565686436876,
          0.09730516799037954,
          0.15165428329369704,
          0.21205092902826844,
          0.27663112262597284,
          0.34353088151868566,
          0.40495479258267736,
          0.46585847506263,
          0.5251180034063571,
          0.5808530484953708,
          0.6307178790372427,
          0.6720518328302543,
          0.7025842218548422,
          0.734478319538971,
          0.7628124743087932,
          0.7864295672967231,
          0.8047998083710339,
          0.8166922234733272,
          0.8215496977522462,
          0.8179271546574167,
          0.8042743539051529,
          0.7798931487496443,
          0.7454755812634772,
          0.7008422602778234,
          0.6469368058272568,
          0.5852431534048665,
          0.5159642190845579,
          0.44465278554676735,
          0.37323315098158344,
          0.3036296135790869,
          0.23776647152935826,
          0.17756802302247832,
          0.12495856624852764,
          0.08186239939758666,
          0.05020382065973639,
          0.031907128225057146
         ],
         "yaxis": "y5"
        },
        {
         "marker": {
          "color": "red"
         },
         "mode": "lines",
         "type": "scatter",
         "x": [
          0,
          0.008333333333333333,
          0.016666666666666666,
          0.025,
          0.03333333333333333,
          0.041666666666666664,
          0.05,
          0.058333333333333334,
          0.06666666666666667,
          0.075,
          0.08333333333333333,
          0.09166666666666666,
          0.1,
          0.10833333333333334,
          0.11666666666666667,
          0.125,
          0.13333333333333333,
          0.14166666666666666,
          0.15,
          0.15833333333333333,
          0.16666666666666666,
          0.175,
          0.18333333333333332,
          0.19166666666666665,
          0.2,
          0.20833333333333334,
          0.21666666666666667,
          0.225,
          0.23333333333333334,
          0.24166666666666667,
          0.25,
          0.2583333333333333,
          0.26666666666666666,
          0.275,
          0.2833333333333333,
          0.2916666666666667,
          0.3,
          0.30833333333333335,
          0.31666666666666665,
          0.325,
          0.3333333333333333
         ],
         "xaxis": "x6",
         "y": [
          -0.03833967294169604,
          -0.004414856380606645,
          0.018059074660441786,
          0.02849858130742946,
          0.02632012468633655,
          0.010940165923143244,
          -0.018224833856170276,
          -0.061758413525623876,
          -0.12024411195923729,
          -0.1942654680310303,
          -0.2844060206150197,
          -0.3962824070835682,
          -0.52877617940236,
          -0.681317799679729,
          -0.8522303396910853,
          -1.0402107256711652,
          -1.2405469587390796,
          -1.4497191762309303,
          -1.6721495090405103,
          -1.8973332672061445,
          -2.1213962343461157,
          -2.340579916559058,
          -2.551346672192549,
          -2.752392808938799,
          -2.9421608023082517,
          -3.120514775950905,
          -3.2875865640255877,
          -3.4449523673768123,
          -3.5954237537367804,
          -3.740702338393771,
          -3.8828990253399978,
          -4.01964262008356,
          -4.158169404562257,
          -4.300720000941336,
          -4.44953503138599,
          -4.606855118061413,
          -4.774920883132799,
          -4.955972948765341,
          -5.152251937124236,
          -5.365998470374674,
          -5.599453170681851
         ],
         "yaxis": "y6"
        },
        {
         "marker": {
          "color": "green"
         },
         "mode": "lines",
         "type": "scatter",
         "x": [
          0.058333333333333334,
          0.06666666666666667,
          0.075,
          0.08333333333333333,
          0.09166666666666666,
          0.1,
          0.10833333333333334,
          0.11666666666666667,
          0.125,
          0.13333333333333333,
          0.14166666666666666,
          0.15,
          0.15833333333333333,
          0.16666666666666666,
          0.175,
          0.18333333333333332,
          0.19166666666666665,
          0.2,
          0.20833333333333334,
          0.21666666666666667,
          0.225,
          0.23333333333333334,
          0.24166666666666667,
          0.25,
          0.2583333333333333,
          0.26666666666666666,
          0.275,
          0.2833333333333333,
          0.2916666666666667,
          0.3,
          0.30833333333333335,
          0.31666666666666665,
          0.325,
          0.3333333333333333
         ],
         "xaxis": "x7",
         "y": [
          17.88751731025448,
          27.664678944172405,
          35.87609522086878,
          42.52176614034316,
          46.88992003592251,
          49.798909125143105,
          51.33754024991732,
          51.503851824200865,
          50.24003400107693,
          47.450485224513784,
          43.08640084033879,
          39.54282323475525,
          35.634479909539586,
          31.35738766684393,
          26.873611185079582,
          22.316921332330132,
          17.93974379063903,
          13.841151936308906,
          8.375524123941826,
          2.0496809329021386,
          -4.914478323989503,
          -12.47490577118527,
          -20.370650117528452,
          -28.356785321685564,
          -36.235552268743184,
          -43.15458820300613,
          -48.79919973216715,
          -53.021516122127025,
          -55.56909464981564,
          -56.32425393657361,
          -55.234150458760496,
          -52.09221836243674,
          -47.33387578644357,
          -40.9591227307833
         ],
         "yaxis": "y7"
        },
        {
         "marker": {
          "color": "purple"
         },
         "mode": "lines",
         "type": "scatter",
         "x": [
          0.058333333333333334,
          0.06666666666666667,
          0.075,
          0.08333333333333333,
          0.09166666666666666,
          0.1,
          0.10833333333333334,
          0.11666666666666667,
          0.125,
          0.13333333333333333,
          0.14166666666666666,
          0.15,
          0.15833333333333333,
          0.16666666666666666,
          0.175,
          0.18333333333333332,
          0.19166666666666665,
          0.2,
          0.20833333333333334,
          0.21666666666666667,
          0.225,
          0.23333333333333334,
          0.24166666666666667,
          0.25,
          0.2583333333333333,
          0.26666666666666666,
          0.275,
          0.2833333333333333,
          0.2916666666666667,
          0.3,
          0.30833333333333335,
          0.31666666666666665,
          0.325,
          0.3333333333333333
         ],
         "xaxis": "x8",
         "y": [
          -2.8102488700713413,
          -13.89951066943568,
          -25.478945122976654,
          -37.5485522306939,
          -50.71230381238858,
          -64.7659614390603,
          -79.57115589882707,
          -94.8566311398554,
          -110.39599364543139,
          -125.55377888496595,
          -139.83757867390932,
          -153.1040522348331,
          -164.22685053645418,
          -172.80941215996643,
          -178.60194922415675,
          -181.33631358256608,
          -181.42150202396635,
          -179.09299512927802,
          -173.8038320292474,
          -166.83039561833323,
          -158.82673596368363,
          -150.58126046132674,
          -142.72267994414668,
          -135.66074596814389,
          -129.29781813303742,
          -124.51855543336183,
          -121.57601242988942,
          -120.54991968110173,
          -121.37176371895549,
          -124.10622536868377,
          -128.76887081104078,
          -135.9131180448816,
          -144.9394878974896,
          -155.84798036886238
         ],
         "yaxis": "y8"
        }
       ],
       "layout": {
        "annotations": [
         {
          "font": {
           "size": 16
          },
          "showarrow": false,
          "text": "Trayectoria del Objeto",
          "x": 0.225,
          "xanchor": "center",
          "xref": "paper",
          "y": 1,
          "yanchor": "bottom",
          "yref": "paper"
         },
         {
          "font": {
           "size": 16
          },
          "showarrow": false,
          "text": "Velocidad del Objeto",
          "x": 0.775,
          "xanchor": "center",
          "xref": "paper",
          "y": 1,
          "yanchor": "bottom",
          "yref": "paper"
         },
         {
          "font": {
           "size": 16
          },
          "showarrow": false,
          "text": "Posición X / Tiempo",
          "x": 0.225,
          "xanchor": "center",
          "xref": "paper",
          "y": 0.71875,
          "yanchor": "bottom",
          "yref": "paper"
         },
         {
          "font": {
           "size": 16
          },
          "showarrow": false,
          "text": "Posición Y / Tiempo",
          "x": 0.775,
          "xanchor": "center",
          "xref": "paper",
          "y": 0.71875,
          "yanchor": "bottom",
          "yref": "paper"
         },
         {
          "font": {
           "size": 16
          },
          "showarrow": false,
          "text": "Velocidad X / Tiempo",
          "x": 0.225,
          "xanchor": "center",
          "xref": "paper",
          "y": 0.4375,
          "yanchor": "bottom",
          "yref": "paper"
         },
         {
          "font": {
           "size": 16
          },
          "showarrow": false,
          "text": "Velocidad Y / Tiempo",
          "x": 0.775,
          "xanchor": "center",
          "xref": "paper",
          "y": 0.4375,
          "yanchor": "bottom",
          "yref": "paper"
         },
         {
          "font": {
           "size": 16
          },
          "showarrow": false,
          "text": "Aceleración X / Tiempo",
          "x": 0.225,
          "xanchor": "center",
          "xref": "paper",
          "y": 0.15625,
          "yanchor": "bottom",
          "yref": "paper"
         },
         {
          "font": {
           "size": 16
          },
          "showarrow": false,
          "text": "Aceleración Y / Tiempo",
          "x": 0.775,
          "xanchor": "center",
          "xref": "paper",
          "y": 0.15625,
          "yanchor": "bottom",
          "yref": "paper"
         }
        ],
        "height": 1000,
        "showlegend": false,
        "template": {
         "data": {
          "bar": [
           {
            "error_x": {
             "color": "#2a3f5f"
            },
            "error_y": {
             "color": "#2a3f5f"
            },
            "marker": {
             "line": {
              "color": "#E5ECF6",
              "width": 0.5
             },
             "pattern": {
              "fillmode": "overlay",
              "size": 10,
              "solidity": 0.2
             }
            },
            "type": "bar"
           }
          ],
          "barpolar": [
           {
            "marker": {
             "line": {
              "color": "#E5ECF6",
              "width": 0.5
             },
             "pattern": {
              "fillmode": "overlay",
              "size": 10,
              "solidity": 0.2
             }
            },
            "type": "barpolar"
           }
          ],
          "carpet": [
           {
            "aaxis": {
             "endlinecolor": "#2a3f5f",
             "gridcolor": "white",
             "linecolor": "white",
             "minorgridcolor": "white",
             "startlinecolor": "#2a3f5f"
            },
            "baxis": {
             "endlinecolor": "#2a3f5f",
             "gridcolor": "white",
             "linecolor": "white",
             "minorgridcolor": "white",
             "startlinecolor": "#2a3f5f"
            },
            "type": "carpet"
           }
          ],
          "choropleth": [
           {
            "colorbar": {
             "outlinewidth": 0,
             "ticks": ""
            },
            "type": "choropleth"
           }
          ],
          "contour": [
           {
            "colorbar": {
             "outlinewidth": 0,
             "ticks": ""
            },
            "colorscale": [
             [
              0,
              "#0d0887"
             ],
             [
              0.1111111111111111,
              "#46039f"
             ],
             [
              0.2222222222222222,
              "#7201a8"
             ],
             [
              0.3333333333333333,
              "#9c179e"
             ],
             [
              0.4444444444444444,
              "#bd3786"
             ],
             [
              0.5555555555555556,
              "#d8576b"
             ],
             [
              0.6666666666666666,
              "#ed7953"
             ],
             [
              0.7777777777777778,
              "#fb9f3a"
             ],
             [
              0.8888888888888888,
              "#fdca26"
             ],
             [
              1,
              "#f0f921"
             ]
            ],
            "type": "contour"
           }
          ],
          "contourcarpet": [
           {
            "colorbar": {
             "outlinewidth": 0,
             "ticks": ""
            },
            "type": "contourcarpet"
           }
          ],
          "heatmap": [
           {
            "colorbar": {
             "outlinewidth": 0,
             "ticks": ""
            },
            "colorscale": [
             [
              0,
              "#0d0887"
             ],
             [
              0.1111111111111111,
              "#46039f"
             ],
             [
              0.2222222222222222,
              "#7201a8"
             ],
             [
              0.3333333333333333,
              "#9c179e"
             ],
             [
              0.4444444444444444,
              "#bd3786"
             ],
             [
              0.5555555555555556,
              "#d8576b"
             ],
             [
              0.6666666666666666,
              "#ed7953"
             ],
             [
              0.7777777777777778,
              "#fb9f3a"
             ],
             [
              0.8888888888888888,
              "#fdca26"
             ],
             [
              1,
              "#f0f921"
             ]
            ],
            "type": "heatmap"
           }
          ],
          "heatmapgl": [
           {
            "colorbar": {
             "outlinewidth": 0,
             "ticks": ""
            },
            "colorscale": [
             [
              0,
              "#0d0887"
             ],
             [
              0.1111111111111111,
              "#46039f"
             ],
             [
              0.2222222222222222,
              "#7201a8"
             ],
             [
              0.3333333333333333,
              "#9c179e"
             ],
             [
              0.4444444444444444,
              "#bd3786"
             ],
             [
              0.5555555555555556,
              "#d8576b"
             ],
             [
              0.6666666666666666,
              "#ed7953"
             ],
             [
              0.7777777777777778,
              "#fb9f3a"
             ],
             [
              0.8888888888888888,
              "#fdca26"
             ],
             [
              1,
              "#f0f921"
             ]
            ],
            "type": "heatmapgl"
           }
          ],
          "histogram": [
           {
            "marker": {
             "pattern": {
              "fillmode": "overlay",
              "size": 10,
              "solidity": 0.2
             }
            },
            "type": "histogram"
           }
          ],
          "histogram2d": [
           {
            "colorbar": {
             "outlinewidth": 0,
             "ticks": ""
            },
            "colorscale": [
             [
              0,
              "#0d0887"
             ],
             [
              0.1111111111111111,
              "#46039f"
             ],
             [
              0.2222222222222222,
              "#7201a8"
             ],
             [
              0.3333333333333333,
              "#9c179e"
             ],
             [
              0.4444444444444444,
              "#bd3786"
             ],
             [
              0.5555555555555556,
              "#d8576b"
             ],
             [
              0.6666666666666666,
              "#ed7953"
             ],
             [
              0.7777777777777778,
              "#fb9f3a"
             ],
             [
              0.8888888888888888,
              "#fdca26"
             ],
             [
              1,
              "#f0f921"
             ]
            ],
            "type": "histogram2d"
           }
          ],
          "histogram2dcontour": [
           {
            "colorbar": {
             "outlinewidth": 0,
             "ticks": ""
            },
            "colorscale": [
             [
              0,
              "#0d0887"
             ],
             [
              0.1111111111111111,
              "#46039f"
             ],
             [
              0.2222222222222222,
              "#7201a8"
             ],
             [
              0.3333333333333333,
              "#9c179e"
             ],
             [
              0.4444444444444444,
              "#bd3786"
             ],
             [
              0.5555555555555556,
              "#d8576b"
             ],
             [
              0.6666666666666666,
              "#ed7953"
             ],
             [
              0.7777777777777778,
              "#fb9f3a"
             ],
             [
              0.8888888888888888,
              "#fdca26"
             ],
             [
              1,
              "#f0f921"
             ]
            ],
            "type": "histogram2dcontour"
           }
          ],
          "mesh3d": [
           {
            "colorbar": {
             "outlinewidth": 0,
             "ticks": ""
            },
            "type": "mesh3d"
           }
          ],
          "parcoords": [
           {
            "line": {
             "colorbar": {
              "outlinewidth": 0,
              "ticks": ""
             }
            },
            "type": "parcoords"
           }
          ],
          "pie": [
           {
            "automargin": true,
            "type": "pie"
           }
          ],
          "scatter": [
           {
            "fillpattern": {
             "fillmode": "overlay",
             "size": 10,
             "solidity": 0.2
            },
            "type": "scatter"
           }
          ],
          "scatter3d": [
           {
            "line": {
             "colorbar": {
              "outlinewidth": 0,
              "ticks": ""
             }
            },
            "marker": {
             "colorbar": {
              "outlinewidth": 0,
              "ticks": ""
             }
            },
            "type": "scatter3d"
           }
          ],
          "scattercarpet": [
           {
            "marker": {
             "colorbar": {
              "outlinewidth": 0,
              "ticks": ""
             }
            },
            "type": "scattercarpet"
           }
          ],
          "scattergeo": [
           {
            "marker": {
             "colorbar": {
              "outlinewidth": 0,
              "ticks": ""
             }
            },
            "type": "scattergeo"
           }
          ],
          "scattergl": [
           {
            "marker": {
             "colorbar": {
              "outlinewidth": 0,
              "ticks": ""
             }
            },
            "type": "scattergl"
           }
          ],
          "scattermapbox": [
           {
            "marker": {
             "colorbar": {
              "outlinewidth": 0,
              "ticks": ""
             }
            },
            "type": "scattermapbox"
           }
          ],
          "scatterpolar": [
           {
            "marker": {
             "colorbar": {
              "outlinewidth": 0,
              "ticks": ""
             }
            },
            "type": "scatterpolar"
           }
          ],
          "scatterpolargl": [
           {
            "marker": {
             "colorbar": {
              "outlinewidth": 0,
              "ticks": ""
             }
            },
            "type": "scatterpolargl"
           }
          ],
          "scatterternary": [
           {
            "marker": {
             "colorbar": {
              "outlinewidth": 0,
              "ticks": ""
             }
            },
            "type": "scatterternary"
           }
          ],
          "surface": [
           {
            "colorbar": {
             "outlinewidth": 0,
             "ticks": ""
            },
            "colorscale": [
             [
              0,
              "#0d0887"
             ],
             [
              0.1111111111111111,
              "#46039f"
             ],
             [
              0.2222222222222222,
              "#7201a8"
             ],
             [
              0.3333333333333333,
              "#9c179e"
             ],
             [
              0.4444444444444444,
              "#bd3786"
             ],
             [
              0.5555555555555556,
              "#d8576b"
             ],
             [
              0.6666666666666666,
              "#ed7953"
             ],
             [
              0.7777777777777778,
              "#fb9f3a"
             ],
             [
              0.8888888888888888,
              "#fdca26"
             ],
             [
              1,
              "#f0f921"
             ]
            ],
            "type": "surface"
           }
          ],
          "table": [
           {
            "cells": {
             "fill": {
              "color": "#EBF0F8"
             },
             "line": {
              "color": "white"
             }
            },
            "header": {
             "fill": {
              "color": "#C8D4E3"
             },
             "line": {
              "color": "white"
             }
            },
            "type": "table"
           }
          ]
         },
         "layout": {
          "annotationdefaults": {
           "arrowcolor": "#2a3f5f",
           "arrowhead": 0,
           "arrowwidth": 1
          },
          "autotypenumbers": "strict",
          "coloraxis": {
           "colorbar": {
            "outlinewidth": 0,
            "ticks": ""
           }
          },
          "colorscale": {
           "diverging": [
            [
             0,
             "#8e0152"
            ],
            [
             0.1,
             "#c51b7d"
            ],
            [
             0.2,
             "#de77ae"
            ],
            [
             0.3,
             "#f1b6da"
            ],
            [
             0.4,
             "#fde0ef"
            ],
            [
             0.5,
             "#f7f7f7"
            ],
            [
             0.6,
             "#e6f5d0"
            ],
            [
             0.7,
             "#b8e186"
            ],
            [
             0.8,
             "#7fbc41"
            ],
            [
             0.9,
             "#4d9221"
            ],
            [
             1,
             "#276419"
            ]
           ],
           "sequential": [
            [
             0,
             "#0d0887"
            ],
            [
             0.1111111111111111,
             "#46039f"
            ],
            [
             0.2222222222222222,
             "#7201a8"
            ],
            [
             0.3333333333333333,
             "#9c179e"
            ],
            [
             0.4444444444444444,
             "#bd3786"
            ],
            [
             0.5555555555555556,
             "#d8576b"
            ],
            [
             0.6666666666666666,
             "#ed7953"
            ],
            [
             0.7777777777777778,
             "#fb9f3a"
            ],
            [
             0.8888888888888888,
             "#fdca26"
            ],
            [
             1,
             "#f0f921"
            ]
           ],
           "sequentialminus": [
            [
             0,
             "#0d0887"
            ],
            [
             0.1111111111111111,
             "#46039f"
            ],
            [
             0.2222222222222222,
             "#7201a8"
            ],
            [
             0.3333333333333333,
             "#9c179e"
            ],
            [
             0.4444444444444444,
             "#bd3786"
            ],
            [
             0.5555555555555556,
             "#d8576b"
            ],
            [
             0.6666666666666666,
             "#ed7953"
            ],
            [
             0.7777777777777778,
             "#fb9f3a"
            ],
            [
             0.8888888888888888,
             "#fdca26"
            ],
            [
             1,
             "#f0f921"
            ]
           ]
          },
          "colorway": [
           "#636efa",
           "#EF553B",
           "#00cc96",
           "#ab63fa",
           "#FFA15A",
           "#19d3f3",
           "#FF6692",
           "#B6E880",
           "#FF97FF",
           "#FECB52"
          ],
          "font": {
           "color": "#2a3f5f"
          },
          "geo": {
           "bgcolor": "white",
           "lakecolor": "white",
           "landcolor": "#E5ECF6",
           "showlakes": true,
           "showland": true,
           "subunitcolor": "white"
          },
          "hoverlabel": {
           "align": "left"
          },
          "hovermode": "closest",
          "mapbox": {
           "style": "light"
          },
          "paper_bgcolor": "white",
          "plot_bgcolor": "#E5ECF6",
          "polar": {
           "angularaxis": {
            "gridcolor": "white",
            "linecolor": "white",
            "ticks": ""
           },
           "bgcolor": "#E5ECF6",
           "radialaxis": {
            "gridcolor": "white",
            "linecolor": "white",
            "ticks": ""
           }
          },
          "scene": {
           "xaxis": {
            "backgroundcolor": "#E5ECF6",
            "gridcolor": "white",
            "gridwidth": 2,
            "linecolor": "white",
            "showbackground": true,
            "ticks": "",
            "zerolinecolor": "white"
           },
           "yaxis": {
            "backgroundcolor": "#E5ECF6",
            "gridcolor": "white",
            "gridwidth": 2,
            "linecolor": "white",
            "showbackground": true,
            "ticks": "",
            "zerolinecolor": "white"
           },
           "zaxis": {
            "backgroundcolor": "#E5ECF6",
            "gridcolor": "white",
            "gridwidth": 2,
            "linecolor": "white",
            "showbackground": true,
            "ticks": "",
            "zerolinecolor": "white"
           }
          },
          "shapedefaults": {
           "line": {
            "color": "#2a3f5f"
           }
          },
          "ternary": {
           "aaxis": {
            "gridcolor": "white",
            "linecolor": "white",
            "ticks": ""
           },
           "baxis": {
            "gridcolor": "white",
            "linecolor": "white",
            "ticks": ""
           },
           "bgcolor": "#E5ECF6",
           "caxis": {
            "gridcolor": "white",
            "linecolor": "white",
            "ticks": ""
           }
          },
          "title": {
           "x": 0.05
          },
          "xaxis": {
           "automargin": true,
           "gridcolor": "white",
           "linecolor": "white",
           "ticks": "",
           "title": {
            "standoff": 15
           },
           "zerolinecolor": "white",
           "zerolinewidth": 2
          },
          "yaxis": {
           "automargin": true,
           "gridcolor": "white",
           "linecolor": "white",
           "ticks": "",
           "title": {
            "standoff": 15
           },
           "zerolinecolor": "white",
           "zerolinewidth": 2
          }
         }
        },
        "title": {
         "text": "Análisis de Movimiento del Centro del Objeto"
        },
        "width": 1200,
        "xaxis": {
         "anchor": "y",
         "domain": [
          0,
          0.45
         ],
         "range": [
          0.35,
          0.6
         ],
         "scaleanchor": "y",
         "title": {
          "text": "Posición X (m)"
         }
        },
        "xaxis2": {
         "anchor": "y2",
         "domain": [
          0.55,
          1
         ],
         "title": {
          "text": "Tiempo (s)"
         }
        },
        "xaxis3": {
         "anchor": "y3",
         "domain": [
          0,
          0.45
         ],
         "title": {
          "text": "Tiempo (s)"
         }
        },
        "xaxis4": {
         "anchor": "y4",
         "domain": [
          0.55,
          1
         ],
         "title": {
          "text": "Tiempo (s)"
         }
        },
        "xaxis5": {
         "anchor": "y5",
         "domain": [
          0,
          0.45
         ],
         "title": {
          "text": "Tiempo (s)"
         }
        },
        "xaxis6": {
         "anchor": "y6",
         "domain": [
          0.55,
          1
         ],
         "title": {
          "text": "Tiempo (s)"
         }
        },
        "xaxis7": {
         "anchor": "y7",
         "domain": [
          0,
          0.45
         ],
         "title": {
          "text": "Tiempo (s)"
         }
        },
        "xaxis8": {
         "anchor": "y8",
         "domain": [
          0.55,
          1
         ],
         "title": {
          "text": "Tiempo (s)"
         }
        },
        "yaxis": {
         "anchor": "x",
         "domain": [
          0.84375,
          1
         ],
         "title": {
          "text": "Posición Y (m)"
         }
        },
        "yaxis2": {
         "anchor": "x2",
         "domain": [
          0.84375,
          1
         ],
         "title": {
          "text": "Velocidad (m/s)"
         }
        },
        "yaxis3": {
         "anchor": "x3",
         "domain": [
          0.5625,
          0.71875
         ],
         "range": [
          0.35,
          0.6
         ],
         "title": {
          "text": "Posición X (m)"
         }
        },
        "yaxis4": {
         "anchor": "x4",
         "domain": [
          0.5625,
          0.71875
         ],
         "title": {
          "text": "Posición Y (m)"
         }
        },
        "yaxis5": {
         "anchor": "x5",
         "domain": [
          0.28125,
          0.4375
         ],
         "range": [
          -0.5,
          0.5
         ],
         "title": {
          "text": "Velocidad X (m/s)"
         }
        },
        "yaxis6": {
         "anchor": "x6",
         "domain": [
          0.28125,
          0.4375
         ],
         "title": {
          "text": "Velocidad Y (m/s)"
         }
        },
        "yaxis7": {
         "anchor": "x7",
         "domain": [
          0,
          0.15625
         ],
         "title": {
          "text": "Aceleración X (m/s^2)"
         }
        },
        "yaxis8": {
         "anchor": "x8",
         "domain": [
          0,
          0.15625
         ],
         "title": {
          "text": "Aceleración Y (m/s^2)"
         }
        }
       }
      }
     },
     "metadata": {},
     "output_type": "display_data"
    }
   ],
   "source": [
    "# Elegir dataframe a graficar\n",
    "dfG = dfCentro\n",
    "dfG_speed = dfCentro_speed.copy()\n",
    "dfG_acceleration = dfCentro_acceleration.copy()\n",
    "\n",
    "import plotly.graph_objects as go\n",
    "from plotly.subplots import make_subplots\n",
    "\n",
    "# Suponiendo que tienes tus DataFrames cargados (dfG, dfG_speed, dfG_acceleration)\n",
    "\n",
    "# Crear figura y ejes\n",
    "fig = make_subplots(rows=4, cols=2, subplot_titles=(\"Trayectoria del Objeto\", \"Velocidad del Objeto\", \"Posición X / Tiempo\", \"Posición Y / Tiempo\",\"Velocidad X / Tiempo\", \"Velocidad Y / Tiempo\", \"Aceleración X / Tiempo\", \"Aceleración Y / Tiempo\"))\n",
    "\n",
    "# Grafica la trayectoria\n",
    "fig.update_xaxes(title_text=\"Posición X (m)\", range=[0.35, 0.6], row=1, col=1, scaleanchor=\"y\") # Relación 1:1 entre X e Y\n",
    "fig.update_yaxes(title_text=\"Posición Y (m)\", row=1, col=1)\n",
    "fig.add_trace(go.Scatter(x=dfG['X'], y=dfG['Y'], mode='lines', marker=dict(color='blue')), row=1, col=1)\n",
    "\n",
    "# Grafica la velocidad\n",
    "fig.update_yaxes(title_text=\"Velocidad (m/s)\", row=1, col=2)\n",
    "fig.update_xaxes(title_text=\"Tiempo (s)\", row=1, col=2)\n",
    "fig.add_trace(go.Scatter(x=dfG_speed['Time (sec)'], y=dfG_speed['Speed'], mode='lines', marker=dict(color='red'), name='Velocidad Total'), row=1, col=2)\n",
    "\n",
    "# Grafica la posición X / tiempo\n",
    "fig.update_yaxes(title_text=\"Posición X (m)\", range=[0.35,0.6], row=2, col=1)\n",
    "fig.update_xaxes(title_text=\"Tiempo (s)\", row=2, col=1)\n",
    "fig.add_trace(go.Scatter(x=dfG['Time (sec)'], y=dfG['X'], mode='lines', marker=dict(color='green')), row=2, col=1)\n",
    "\n",
    "# Grafica la posición Y / tiempo\n",
    "fig.update_yaxes(title_text=\"Posición Y (m)\", row=2, col=2)\n",
    "fig.update_xaxes(title_text=\"Tiempo (s)\", row=2, col=2)\n",
    "fig.add_trace(go.Scatter(x=dfG['Time (sec)'], y=dfG['Y'], mode='lines', marker=dict(color='magenta')), row=2, col=2)\n",
    "\n",
    "# Grafica la velocidad X / tiempo\n",
    "fig.update_yaxes(title_text=\"Velocidad X (m/s)\", range=[-0.5,0.5], row=3, col=1)\n",
    "fig.update_xaxes(title_text=\"Tiempo (s)\", row=3, col=1)\n",
    "fig.add_trace(go.Scatter(x=dfG_speed['Time (sec)'], y=dfG_speed['Speed_X'], mode='lines', marker=dict(color='blue')), row=3, col=1)\n",
    "\n",
    "# Grafica la velocidad Y / tiempo\n",
    "fig.update_yaxes(title_text=\"Velocidad Y (m/s)\", row=3, col=2)\n",
    "fig.update_xaxes(title_text=\"Tiempo (s)\", row=3, col=2)\n",
    "fig.add_trace(go.Scatter(x=dfG_speed['Time (sec)'], y=dfG_speed['Speed_Y'], mode='lines', marker=dict(color='red')), row=3, col=2)\n",
    "\n",
    "# Grafica la aceleración X / tiempo\n",
    "fig.update_yaxes(title_text=\"Aceleración X (m/s^2)\", row=4, col=1)\n",
    "fig.update_xaxes(title_text=\"Tiempo (s)\", row=4, col=1)\n",
    "fig.add_trace(go.Scatter(x=dfG_acceleration['Time (sec)'], y=dfG_acceleration['Acceleration_X'], mode='lines', marker=dict(color='green')), row=4, col=1)\n",
    "\n",
    "# Grafica la aceleración Y / tiempo\n",
    "fig.update_yaxes(title_text=\"Aceleración Y (m/s^2)\", row=4, col=2)\n",
    "fig.update_xaxes(title_text=\"Tiempo (s)\", row=4, col=2)\n",
    "fig.add_trace(go.Scatter(x=dfG_acceleration['Time (sec)'], y=dfG_acceleration['Acceleration_Y'], mode='lines', marker=dict(color='purple')), row=4, col=2)\n",
    "\n",
    "# Actualizar los títulos y ajustar el diseño\n",
    "fig.update_layout(height=1000, width=1200, title_text=\"Análisis de Movimiento del Centro del Objeto\", showlegend=False)\n",
    "\n",
    "# Mostrar los gráficos\n",
    "fig.show()"
   ]
  },
  {
   "cell_type": "code",
   "execution_count": 146,
   "metadata": {
    "colab": {
     "base_uri": "https://localhost:8080/",
     "height": 1000
    },
    "collapsed": true,
    "executionInfo": {
     "elapsed": 9,
     "status": "ok",
     "timestamp": 1731742417152,
     "user": {
      "displayName": "Tomas Rueda",
      "userId": "17662183962868927666"
     },
     "user_tz": 180
    },
    "id": "8QpPuME9ywe3",
    "outputId": "acf58480-9014-4549-d72c-426d91ffcbec"
   },
   "outputs": [
    {
     "data": {
      "application/vnd.plotly.v1+json": {
       "config": {
        "plotlyServerURL": "https://plot.ly"
       },
       "data": [
        {
         "marker": {
          "color": "blue"
         },
         "mode": "lines",
         "type": "scatter",
         "x": [
          0.3228866741953698,
          0.3238801806888763,
          0.3246645190050224,
          0.32525251072344896,
          0.3256569774237966,
          0.32589074068570634,
          0.3259666220888189,
          0.32589744321277503,
          0.32569602563721556,
          0.3253751909417813,
          0.3249477607061089,
          0.32433010787838745,
          0.32351945080091116,
          0.32243439032363097,
          0.32133422687152247,
          0.32020915331807365,
          0.3192759071591982,
          0.31870709382150614,
          0.3188065380843371,
          0.3197670480549158,
          0.32160156914023774,
          0.32457587446877645,
          0.3284467473030359,
          0.33314279176200945,
          0.3381830663615517,
          0.343248054919904,
          0.3477844393592632,
          0.35143935926773,
          0.35387721477606604,
          0.35501797973193394,
          0.3549230467472984,
          0.35364205771345353,
          0.35177796665576977,
          0.34946191565871193,
          0.3468250468067401,
          0.34399850218431444,
          0.34111342387589516,
          0.3383009539659424,
          0.3356922345389163,
          0.33341840767927705,
          0.3316106154714848
         ],
         "xaxis": "x",
         "y": [
          0.999072783738001,
          0.9995594579333709,
          0.9998037267080745,
          0.9998360109760567,
          0.9996867316512625,
          0.9993863096476369,
          0.9989651658791247,
          0.9984537212596709,
          0.9978823967032205,
          0.9972816131237183,
          0.9966817914350965,
          0.9961524027459825,
          0.9956981366459496,
          0.9954588427590586,
          0.9953803857469632,
          0.9954757110166592,
          0.9959403726707946,
          0.9967949656750442,
          0.9978278522392809,
          0.9989684210526186,
          0.9999126511931874,
          1.0005203007518668,
          1.0003139588100556,
          0.9988577966655641,
          0.9959321346845246,
          0.9914359594638642,
          0.9854106570774636,
          0.9780657077476173,
          0.9698212487740966,
          0.9610413206930245,
          0.9523247466492194,
          0.9422120479063271,
          0.9325613757714444,
          0.9237574053711353,
          0.9161848118319512,
          0.910228270280444,
          0.906272455843165,
          0.9047020436466656,
          0.9059017088174977,
          0.9102561264822128,
          0.9181499717673621
         ],
         "yaxis": "y"
        },
        {
         "marker": {
          "color": "red"
         },
         "mode": "lines",
         "name": "Velocidad Total",
         "type": "scatter",
         "x": [
          0,
          0.008333333333333333,
          0.016666666666666666,
          0.025,
          0.03333333333333333,
          0.041666666666666664,
          0.05,
          0.058333333333333334,
          0.06666666666666667,
          0.075,
          0.08333333333333333,
          0.09166666666666666,
          0.1,
          0.10833333333333334,
          0.11666666666666667,
          0.125,
          0.13333333333333333,
          0.14166666666666666,
          0.15,
          0.15833333333333333,
          0.16666666666666666,
          0.175,
          0.18333333333333332,
          0.19166666666666665,
          0.2,
          0.20833333333333334,
          0.21666666666666667,
          0.225,
          0.23333333333333334,
          0.24166666666666667,
          0.25,
          0.2583333333333333,
          0.26666666666666666,
          0.275,
          0.2833333333333333,
          0.2916666666666667,
          0.3,
          0.30833333333333335,
          0.31666666666666665,
          0.325,
          0.3333333333333333
         ],
         "xaxis": "x2",
         "y": [
          0.02260666925219286,
          -0.014734392254481074,
          -0.02696772234835175,
          -0.017164088086727966,
          0.01160574347308145,
          0.05627100527376775,
          0.11376093025802203,
          0.18100475136853555,
          0.2549317015479995,
          0.3324710137391051,
          0.41055192088453824,
          0.46716724767339524,
          0.49810644542325844,
          0.5062913508269575,
          0.5004348379989485,
          0.49184432232977027,
          0.4937425932612056,
          0.5181072325953996,
          0.6105004780441116,
          0.7540329609603479,
          0.9640538859988789,
          1.238931650480265,
          1.5857499535495359,
          2.009375957811037,
          2.510809650984333,
          3.0844902173888245,
          3.7189978540590087,
          4.392443024935321,
          5.086721512541388,
          5.7536752722155615,
          6.321297763775732,
          6.796619427976967,
          7.143975734758818,
          7.336145561243799,
          7.345907784554341,
          7.146041281812881,
          6.709324930141843,
          6.008537606663665,
          5.016458188500782,
          3.70586555277562,
          2.0495385766106193
         ],
         "yaxis": "y2"
        },
        {
         "marker": {
          "color": "green"
         },
         "mode": "lines",
         "type": "scatter",
         "x": [
          0,
          0.008333333333333333,
          0.016666666666666666,
          0.025,
          0.03333333333333333,
          0.041666666666666664,
          0.05,
          0.058333333333333334,
          0.06666666666666667,
          0.075,
          0.08333333333333333,
          0.09166666666666666,
          0.1,
          0.10833333333333334,
          0.11666666666666667,
          0.125,
          0.13333333333333333,
          0.14166666666666666,
          0.15,
          0.15833333333333333,
          0.16666666666666666,
          0.175,
          0.18333333333333332,
          0.19166666666666665,
          0.2,
          0.20833333333333334,
          0.21666666666666667,
          0.225,
          0.23333333333333334,
          0.24166666666666667,
          0.25,
          0.2583333333333333,
          0.26666666666666666,
          0.275,
          0.2833333333333333,
          0.2916666666666667,
          0.3,
          0.30833333333333335,
          0.31666666666666665,
          0.325,
          0.3333333333333333
         ],
         "xaxis": "x3",
         "y": [
          0.3228866741953698,
          0.3238801806888763,
          0.3246645190050224,
          0.32525251072344896,
          0.3256569774237966,
          0.32589074068570634,
          0.3259666220888189,
          0.32589744321277503,
          0.32569602563721556,
          0.3253751909417813,
          0.3249477607061089,
          0.32433010787838745,
          0.32351945080091116,
          0.32243439032363097,
          0.32133422687152247,
          0.32020915331807365,
          0.3192759071591982,
          0.31870709382150614,
          0.3188065380843371,
          0.3197670480549158,
          0.32160156914023774,
          0.32457587446877645,
          0.3284467473030359,
          0.33314279176200945,
          0.3381830663615517,
          0.343248054919904,
          0.3477844393592632,
          0.35143935926773,
          0.35387721477606604,
          0.35501797973193394,
          0.3549230467472984,
          0.35364205771345353,
          0.35177796665576977,
          0.34946191565871193,
          0.3468250468067401,
          0.34399850218431444,
          0.34111342387589516,
          0.3383009539659424,
          0.3356922345389163,
          0.33341840767927705,
          0.3316106154714848
         ],
         "yaxis": "y3"
        },
        {
         "marker": {
          "color": "magenta"
         },
         "mode": "lines",
         "type": "scatter",
         "x": [
          0,
          0.008333333333333333,
          0.016666666666666666,
          0.025,
          0.03333333333333333,
          0.041666666666666664,
          0.05,
          0.058333333333333334,
          0.06666666666666667,
          0.075,
          0.08333333333333333,
          0.09166666666666666,
          0.1,
          0.10833333333333334,
          0.11666666666666667,
          0.125,
          0.13333333333333333,
          0.14166666666666666,
          0.15,
          0.15833333333333333,
          0.16666666666666666,
          0.175,
          0.18333333333333332,
          0.19166666666666665,
          0.2,
          0.20833333333333334,
          0.21666666666666667,
          0.225,
          0.23333333333333334,
          0.24166666666666667,
          0.25,
          0.2583333333333333,
          0.26666666666666666,
          0.275,
          0.2833333333333333,
          0.2916666666666667,
          0.3,
          0.30833333333333335,
          0.31666666666666665,
          0.325,
          0.3333333333333333
         ],
         "xaxis": "x4",
         "y": [
          0.999072783738001,
          0.9995594579333709,
          0.9998037267080745,
          0.9998360109760567,
          0.9996867316512625,
          0.9993863096476369,
          0.9989651658791247,
          0.9984537212596709,
          0.9978823967032205,
          0.9972816131237183,
          0.9966817914350965,
          0.9961524027459825,
          0.9956981366459496,
          0.9954588427590586,
          0.9953803857469632,
          0.9954757110166592,
          0.9959403726707946,
          0.9967949656750442,
          0.9978278522392809,
          0.9989684210526186,
          0.9999126511931874,
          1.0005203007518668,
          1.0003139588100556,
          0.9988577966655641,
          0.9959321346845246,
          0.9914359594638642,
          0.9854106570774636,
          0.9780657077476173,
          0.9698212487740966,
          0.9610413206930245,
          0.9523247466492194,
          0.9422120479063271,
          0.9325613757714444,
          0.9237574053711353,
          0.9161848118319512,
          0.910228270280444,
          0.906272455843165,
          0.9047020436466656,
          0.9059017088174977,
          0.9102561264822128,
          0.9181499717673621
         ],
         "yaxis": "y4"
        },
        {
         "marker": {
          "color": "blue"
         },
         "mode": "lines",
         "type": "scatter",
         "x": [
          0,
          0.008333333333333333,
          0.016666666666666666,
          0.025,
          0.03333333333333333,
          0.041666666666666664,
          0.05,
          0.058333333333333334,
          0.06666666666666667,
          0.075,
          0.08333333333333333,
          0.09166666666666666,
          0.1,
          0.10833333333333334,
          0.11666666666666667,
          0.125,
          0.13333333333333333,
          0.14166666666666666,
          0.15,
          0.15833333333333333,
          0.16666666666666666,
          0.175,
          0.18333333333333332,
          0.19166666666666665,
          0.2,
          0.20833333333333334,
          0.21666666666666667,
          0.225,
          0.23333333333333334,
          0.24166666666666667,
          0.25,
          0.2583333333333333,
          0.26666666666666666,
          0.275,
          0.2833333333333333,
          0.2916666666666667,
          0.3,
          0.30833333333333335,
          0.31666666666666665,
          0.325,
          0.3333333333333333
         ],
         "xaxis": "x5",
         "y": [
          -0.21639673664764797,
          -0.03828265185831187,
          0.08653584238858975,
          0.16372021751860882,
          0.19893194495729716,
          0.19783249613020676,
          0.16608334246288953,
          0.10934595538089714,
          0.03328180630978178,
          -0.05644763332490471,
          -0.15418089209761096,
          -0.26420925534469686,
          -0.38213758957366584,
          -0.4948676312668059,
          -0.5845166215919041,
          -0.6313039601929478,
          -0.6150426373394327,
          -0.5202185932112023,
          -0.30263082060440394,
          0.0067788840334316175,
          0.3969283798025173,
          0.84650319538687,
          1.3231044528095863,
          1.789358962077252,
          2.206128911674526,
          2.537656296370569,
          2.7529493817639756,
          2.829516994934087,
          2.75354797222972,
          2.5267212193306454,
          2.160592632685339,
          1.6157178511210832,
          1.019929246661481,
          0.39951160955323606,
          -0.21925026995697094,
          -0.8100716016224636,
          -1.3466675951965656,
          -1.8027534604326045,
          -2.1520444070838964,
          -2.3682556449037735,
          -2.4251023836455596
         ],
         "yaxis": "y5"
        },
        {
         "marker": {
          "color": "red"
         },
         "mode": "lines",
         "type": "scatter",
         "x": [
          0,
          0.008333333333333333,
          0.016666666666666666,
          0.025,
          0.03333333333333333,
          0.041666666666666664,
          0.05,
          0.058333333333333334,
          0.06666666666666667,
          0.075,
          0.08333333333333333,
          0.09166666666666666,
          0.1,
          0.10833333333333334,
          0.11666666666666667,
          0.125,
          0.13333333333333333,
          0.14166666666666666,
          0.15,
          0.15833333333333333,
          0.16666666666666666,
          0.175,
          0.18333333333333332,
          0.19166666666666665,
          0.2,
          0.20833333333333334,
          0.21666666666666667,
          0.225,
          0.23333333333333334,
          0.24166666666666667,
          0.25,
          0.2583333333333333,
          0.26666666666666666,
          0.275,
          0.2833333333333333,
          0.2916666666666667,
          0.3,
          0.30833333333333335,
          0.31666666666666665,
          0.325,
          0.3333333333333333
         ],
         "xaxis": "x6",
         "y": [
          -0.02359582651796477,
          0.0235941728947663,
          0.0410302665693176,
          0.03343043744291645,
          0.005512668452790109,
          -0.03800505746383409,
          -0.09240475736972889,
          -0.15296844832766696,
          -0.21497814740042098,
          -0.2737158716507638,
          -0.3244636381414649,
          -0.33928872116627706,
          -0.32665481937160445,
          -0.278841047190063,
          -0.1924305235187152,
          -0.07092449062564316,
          0.07639016755104895,
          0.23285102059873292,
          0.3699587634742545,
          0.453880896597863,
          0.45318988545563466,
          0.3535775904568288,
          0.13176720607519088,
          -0.2268165657364259,
          -0.7249917642267605,
          -1.3542030328653916,
          -2.095554287584788,
          -2.9171468982845226,
          -3.7907375807650627,
          -4.6663468538160195,
          -5.488156058081987,
          -6.25237851303703,
          -6.85856256091271,
          -7.25971690559287,
          -7.408850250961298,
          -7.258971300901776,
          -6.763088759298093,
          -5.874211330034035,
          -4.545347716993375,
          -2.729506624059915,
          -0.37969675511742207
         ],
         "yaxis": "y6"
        },
        {
         "marker": {
          "color": "green"
         },
         "mode": "lines",
         "type": "scatter",
         "x": [
          0.058333333333333334,
          0.06666666666666667,
          0.075,
          0.08333333333333333,
          0.09166666666666666,
          0.1,
          0.10833333333333334,
          0.11666666666666667,
          0.125,
          0.13333333333333333,
          0.14166666666666666,
          0.15,
          0.15833333333333333,
          0.16666666666666666,
          0.175,
          0.18333333333333332,
          0.19166666666666665,
          0.2,
          0.20833333333333334,
          0.21666666666666667,
          0.225,
          0.23333333333333334,
          0.24166666666666667,
          0.25,
          0.2583333333333333,
          0.26666666666666666,
          0.275,
          0.2833333333333333,
          0.2916666666666667,
          0.3,
          0.30833333333333335,
          0.31666666666666665,
          0.325,
          0.3333333333333333
         ],
         "xaxis": "x7",
         "y": [
          39.089123043425424,
          8.58773498017124,
          -17.15801708561934,
          -38.14813315394638,
          -55.5769440362393,
          -69.59641028446461,
          -79.31411684756347,
          -83.26350923673617,
          -79.75029198032756,
          -67.03140048174338,
          -43.924524133630975,
          -4.6105878311648505,
          46.66997683285171,
          107.0155213283188,
          171.72237803745293,
          234.52900956030413,
          288.5281919300022,
          327.1617005862864,
          340.8344540369968,
          329.5404597276654,
          291.9106338157884,
          228.84537322114204,
          144.43401198252712,
          44.54804047297045,
          -70.84932726641341,
          -182.12724596509,
          -282.41253266528787,
          -365.85207178692826,
          -427.6343488622607,
          -464.806657743267,
          -475.6015311741518,
          -452.13147098459916,
          -406.5821869878293,
          -338.95367918385665
         ],
         "yaxis": "y7"
        },
        {
         "marker": {
          "color": "purple"
         },
         "mode": "lines",
         "type": "scatter",
         "x": [
          0.058333333333333334,
          0.06666666666666667,
          0.075,
          0.08333333333333333,
          0.09166666666666666,
          0.1,
          0.10833333333333334,
          0.11666666666666667,
          0.125,
          0.13333333333333333,
          0.14166666666666666,
          0.15,
          0.15833333333333333,
          0.16666666666666666,
          0.175,
          0.18333333333333332,
          0.19166666666666665,
          0.2,
          0.20833333333333334,
          0.21666666666666667,
          0.225,
          0.23333333333333334,
          0.24166666666666667,
          0.25,
          0.2583333333333333,
          0.26666666666666666,
          0.275,
          0.2833333333333333,
          0.2916666666666667,
          0.3,
          0.30833333333333335,
          0.31666666666666665,
          0.325,
          0.3333333333333333
         ],
         "xaxis": "x8",
         "y": [
          -15.524714617164266,
          -28.62867843542248,
          -37.76953658640977,
          -42.94728907012577,
          -41.376166754288064,
          -34.637971428932396,
          -22.372354778440094,
          -4.73544902292579,
          17.286438812973344,
          42.01272470421753,
          66.87775904882375,
          85.1096981568638,
          93.66428591633611,
          87.84371191748373,
          65.52097367706529,
          24.32300360410009,
          -36.38480799449699,
          -114.94113417905885,
          -206.89941556075757,
          -305.93222210191817,
          -404.440414048819,
          -497.3178205466271,
          -575.7736871869454,
          -631.3607390814675,
          -663.2864098572347,
          -660.5231433656762,
          -619.699514160968,
          -539.004402321215,
          -416.18804641640435,
          -251.60902865784965,
          -46.32663263424554,
          204.84369552523927,
          495.48671242233394,
          825.6024180570568
         ],
         "yaxis": "y8"
        },
        {
         "marker": {
          "color": "orange"
         },
         "mode": "lines",
         "type": "scatter",
         "x": [
          0,
          0.008333333333333333,
          0.016666666666666666,
          0.025,
          0.03333333333333333,
          0.041666666666666664,
          0.05,
          0.058333333333333334,
          0.06666666666666667,
          0.075,
          0.08333333333333333,
          0.09166666666666666,
          0.1,
          0.10833333333333334,
          0.11666666666666667,
          0.125,
          0.13333333333333333,
          0.14166666666666666,
          0.15,
          0.15833333333333333,
          0.16666666666666666,
          0.175,
          0.18333333333333332,
          0.19166666666666665,
          0.2,
          0.20833333333333334,
          0.21666666666666667,
          0.225,
          0.23333333333333334,
          0.24166666666666667,
          0.25,
          0.2583333333333333,
          0.26666666666666666,
          0.275,
          0.2833333333333333,
          0.2916666666666667,
          0.3,
          0.30833333333333335,
          0.31666666666666665,
          0.325,
          0.3333333333333333
         ],
         "xaxis": "x9",
         "y": [
          null,
          null,
          null,
          null,
          null,
          null,
          null,
          null,
          null,
          null,
          null,
          0.08448804613831146,
          0.10099448932040876,
          0.11000313596331657,
          0.10659889496857587,
          0.088458836941121,
          0.05278930202592059,
          -0.00033071594757827505,
          -0.06987431780652384,
          -0.15176990123343514,
          -0.2412604738237133,
          -0.3286947896528163,
          -0.4099476381863467,
          -0.48085943717680835,
          -0.5361080728372571,
          -0.5738748008360888,
          -0.5906198979692265,
          -0.584515769132245,
          -0.5546215023277137,
          -0.5029151522574657,
          -0.43166416096836746,
          -0.3358953200887177,
          -0.23154015848929416,
          -0.12208688893949973,
          -0.011023724208728658,
          0.0981611229336237,
          0.20197943971816307,
          0.29694301337549484,
          0.37956363113622443,
          0.4463530802309576,
          0.49382314789029885
         ],
         "yaxis": "y9"
        }
       ],
       "layout": {
        "annotations": [
         {
          "font": {
           "size": 16
          },
          "showarrow": false,
          "text": "Trayectoria del Objeto",
          "x": 0.225,
          "xanchor": "center",
          "xref": "paper",
          "y": 1,
          "yanchor": "bottom",
          "yref": "paper"
         },
         {
          "font": {
           "size": 16
          },
          "showarrow": false,
          "text": "Velocidad del Objeto",
          "x": 0.775,
          "xanchor": "center",
          "xref": "paper",
          "y": 1,
          "yanchor": "bottom",
          "yref": "paper"
         },
         {
          "font": {
           "size": 16
          },
          "showarrow": false,
          "text": "Posición X / Tiempo",
          "x": 0.225,
          "xanchor": "center",
          "xref": "paper",
          "y": 0.78,
          "yanchor": "bottom",
          "yref": "paper"
         },
         {
          "font": {
           "size": 16
          },
          "showarrow": false,
          "text": "Posición Y / Tiempo",
          "x": 0.775,
          "xanchor": "center",
          "xref": "paper",
          "y": 0.78,
          "yanchor": "bottom",
          "yref": "paper"
         },
         {
          "font": {
           "size": 16
          },
          "showarrow": false,
          "text": "Velocidad X / Tiempo",
          "x": 0.225,
          "xanchor": "center",
          "xref": "paper",
          "y": 0.56,
          "yanchor": "bottom",
          "yref": "paper"
         },
         {
          "font": {
           "size": 16
          },
          "showarrow": false,
          "text": "Velocidad Y / Tiempo",
          "x": 0.775,
          "xanchor": "center",
          "xref": "paper",
          "y": 0.56,
          "yanchor": "bottom",
          "yref": "paper"
         },
         {
          "font": {
           "size": 16
          },
          "showarrow": false,
          "text": "Aceleración X / Tiempo",
          "x": 0.225,
          "xanchor": "center",
          "xref": "paper",
          "y": 0.33999999999999997,
          "yanchor": "bottom",
          "yref": "paper"
         },
         {
          "font": {
           "size": 16
          },
          "showarrow": false,
          "text": "Aceleración Y / Tiempo",
          "x": 0.775,
          "xanchor": "center",
          "xref": "paper",
          "y": 0.33999999999999997,
          "yanchor": "bottom",
          "yref": "paper"
         },
         {
          "font": {
           "size": 16
          },
          "showarrow": false,
          "text": "Velocidad Angular / Tiempo",
          "x": 0.225,
          "xanchor": "center",
          "xref": "paper",
          "y": 0.12,
          "yanchor": "bottom",
          "yref": "paper"
         }
        ],
        "height": 1200,
        "showlegend": false,
        "template": {
         "data": {
          "bar": [
           {
            "error_x": {
             "color": "#2a3f5f"
            },
            "error_y": {
             "color": "#2a3f5f"
            },
            "marker": {
             "line": {
              "color": "#E5ECF6",
              "width": 0.5
             },
             "pattern": {
              "fillmode": "overlay",
              "size": 10,
              "solidity": 0.2
             }
            },
            "type": "bar"
           }
          ],
          "barpolar": [
           {
            "marker": {
             "line": {
              "color": "#E5ECF6",
              "width": 0.5
             },
             "pattern": {
              "fillmode": "overlay",
              "size": 10,
              "solidity": 0.2
             }
            },
            "type": "barpolar"
           }
          ],
          "carpet": [
           {
            "aaxis": {
             "endlinecolor": "#2a3f5f",
             "gridcolor": "white",
             "linecolor": "white",
             "minorgridcolor": "white",
             "startlinecolor": "#2a3f5f"
            },
            "baxis": {
             "endlinecolor": "#2a3f5f",
             "gridcolor": "white",
             "linecolor": "white",
             "minorgridcolor": "white",
             "startlinecolor": "#2a3f5f"
            },
            "type": "carpet"
           }
          ],
          "choropleth": [
           {
            "colorbar": {
             "outlinewidth": 0,
             "ticks": ""
            },
            "type": "choropleth"
           }
          ],
          "contour": [
           {
            "colorbar": {
             "outlinewidth": 0,
             "ticks": ""
            },
            "colorscale": [
             [
              0,
              "#0d0887"
             ],
             [
              0.1111111111111111,
              "#46039f"
             ],
             [
              0.2222222222222222,
              "#7201a8"
             ],
             [
              0.3333333333333333,
              "#9c179e"
             ],
             [
              0.4444444444444444,
              "#bd3786"
             ],
             [
              0.5555555555555556,
              "#d8576b"
             ],
             [
              0.6666666666666666,
              "#ed7953"
             ],
             [
              0.7777777777777778,
              "#fb9f3a"
             ],
             [
              0.8888888888888888,
              "#fdca26"
             ],
             [
              1,
              "#f0f921"
             ]
            ],
            "type": "contour"
           }
          ],
          "contourcarpet": [
           {
            "colorbar": {
             "outlinewidth": 0,
             "ticks": ""
            },
            "type": "contourcarpet"
           }
          ],
          "heatmap": [
           {
            "colorbar": {
             "outlinewidth": 0,
             "ticks": ""
            },
            "colorscale": [
             [
              0,
              "#0d0887"
             ],
             [
              0.1111111111111111,
              "#46039f"
             ],
             [
              0.2222222222222222,
              "#7201a8"
             ],
             [
              0.3333333333333333,
              "#9c179e"
             ],
             [
              0.4444444444444444,
              "#bd3786"
             ],
             [
              0.5555555555555556,
              "#d8576b"
             ],
             [
              0.6666666666666666,
              "#ed7953"
             ],
             [
              0.7777777777777778,
              "#fb9f3a"
             ],
             [
              0.8888888888888888,
              "#fdca26"
             ],
             [
              1,
              "#f0f921"
             ]
            ],
            "type": "heatmap"
           }
          ],
          "heatmapgl": [
           {
            "colorbar": {
             "outlinewidth": 0,
             "ticks": ""
            },
            "colorscale": [
             [
              0,
              "#0d0887"
             ],
             [
              0.1111111111111111,
              "#46039f"
             ],
             [
              0.2222222222222222,
              "#7201a8"
             ],
             [
              0.3333333333333333,
              "#9c179e"
             ],
             [
              0.4444444444444444,
              "#bd3786"
             ],
             [
              0.5555555555555556,
              "#d8576b"
             ],
             [
              0.6666666666666666,
              "#ed7953"
             ],
             [
              0.7777777777777778,
              "#fb9f3a"
             ],
             [
              0.8888888888888888,
              "#fdca26"
             ],
             [
              1,
              "#f0f921"
             ]
            ],
            "type": "heatmapgl"
           }
          ],
          "histogram": [
           {
            "marker": {
             "pattern": {
              "fillmode": "overlay",
              "size": 10,
              "solidity": 0.2
             }
            },
            "type": "histogram"
           }
          ],
          "histogram2d": [
           {
            "colorbar": {
             "outlinewidth": 0,
             "ticks": ""
            },
            "colorscale": [
             [
              0,
              "#0d0887"
             ],
             [
              0.1111111111111111,
              "#46039f"
             ],
             [
              0.2222222222222222,
              "#7201a8"
             ],
             [
              0.3333333333333333,
              "#9c179e"
             ],
             [
              0.4444444444444444,
              "#bd3786"
             ],
             [
              0.5555555555555556,
              "#d8576b"
             ],
             [
              0.6666666666666666,
              "#ed7953"
             ],
             [
              0.7777777777777778,
              "#fb9f3a"
             ],
             [
              0.8888888888888888,
              "#fdca26"
             ],
             [
              1,
              "#f0f921"
             ]
            ],
            "type": "histogram2d"
           }
          ],
          "histogram2dcontour": [
           {
            "colorbar": {
             "outlinewidth": 0,
             "ticks": ""
            },
            "colorscale": [
             [
              0,
              "#0d0887"
             ],
             [
              0.1111111111111111,
              "#46039f"
             ],
             [
              0.2222222222222222,
              "#7201a8"
             ],
             [
              0.3333333333333333,
              "#9c179e"
             ],
             [
              0.4444444444444444,
              "#bd3786"
             ],
             [
              0.5555555555555556,
              "#d8576b"
             ],
             [
              0.6666666666666666,
              "#ed7953"
             ],
             [
              0.7777777777777778,
              "#fb9f3a"
             ],
             [
              0.8888888888888888,
              "#fdca26"
             ],
             [
              1,
              "#f0f921"
             ]
            ],
            "type": "histogram2dcontour"
           }
          ],
          "mesh3d": [
           {
            "colorbar": {
             "outlinewidth": 0,
             "ticks": ""
            },
            "type": "mesh3d"
           }
          ],
          "parcoords": [
           {
            "line": {
             "colorbar": {
              "outlinewidth": 0,
              "ticks": ""
             }
            },
            "type": "parcoords"
           }
          ],
          "pie": [
           {
            "automargin": true,
            "type": "pie"
           }
          ],
          "scatter": [
           {
            "fillpattern": {
             "fillmode": "overlay",
             "size": 10,
             "solidity": 0.2
            },
            "type": "scatter"
           }
          ],
          "scatter3d": [
           {
            "line": {
             "colorbar": {
              "outlinewidth": 0,
              "ticks": ""
             }
            },
            "marker": {
             "colorbar": {
              "outlinewidth": 0,
              "ticks": ""
             }
            },
            "type": "scatter3d"
           }
          ],
          "scattercarpet": [
           {
            "marker": {
             "colorbar": {
              "outlinewidth": 0,
              "ticks": ""
             }
            },
            "type": "scattercarpet"
           }
          ],
          "scattergeo": [
           {
            "marker": {
             "colorbar": {
              "outlinewidth": 0,
              "ticks": ""
             }
            },
            "type": "scattergeo"
           }
          ],
          "scattergl": [
           {
            "marker": {
             "colorbar": {
              "outlinewidth": 0,
              "ticks": ""
             }
            },
            "type": "scattergl"
           }
          ],
          "scattermapbox": [
           {
            "marker": {
             "colorbar": {
              "outlinewidth": 0,
              "ticks": ""
             }
            },
            "type": "scattermapbox"
           }
          ],
          "scatterpolar": [
           {
            "marker": {
             "colorbar": {
              "outlinewidth": 0,
              "ticks": ""
             }
            },
            "type": "scatterpolar"
           }
          ],
          "scatterpolargl": [
           {
            "marker": {
             "colorbar": {
              "outlinewidth": 0,
              "ticks": ""
             }
            },
            "type": "scatterpolargl"
           }
          ],
          "scatterternary": [
           {
            "marker": {
             "colorbar": {
              "outlinewidth": 0,
              "ticks": ""
             }
            },
            "type": "scatterternary"
           }
          ],
          "surface": [
           {
            "colorbar": {
             "outlinewidth": 0,
             "ticks": ""
            },
            "colorscale": [
             [
              0,
              "#0d0887"
             ],
             [
              0.1111111111111111,
              "#46039f"
             ],
             [
              0.2222222222222222,
              "#7201a8"
             ],
             [
              0.3333333333333333,
              "#9c179e"
             ],
             [
              0.4444444444444444,
              "#bd3786"
             ],
             [
              0.5555555555555556,
              "#d8576b"
             ],
             [
              0.6666666666666666,
              "#ed7953"
             ],
             [
              0.7777777777777778,
              "#fb9f3a"
             ],
             [
              0.8888888888888888,
              "#fdca26"
             ],
             [
              1,
              "#f0f921"
             ]
            ],
            "type": "surface"
           }
          ],
          "table": [
           {
            "cells": {
             "fill": {
              "color": "#EBF0F8"
             },
             "line": {
              "color": "white"
             }
            },
            "header": {
             "fill": {
              "color": "#C8D4E3"
             },
             "line": {
              "color": "white"
             }
            },
            "type": "table"
           }
          ]
         },
         "layout": {
          "annotationdefaults": {
           "arrowcolor": "#2a3f5f",
           "arrowhead": 0,
           "arrowwidth": 1
          },
          "autotypenumbers": "strict",
          "coloraxis": {
           "colorbar": {
            "outlinewidth": 0,
            "ticks": ""
           }
          },
          "colorscale": {
           "diverging": [
            [
             0,
             "#8e0152"
            ],
            [
             0.1,
             "#c51b7d"
            ],
            [
             0.2,
             "#de77ae"
            ],
            [
             0.3,
             "#f1b6da"
            ],
            [
             0.4,
             "#fde0ef"
            ],
            [
             0.5,
             "#f7f7f7"
            ],
            [
             0.6,
             "#e6f5d0"
            ],
            [
             0.7,
             "#b8e186"
            ],
            [
             0.8,
             "#7fbc41"
            ],
            [
             0.9,
             "#4d9221"
            ],
            [
             1,
             "#276419"
            ]
           ],
           "sequential": [
            [
             0,
             "#0d0887"
            ],
            [
             0.1111111111111111,
             "#46039f"
            ],
            [
             0.2222222222222222,
             "#7201a8"
            ],
            [
             0.3333333333333333,
             "#9c179e"
            ],
            [
             0.4444444444444444,
             "#bd3786"
            ],
            [
             0.5555555555555556,
             "#d8576b"
            ],
            [
             0.6666666666666666,
             "#ed7953"
            ],
            [
             0.7777777777777778,
             "#fb9f3a"
            ],
            [
             0.8888888888888888,
             "#fdca26"
            ],
            [
             1,
             "#f0f921"
            ]
           ],
           "sequentialminus": [
            [
             0,
             "#0d0887"
            ],
            [
             0.1111111111111111,
             "#46039f"
            ],
            [
             0.2222222222222222,
             "#7201a8"
            ],
            [
             0.3333333333333333,
             "#9c179e"
            ],
            [
             0.4444444444444444,
             "#bd3786"
            ],
            [
             0.5555555555555556,
             "#d8576b"
            ],
            [
             0.6666666666666666,
             "#ed7953"
            ],
            [
             0.7777777777777778,
             "#fb9f3a"
            ],
            [
             0.8888888888888888,
             "#fdca26"
            ],
            [
             1,
             "#f0f921"
            ]
           ]
          },
          "colorway": [
           "#636efa",
           "#EF553B",
           "#00cc96",
           "#ab63fa",
           "#FFA15A",
           "#19d3f3",
           "#FF6692",
           "#B6E880",
           "#FF97FF",
           "#FECB52"
          ],
          "font": {
           "color": "#2a3f5f"
          },
          "geo": {
           "bgcolor": "white",
           "lakecolor": "white",
           "landcolor": "#E5ECF6",
           "showlakes": true,
           "showland": true,
           "subunitcolor": "white"
          },
          "hoverlabel": {
           "align": "left"
          },
          "hovermode": "closest",
          "mapbox": {
           "style": "light"
          },
          "paper_bgcolor": "white",
          "plot_bgcolor": "#E5ECF6",
          "polar": {
           "angularaxis": {
            "gridcolor": "white",
            "linecolor": "white",
            "ticks": ""
           },
           "bgcolor": "#E5ECF6",
           "radialaxis": {
            "gridcolor": "white",
            "linecolor": "white",
            "ticks": ""
           }
          },
          "scene": {
           "xaxis": {
            "backgroundcolor": "#E5ECF6",
            "gridcolor": "white",
            "gridwidth": 2,
            "linecolor": "white",
            "showbackground": true,
            "ticks": "",
            "zerolinecolor": "white"
           },
           "yaxis": {
            "backgroundcolor": "#E5ECF6",
            "gridcolor": "white",
            "gridwidth": 2,
            "linecolor": "white",
            "showbackground": true,
            "ticks": "",
            "zerolinecolor": "white"
           },
           "zaxis": {
            "backgroundcolor": "#E5ECF6",
            "gridcolor": "white",
            "gridwidth": 2,
            "linecolor": "white",
            "showbackground": true,
            "ticks": "",
            "zerolinecolor": "white"
           }
          },
          "shapedefaults": {
           "line": {
            "color": "#2a3f5f"
           }
          },
          "ternary": {
           "aaxis": {
            "gridcolor": "white",
            "linecolor": "white",
            "ticks": ""
           },
           "baxis": {
            "gridcolor": "white",
            "linecolor": "white",
            "ticks": ""
           },
           "bgcolor": "#E5ECF6",
           "caxis": {
            "gridcolor": "white",
            "linecolor": "white",
            "ticks": ""
           }
          },
          "title": {
           "x": 0.05
          },
          "xaxis": {
           "automargin": true,
           "gridcolor": "white",
           "linecolor": "white",
           "ticks": "",
           "title": {
            "standoff": 15
           },
           "zerolinecolor": "white",
           "zerolinewidth": 2
          },
          "yaxis": {
           "automargin": true,
           "gridcolor": "white",
           "linecolor": "white",
           "ticks": "",
           "title": {
            "standoff": 15
           },
           "zerolinecolor": "white",
           "zerolinewidth": 2
          }
         }
        },
        "title": {
         "text": "Análisis de Movimiento del Borde del Objeto"
        },
        "width": 1200,
        "xaxis": {
         "anchor": "y",
         "domain": [
          0,
          0.45
         ],
         "scaleanchor": "y",
         "title": {
          "text": "Posición X (m)"
         }
        },
        "xaxis10": {
         "anchor": "y10",
         "domain": [
          0.55,
          1
         ]
        },
        "xaxis2": {
         "anchor": "y2",
         "domain": [
          0.55,
          1
         ],
         "title": {
          "text": "Velocidad X (m/s)"
         }
        },
        "xaxis3": {
         "anchor": "y3",
         "domain": [
          0,
          0.45
         ],
         "title": {
          "text": "Tiempo (s)"
         }
        },
        "xaxis4": {
         "anchor": "y4",
         "domain": [
          0.55,
          1
         ],
         "title": {
          "text": "Tiempo (s)"
         }
        },
        "xaxis5": {
         "anchor": "y5",
         "domain": [
          0,
          0.45
         ],
         "title": {
          "text": "Tiempo (s)"
         }
        },
        "xaxis6": {
         "anchor": "y6",
         "domain": [
          0.55,
          1
         ],
         "title": {
          "text": "Tiempo (s)"
         }
        },
        "xaxis7": {
         "anchor": "y7",
         "domain": [
          0,
          0.45
         ],
         "title": {
          "text": "Tiempo (s)"
         }
        },
        "xaxis8": {
         "anchor": "y8",
         "domain": [
          0.55,
          1
         ],
         "title": {
          "text": "Tiempo (s)"
         }
        },
        "xaxis9": {
         "anchor": "y9",
         "domain": [
          0,
          0.45
         ],
         "title": {
          "text": "Tiempo (s)"
         }
        },
        "yaxis": {
         "anchor": "x",
         "domain": [
          0.88,
          1
         ],
         "title": {
          "text": "Posición Y (m)"
         }
        },
        "yaxis10": {
         "anchor": "x10",
         "domain": [
          0,
          0.12
         ]
        },
        "yaxis2": {
         "anchor": "x2",
         "domain": [
          0.88,
          1
         ],
         "title": {
          "text": "Velocidad Y (m/s)"
         }
        },
        "yaxis3": {
         "anchor": "x3",
         "domain": [
          0.66,
          0.78
         ],
         "title": {
          "text": "Posición X (m)"
         }
        },
        "yaxis4": {
         "anchor": "x4",
         "domain": [
          0.66,
          0.78
         ],
         "title": {
          "text": "Posición Y (m)"
         }
        },
        "yaxis5": {
         "anchor": "x5",
         "domain": [
          0.44,
          0.56
         ],
         "title": {
          "text": "Velocidad X (m/s)"
         }
        },
        "yaxis6": {
         "anchor": "x6",
         "domain": [
          0.44,
          0.56
         ],
         "title": {
          "text": "Velocidad Y (m/s)"
         }
        },
        "yaxis7": {
         "anchor": "x7",
         "domain": [
          0.22,
          0.33999999999999997
         ],
         "title": {
          "text": "Aceleración X (m/s^2)"
         }
        },
        "yaxis8": {
         "anchor": "x8",
         "domain": [
          0.22,
          0.33999999999999997
         ],
         "title": {
          "text": "Aceleración Y (m/s^2)"
         }
        },
        "yaxis9": {
         "anchor": "x9",
         "domain": [
          0,
          0.12
         ],
         "title": {
          "text": "Velocidad Angular (rad/s)"
         }
        }
       }
      }
     },
     "metadata": {},
     "output_type": "display_data"
    }
   ],
   "source": [
    "# Elegir dataframe a graficar\n",
    "dfG = dfBorde\n",
    "dfG_speed = dfBorde_speed.copy()\n",
    "dfG_acceleration = dfBorde_acceleration.copy()\n",
    "\n",
    "# Crear figura y ejes\n",
    "# 5 filas, 2 columnas\n",
    "fig = make_subplots(\n",
    "    rows=5, cols=2,\n",
    "    subplot_titles=(\n",
    "        \"Trayectoria del Objeto\", \"Velocidad del Objeto\",\n",
    "        \"Posición X / Tiempo\", \"Posición Y / Tiempo\",\n",
    "        \"Velocidad X / Tiempo\", \"Velocidad Y / Tiempo\",\n",
    "        \"Aceleración X / Tiempo\", \"Aceleración Y / Tiempo\",\n",
    "        \"Velocidad Angular / Tiempo\", \"\"\n",
    "    )\n",
    ")\n",
    "\n",
    "# Grafica la trayectoria\n",
    "fig.update_yaxes(title_text=\"Posición Y (m)\", row=1, col=1)\n",
    "fig.update_xaxes(title_text=\"Posición X (m)\", row=1, col=1, scaleanchor=\"y\")\n",
    "fig.add_trace(go.Scatter(x=dfG['X'], y=dfG['Y'], mode='lines', marker=dict(color='blue')), row=1, col=1)\n",
    "\n",
    "# Grafica la velocidad\n",
    "fig.update_yaxes(title_text=\"Velocidad Y (m/s)\", row=1, col=2)\n",
    "fig.update_xaxes(title_text=\"Velocidad X (m/s)\", row=1, col=2)\n",
    "fig.add_trace(go.Scatter(x=dfG_speed['Time (sec)'], y=dfG_speed['Speed'], mode='lines', marker=dict(color='red'), name='Velocidad Total'), row=1, col=2)\n",
    "\n",
    "# Grafica la posición X en función del tiempo\n",
    "fig.update_yaxes(title_text=\"Posición X (m)\", row=2, col=1)\n",
    "fig.update_xaxes(title_text=\"Tiempo (s)\", row=2, col=1)\n",
    "fig.add_trace(go.Scatter(x=dfG['Time (sec)'], y=dfG['X'], mode='lines', marker=dict(color='green')), row=2, col=1)\n",
    "\n",
    "# Grafica la posición Y / tiempo\n",
    "fig.update_yaxes(title_text=\"Posición Y (m)\", row=2, col=2)\n",
    "fig.update_xaxes(title_text=\"Tiempo (s)\", row=2, col=2)\n",
    "fig.add_trace(go.Scatter(x=dfG['Time (sec)'], y=dfG['Y'], mode='lines', marker=dict(color='magenta')), row=2, col=2)\n",
    "\n",
    "# Grafica la velocidad X / tiempo\n",
    "fig.update_yaxes(title_text=\"Velocidad X (m/s)\", row=3, col=1)\n",
    "fig.update_xaxes(title_text=\"Tiempo (s)\", row=3, col=1)\n",
    "fig.add_trace(go.Scatter(x=dfG_speed['Time (sec)'], y=dfG_speed['Speed_X'], mode='lines', marker=dict(color='blue')), row=3, col=1)\n",
    "\n",
    "# Grafica la velocidad Y / tiempo\n",
    "fig.update_yaxes(title_text=\"Velocidad Y (m/s)\", row=3, col=2)\n",
    "fig.update_xaxes(title_text=\"Tiempo (s)\", row=3, col=2)\n",
    "fig.add_trace(go.Scatter(x=dfG_speed['Time (sec)'], y=dfG_speed['Speed_Y'], mode='lines', marker=dict(color='red')), row=3, col=2)\n",
    "\n",
    "# Grafica la aceleración X / tiempo\n",
    "fig.update_yaxes(title_text=\"Aceleración X (m/s^2)\", row=4, col=1)\n",
    "fig.update_xaxes(title_text=\"Tiempo (s)\", row=4, col=1)\n",
    "fig.add_trace(go.Scatter(x=dfG_acceleration['Time (sec)'], y=dfG_acceleration['Acceleration_X'], mode='lines', marker=dict(color='green')), row=4, col=1)\n",
    "\n",
    "# Grafica la aceleración Y / tiempo\n",
    "fig.update_yaxes(title_text=\"Aceleración Y (m/s^2)\", row=4, col=2)\n",
    "fig.update_xaxes(title_text=\"Tiempo (s)\", row=4, col=2)\n",
    "fig.add_trace(go.Scatter(x=dfG_acceleration['Time (sec)'], y=dfG_acceleration['Acceleration_Y'], mode='lines', marker=dict(color='purple')), row=4, col=2)\n",
    "\n",
    "# Grafica la velocidad angular\n",
    "fig.update_yaxes(title_text=\"Velocidad Angular (rad/s)\", row=5, col=1)\n",
    "fig.update_xaxes(title_text=\"Tiempo (s)\", row=5, col=1)\n",
    "fig.add_trace(go.Scatter(x=dfG['Time (sec)'], y=dfG['Angular_Velocity'], mode='lines', marker=dict(color='orange')), row=5, col=1)\n",
    "\n",
    "# Actualizar los títulos y ajustar el diseño\n",
    "fig.update_layout(height=1200, width=1200, title_text=\"Análisis de Movimiento del Borde del Objeto\", showlegend=False)\n",
    "\n",
    "# Mostrar los gráficos\n",
    "fig.show()"
   ]
  },
  {
   "cell_type": "code",
   "execution_count": 147,
   "metadata": {
    "colab": {
     "base_uri": "https://localhost:8080/",
     "height": 1000
    },
    "executionInfo": {
     "elapsed": 1015,
     "status": "ok",
     "timestamp": 1731742418163,
     "user": {
      "displayName": "Tomas Rueda",
      "userId": "17662183962868927666"
     },
     "user_tz": 180
    },
    "id": "tZ-Sexfzomr4",
    "outputId": "07f10269-f321-4609-fd73-1cbc725a0633"
   },
   "outputs": [
    {
     "data": {
      "application/vnd.plotly.v1+json": {
       "config": {
        "plotlyServerURL": "https://plot.ly"
       },
       "data": [
        {
         "marker": {
          "color": "green"
         },
         "mode": "lines",
         "type": "scatter",
         "x": [
          0,
          0.008333333333333333,
          0.016666666666666666,
          0.025,
          0.03333333333333333,
          0.041666666666666664,
          0.05,
          0.058333333333333334,
          0.06666666666666667,
          0.075,
          0.08333333333333333,
          0.09166666666666666,
          0.1,
          0.10833333333333334,
          0.11666666666666667,
          0.125,
          0.13333333333333333,
          0.14166666666666666,
          0.15,
          0.15833333333333333,
          0.16666666666666666,
          0.175,
          0.18333333333333332,
          0.19166666666666665,
          0.2,
          0.20833333333333334,
          0.21666666666666667,
          0.225,
          0.23333333333333334,
          0.24166666666666667,
          0.25,
          0.2583333333333333,
          0.26666666666666666,
          0.275,
          0.2833333333333333,
          0.2916666666666667,
          0.3,
          0.30833333333333335,
          0.31666666666666665,
          0.325,
          0.3333333333333333
         ],
         "xaxis": "x",
         "y": [
          -0.005670750988142292,
          -0.004586448334274407,
          -0.0038182115367469405,
          -0.0033474357831336232,
          -0.0031555162610081844,
          -0.003223848157944187,
          -0.00353382666151536,
          -0.004066846959295323,
          -0.004804304238857915,
          -0.005727593687776644,
          -0.006818110493625296,
          -0.008155410264792273,
          -0.009750245178162642,
          -0.011648512585812232,
          -0.013497352075841629,
          -0.015468192219679433,
          -0.01733056554429535,
          -0.018844001307616653,
          -0.019688983327884713,
          -0.01970918600849919,
          -0.018874011114743128,
          -0.01693357306309229,
          -0.01409480222294851,
          -0.010394769532526826,
          -0.006282052958483053,
          -0.0020793069630598016,
          0.0016118993135010307,
          0.004539326577312763,
          0.006300294213795299,
          0.006919123896698132,
          0.006365609676364736,
          0.004791155755000165,
          0.002703494903266046,
          0.00022338851080272448,
          -0.002528402032749788,
          -0.005431115337751369,
          -0.00836399001456195,
          -0.011206264673541355,
          -0.013837177925049515,
          -0.016135968379446308,
          -0.017981874647091667
         ],
         "yaxis": "y"
        },
        {
         "marker": {
          "color": "magenta"
         },
         "mode": "lines",
         "type": "scatter",
         "x": [
          0,
          0.008333333333333333,
          0.016666666666666666,
          0.025,
          0.03333333333333333,
          0.041666666666666664,
          0.05,
          0.058333333333333334,
          0.06666666666666667,
          0.075,
          0.08333333333333333,
          0.09166666666666666,
          0.1,
          0.10833333333333334,
          0.11666666666666667,
          0.125,
          0.13333333333333333,
          0.14166666666666666,
          0.15,
          0.15833333333333333,
          0.16666666666666666,
          0.175,
          0.18333333333333332,
          0.19166666666666665,
          0.2,
          0.20833333333333334,
          0.21666666666666667,
          0.225,
          0.23333333333333334,
          0.24166666666666667,
          0.25,
          0.2583333333333333,
          0.26666666666666666,
          0.275,
          0.2833333333333333,
          0.2916666666666667,
          0.3,
          0.30833333333333335,
          0.31666666666666665,
          0.325,
          0.3333333333333333
         ],
         "xaxis": "x2",
         "y": [
          -0.019639073969508813,
          -0.018965217391304412,
          -0.01860222889238916,
          -0.018489696573449343,
          -0.01856720853517202,
          -0.018774352878243028,
          -0.019050717703349318,
          -0.019335891111177395,
          -0.019569461202413208,
          -0.01969101607774415,
          -0.019640143837855284,
          -0.019217456685191037,
          -0.018487414187642992,
          -0.017234455704478457,
          -0.015568028767571018,
          -0.01349009480222274,
          -0.010748022229486565,
          -0.007311408957175414,
          -0.0034293559986924294,
          0.0007743707093821328,
          0.005033213468453646,
          0.009195161817587505,
          0.012755344883948583,
          0.015288917947041347,
          0.016606995750244935,
          0.016387119973847453,
          0.014898202026805918,
          0.012151618175874401,
          0.008668911408957092,
          0.004780581889506363,
          0.001110951291271589,
          -0.003739421676721144,
          -0.00792648419467612,
          -0.011055159638225676,
          -0.012730371383002703,
          -0.012557042804639762,
          -0.010140097278769633,
          -0.005084458181025431,
          0.0030049511129605078,
          0.014523207227555401,
          0.029865386787126136
         ],
         "yaxis": "y2"
        },
        {
         "marker": {
          "color": "blue"
         },
         "mode": "lines",
         "type": "scatter",
         "x": [
          0,
          0.008333333333333333,
          0.016666666666666666,
          0.025,
          0.03333333333333333,
          0.041666666666666664,
          0.05,
          0.058333333333333334,
          0.06666666666666667,
          0.075,
          0.08333333333333333,
          0.09166666666666666,
          0.1,
          0.10833333333333334,
          0.11666666666666667,
          0.125,
          0.13333333333333333,
          0.14166666666666666,
          0.15,
          0.15833333333333333,
          0.16666666666666666,
          0.175,
          0.18333333333333332,
          0.19166666666666665,
          0.2,
          0.20833333333333334,
          0.21666666666666667,
          0.225,
          0.23333333333333334,
          0.24166666666666667,
          0.25,
          0.2583333333333333,
          0.26666666666666666,
          0.275,
          0.2833333333333333,
          0.2916666666666667,
          0.3,
          0.30833333333333335,
          0.31666666666666665,
          0.325,
          0.3333333333333333
         ],
         "xaxis": "x3",
         "y": [
          null,
          null,
          null,
          null,
          null,
          null,
          null,
          null,
          null,
          null,
          null,
          null,
          null,
          -0.17609686921447293,
          -0.14422561289642094,
          -0.09949953666797484,
          -0.04607691352452725,
          0.012483094177805796,
          0.07174156433628369,
          0.12584531735835208,
          0.1726075937792182,
          0.21024984107915573,
          0.23738066493819956,
          0.25297478049083916,
          0.25553081390659005,
          0.244163815426156,
          0.21789288661648867,
          0.17914246745408863,
          0.16964947766192406,
          0.14533442437261807,
          0.11391393947667117,
          0.0753880229740832,
          0.0297566748648542,
          -0.022980104851015953,
          -0.08282231617352703,
          -0.14976995910267915,
          -0.2238230336384723,
          -0.3049815397809065,
          -0.39324547752998174,
          -0.488614846885698,
          -0.5910896478480553
         ],
         "yaxis": "y3"
        },
        {
         "marker": {
          "color": "red"
         },
         "mode": "lines",
         "type": "scatter",
         "x": [
          0,
          0.008333333333333333,
          0.016666666666666666,
          0.025,
          0.03333333333333333,
          0.041666666666666664,
          0.05,
          0.058333333333333334,
          0.06666666666666667,
          0.075,
          0.08333333333333333,
          0.09166666666666666,
          0.1,
          0.10833333333333334,
          0.11666666666666667,
          0.125,
          0.13333333333333333,
          0.14166666666666666,
          0.15,
          0.15833333333333333,
          0.16666666666666666,
          0.175,
          0.18333333333333332,
          0.19166666666666665,
          0.2,
          0.20833333333333334,
          0.21666666666666667,
          0.225,
          0.23333333333333334,
          0.24166666666666667,
          0.25,
          0.2583333333333333,
          0.26666666666666666,
          0.275,
          0.2833333333333333,
          0.2916666666666667,
          0.3,
          0.30833333333333335,
          0.31666666666666665,
          0.325,
          0.3333333333333333
         ],
         "xaxis": "x4",
         "y": [
          null,
          null,
          null,
          null,
          null,
          null,
          null,
          null,
          null,
          null,
          null,
          null,
          null,
          0.23947756795346115,
          0.29032216982102704,
          0.3307890501946582,
          0.35749202726009155,
          0.3664530681805956,
          0.36695279075288956,
          0.34645655668293884,
          0.3056200958244104,
          0.24609930736148558,
          0.17048130416494034,
          0.08221545714827895,
          -0.01329297353512598,
          -0.1117206736545571,
          -0.20607803213458653,
          -0.29105737022049544,
          -0.28301645667833,
          -0.2535812947301115,
          -0.20634168629670113,
          -0.14129763137809892,
          -0.05844912997430507,
          0.04220381791468064,
          0.160661212288858,
          0.2969230531482272,
          0.4509893404927875,
          0.6228600743225401,
          0.8125352546374845,
          1.0200148814376206,
          1.2452989547229485
         ],
         "yaxis": "y4"
        },
        {
         "marker": {
          "color": "green"
         },
         "mode": "lines",
         "type": "scatter",
         "x": [
          0,
          0.008333333333333333,
          0.016666666666666666,
          0.025,
          0.03333333333333333,
          0.041666666666666664,
          0.05,
          0.058333333333333334,
          0.06666666666666667,
          0.075,
          0.08333333333333333,
          0.09166666666666666,
          0.1,
          0.10833333333333334,
          0.11666666666666667,
          0.125,
          0.13333333333333333,
          0.14166666666666666,
          0.15,
          0.15833333333333333,
          0.16666666666666666,
          0.175,
          0.18333333333333332,
          0.19166666666666665,
          0.2,
          0.20833333333333334,
          0.21666666666666667,
          0.225,
          0.23333333333333334,
          0.24166666666666667,
          0.25,
          0.2583333333333333,
          0.26666666666666666,
          0.275,
          0.2833333333333333,
          0.2916666666666667,
          0.3,
          0.30833333333333335,
          0.31666666666666665,
          0.325,
          0.3333333333333333
         ],
         "xaxis": "x5",
         "y": [
          null,
          null,
          null,
          null,
          null,
          null,
          null,
          null,
          null,
          null,
          null,
          null,
          null,
          null,
          null,
          null,
          null,
          null,
          null,
          null,
          null,
          null,
          null,
          null,
          null,
          null,
          -0.9733637021292882,
          -2.0194469783841815,
          -2.4255327631998362,
          -3.2388510638631907,
          -4.05369833923589,
          -4.870074589317932,
          -5.687979814109321,
          -6.507414013610051,
          -7.328377187820127,
          -8.15086933673955,
          -8.97489046036831,
          -9.800440558706423,
          -10.627519631753874,
          -11.456127679510672,
          -12.286264701976812
         ],
         "yaxis": "y5"
        },
        {
         "marker": {
          "color": "purple"
         },
         "mode": "lines",
         "type": "scatter",
         "x": [
          0,
          0.008333333333333333,
          0.016666666666666666,
          0.025,
          0.03333333333333333,
          0.041666666666666664,
          0.05,
          0.058333333333333334,
          0.06666666666666667,
          0.075,
          0.08333333333333333,
          0.09166666666666666,
          0.1,
          0.10833333333333334,
          0.11666666666666667,
          0.125,
          0.13333333333333333,
          0.14166666666666666,
          0.15,
          0.15833333333333333,
          0.16666666666666666,
          0.175,
          0.18333333333333332,
          0.19166666666666665,
          0.2,
          0.20833333333333334,
          0.21666666666666667,
          0.225,
          0.23333333333333334,
          0.24166666666666667,
          0.25,
          0.2583333333333333,
          0.26666666666666666,
          0.275,
          0.2833333333333333,
          0.2916666666666667,
          0.3,
          0.30833333333333335,
          0.31666666666666665,
          0.325,
          0.3333333333333333
         ],
         "xaxis": "x6",
         "y": [
          null,
          null,
          null,
          null,
          null,
          null,
          null,
          null,
          null,
          null,
          null,
          null,
          null,
          null,
          null,
          null,
          null,
          null,
          null,
          null,
          null,
          null,
          null,
          null,
          null,
          null,
          -4.716192918922578,
          -3.167645245392141,
          -2.527563113113482,
          -1.0453927043835036,
          0.7061192299101333,
          2.7269726897674325,
          5.017167675188391,
          7.576704186173,
          10.405582222721275,
          13.503801784833211,
          16.871362872508797,
          20.508265485748048,
          24.41450962455096,
          28.59009528891752,
          33.03502247884775
         ],
         "yaxis": "y6"
        },
        {
         "marker": {
          "color": "orange"
         },
         "mode": "lines",
         "type": "scatter",
         "x": [
          0,
          0.008333333333333333,
          0.016666666666666666,
          0.025,
          0.03333333333333333,
          0.041666666666666664,
          0.05,
          0.058333333333333334,
          0.06666666666666667,
          0.075,
          0.08333333333333333,
          0.09166666666666666,
          0.1,
          0.10833333333333334,
          0.11666666666666667,
          0.125,
          0.13333333333333333,
          0.14166666666666666,
          0.15,
          0.15833333333333333,
          0.16666666666666666,
          0.175,
          0.18333333333333332,
          0.19166666666666665,
          0.2,
          0.20833333333333334,
          0.21666666666666667,
          0.225,
          0.23333333333333334,
          0.24166666666666667,
          0.25,
          0.2583333333333333,
          0.26666666666666666,
          0.275,
          0.2833333333333333,
          0.2916666666666667,
          0.3,
          0.30833333333333335,
          0.31666666666666665,
          0.325,
          0.3333333333333333
         ],
         "xaxis": "x7",
         "y": [
          null,
          5.25881435227225,
          4.180223683023989,
          2.8008663543318053,
          1.2912903082227791,
          -0.20573672859534048,
          -1.6024806006514316,
          -2.8672410283805587,
          -4.012111264596348,
          -5.078873091832553,
          -6.12866890989941,
          -8.064729371839611,
          -10.078153402250537,
          -13.08379817099079,
          -14.390255315529043,
          -16.718931406948116,
          -19.44862330031626,
          -22.200927913188483,
          -23.720350979783692,
          -25.40592662282699,
          -26.56078415527294,
          -28.42249296609622,
          -28.57073571479609,
          -28.57708666748448,
          -28.25518297892307,
          -28.25145629947845,
          -28.078461966812903,
          -29.96763816481164,
          -32.515355895745664,
          -40.52660580235874,
          -51.81891515245608,
          -100.26132296294283,
          -69.52448276678307,
          -37.01932309441513,
          -25.951724510756534,
          -25.459039348314782,
          -33.77851929430653,
          -54.61800022913725,
          -76.77410505650356,
          -62.279892916811,
          -35.51907138611027
         ],
         "yaxis": "y7"
        },
        {
         "marker": {
          "color": "black"
         },
         "mode": "lines",
         "type": "scatter",
         "x": [
          0,
          0.008333333333333333,
          0.016666666666666666,
          0.025,
          0.03333333333333333,
          0.041666666666666664,
          0.05,
          0.058333333333333334,
          0.06666666666666667,
          0.075,
          0.08333333333333333,
          0.09166666666666666,
          0.1,
          0.10833333333333334,
          0.11666666666666667,
          0.125,
          0.13333333333333333,
          0.14166666666666666,
          0.15,
          0.15833333333333333,
          0.16666666666666666,
          0.175,
          0.18333333333333332,
          0.19166666666666665,
          0.2,
          0.20833333333333334,
          0.21666666666666667,
          0.225,
          0.23333333333333334,
          0.24166666666666667,
          0.25,
          0.2583333333333333,
          0.26666666666666666,
          0.275,
          0.2833333333333333,
          0.2916666666666667,
          0.3,
          0.30833333333333335,
          0.31666666666666665,
          0.325,
          0.3333333333333333
         ],
         "xaxis": "x8",
         "y": [
          null,
          null,
          null,
          null,
          null,
          null,
          null,
          null,
          null,
          null,
          null,
          null,
          null,
          -244.29101672105017,
          -221.28051021671362,
          -201.3499225831254,
          -155.01770059822118,
          -107.34208462758257,
          128.3564508335716,
          -198.53419267672078,
          -441.7923846741405,
          -471.41977308567397,
          -409.15693616896317,
          -293.9775305889559,
          -134.41235271450998,
          -19.420851092807936,
          -172.15067510926434,
          -339.5145508594497,
          -325.2763708647275,
          -290.3467591892643,
          -246.8128119324325,
          -194.67452909423207,
          -133.93191067466302,
          -64.58495667372537,
          13.3663329085809,
          99.92195807225579,
          195.0819188172993,
          298.84621514371145,
          411.21484705149214,
          532.1878145406419,
          661.7651176111598
         ],
         "yaxis": "y8"
        }
       ],
       "layout": {
        "annotations": [
         {
          "font": {
           "size": 16
          },
          "showarrow": false,
          "text": "Posición X / Tiempo",
          "x": 0.225,
          "xanchor": "center",
          "xref": "paper",
          "y": 1,
          "yanchor": "bottom",
          "yref": "paper"
         },
         {
          "font": {
           "size": 16
          },
          "showarrow": false,
          "text": "Posición Y / Tiempo",
          "x": 0.775,
          "xanchor": "center",
          "xref": "paper",
          "y": 1,
          "yanchor": "bottom",
          "yref": "paper"
         },
         {
          "font": {
           "size": 16
          },
          "showarrow": false,
          "text": "Velocidad X / Tiempo",
          "x": 0.225,
          "xanchor": "center",
          "xref": "paper",
          "y": 0.71875,
          "yanchor": "bottom",
          "yref": "paper"
         },
         {
          "font": {
           "size": 16
          },
          "showarrow": false,
          "text": "Velocidad Y / Tiempo",
          "x": 0.775,
          "xanchor": "center",
          "xref": "paper",
          "y": 0.71875,
          "yanchor": "bottom",
          "yref": "paper"
         },
         {
          "font": {
           "size": 16
          },
          "showarrow": false,
          "text": "Aceleración X / Tiempo",
          "x": 0.225,
          "xanchor": "center",
          "xref": "paper",
          "y": 0.4375,
          "yanchor": "bottom",
          "yref": "paper"
         },
         {
          "font": {
           "size": 16
          },
          "showarrow": false,
          "text": "Aceleración Y / Tiempo",
          "x": 0.775,
          "xanchor": "center",
          "xref": "paper",
          "y": 0.4375,
          "yanchor": "bottom",
          "yref": "paper"
         },
         {
          "font": {
           "size": 16
          },
          "showarrow": false,
          "text": "Velocidad Angular / Tiempo",
          "x": 0.225,
          "xanchor": "center",
          "xref": "paper",
          "y": 0.15625,
          "yanchor": "bottom",
          "yref": "paper"
         },
         {
          "font": {
           "size": 16
          },
          "showarrow": false,
          "text": "Aceleración Angular / Tiempo",
          "x": 0.775,
          "xanchor": "center",
          "xref": "paper",
          "y": 0.15625,
          "yanchor": "bottom",
          "yref": "paper"
         }
        ],
        "height": 1000,
        "showlegend": false,
        "template": {
         "data": {
          "bar": [
           {
            "error_x": {
             "color": "#2a3f5f"
            },
            "error_y": {
             "color": "#2a3f5f"
            },
            "marker": {
             "line": {
              "color": "#E5ECF6",
              "width": 0.5
             },
             "pattern": {
              "fillmode": "overlay",
              "size": 10,
              "solidity": 0.2
             }
            },
            "type": "bar"
           }
          ],
          "barpolar": [
           {
            "marker": {
             "line": {
              "color": "#E5ECF6",
              "width": 0.5
             },
             "pattern": {
              "fillmode": "overlay",
              "size": 10,
              "solidity": 0.2
             }
            },
            "type": "barpolar"
           }
          ],
          "carpet": [
           {
            "aaxis": {
             "endlinecolor": "#2a3f5f",
             "gridcolor": "white",
             "linecolor": "white",
             "minorgridcolor": "white",
             "startlinecolor": "#2a3f5f"
            },
            "baxis": {
             "endlinecolor": "#2a3f5f",
             "gridcolor": "white",
             "linecolor": "white",
             "minorgridcolor": "white",
             "startlinecolor": "#2a3f5f"
            },
            "type": "carpet"
           }
          ],
          "choropleth": [
           {
            "colorbar": {
             "outlinewidth": 0,
             "ticks": ""
            },
            "type": "choropleth"
           }
          ],
          "contour": [
           {
            "colorbar": {
             "outlinewidth": 0,
             "ticks": ""
            },
            "colorscale": [
             [
              0,
              "#0d0887"
             ],
             [
              0.1111111111111111,
              "#46039f"
             ],
             [
              0.2222222222222222,
              "#7201a8"
             ],
             [
              0.3333333333333333,
              "#9c179e"
             ],
             [
              0.4444444444444444,
              "#bd3786"
             ],
             [
              0.5555555555555556,
              "#d8576b"
             ],
             [
              0.6666666666666666,
              "#ed7953"
             ],
             [
              0.7777777777777778,
              "#fb9f3a"
             ],
             [
              0.8888888888888888,
              "#fdca26"
             ],
             [
              1,
              "#f0f921"
             ]
            ],
            "type": "contour"
           }
          ],
          "contourcarpet": [
           {
            "colorbar": {
             "outlinewidth": 0,
             "ticks": ""
            },
            "type": "contourcarpet"
           }
          ],
          "heatmap": [
           {
            "colorbar": {
             "outlinewidth": 0,
             "ticks": ""
            },
            "colorscale": [
             [
              0,
              "#0d0887"
             ],
             [
              0.1111111111111111,
              "#46039f"
             ],
             [
              0.2222222222222222,
              "#7201a8"
             ],
             [
              0.3333333333333333,
              "#9c179e"
             ],
             [
              0.4444444444444444,
              "#bd3786"
             ],
             [
              0.5555555555555556,
              "#d8576b"
             ],
             [
              0.6666666666666666,
              "#ed7953"
             ],
             [
              0.7777777777777778,
              "#fb9f3a"
             ],
             [
              0.8888888888888888,
              "#fdca26"
             ],
             [
              1,
              "#f0f921"
             ]
            ],
            "type": "heatmap"
           }
          ],
          "heatmapgl": [
           {
            "colorbar": {
             "outlinewidth": 0,
             "ticks": ""
            },
            "colorscale": [
             [
              0,
              "#0d0887"
             ],
             [
              0.1111111111111111,
              "#46039f"
             ],
             [
              0.2222222222222222,
              "#7201a8"
             ],
             [
              0.3333333333333333,
              "#9c179e"
             ],
             [
              0.4444444444444444,
              "#bd3786"
             ],
             [
              0.5555555555555556,
              "#d8576b"
             ],
             [
              0.6666666666666666,
              "#ed7953"
             ],
             [
              0.7777777777777778,
              "#fb9f3a"
             ],
             [
              0.8888888888888888,
              "#fdca26"
             ],
             [
              1,
              "#f0f921"
             ]
            ],
            "type": "heatmapgl"
           }
          ],
          "histogram": [
           {
            "marker": {
             "pattern": {
              "fillmode": "overlay",
              "size": 10,
              "solidity": 0.2
             }
            },
            "type": "histogram"
           }
          ],
          "histogram2d": [
           {
            "colorbar": {
             "outlinewidth": 0,
             "ticks": ""
            },
            "colorscale": [
             [
              0,
              "#0d0887"
             ],
             [
              0.1111111111111111,
              "#46039f"
             ],
             [
              0.2222222222222222,
              "#7201a8"
             ],
             [
              0.3333333333333333,
              "#9c179e"
             ],
             [
              0.4444444444444444,
              "#bd3786"
             ],
             [
              0.5555555555555556,
              "#d8576b"
             ],
             [
              0.6666666666666666,
              "#ed7953"
             ],
             [
              0.7777777777777778,
              "#fb9f3a"
             ],
             [
              0.8888888888888888,
              "#fdca26"
             ],
             [
              1,
              "#f0f921"
             ]
            ],
            "type": "histogram2d"
           }
          ],
          "histogram2dcontour": [
           {
            "colorbar": {
             "outlinewidth": 0,
             "ticks": ""
            },
            "colorscale": [
             [
              0,
              "#0d0887"
             ],
             [
              0.1111111111111111,
              "#46039f"
             ],
             [
              0.2222222222222222,
              "#7201a8"
             ],
             [
              0.3333333333333333,
              "#9c179e"
             ],
             [
              0.4444444444444444,
              "#bd3786"
             ],
             [
              0.5555555555555556,
              "#d8576b"
             ],
             [
              0.6666666666666666,
              "#ed7953"
             ],
             [
              0.7777777777777778,
              "#fb9f3a"
             ],
             [
              0.8888888888888888,
              "#fdca26"
             ],
             [
              1,
              "#f0f921"
             ]
            ],
            "type": "histogram2dcontour"
           }
          ],
          "mesh3d": [
           {
            "colorbar": {
             "outlinewidth": 0,
             "ticks": ""
            },
            "type": "mesh3d"
           }
          ],
          "parcoords": [
           {
            "line": {
             "colorbar": {
              "outlinewidth": 0,
              "ticks": ""
             }
            },
            "type": "parcoords"
           }
          ],
          "pie": [
           {
            "automargin": true,
            "type": "pie"
           }
          ],
          "scatter": [
           {
            "fillpattern": {
             "fillmode": "overlay",
             "size": 10,
             "solidity": 0.2
            },
            "type": "scatter"
           }
          ],
          "scatter3d": [
           {
            "line": {
             "colorbar": {
              "outlinewidth": 0,
              "ticks": ""
             }
            },
            "marker": {
             "colorbar": {
              "outlinewidth": 0,
              "ticks": ""
             }
            },
            "type": "scatter3d"
           }
          ],
          "scattercarpet": [
           {
            "marker": {
             "colorbar": {
              "outlinewidth": 0,
              "ticks": ""
             }
            },
            "type": "scattercarpet"
           }
          ],
          "scattergeo": [
           {
            "marker": {
             "colorbar": {
              "outlinewidth": 0,
              "ticks": ""
             }
            },
            "type": "scattergeo"
           }
          ],
          "scattergl": [
           {
            "marker": {
             "colorbar": {
              "outlinewidth": 0,
              "ticks": ""
             }
            },
            "type": "scattergl"
           }
          ],
          "scattermapbox": [
           {
            "marker": {
             "colorbar": {
              "outlinewidth": 0,
              "ticks": ""
             }
            },
            "type": "scattermapbox"
           }
          ],
          "scatterpolar": [
           {
            "marker": {
             "colorbar": {
              "outlinewidth": 0,
              "ticks": ""
             }
            },
            "type": "scatterpolar"
           }
          ],
          "scatterpolargl": [
           {
            "marker": {
             "colorbar": {
              "outlinewidth": 0,
              "ticks": ""
             }
            },
            "type": "scatterpolargl"
           }
          ],
          "scatterternary": [
           {
            "marker": {
             "colorbar": {
              "outlinewidth": 0,
              "ticks": ""
             }
            },
            "type": "scatterternary"
           }
          ],
          "surface": [
           {
            "colorbar": {
             "outlinewidth": 0,
             "ticks": ""
            },
            "colorscale": [
             [
              0,
              "#0d0887"
             ],
             [
              0.1111111111111111,
              "#46039f"
             ],
             [
              0.2222222222222222,
              "#7201a8"
             ],
             [
              0.3333333333333333,
              "#9c179e"
             ],
             [
              0.4444444444444444,
              "#bd3786"
             ],
             [
              0.5555555555555556,
              "#d8576b"
             ],
             [
              0.6666666666666666,
              "#ed7953"
             ],
             [
              0.7777777777777778,
              "#fb9f3a"
             ],
             [
              0.8888888888888888,
              "#fdca26"
             ],
             [
              1,
              "#f0f921"
             ]
            ],
            "type": "surface"
           }
          ],
          "table": [
           {
            "cells": {
             "fill": {
              "color": "#EBF0F8"
             },
             "line": {
              "color": "white"
             }
            },
            "header": {
             "fill": {
              "color": "#C8D4E3"
             },
             "line": {
              "color": "white"
             }
            },
            "type": "table"
           }
          ]
         },
         "layout": {
          "annotationdefaults": {
           "arrowcolor": "#2a3f5f",
           "arrowhead": 0,
           "arrowwidth": 1
          },
          "autotypenumbers": "strict",
          "coloraxis": {
           "colorbar": {
            "outlinewidth": 0,
            "ticks": ""
           }
          },
          "colorscale": {
           "diverging": [
            [
             0,
             "#8e0152"
            ],
            [
             0.1,
             "#c51b7d"
            ],
            [
             0.2,
             "#de77ae"
            ],
            [
             0.3,
             "#f1b6da"
            ],
            [
             0.4,
             "#fde0ef"
            ],
            [
             0.5,
             "#f7f7f7"
            ],
            [
             0.6,
             "#e6f5d0"
            ],
            [
             0.7,
             "#b8e186"
            ],
            [
             0.8,
             "#7fbc41"
            ],
            [
             0.9,
             "#4d9221"
            ],
            [
             1,
             "#276419"
            ]
           ],
           "sequential": [
            [
             0,
             "#0d0887"
            ],
            [
             0.1111111111111111,
             "#46039f"
            ],
            [
             0.2222222222222222,
             "#7201a8"
            ],
            [
             0.3333333333333333,
             "#9c179e"
            ],
            [
             0.4444444444444444,
             "#bd3786"
            ],
            [
             0.5555555555555556,
             "#d8576b"
            ],
            [
             0.6666666666666666,
             "#ed7953"
            ],
            [
             0.7777777777777778,
             "#fb9f3a"
            ],
            [
             0.8888888888888888,
             "#fdca26"
            ],
            [
             1,
             "#f0f921"
            ]
           ],
           "sequentialminus": [
            [
             0,
             "#0d0887"
            ],
            [
             0.1111111111111111,
             "#46039f"
            ],
            [
             0.2222222222222222,
             "#7201a8"
            ],
            [
             0.3333333333333333,
             "#9c179e"
            ],
            [
             0.4444444444444444,
             "#bd3786"
            ],
            [
             0.5555555555555556,
             "#d8576b"
            ],
            [
             0.6666666666666666,
             "#ed7953"
            ],
            [
             0.7777777777777778,
             "#fb9f3a"
            ],
            [
             0.8888888888888888,
             "#fdca26"
            ],
            [
             1,
             "#f0f921"
            ]
           ]
          },
          "colorway": [
           "#636efa",
           "#EF553B",
           "#00cc96",
           "#ab63fa",
           "#FFA15A",
           "#19d3f3",
           "#FF6692",
           "#B6E880",
           "#FF97FF",
           "#FECB52"
          ],
          "font": {
           "color": "#2a3f5f"
          },
          "geo": {
           "bgcolor": "white",
           "lakecolor": "white",
           "landcolor": "#E5ECF6",
           "showlakes": true,
           "showland": true,
           "subunitcolor": "white"
          },
          "hoverlabel": {
           "align": "left"
          },
          "hovermode": "closest",
          "mapbox": {
           "style": "light"
          },
          "paper_bgcolor": "white",
          "plot_bgcolor": "#E5ECF6",
          "polar": {
           "angularaxis": {
            "gridcolor": "white",
            "linecolor": "white",
            "ticks": ""
           },
           "bgcolor": "#E5ECF6",
           "radialaxis": {
            "gridcolor": "white",
            "linecolor": "white",
            "ticks": ""
           }
          },
          "scene": {
           "xaxis": {
            "backgroundcolor": "#E5ECF6",
            "gridcolor": "white",
            "gridwidth": 2,
            "linecolor": "white",
            "showbackground": true,
            "ticks": "",
            "zerolinecolor": "white"
           },
           "yaxis": {
            "backgroundcolor": "#E5ECF6",
            "gridcolor": "white",
            "gridwidth": 2,
            "linecolor": "white",
            "showbackground": true,
            "ticks": "",
            "zerolinecolor": "white"
           },
           "zaxis": {
            "backgroundcolor": "#E5ECF6",
            "gridcolor": "white",
            "gridwidth": 2,
            "linecolor": "white",
            "showbackground": true,
            "ticks": "",
            "zerolinecolor": "white"
           }
          },
          "shapedefaults": {
           "line": {
            "color": "#2a3f5f"
           }
          },
          "ternary": {
           "aaxis": {
            "gridcolor": "white",
            "linecolor": "white",
            "ticks": ""
           },
           "baxis": {
            "gridcolor": "white",
            "linecolor": "white",
            "ticks": ""
           },
           "bgcolor": "#E5ECF6",
           "caxis": {
            "gridcolor": "white",
            "linecolor": "white",
            "ticks": ""
           }
          },
          "title": {
           "x": 0.05
          },
          "xaxis": {
           "automargin": true,
           "gridcolor": "white",
           "linecolor": "white",
           "ticks": "",
           "title": {
            "standoff": 15
           },
           "zerolinecolor": "white",
           "zerolinewidth": 2
          },
          "yaxis": {
           "automargin": true,
           "gridcolor": "white",
           "linecolor": "white",
           "ticks": "",
           "title": {
            "standoff": 15
           },
           "zerolinecolor": "white",
           "zerolinewidth": 2
          }
         }
        },
        "title": {
         "text": "Análisis del movimiento relativo de ambos puntos"
        },
        "width": 1200,
        "xaxis": {
         "anchor": "y",
         "domain": [
          0,
          0.45
         ],
         "title": {
          "text": "Tiempo (s)"
         }
        },
        "xaxis2": {
         "anchor": "y2",
         "domain": [
          0.55,
          1
         ],
         "title": {
          "text": "Tiempo (s)"
         }
        },
        "xaxis3": {
         "anchor": "y3",
         "domain": [
          0,
          0.45
         ],
         "title": {
          "text": "Tiempo (s)"
         }
        },
        "xaxis4": {
         "anchor": "y4",
         "domain": [
          0.55,
          1
         ],
         "title": {
          "text": "Tiempo (s)"
         }
        },
        "xaxis5": {
         "anchor": "y5",
         "domain": [
          0,
          0.45
         ],
         "title": {
          "text": "Tiempo (s)"
         }
        },
        "xaxis6": {
         "anchor": "y6",
         "domain": [
          0.55,
          1
         ],
         "title": {
          "text": "Tiempo (s)"
         }
        },
        "xaxis7": {
         "anchor": "y7",
         "domain": [
          0,
          0.45
         ],
         "title": {
          "text": "Tiempo (s)"
         }
        },
        "xaxis8": {
         "anchor": "y8",
         "domain": [
          0.55,
          1
         ],
         "title": {
          "text": "Tiempo (s)"
         }
        },
        "yaxis": {
         "anchor": "x",
         "domain": [
          0.84375,
          1
         ],
         "title": {
          "text": "Posición X (m)"
         }
        },
        "yaxis2": {
         "anchor": "x2",
         "domain": [
          0.84375,
          1
         ],
         "title": {
          "text": "Posición Y (m)"
         }
        },
        "yaxis3": {
         "anchor": "x3",
         "domain": [
          0.5625,
          0.71875
         ],
         "title": {
          "text": "Velocidad X (m/s)"
         }
        },
        "yaxis4": {
         "anchor": "x4",
         "domain": [
          0.5625,
          0.71875
         ],
         "title": {
          "text": "Velocidad Y (m/s)"
         }
        },
        "yaxis5": {
         "anchor": "x5",
         "domain": [
          0.28125,
          0.4375
         ],
         "title": {
          "text": "Aceleración X (m/s^2)"
         }
        },
        "yaxis6": {
         "anchor": "x6",
         "domain": [
          0.28125,
          0.4375
         ],
         "title": {
          "text": "Aceleración Y (m/s^2)"
         }
        },
        "yaxis7": {
         "anchor": "x7",
         "domain": [
          0,
          0.15625
         ],
         "title": {
          "text": "Velocidad Angular (rad/s)"
         }
        },
        "yaxis8": {
         "anchor": "x8",
         "domain": [
          0,
          0.15625
         ],
         "title": {
          "text": "Aceleración Angular (rad/s)"
         }
        }
       }
      }
     },
     "metadata": {},
     "output_type": "display_data"
    }
   ],
   "source": [
    "# Elegir dataframe a graficar\n",
    "dfG = dfRelativoBordeCentro\n",
    "dfG_speed = dfRelativoBordeCentro_speed\n",
    "dfG_acceleration = dfRelativoBordeCentro_acceleration\n",
    "\n",
    "# Crear figura y ejes\n",
    "# 3 filas, 2 columnas\n",
    "fig = make_subplots(rows=4, cols=2, subplot_titles=(\"Posición X / Tiempo\", \"Posición Y / Tiempo\",\n",
    "                                                    \"Velocidad X / Tiempo\", \"Velocidad Y / Tiempo\",\n",
    "                                                    \"Aceleración X / Tiempo\", \"Aceleración Y / Tiempo\",\n",
    "                                                    \"Velocidad Angular / Tiempo\", \"Aceleración Angular / Tiempo\"))\n",
    "\n",
    "# Grafica la posición X en funcion del tiempo\n",
    "fig.update_yaxes(title_text=\"Posición X (m)\", row=1, col=1)\n",
    "fig.update_xaxes(title_text=\"Tiempo (s)\", row=1, col=1)\n",
    "fig.add_trace(go.Scatter(x=dfG['Time (sec)'], y=dfG['Relative_Position_X'], mode='lines', marker=dict(color='green')), row=1, col=1)\n",
    "\n",
    "# Grafica la posición Y / tiempo\n",
    "fig.update_yaxes(title_text=\"Posición Y (m)\", row=1, col=2)\n",
    "fig.update_xaxes(title_text=\"Tiempo (s)\", row=1, col=2)\n",
    "fig.add_trace(go.Scatter(x=dfG['Time (sec)'], y=dfG['Relative_Position_Y'], mode='lines', marker=dict(color='magenta')), row=1, col=2)\n",
    "\n",
    "# Grafica la velocidad X / tiempo\n",
    "fig.update_yaxes(title_text=\"Velocidad X (m/s)\", row=2, col=1)\n",
    "fig.update_xaxes(title_text=\"Tiempo (s)\", row=2, col=1)\n",
    "fig.add_trace(go.Scatter(x=dfG_speed['Time (sec)'], y=dfG_speed['Relative_Speed_X'], mode='lines', marker=dict(color='blue')), row=2, col=1)\n",
    "\n",
    "# Grafica la velocidad Y / tiempo\n",
    "fig.update_yaxes(title_text=\"Velocidad Y (m/s)\", row=2, col=2)\n",
    "fig.update_xaxes(title_text=\"Tiempo (s)\", row=2, col=2)\n",
    "fig.add_trace(go.Scatter(x=dfG_speed['Time (sec)'], y=dfG_speed['Relative_Speed_Y'], mode='lines', marker=dict(color='red')), row=2, col=2)\n",
    "\n",
    "# Grafica la aceleración X / tiempo\n",
    "fig.update_yaxes(title_text=\"Aceleración X (m/s^2)\", row=3, col=1)\n",
    "fig.update_xaxes(title_text=\"Tiempo (s)\", row=3, col=1)\n",
    "fig.add_trace(go.Scatter(x=dfG_acceleration['Time (sec)'], y=dfG_acceleration['Relative_Acceleration_X'], mode='lines', marker=dict(color='green')), row=3, col=1)\n",
    "\n",
    "# Grafica la aceleración Y / tiempo\n",
    "fig.update_yaxes(title_text=\"Aceleración Y (m/s^2)\", row=3, col=2)\n",
    "fig.update_xaxes(title_text=\"Tiempo (s)\", row=3, col=2)\n",
    "fig.add_trace(go.Scatter(x=dfG_acceleration['Time (sec)'], y=dfG_acceleration['Relative_Acceleration_Y'], mode='lines', marker=dict(color='purple')), row=3, col=2)\n",
    "\n",
    "# Grafica la velocidad angular\n",
    "fig.update_yaxes(title_text=\"Velocidad Angular (rad/s)\", row=4, col=1)\n",
    "fig.update_xaxes(title_text=\"Tiempo (s)\", row=4, col=1)\n",
    "fig.add_trace(go.Scatter(x=dfG['Time (sec)'], y=dfG['Relative_Angular_Velocity'], mode='lines', marker=dict(color='orange')), row=4, col=1)\n",
    "\n",
    "#Grafica la aceleración angular\n",
    "fig.update_yaxes(title_text=\"Aceleración Angular (rad/s)\", row=4, col=2)\n",
    "fig.update_xaxes(title_text=\"Tiempo (s)\", row=4, col=2)\n",
    "fig.add_trace(go.Scatter(x=dfG['Time (sec)'], y=dfG['Relative_Angular_Acceleration'], mode='lines', marker=dict(color='black')), row=4, col=2)\n",
    "\n",
    "# Actualizar los títulos y ajustar el diseño\n",
    "fig.update_layout(height=1000, width=1200, title_text=\"Análisis del movimiento relativo de ambos puntos\", showlegend=False)\n",
    "\n",
    "# Mostrar los gráficos\n",
    "fig.show() # Si hay error acá, revisar el renderer"
   ]
  },
  {
   "cell_type": "markdown",
   "metadata": {
    "id": "lt5wKqKEo51u"
   },
   "source": [
    "# Análisis de la Dinámica"
   ]
  },
  {
   "cell_type": "code",
   "execution_count": 148,
   "metadata": {
    "colab": {
     "base_uri": "https://localhost:8080/"
    },
    "executionInfo": {
     "elapsed": 17,
     "status": "ok",
     "timestamp": 1731742418163,
     "user": {
      "displayName": "Tomas Rueda",
      "userId": "17662183962868927666"
     },
     "user_tz": 180
    },
    "id": "TUtBz8uuo51u",
    "outputId": "45bdfe8c-b357-4d18-cc9e-725226f95458"
   },
   "outputs": [
    {
     "name": "stdout",
     "output_type": "stream",
     "text": [
      "       hilo  time (sec)\n",
      "0  0.001288         0.0\n",
      "        hilo  time (sec)\n",
      "40  0.131715    0.333333\n"
     ]
    }
   ],
   "source": [
    "\n",
    "#Distancia del borde inferior al punto del que se agarra el hilo\n",
    "distancia_inf = 1700\n",
    "\n",
    "#Distancia del borde superior al centro de masa del yoyo en el punto inicial\n",
    "distancia_sup = 351\n",
    "\n",
    "#Calcular largo del hilo en función del tiempo\n",
    "df_largo = pd.DataFrame()\n",
    "df_largo['hilo'] = (distancia_inf * const_XY) - dfCentro['Y']\n",
    "df_largo['time (sec)'] = dfCentro['Time (sec)']\n",
    "\n",
    "largoDf =len(dfCentro) - 1\n",
    "\n",
    "# Mostrar la primera y última fila del DataFrame\n",
    "primer_valor = df_largo.head(1)\n",
    "ultimo_valor = df_largo.tail(1)\n",
    "\n",
    "# Visualizar\n",
    "print( primer_valor)\n",
    "print( ultimo_valor)\n"
   ]
  },
  {
   "cell_type": "code",
   "execution_count": 149,
   "metadata": {
    "colab": {
     "base_uri": "https://localhost:8080/"
    },
    "executionInfo": {
     "elapsed": 15,
     "status": "ok",
     "timestamp": 1731742418163,
     "user": {
      "displayName": "Tomas Rueda",
      "userId": "17662183962868927666"
     },
     "user_tz": 180
    },
    "id": "kPSgY-j52tFk",
    "outputId": "a35d5c3d-4f79-41e5-9b5b-ffe7ddcf1dde"
   },
   "outputs": [
    {
     "name": "stdout",
     "output_type": "stream",
     "text": [
      "        masa  tiempo (sec)\n",
      "0   0.022349      0.000000\n",
      "1   0.022349      0.008333\n",
      "2   0.022349      0.016667\n",
      "3   0.022349      0.025000\n",
      "4   0.022349      0.033333\n",
      "5   0.022349      0.041667\n",
      "6   0.022349      0.050000\n",
      "7   0.022349      0.058333\n",
      "8   0.022348      0.066667\n",
      "9   0.022348      0.075000\n",
      "10  0.022348      0.083333\n",
      "11  0.022347      0.091667\n",
      "12  0.022346      0.100000\n",
      "13  0.022345      0.108333\n",
      "14  0.022344      0.116667\n",
      "15  0.022343      0.125000\n",
      "16  0.022341      0.133333\n",
      "17  0.022339      0.141667\n",
      "18  0.022337      0.150000\n",
      "19  0.022335      0.158333\n",
      "20  0.022333      0.166667\n",
      "21  0.022331      0.175000\n",
      "22  0.022328      0.183333\n",
      "23  0.022325      0.191667\n",
      "24  0.022322      0.200000\n",
      "25  0.022320      0.208333\n",
      "26  0.022316      0.216667\n",
      "27  0.022313      0.225000\n",
      "28  0.022310      0.233333\n",
      "29  0.022307      0.241667\n",
      "30  0.022303      0.250000\n",
      "31  0.022300      0.258333\n",
      "32  0.022296      0.266667\n",
      "33  0.022292      0.275000\n",
      "34  0.022288      0.283333\n",
      "35  0.022284      0.291667\n",
      "36  0.022280      0.300000\n",
      "37  0.022275      0.308333\n",
      "38  0.022271      0.316667\n",
      "39  0.022266      0.325000\n",
      "40  0.022261      0.333333\n"
     ]
    }
   ],
   "source": [
    "#Función para hallar la masa en cada momento:\n",
    "masa_inicial_yoyo = 0.02235  # kg (cuerpo + hilo)\n",
    "largoHilo = 0.96   #//(metros)\n",
    "masaHilo = 0.00065 #//(kg)\n",
    "densidad_hilo = masaHilo / largoHilo\n",
    "df_masa = pd.DataFrame()\n",
    "\n",
    "df_masa['masa'] = (masa_inicial_yoyo - (densidad_hilo * df_largo['hilo']))\n",
    "df_masa['tiempo (sec)'] = df_largo['time (sec)']\n",
    "print(df_masa)\n"
   ]
  },
  {
   "cell_type": "code",
   "execution_count": 150,
   "metadata": {
    "colab": {
     "base_uri": "https://localhost:8080/",
     "height": 767
    },
    "executionInfo": {
     "elapsed": 11,
     "status": "ok",
     "timestamp": 1731742418163,
     "user": {
      "displayName": "Tomas Rueda",
      "userId": "17662183962868927666"
     },
     "user_tz": 180
    },
    "id": "nqqpcXuVo51v",
    "outputId": "62cd5027-d785-4da7-ad5e-fe67d83cb2a5"
   },
   "outputs": [
    {
     "data": {
      "application/vnd.plotly.v1+json": {
       "config": {
        "plotlyServerURL": "https://plot.ly"
       },
       "data": [
        {
         "marker": {
          "color": "red"
         },
         "mode": "lines",
         "name": "tension",
         "type": "scatter",
         "x": [
          0,
          0.008333333333333333,
          0.016666666666666666,
          0.025,
          0.03333333333333333,
          0.041666666666666664,
          0.05,
          0.058333333333333334,
          0.06666666666666667,
          0.075,
          0.08333333333333333,
          0.09166666666666666,
          0.1,
          0.10833333333333334,
          0.11666666666666667,
          0.125,
          0.13333333333333333,
          0.14166666666666666,
          0.15,
          0.15833333333333333,
          0.16666666666666666,
          0.175,
          0.18333333333333332,
          0.19166666666666665,
          0.2,
          0.20833333333333334,
          0.21666666666666667,
          0.225,
          0.23333333333333334,
          0.24166666666666667,
          0.25,
          0.2583333333333333,
          0.26666666666666666,
          0.275,
          0.2833333333333333,
          0.2916666666666667,
          0.3,
          0.30833333333333335,
          0.31666666666666665,
          0.325,
          0.3333333333333333
         ],
         "y": [
          null,
          null,
          null,
          null,
          null,
          null,
          null,
          0.1427661047850723,
          -0.10506122497493817,
          -0.36383632429283963,
          -0.6335548127524087,
          -0.9277051168830425,
          -1.2417157484939443,
          -1.5724824554464285,
          -1.9139360067438471,
          -2.261009676258999,
          -2.5994935118947846,
          -2.9183793073710094,
          -3.214464615165518,
          -3.462596473091112,
          -3.6539228215496666,
          -3.782879822172453,
          -3.843500782275643,
          -3.844937632194536,
          -3.7924647709546937,
          -3.6739210403226865,
          -3.5177928095982485,
          -3.3387133322179965,
          -3.1542730767232667,
          -2.9785046905152854,
          -2.820543089345978,
          -2.6782000810644977,
          -2.5711965717813614,
          -2.5051573239316376,
          -2.4818387063540377,
          -2.499690667896458,
          -2.560130082336641,
          -2.6634767429186486,
          -2.822026422966341,
          -3.022391686298391,
          -3.2645390868448096
         ]
        },
        {
         "mode": "lines",
         "name": "peso",
         "type": "scatter",
         "x": [
          0,
          0.008333333333333333,
          0.016666666666666666,
          0.025,
          0.03333333333333333,
          0.041666666666666664,
          0.05,
          0.058333333333333334,
          0.06666666666666667,
          0.075,
          0.08333333333333333,
          0.09166666666666666,
          0.1,
          0.10833333333333334,
          0.11666666666666667,
          0.125,
          0.13333333333333333,
          0.14166666666666666,
          0.15,
          0.15833333333333333,
          0.16666666666666666,
          0.175,
          0.18333333333333332,
          0.19166666666666665,
          0.2,
          0.20833333333333334,
          0.21666666666666667,
          0.225,
          0.23333333333333334,
          0.24166666666666667,
          0.25,
          0.2583333333333333,
          0.26666666666666666,
          0.275,
          0.2833333333333333,
          0.2916666666666667,
          0.3,
          0.30833333333333335,
          0.31666666666666665,
          0.325,
          0.3333333333333333
         ],
         "y": [
          0.2055767050004262,
          0.20557553921018196,
          0.2055747998120923,
          0.20557430001935803,
          0.20557385304517992,
          0.20557327210275875,
          0.20557237040529533,
          0.2055709611659905,
          0.20556885759804494,
          0.20556587291465953,
          0.20556182032903497,
          0.20555589070728678,
          0.20554851471715174,
          0.20553922082299017,
          0.20552835351456997,
          0.20551600563310507,
          0.2055018216944734,
          0.2054857406189289,
          0.20546799573110155,
          0.205448918083215,
          0.2054282743506393,
          0.20540613782906972,
          0.20538267954179523,
          0.20535783107950029,
          0.20533140065178224,
          0.2053047674393072,
          0.20527651439196645,
          0.2052478753206306,
          0.2052182186607253,
          0.205187753304982,
          0.20515632044606105,
          0.20512354616486245,
          0.20508951826814828,
          0.20505417197436976,
          0.205017442501978,
          0.20497926506942424,
          0.20493957489515954,
          0.20489830719763505,
          0.20485539719530188,
          0.20481078010661125,
          0.20476439115001424
         ]
        }
       ],
       "layout": {
        "template": {
         "data": {
          "bar": [
           {
            "error_x": {
             "color": "#2a3f5f"
            },
            "error_y": {
             "color": "#2a3f5f"
            },
            "marker": {
             "line": {
              "color": "#E5ECF6",
              "width": 0.5
             },
             "pattern": {
              "fillmode": "overlay",
              "size": 10,
              "solidity": 0.2
             }
            },
            "type": "bar"
           }
          ],
          "barpolar": [
           {
            "marker": {
             "line": {
              "color": "#E5ECF6",
              "width": 0.5
             },
             "pattern": {
              "fillmode": "overlay",
              "size": 10,
              "solidity": 0.2
             }
            },
            "type": "barpolar"
           }
          ],
          "carpet": [
           {
            "aaxis": {
             "endlinecolor": "#2a3f5f",
             "gridcolor": "white",
             "linecolor": "white",
             "minorgridcolor": "white",
             "startlinecolor": "#2a3f5f"
            },
            "baxis": {
             "endlinecolor": "#2a3f5f",
             "gridcolor": "white",
             "linecolor": "white",
             "minorgridcolor": "white",
             "startlinecolor": "#2a3f5f"
            },
            "type": "carpet"
           }
          ],
          "choropleth": [
           {
            "colorbar": {
             "outlinewidth": 0,
             "ticks": ""
            },
            "type": "choropleth"
           }
          ],
          "contour": [
           {
            "colorbar": {
             "outlinewidth": 0,
             "ticks": ""
            },
            "colorscale": [
             [
              0,
              "#0d0887"
             ],
             [
              0.1111111111111111,
              "#46039f"
             ],
             [
              0.2222222222222222,
              "#7201a8"
             ],
             [
              0.3333333333333333,
              "#9c179e"
             ],
             [
              0.4444444444444444,
              "#bd3786"
             ],
             [
              0.5555555555555556,
              "#d8576b"
             ],
             [
              0.6666666666666666,
              "#ed7953"
             ],
             [
              0.7777777777777778,
              "#fb9f3a"
             ],
             [
              0.8888888888888888,
              "#fdca26"
             ],
             [
              1,
              "#f0f921"
             ]
            ],
            "type": "contour"
           }
          ],
          "contourcarpet": [
           {
            "colorbar": {
             "outlinewidth": 0,
             "ticks": ""
            },
            "type": "contourcarpet"
           }
          ],
          "heatmap": [
           {
            "colorbar": {
             "outlinewidth": 0,
             "ticks": ""
            },
            "colorscale": [
             [
              0,
              "#0d0887"
             ],
             [
              0.1111111111111111,
              "#46039f"
             ],
             [
              0.2222222222222222,
              "#7201a8"
             ],
             [
              0.3333333333333333,
              "#9c179e"
             ],
             [
              0.4444444444444444,
              "#bd3786"
             ],
             [
              0.5555555555555556,
              "#d8576b"
             ],
             [
              0.6666666666666666,
              "#ed7953"
             ],
             [
              0.7777777777777778,
              "#fb9f3a"
             ],
             [
              0.8888888888888888,
              "#fdca26"
             ],
             [
              1,
              "#f0f921"
             ]
            ],
            "type": "heatmap"
           }
          ],
          "heatmapgl": [
           {
            "colorbar": {
             "outlinewidth": 0,
             "ticks": ""
            },
            "colorscale": [
             [
              0,
              "#0d0887"
             ],
             [
              0.1111111111111111,
              "#46039f"
             ],
             [
              0.2222222222222222,
              "#7201a8"
             ],
             [
              0.3333333333333333,
              "#9c179e"
             ],
             [
              0.4444444444444444,
              "#bd3786"
             ],
             [
              0.5555555555555556,
              "#d8576b"
             ],
             [
              0.6666666666666666,
              "#ed7953"
             ],
             [
              0.7777777777777778,
              "#fb9f3a"
             ],
             [
              0.8888888888888888,
              "#fdca26"
             ],
             [
              1,
              "#f0f921"
             ]
            ],
            "type": "heatmapgl"
           }
          ],
          "histogram": [
           {
            "marker": {
             "pattern": {
              "fillmode": "overlay",
              "size": 10,
              "solidity": 0.2
             }
            },
            "type": "histogram"
           }
          ],
          "histogram2d": [
           {
            "colorbar": {
             "outlinewidth": 0,
             "ticks": ""
            },
            "colorscale": [
             [
              0,
              "#0d0887"
             ],
             [
              0.1111111111111111,
              "#46039f"
             ],
             [
              0.2222222222222222,
              "#7201a8"
             ],
             [
              0.3333333333333333,
              "#9c179e"
             ],
             [
              0.4444444444444444,
              "#bd3786"
             ],
             [
              0.5555555555555556,
              "#d8576b"
             ],
             [
              0.6666666666666666,
              "#ed7953"
             ],
             [
              0.7777777777777778,
              "#fb9f3a"
             ],
             [
              0.8888888888888888,
              "#fdca26"
             ],
             [
              1,
              "#f0f921"
             ]
            ],
            "type": "histogram2d"
           }
          ],
          "histogram2dcontour": [
           {
            "colorbar": {
             "outlinewidth": 0,
             "ticks": ""
            },
            "colorscale": [
             [
              0,
              "#0d0887"
             ],
             [
              0.1111111111111111,
              "#46039f"
             ],
             [
              0.2222222222222222,
              "#7201a8"
             ],
             [
              0.3333333333333333,
              "#9c179e"
             ],
             [
              0.4444444444444444,
              "#bd3786"
             ],
             [
              0.5555555555555556,
              "#d8576b"
             ],
             [
              0.6666666666666666,
              "#ed7953"
             ],
             [
              0.7777777777777778,
              "#fb9f3a"
             ],
             [
              0.8888888888888888,
              "#fdca26"
             ],
             [
              1,
              "#f0f921"
             ]
            ],
            "type": "histogram2dcontour"
           }
          ],
          "mesh3d": [
           {
            "colorbar": {
             "outlinewidth": 0,
             "ticks": ""
            },
            "type": "mesh3d"
           }
          ],
          "parcoords": [
           {
            "line": {
             "colorbar": {
              "outlinewidth": 0,
              "ticks": ""
             }
            },
            "type": "parcoords"
           }
          ],
          "pie": [
           {
            "automargin": true,
            "type": "pie"
           }
          ],
          "scatter": [
           {
            "fillpattern": {
             "fillmode": "overlay",
             "size": 10,
             "solidity": 0.2
            },
            "type": "scatter"
           }
          ],
          "scatter3d": [
           {
            "line": {
             "colorbar": {
              "outlinewidth": 0,
              "ticks": ""
             }
            },
            "marker": {
             "colorbar": {
              "outlinewidth": 0,
              "ticks": ""
             }
            },
            "type": "scatter3d"
           }
          ],
          "scattercarpet": [
           {
            "marker": {
             "colorbar": {
              "outlinewidth": 0,
              "ticks": ""
             }
            },
            "type": "scattercarpet"
           }
          ],
          "scattergeo": [
           {
            "marker": {
             "colorbar": {
              "outlinewidth": 0,
              "ticks": ""
             }
            },
            "type": "scattergeo"
           }
          ],
          "scattergl": [
           {
            "marker": {
             "colorbar": {
              "outlinewidth": 0,
              "ticks": ""
             }
            },
            "type": "scattergl"
           }
          ],
          "scattermapbox": [
           {
            "marker": {
             "colorbar": {
              "outlinewidth": 0,
              "ticks": ""
             }
            },
            "type": "scattermapbox"
           }
          ],
          "scatterpolar": [
           {
            "marker": {
             "colorbar": {
              "outlinewidth": 0,
              "ticks": ""
             }
            },
            "type": "scatterpolar"
           }
          ],
          "scatterpolargl": [
           {
            "marker": {
             "colorbar": {
              "outlinewidth": 0,
              "ticks": ""
             }
            },
            "type": "scatterpolargl"
           }
          ],
          "scatterternary": [
           {
            "marker": {
             "colorbar": {
              "outlinewidth": 0,
              "ticks": ""
             }
            },
            "type": "scatterternary"
           }
          ],
          "surface": [
           {
            "colorbar": {
             "outlinewidth": 0,
             "ticks": ""
            },
            "colorscale": [
             [
              0,
              "#0d0887"
             ],
             [
              0.1111111111111111,
              "#46039f"
             ],
             [
              0.2222222222222222,
              "#7201a8"
             ],
             [
              0.3333333333333333,
              "#9c179e"
             ],
             [
              0.4444444444444444,
              "#bd3786"
             ],
             [
              0.5555555555555556,
              "#d8576b"
             ],
             [
              0.6666666666666666,
              "#ed7953"
             ],
             [
              0.7777777777777778,
              "#fb9f3a"
             ],
             [
              0.8888888888888888,
              "#fdca26"
             ],
             [
              1,
              "#f0f921"
             ]
            ],
            "type": "surface"
           }
          ],
          "table": [
           {
            "cells": {
             "fill": {
              "color": "#EBF0F8"
             },
             "line": {
              "color": "white"
             }
            },
            "header": {
             "fill": {
              "color": "#C8D4E3"
             },
             "line": {
              "color": "white"
             }
            },
            "type": "table"
           }
          ]
         },
         "layout": {
          "annotationdefaults": {
           "arrowcolor": "#2a3f5f",
           "arrowhead": 0,
           "arrowwidth": 1
          },
          "autotypenumbers": "strict",
          "coloraxis": {
           "colorbar": {
            "outlinewidth": 0,
            "ticks": ""
           }
          },
          "colorscale": {
           "diverging": [
            [
             0,
             "#8e0152"
            ],
            [
             0.1,
             "#c51b7d"
            ],
            [
             0.2,
             "#de77ae"
            ],
            [
             0.3,
             "#f1b6da"
            ],
            [
             0.4,
             "#fde0ef"
            ],
            [
             0.5,
             "#f7f7f7"
            ],
            [
             0.6,
             "#e6f5d0"
            ],
            [
             0.7,
             "#b8e186"
            ],
            [
             0.8,
             "#7fbc41"
            ],
            [
             0.9,
             "#4d9221"
            ],
            [
             1,
             "#276419"
            ]
           ],
           "sequential": [
            [
             0,
             "#0d0887"
            ],
            [
             0.1111111111111111,
             "#46039f"
            ],
            [
             0.2222222222222222,
             "#7201a8"
            ],
            [
             0.3333333333333333,
             "#9c179e"
            ],
            [
             0.4444444444444444,
             "#bd3786"
            ],
            [
             0.5555555555555556,
             "#d8576b"
            ],
            [
             0.6666666666666666,
             "#ed7953"
            ],
            [
             0.7777777777777778,
             "#fb9f3a"
            ],
            [
             0.8888888888888888,
             "#fdca26"
            ],
            [
             1,
             "#f0f921"
            ]
           ],
           "sequentialminus": [
            [
             0,
             "#0d0887"
            ],
            [
             0.1111111111111111,
             "#46039f"
            ],
            [
             0.2222222222222222,
             "#7201a8"
            ],
            [
             0.3333333333333333,
             "#9c179e"
            ],
            [
             0.4444444444444444,
             "#bd3786"
            ],
            [
             0.5555555555555556,
             "#d8576b"
            ],
            [
             0.6666666666666666,
             "#ed7953"
            ],
            [
             0.7777777777777778,
             "#fb9f3a"
            ],
            [
             0.8888888888888888,
             "#fdca26"
            ],
            [
             1,
             "#f0f921"
            ]
           ]
          },
          "colorway": [
           "#636efa",
           "#EF553B",
           "#00cc96",
           "#ab63fa",
           "#FFA15A",
           "#19d3f3",
           "#FF6692",
           "#B6E880",
           "#FF97FF",
           "#FECB52"
          ],
          "font": {
           "color": "#2a3f5f"
          },
          "geo": {
           "bgcolor": "white",
           "lakecolor": "white",
           "landcolor": "#E5ECF6",
           "showlakes": true,
           "showland": true,
           "subunitcolor": "white"
          },
          "hoverlabel": {
           "align": "left"
          },
          "hovermode": "closest",
          "mapbox": {
           "style": "light"
          },
          "paper_bgcolor": "white",
          "plot_bgcolor": "#E5ECF6",
          "polar": {
           "angularaxis": {
            "gridcolor": "white",
            "linecolor": "white",
            "ticks": ""
           },
           "bgcolor": "#E5ECF6",
           "radialaxis": {
            "gridcolor": "white",
            "linecolor": "white",
            "ticks": ""
           }
          },
          "scene": {
           "xaxis": {
            "backgroundcolor": "#E5ECF6",
            "gridcolor": "white",
            "gridwidth": 2,
            "linecolor": "white",
            "showbackground": true,
            "ticks": "",
            "zerolinecolor": "white"
           },
           "yaxis": {
            "backgroundcolor": "#E5ECF6",
            "gridcolor": "white",
            "gridwidth": 2,
            "linecolor": "white",
            "showbackground": true,
            "ticks": "",
            "zerolinecolor": "white"
           },
           "zaxis": {
            "backgroundcolor": "#E5ECF6",
            "gridcolor": "white",
            "gridwidth": 2,
            "linecolor": "white",
            "showbackground": true,
            "ticks": "",
            "zerolinecolor": "white"
           }
          },
          "shapedefaults": {
           "line": {
            "color": "#2a3f5f"
           }
          },
          "ternary": {
           "aaxis": {
            "gridcolor": "white",
            "linecolor": "white",
            "ticks": ""
           },
           "baxis": {
            "gridcolor": "white",
            "linecolor": "white",
            "ticks": ""
           },
           "bgcolor": "#E5ECF6",
           "caxis": {
            "gridcolor": "white",
            "linecolor": "white",
            "ticks": ""
           }
          },
          "title": {
           "x": 0.05
          },
          "xaxis": {
           "automargin": true,
           "gridcolor": "white",
           "linecolor": "white",
           "ticks": "",
           "title": {
            "standoff": 15
           },
           "zerolinecolor": "white",
           "zerolinewidth": 2
          },
          "yaxis": {
           "automargin": true,
           "gridcolor": "white",
           "linecolor": "white",
           "ticks": "",
           "title": {
            "standoff": 15
           },
           "zerolinecolor": "white",
           "zerolinewidth": 2
          }
         }
        },
        "title": {
         "text": "Tension Vs Peso"
        },
        "xaxis": {
         "title": {
          "text": "Tiempo (sec)"
         }
        },
        "yaxis": {
         "title": {
          "text": "(N)"
         }
        }
       }
      }
     },
     "metadata": {},
     "output_type": "display_data"
    }
   ],
   "source": [
    "import plotly.graph_objects as go\n",
    "#Calcular la de tensión\n",
    "df_tension = pd.DataFrame()\n",
    "g = 9.19842182 #Obtenido del ajuste de curvas del analisis de CL\n",
    "df_tension['tension'] = df_masa['masa'] * (g + dfCentro_acceleration['Acceleration_Y'])\n",
    "df_tension['time (sec)'] = df_largo['time (sec)']\n",
    "\n",
    "df_tension['peso'] = g * df_masa['masa']\n",
    "\n",
    "#Elegir dataframe\n",
    "fig = go.Figure()\n",
    "fig.add_trace(go.Scatter(x=df_tension['time (sec)'], y=df_tension['tension'], mode='lines', marker=dict(color='red'), name='tension'))\n",
    "fig.add_trace(go.Scatter(x=df_tension['time (sec)'], y=df_tension['peso'],mode='lines', name='peso'))\n",
    "\n",
    "fig.update_layout(title='Tension Vs Peso',xaxis_title='Tiempo (sec)',yaxis_title='(N)')\n",
    "\n",
    "fig.show()"
   ]
  },
  {
   "cell_type": "markdown",
   "metadata": {
    "id": "l8LyhtDvqWvh"
   },
   "source": [
    "# Energia"
   ]
  },
  {
   "cell_type": "code",
   "execution_count": 151,
   "metadata": {
    "executionInfo": {
     "elapsed": 381,
     "status": "ok",
     "timestamp": 1731748846451,
     "user": {
      "displayName": "Tomas Rueda",
      "userId": "17662183962868927666"
     },
     "user_tz": 180
    },
    "id": "E5y-AJEGqanH"
   },
   "outputs": [
    {
     "ename": "IndexError",
     "evalue": "pop from empty list",
     "output_type": "error",
     "traceback": [
      "\u001b[1;31m---------------------------------------------------------------------------\u001b[0m",
      "\u001b[1;31mIndexError\u001b[0m                                Traceback (most recent call last)",
      "Cell \u001b[1;32mIn[151], line 33\u001b[0m\n\u001b[0;32m     31\u001b[0m     \u001b[38;5;28;01mif\u001b[39;00m es_extremo_local(dfEnergia[\u001b[38;5;124m'\u001b[39m\u001b[38;5;124mEnergia_Potencial\u001b[39m\u001b[38;5;124m'\u001b[39m], idx, \u001b[38;5;124m'\u001b[39m\u001b[38;5;124mmin\u001b[39m\u001b[38;5;124m'\u001b[39m):\n\u001b[0;32m     32\u001b[0m         minimos\u001b[38;5;241m.\u001b[39mappend(idx)\n\u001b[1;32m---> 33\u001b[0m \u001b[43mminimos\u001b[49m\u001b[38;5;241;43m.\u001b[39;49m\u001b[43mpop\u001b[49m\u001b[43m(\u001b[49m\u001b[38;5;241;43m0\u001b[39;49m\u001b[43m)\u001b[49m\n\u001b[0;32m     35\u001b[0m energia_mecanica_perfecta \u001b[38;5;241m=\u001b[39m []\n\u001b[0;32m     36\u001b[0m idx_maximo_actual \u001b[38;5;241m=\u001b[39m \u001b[38;5;241m0\u001b[39m\n",
      "\u001b[1;31mIndexError\u001b[0m: pop from empty list"
     ]
    }
   ],
   "source": [
    "dfEnergia = dfCentro[['Time (sec)']].copy()\n",
    "#dfEnergia['Masa'] = masa_inicial_yoyo # Masa constante\n",
    "dfEnergia['Masa'] = df_masa['masa']\n",
    "dfEnergia['Momento_Inercia'] = 0.5 * dfEnergia['Masa'] * dfRelativoBordeCentro['R_Relative']**2\n",
    "dfEnergia['Energia_Potencial'] = dfEnergia['Masa'] * g * dfCentro['Y']\n",
    "dfEnergia['Energia_Cinetica_Traslacional'] = 0.5 * dfEnergia['Masa'] * dfCentro['Speed']**2\n",
    "dfEnergia['Energia_Cinetica_Rotacional'] = 0.5 * dfEnergia['Momento_Inercia'] * dfRelativoBordeCentro['Relative_Angular_Velocity']**2\n",
    "dfEnergia['Energia_Mecanica'] = dfEnergia['Energia_Cinetica_Traslacional'] + dfEnergia['Energia_Cinetica_Rotacional'] + dfEnergia['Energia_Potencial']\n",
    "\n",
    "\n",
    "\n",
    "# Energias teoricamente perfectas segun energia potencial (la potencial deberia ser la mas precisa de las calculadas)\n",
    "\n",
    "def es_extremo_local(serie, idx, tipo='max'):\n",
    "    WINDOW_SIZE = 3\n",
    "    if idx < WINDOW_SIZE or idx > len(serie) - WINDOW_SIZE - 1:\n",
    "        return False\n",
    "    if tipo == 'max':\n",
    "        return serie[idx] > serie[idx - WINDOW_SIZE] and serie[idx] > serie[idx + WINDOW_SIZE]\n",
    "    else:\n",
    "        return serie[idx] < serie[idx - WINDOW_SIZE] and serie[idx] < serie[idx + WINDOW_SIZE]\n",
    "\n",
    "maximos = []\n",
    "valores_maximos = []\n",
    "for idx in range(len(dfEnergia)):\n",
    "    if es_extremo_local(dfEnergia['Energia_Potencial'], idx, 'max'):\n",
    "        maximos.append(idx)\n",
    "        valores_maximos.append(dfEnergia['Energia_Potencial'].iloc[idx])\n",
    "minimos = []\n",
    "for idx in range(len(dfEnergia)):\n",
    "    if es_extremo_local(dfEnergia['Energia_Potencial'], idx, 'min'):\n",
    "        minimos.append(idx)\n",
    "minimos.pop(0)\n",
    "\n",
    "energia_mecanica_perfecta = []\n",
    "idx_maximo_actual = 0\n",
    "valor_em_perfecta = valores_maximos[0]\n",
    "for idx in range(len(dfEnergia)):\n",
    "    if idx in minimos and idx_maximo_actual < len(valores_maximos) - 1:\n",
    "        idx_maximo_actual += 1\n",
    "        valor_em_perfecta = valores_maximos[idx_maximo_actual]\n",
    "    energia_mecanica_perfecta.append(valor_em_perfecta)\n",
    "\n",
    "dfEnergia['Energia_Mecanica_Perfecta'] = energia_mecanica_perfecta\n",
    "dfEnergia['Energia_Cinetica_Perfecta'] = dfEnergia['Energia_Mecanica_Perfecta'] - dfEnergia['Energia_Potencial']"
   ]
  },
  {
   "cell_type": "code",
   "execution_count": null,
   "metadata": {
    "colab": {
     "base_uri": "https://localhost:8080/",
     "height": 542
    },
    "executionInfo": {
     "elapsed": 803,
     "status": "ok",
     "timestamp": 1731748848240,
     "user": {
      "displayName": "Tomas Rueda",
      "userId": "17662183962868927666"
     },
     "user_tz": 180
    },
    "id": "1UhHGbRlxBt8",
    "outputId": "04a862bd-9fe2-4488-d099-0e92e0667c5c"
   },
   "outputs": [
    {
     "data": {
      "application/vnd.plotly.v1+json": {
       "config": {
        "plotlyServerURL": "https://plot.ly"
       },
       "data": [
        {
         "mode": "lines",
         "name": "Energía Cinética Traslacional",
         "type": "scatter",
         "x": [
          0,
          0.008333333333333333,
          0.016666666666666666,
          0.025,
          0.03333333333333333,
          0.041666666666666664,
          0.05,
          0.058333333333333334,
          0.06666666666666667,
          0.075,
          0.08333333333333333,
          0.09166666666666666,
          0.1,
          0.10833333333333334,
          0.11666666666666667,
          0.125,
          0.13333333333333333,
          0.14166666666666666,
          0.15,
          0.15833333333333333,
          0.16666666666666666,
          0.175,
          0.18333333333333332,
          0.19166666666666665,
          0.2,
          0.20833333333333334,
          0.21666666666666667,
          0.225,
          0.23333333333333334,
          0.24166666666666667,
          0.25,
          0.2583333333333333,
          0.26666666666666666,
          0.275,
          0.2833333333333333,
          0.2916666666666667,
          0.3,
          0.30833333333333335,
          0.31666666666666665,
          0.325,
          0.3333333333333333,
          0.3416666666666667,
          0.35,
          0.35833333333333334,
          0.36666666666666664,
          0.375,
          0.3833333333333333,
          0.39166666666666666,
          0.4,
          0.4083333333333333,
          0.4166666666666667,
          0.425,
          0.43333333333333335,
          0.44166666666666665,
          0.45,
          0.4583333333333333,
          0.4666666666666667,
          0.475,
          0.48333333333333334,
          0.49166666666666664,
          0.5,
          0.5083333333333333,
          0.5166666666666666,
          0.525,
          0.5333333333333333,
          0.5416666666666666,
          0.55,
          0.5583333333333333,
          0.5666666666666667,
          0.575,
          0.5833333333333334,
          0.5916666666666667,
          0.6,
          0.6083333333333333,
          0.6166666666666667,
          0.625,
          0.6333333333333333,
          0.6416666666666666,
          0.65,
          0.6583333333333333,
          0.6666666666666666,
          0.675,
          0.6833333333333333,
          0.6916666666666667,
          0.7,
          0.7083333333333334,
          0.7166666666666667,
          0.725,
          0.7333333333333333,
          0.7416666666666667,
          0.75,
          0.7583333333333333,
          0.7666666666666666,
          0.775,
          0.7833333333333333,
          0.7916666666666666,
          0.8,
          0.8083333333333333,
          0.8166666666666667,
          0.825,
          0.8333333333333334,
          0.8416666666666667,
          0.85,
          0.8583333333333333,
          0.8666666666666667
         ],
         "y": [
          0.0000013939679748053615,
          1.2518667283028157e-7,
          1.1811411489011266e-7,
          8.504856725610399e-7,
          0.00000193822706283053,
          0.000003111797567941861,
          0.000004194695584725554,
          0.0000050841265738225,
          0.000005733833451916254,
          0.000006139089447230748,
          0.000006323853420114066,
          0.000006649730242794897,
          0.000006831280620019371,
          0.000006854674930460698,
          0.000006729228695494818,
          0.00000635764161507099,
          0.000005692582907969201,
          0.000004721582887291726,
          0.00000571504797823073,
          0.000007151021580711213,
          0.000009262114031389226,
          0.00001159204055898368,
          0.000013568978318251305,
          0.000015244805823009914,
          0.000017273004294814964,
          0.000018700947254956576,
          0.00002001637174171957,
          0.000021629639871979728,
          0.000023251265912449928,
          0.000025356480700696122,
          0.00002746333549816749,
          0.000029309239978053905,
          0.000032266040239309734,
          0.000034663347873404206,
          0.000035349705360370525,
          0.00003424475356155055,
          0.00003158649149203555,
          0.000028163744715740445,
          0.000024363091950028484,
          0.000020459812325185848,
          0.00001659734749125442,
          0.000012524727580930363,
          0.000009617091843252174,
          0.000008016238870843132,
          0.000007869998079970238,
          0.000008062180114091219,
          0.000009646245041227759,
          0.000012646430458387944,
          0.000016739163841371856,
          0.000021299861364172755,
          0.000025149082076631213,
          0.000028202611046076004,
          0.00003089168128583542,
          0.000031761862201545006,
          0.000030136608989089247,
          0.0000268817876204159,
          0.000022322600851901237,
          0.00001702142613289716,
          0.00001168721356697751,
          0.000007792226352366471,
          0.0000049405409061468276,
          0.0000036217510515285233,
          0.000004101257521391957,
          0.000007186349397223191,
          0.000015818606905269157,
          0.00003446049748628616,
          0.00007275772300990647,
          0.0001457600166473772,
          0.00027259249449993855,
          0.0004842378213081545,
          0.0008213456793190526,
          0.0013440846298585312,
          0.002136749284212128,
          0.0032934683157072784,
          0.004903021289954396,
          0.00708394576868331,
          0.009932397440980376,
          0.013548472320927285,
          0.01806309065896246,
          0.023549185694927425,
          0.030020616793786373,
          0.037563396148092086,
          0.04616144841271032,
          0.05574452531552837,
          0.06616166504487918,
          0.07720523228102359,
          0.08871550200125987,
          0.10052930082398519,
          0.11241405043821079,
          0.12424072417454086,
          0.13594384553509664,
          0.14759349580187137,
          0.15928146834408782,
          0.17109427507353114,
          0.1831583872255179,
          0.19529215678790465,
          0.20817687943070037,
          0.2220812420242776,
          0.23730565560201894,
          0.2541860593535868,
          0.2730989557687667,
          0.2944676739779426,
          0.3187698579415896,
          0.34654617570569846,
          0.3784102454627945
         ]
        },
        {
         "mode": "lines",
         "name": "Energía Cinética Rotacional",
         "type": "scatter",
         "x": [
          0,
          0.008333333333333333,
          0.016666666666666666,
          0.025,
          0.03333333333333333,
          0.041666666666666664,
          0.05,
          0.058333333333333334,
          0.06666666666666667,
          0.075,
          0.08333333333333333,
          0.09166666666666666,
          0.1,
          0.10833333333333334,
          0.11666666666666667,
          0.125,
          0.13333333333333333,
          0.14166666666666666,
          0.15,
          0.15833333333333333,
          0.16666666666666666,
          0.175,
          0.18333333333333332,
          0.19166666666666665,
          0.2,
          0.20833333333333334,
          0.21666666666666667,
          0.225,
          0.23333333333333334,
          0.24166666666666667,
          0.25,
          0.2583333333333333,
          0.26666666666666666,
          0.275,
          0.2833333333333333,
          0.2916666666666667,
          0.3,
          0.30833333333333335,
          0.31666666666666665,
          0.325,
          0.3333333333333333,
          0.3416666666666667,
          0.35,
          0.35833333333333334,
          0.36666666666666664,
          0.375,
          0.3833333333333333,
          0.39166666666666666,
          0.4,
          0.4083333333333333,
          0.4166666666666667,
          0.425,
          0.43333333333333335,
          0.44166666666666665,
          0.45,
          0.4583333333333333,
          0.4666666666666667,
          0.475,
          0.48333333333333334,
          0.49166666666666664,
          0.5,
          0.5083333333333333,
          0.5166666666666666,
          0.525,
          0.5333333333333333,
          0.5416666666666666,
          0.55,
          0.5583333333333333,
          0.5666666666666667,
          0.575,
          0.5833333333333334,
          0.5916666666666667,
          0.6,
          0.6083333333333333,
          0.6166666666666667,
          0.625,
          0.6333333333333333,
          0.6416666666666666,
          0.65,
          0.6583333333333333,
          0.6666666666666666,
          0.675,
          0.6833333333333333,
          0.6916666666666667,
          0.7,
          0.7083333333333334,
          0.7166666666666667,
          0.725,
          0.7333333333333333,
          0.7416666666666667,
          0.75,
          0.7583333333333333,
          0.7666666666666666,
          0.775,
          0.7833333333333333,
          0.7916666666666666,
          0.8,
          0.8083333333333333,
          0.8166666666666667,
          0.825,
          0.8333333333333334,
          0.8416666666666667,
          0.85,
          0.8583333333333333,
          0.8666666666666667
         ],
         "y": [
          null,
          2.4749427859783666e-7,
          1.242053462311969e-7,
          5.172871566404601e-8,
          1.4845461145994206e-8,
          1.2385158700757298e-9,
          1.0730036901924467e-9,
          6.740367750434978e-9,
          1.2727211872300415e-8,
          1.5576044646672846e-8,
          1.3907732341407585e-8,
          1.4562749237939458e-8,
          1.7353715511726158e-7,
          2.255756377126017e-7,
          5.1095894313707866e-8,
          4.5313378863253436e-7,
          2.883049231185994e-7,
          4.1263119279038597e-7,
          4.765388198888025e-7,
          5.776037022791939e-8,
          2.855699317492288e-7,
          5.883774801539069e-7,
          2.3137751937631676e-8,
          8.95258779554388e-8,
          2.919932297060782e-8,
          1.1627311546382913e-7,
          2.738937707987588e-8,
          8.83199694248887e-9,
          1.449297328313554e-7,
          9.022166333967831e-8,
          7.957278557690368e-8,
          3.7630919308410604e-8,
          6.661408224536356e-8,
          7.54010392602382e-8,
          7.947640180054888e-11,
          6.522275045270348e-7,
          1.1590173667256643e-7,
          9.23564959466845e-8,
          9.712779635839937e-8,
          1.0008792405432542e-7,
          1.0109452381074834e-7,
          7.112988598620031e-8,
          1.644461367559793e-7,
          2.2063575751059375e-7,
          2.7496512990429607e-7,
          3.904128110972728e-9,
          1.1430181149027478e-9,
          4.4464933615096724e-7,
          2.0174625443146596e-7,
          1.601337488587161e-7,
          0.0000011083892266654487,
          0.000001427560454147979,
          9.010258403794294e-8,
          3.166724945028825e-8,
          1.2900338885394679e-12,
          1.4902679988426816e-7,
          6.326773505417323e-7,
          2.179818193491682e-7,
          5.237882011930085e-9,
          5.8476883857328084e-8,
          1.6884073585352004e-7,
          0.000001497694573212786,
          8.094341767464592e-7,
          3.70579574397622e-7,
          5.368342624570669e-7,
          6.915547876280955e-7,
          3.28551142010809e-7,
          2.67669456252087e-7,
          2.447442844547615e-7,
          0.000003040997298914965,
          0.00001742134100704571,
          0.000030154049027506775,
          0.000059541244074288996,
          0.00011468913334341933,
          0.0001624346337260204,
          0.0002468218579974231,
          0.00036961660842471124,
          0.0004862727244893848,
          0.0006826281255641357,
          0.0008298968734478902,
          0.0010132621867375289,
          0.0011064017067286647,
          0.001237414285583454,
          0.0013060700234482476,
          0.001480723791869234,
          0.0015467112142560251,
          0.0015057705966208556,
          0.0013821803693738666,
          0.0012901494633534888,
          0.001128112347856965,
          0.0009873433638830143,
          0.0009347262984996703,
          0.0009421847029232018,
          0.00099994193384257,
          0.0008758389383941363,
          0.002206815416388378,
          0.0014449744059831413,
          0.0008540891698337192,
          0.0006445651224093935,
          0.0006811702156685602,
          0.0010408812282670927,
          0.0023094019229901418,
          0.0067166136706013424,
          0.011759682438540793,
          0.00914752513171476
         ]
        },
        {
         "mode": "lines",
         "name": "Energía Potencial",
         "type": "scatter",
         "x": [
          0,
          0.008333333333333333,
          0.016666666666666666,
          0.025,
          0.03333333333333333,
          0.041666666666666664,
          0.05,
          0.058333333333333334,
          0.06666666666666667,
          0.075,
          0.08333333333333333,
          0.09166666666666666,
          0.1,
          0.10833333333333334,
          0.11666666666666667,
          0.125,
          0.13333333333333333,
          0.14166666666666666,
          0.15,
          0.15833333333333333,
          0.16666666666666666,
          0.175,
          0.18333333333333332,
          0.19166666666666665,
          0.2,
          0.20833333333333334,
          0.21666666666666667,
          0.225,
          0.23333333333333334,
          0.24166666666666667,
          0.25,
          0.2583333333333333,
          0.26666666666666666,
          0.275,
          0.2833333333333333,
          0.2916666666666667,
          0.3,
          0.30833333333333335,
          0.31666666666666665,
          0.325,
          0.3333333333333333,
          0.3416666666666667,
          0.35,
          0.35833333333333334,
          0.36666666666666664,
          0.375,
          0.3833333333333333,
          0.39166666666666666,
          0.4,
          0.4083333333333333,
          0.4166666666666667,
          0.425,
          0.43333333333333335,
          0.44166666666666665,
          0.45,
          0.4583333333333333,
          0.4666666666666667,
          0.475,
          0.48333333333333334,
          0.49166666666666664,
          0.5,
          0.5083333333333333,
          0.5166666666666666,
          0.525,
          0.5333333333333333,
          0.5416666666666666,
          0.55,
          0.5583333333333333,
          0.5666666666666667,
          0.575,
          0.5833333333333334,
          0.5916666666666667,
          0.6,
          0.6083333333333333,
          0.6166666666666667,
          0.625,
          0.6333333333333333,
          0.6416666666666666,
          0.65,
          0.6583333333333333,
          0.6666666666666666,
          0.675,
          0.6833333333333333,
          0.6916666666666667,
          0.7,
          0.7083333333333334,
          0.7166666666666667,
          0.725,
          0.7333333333333333,
          0.7416666666666667,
          0.75,
          0.7583333333333333,
          0.7666666666666666,
          0.775,
          0.7833333333333333,
          0.7916666666666666,
          0.8,
          0.8083333333333333,
          0.8166666666666667,
          0.825,
          0.8333333333333334,
          0.8416666666666667,
          0.85,
          0.8583333333333333,
          0.8666666666666667
         ],
         "y": [
          0.2101423201056463,
          0.2101338463593177,
          0.21012492664784682,
          0.21011573147308577,
          0.21010643133524526,
          0.2100971967328046,
          0.21008819816250257,
          0.2100796061194084,
          0.21007159109707377,
          0.2100643235877655,
          0.2100579740827753,
          0.21006657993240543,
          0.21006454279706305,
          0.21005938760256124,
          0.21005153010253524,
          0.21005286047170618,
          0.21003851745495541,
          0.2100341937741381,
          0.21002883075417225,
          0.21002284413665306,
          0.21001664966093056,
          0.21001066306363034,
          0.21000530007865384,
          0.2099895021847576,
          0.20998896173171688,
          0.209985926881531,
          0.20998122910477235,
          0.20995711671860195,
          0.20994364711099,
          0.2099412358902448,
          0.2099392403984334,
          0.20993849208928875,
          0.2099283483584235,
          0.20991633389442985,
          0.2099028644391331,
          0.20988124689998827,
          0.20987006403155425,
          0.2098697314560723,
          0.20986249794692796,
          0.2098558880288446,
          0.20985031741546484,
          0.20985331057979337,
          0.20985422515827812,
          0.2098538925842568,
          0.209853144292821,
          0.20984133793738485,
          0.20982599804738752,
          0.20980754038006091,
          0.20979074564773395,
          0.20978039447790764,
          0.20976542898370218,
          0.20975295778597303,
          0.20974298085884277,
          0.20973549818160936,
          0.20973761827191578,
          0.20973828339854328,
          0.20974938271724466,
          0.2097531656389151,
          0.20975004784604206,
          0.20975861139026603,
          0.2097749071228211,
          0.20979540160529545,
          0.20979839472404502,
          0.20980604381658025,
          0.2098112817914798,
          0.20980787294980766,
          0.20979752173081972,
          0.20976459756917842,
          0.209719992460988,
          0.20967189605200828,
          0.20958672083949104,
          0.20946929125657804,
          0.20932173030064966,
          0.20914387541756777,
          0.20892658764710362,
          0.20865175483593004,
          0.20832903070579728,
          0.20795240339984677,
          0.20751877396885585,
          0.2070394201454452,
          0.2065060120396929,
          0.20590877349971798,
          0.20527318734791047,
          0.2045984437391942,
          0.20386182126985564,
          0.20308294299561486,
          0.20224764894466513,
          0.2013628217597621,
          0.20045200778590158,
          0.19950063576362204,
          0.19851354528793955,
          0.1975055562585452,
          0.1964766865468852,
          0.19540782528923017,
          0.19428986095811057,
          0.1931438150757271,
          0.19195353272121046,
          0.19071627944375025,
          0.18942932646130686,
          0.1880899510403636,
          0.18669543689732232,
          0.185243074621543,
          0.18373016212002916,
          0.1821540050837581,
          0.18051191747565623
         ]
        },
        {
         "mode": "lines",
         "name": "Energía Mecánica Total",
         "type": "scatter",
         "x": [
          0,
          0.008333333333333333,
          0.016666666666666666,
          0.025,
          0.03333333333333333,
          0.041666666666666664,
          0.05,
          0.058333333333333334,
          0.06666666666666667,
          0.075,
          0.08333333333333333,
          0.09166666666666666,
          0.1,
          0.10833333333333334,
          0.11666666666666667,
          0.125,
          0.13333333333333333,
          0.14166666666666666,
          0.15,
          0.15833333333333333,
          0.16666666666666666,
          0.175,
          0.18333333333333332,
          0.19166666666666665,
          0.2,
          0.20833333333333334,
          0.21666666666666667,
          0.225,
          0.23333333333333334,
          0.24166666666666667,
          0.25,
          0.2583333333333333,
          0.26666666666666666,
          0.275,
          0.2833333333333333,
          0.2916666666666667,
          0.3,
          0.30833333333333335,
          0.31666666666666665,
          0.325,
          0.3333333333333333,
          0.3416666666666667,
          0.35,
          0.35833333333333334,
          0.36666666666666664,
          0.375,
          0.3833333333333333,
          0.39166666666666666,
          0.4,
          0.4083333333333333,
          0.4166666666666667,
          0.425,
          0.43333333333333335,
          0.44166666666666665,
          0.45,
          0.4583333333333333,
          0.4666666666666667,
          0.475,
          0.48333333333333334,
          0.49166666666666664,
          0.5,
          0.5083333333333333,
          0.5166666666666666,
          0.525,
          0.5333333333333333,
          0.5416666666666666,
          0.55,
          0.5583333333333333,
          0.5666666666666667,
          0.575,
          0.5833333333333334,
          0.5916666666666667,
          0.6,
          0.6083333333333333,
          0.6166666666666667,
          0.625,
          0.6333333333333333,
          0.6416666666666666,
          0.65,
          0.6583333333333333,
          0.6666666666666666,
          0.675,
          0.6833333333333333,
          0.6916666666666667,
          0.7,
          0.7083333333333334,
          0.7166666666666667,
          0.725,
          0.7333333333333333,
          0.7416666666666667,
          0.75,
          0.7583333333333333,
          0.7666666666666666,
          0.775,
          0.7833333333333333,
          0.7916666666666666,
          0.8,
          0.8083333333333333,
          0.8166666666666667,
          0.825,
          0.8333333333333334,
          0.8416666666666667,
          0.85,
          0.8583333333333333,
          0.8666666666666667
         ],
         "y": [
          null,
          0.21013421904026913,
          0.21012516896730793,
          0.210116633687474,
          0.21010838440776924,
          0.2101003097688884,
          0.210092393931091,
          0.21008469698634996,
          0.21007733765773756,
          0.21007047825325736,
          0.21006431184392774,
          0.21007324422539747,
          0.21007154761483818,
          0.2100664678531294,
          0.21005831042712506,
          0.2100596712471099,
          0.2100444983427865,
          0.21003932798821817,
          0.21003502234097038,
          0.210030052918604,
          0.2100261973448937,
          0.21002284348166947,
          0.21001889219472403,
          0.21000483651645857,
          0.21000626393533467,
          0.21000474410190142,
          0.21000127286589115,
          0.20997875519047088,
          0.2099670433066353,
          0.20996668259260884,
          0.20996678330671714,
          0.20996783896018612,
          0.20996068101274507,
          0.2099510726433425,
          0.20993821422396988,
          0.20991614388105434,
          0.20990176642478298,
          0.20989798755728398,
          0.20988695816667435,
          0.20987644792909385,
          0.2098670158574799,
          0.20986590643726027,
          0.20986400669625813,
          0.20986212945888516,
          0.20986128925603087,
          0.20984940402162705,
          0.20983564543544686,
          0.20982063145985547,
          0.20980768655782975,
          0.20980185447302066,
          0.20979168645500548,
          0.20978258795747326,
          0.20977396264271264,
          0.20976729171106034,
          0.2097677548821949,
          0.20976531421296357,
          0.20977233799544712,
          0.20977040504686736,
          0.20976174029749106,
          0.20976646209350225,
          0.2097800165044631,
          0.20980052105092017,
          0.20980330541574316,
          0.20981360074555186,
          0.20982763723264752,
          0.20984302500208157,
          0.20987060800497165,
          0.20991062525528206,
          0.2099928296997724,
          0.21015917487061536,
          0.21042548785981713,
          0.21084352993546407,
          0.21151802082893606,
          0.21255203286661847,
          0.21399204357078402,
          0.21598252246261077,
          0.21863104475520237,
          0.22198714844526343,
          0.22626449275338245,
          0.23141850271382053,
          0.2375398910202168,
          0.24457857135453873,
          0.25267205004620424,
          0.26164903907817083,
          0.2715042101066041,
          0.2818348864908945,
          0.29246892154254583,
          0.3032743029531212,
          0.3141562076874659,
          0.32486947228601987,
          0.3354447341869192,
          0.34603377835891624,
          0.35670033959389624,
          0.3675020422966039,
          0.3783240871220226,
          0.3906427872800201,
          0.401575386557894,
          0.4136516106378616,
          0.42737954718573523,
          0.442957180609619,
          0.4608352738943561,
          0.4820201505224757,
          0.50921663373222,
          0.5404598632279973,
          0.5680696880701654
         ]
        },
        {
         "mode": "lines",
         "name": "Energía Cinética Perfecta",
         "type": "scatter",
         "x": [
          0,
          0.008333333333333333,
          0.016666666666666666,
          0.025,
          0.03333333333333333,
          0.041666666666666664,
          0.05,
          0.058333333333333334,
          0.06666666666666667,
          0.075,
          0.08333333333333333,
          0.09166666666666666,
          0.1,
          0.10833333333333334,
          0.11666666666666667,
          0.125,
          0.13333333333333333,
          0.14166666666666666,
          0.15,
          0.15833333333333333,
          0.16666666666666666,
          0.175,
          0.18333333333333332,
          0.19166666666666665,
          0.2,
          0.20833333333333334,
          0.21666666666666667,
          0.225,
          0.23333333333333334,
          0.24166666666666667,
          0.25,
          0.2583333333333333,
          0.26666666666666666,
          0.275,
          0.2833333333333333,
          0.2916666666666667,
          0.3,
          0.30833333333333335,
          0.31666666666666665,
          0.325,
          0.3333333333333333,
          0.3416666666666667,
          0.35,
          0.35833333333333334,
          0.36666666666666664,
          0.375,
          0.3833333333333333,
          0.39166666666666666,
          0.4,
          0.4083333333333333,
          0.4166666666666667,
          0.425,
          0.43333333333333335,
          0.44166666666666665,
          0.45,
          0.4583333333333333,
          0.4666666666666667,
          0.475,
          0.48333333333333334,
          0.49166666666666664,
          0.5,
          0.5083333333333333,
          0.5166666666666666,
          0.525,
          0.5333333333333333,
          0.5416666666666666,
          0.55,
          0.5583333333333333,
          0.5666666666666667,
          0.575,
          0.5833333333333334,
          0.5916666666666667,
          0.6,
          0.6083333333333333,
          0.6166666666666667,
          0.625,
          0.6333333333333333,
          0.6416666666666666,
          0.65,
          0.6583333333333333,
          0.6666666666666666,
          0.675,
          0.6833333333333333,
          0.6916666666666667,
          0.7,
          0.7083333333333334,
          0.7166666666666667,
          0.725,
          0.7333333333333333,
          0.7416666666666667,
          0.75,
          0.7583333333333333,
          0.7666666666666666,
          0.775,
          0.7833333333333333,
          0.7916666666666666,
          0.8,
          0.8083333333333333,
          0.8166666666666667,
          0.825,
          0.8333333333333334,
          0.8416666666666667,
          0.85,
          0.8583333333333333,
          0.8666666666666667
         ],
         "y": [
          -0.00007777730858324339,
          -0.00006930356225465228,
          -0.00006038385078377395,
          -0.000051188676022717594,
          -0.000041888538182210944,
          -0.00003265393574156117,
          -0.00002365536543952329,
          -0.000015063322345354457,
          -0.00000704830001072021,
          2.192092975472626e-7,
          0.0000014135197859421744,
          -0.00000719232984419671,
          -0.000005155194501810234,
          0,
          0.000007857500025992836,
          0.000006527130855055185,
          0.00002087014760582262,
          0.000025193828423142328,
          0.00003055684838898509,
          0.000036543465908173145,
          0.000042737941630677234,
          0.0000487245389308999,
          0.000054087523907397905,
          0.00006988541780364455,
          0.00007042587084435392,
          0.00007346072103023293,
          0.00007815849778888828,
          0.0001022708839592823,
          0.00011574049157123123,
          0.00011815171231643884,
          0.00012014720412784063,
          0.00012089551327248982,
          0.00013103924413773727,
          0.00014305370813139096,
          0.0001565231634281239,
          0.00017814070257296533,
          0.00018932357100698294,
          0.00018965614648894236,
          0.00019688965563327554,
          0.00020349957371662564,
          0.000003575168791958294,
          5.820044634285981e-7,
          -3.3257402132225167e-7,
          0,
          7.482914357870296e-7,
          0.000012554646871942854,
          0.00002789453686927179,
          0.00004635220419588193,
          0.00006314693652284542,
          0.00007349810634915688,
          0.00008846360055461688,
          0.00010093479828376939,
          0.00011091172541402572,
          0.00007054563497088662,
          0.00007366351956400452,
          0.00006958955126437627,
          0.00005849023256299102,
          0.00005470731089254888,
          0.0000578251037655908,
          0.00004926155954163014,
          0.00003296582698655848,
          0.000012471344512210436,
          0.000009478225762638015,
          0.0000018291332274100736,
          -0.00000340884167213118,
          0,
          0.000010351218987930677,
          0.00004327538062923186,
          0.00008788048881966382,
          0.0001359768977993725,
          0.0002211521103166192,
          0.00033858169322961706,
          0.0004861426491580001,
          0.0006639975322398906,
          0.0008812853027040379,
          0.0011561181138776133,
          0.0014788422440103755,
          0.0018554695499608809,
          0.002289098980951809,
          0.0027684528043624423,
          0.003301860910114751,
          0.003899099450089677,
          0.0045346856018971815,
          0.005209429210613459,
          0.005946051679952019,
          0.006724929954192799,
          0.00756022400514253,
          0.008445051190045544,
          0.009355865163906074,
          0.01030723718618562,
          0.011294327661868109,
          0.012302316691262444,
          0.013331186402922468,
          0.01440004766057748,
          0.015518011991697084,
          0.016664057874080568,
          0.017854340228597193,
          0.019091593506057408,
          0.020378546488500793,
          0.02171792190944405,
          0.023112436052485336,
          0.024564798328264664,
          0.0260777108297785,
          0.027653867866049564,
          0.029295955474151425
         ]
        },
        {
         "mode": "lines",
         "name": "Energía Mecánica Perfecta",
         "type": "scatter",
         "x": [
          0,
          0.008333333333333333,
          0.016666666666666666,
          0.025,
          0.03333333333333333,
          0.041666666666666664,
          0.05,
          0.058333333333333334,
          0.06666666666666667,
          0.075,
          0.08333333333333333,
          0.09166666666666666,
          0.1,
          0.10833333333333334,
          0.11666666666666667,
          0.125,
          0.13333333333333333,
          0.14166666666666666,
          0.15,
          0.15833333333333333,
          0.16666666666666666,
          0.175,
          0.18333333333333332,
          0.19166666666666665,
          0.2,
          0.20833333333333334,
          0.21666666666666667,
          0.225,
          0.23333333333333334,
          0.24166666666666667,
          0.25,
          0.2583333333333333,
          0.26666666666666666,
          0.275,
          0.2833333333333333,
          0.2916666666666667,
          0.3,
          0.30833333333333335,
          0.31666666666666665,
          0.325,
          0.3333333333333333,
          0.3416666666666667,
          0.35,
          0.35833333333333334,
          0.36666666666666664,
          0.375,
          0.3833333333333333,
          0.39166666666666666,
          0.4,
          0.4083333333333333,
          0.4166666666666667,
          0.425,
          0.43333333333333335,
          0.44166666666666665,
          0.45,
          0.4583333333333333,
          0.4666666666666667,
          0.475,
          0.48333333333333334,
          0.49166666666666664,
          0.5,
          0.5083333333333333,
          0.5166666666666666,
          0.525,
          0.5333333333333333,
          0.5416666666666666,
          0.55,
          0.5583333333333333,
          0.5666666666666667,
          0.575,
          0.5833333333333334,
          0.5916666666666667,
          0.6,
          0.6083333333333333,
          0.6166666666666667,
          0.625,
          0.6333333333333333,
          0.6416666666666666,
          0.65,
          0.6583333333333333,
          0.6666666666666666,
          0.675,
          0.6833333333333333,
          0.6916666666666667,
          0.7,
          0.7083333333333334,
          0.7166666666666667,
          0.725,
          0.7333333333333333,
          0.7416666666666667,
          0.75,
          0.7583333333333333,
          0.7666666666666666,
          0.775,
          0.7833333333333333,
          0.7916666666666666,
          0.8,
          0.8083333333333333,
          0.8166666666666667,
          0.825,
          0.8333333333333334,
          0.8416666666666667,
          0.85,
          0.8583333333333333,
          0.8666666666666667
         ],
         "y": [
          0.21006454279706305,
          0.21006454279706305,
          0.21006454279706305,
          0.21006454279706305,
          0.21006454279706305,
          0.21006454279706305,
          0.21006454279706305,
          0.21006454279706305,
          0.21006454279706305,
          0.21006454279706305,
          0.21005938760256124,
          0.21005938760256124,
          0.21005938760256124,
          0.21005938760256124,
          0.21005938760256124,
          0.21005938760256124,
          0.21005938760256124,
          0.21005938760256124,
          0.21005938760256124,
          0.21005938760256124,
          0.21005938760256124,
          0.21005938760256124,
          0.21005938760256124,
          0.21005938760256124,
          0.21005938760256124,
          0.21005938760256124,
          0.21005938760256124,
          0.21005938760256124,
          0.21005938760256124,
          0.21005938760256124,
          0.21005938760256124,
          0.21005938760256124,
          0.21005938760256124,
          0.21005938760256124,
          0.21005938760256124,
          0.21005938760256124,
          0.21005938760256124,
          0.21005938760256124,
          0.21005938760256124,
          0.21005938760256124,
          0.2098538925842568,
          0.2098538925842568,
          0.2098538925842568,
          0.2098538925842568,
          0.2098538925842568,
          0.2098538925842568,
          0.2098538925842568,
          0.2098538925842568,
          0.2098538925842568,
          0.2098538925842568,
          0.2098538925842568,
          0.2098538925842568,
          0.2098538925842568,
          0.20980604381658025,
          0.2098112817914798,
          0.20980787294980766,
          0.20980787294980766,
          0.20980787294980766,
          0.20980787294980766,
          0.20980787294980766,
          0.20980787294980766,
          0.20980787294980766,
          0.20980787294980766,
          0.20980787294980766,
          0.20980787294980766,
          0.20980787294980766,
          0.20980787294980766,
          0.20980787294980766,
          0.20980787294980766,
          0.20980787294980766,
          0.20980787294980766,
          0.20980787294980766,
          0.20980787294980766,
          0.20980787294980766,
          0.20980787294980766,
          0.20980787294980766,
          0.20980787294980766,
          0.20980787294980766,
          0.20980787294980766,
          0.20980787294980766,
          0.20980787294980766,
          0.20980787294980766,
          0.20980787294980766,
          0.20980787294980766,
          0.20980787294980766,
          0.20980787294980766,
          0.20980787294980766,
          0.20980787294980766,
          0.20980787294980766,
          0.20980787294980766,
          0.20980787294980766,
          0.20980787294980766,
          0.20980787294980766,
          0.20980787294980766,
          0.20980787294980766,
          0.20980787294980766,
          0.20980787294980766,
          0.20980787294980766,
          0.20980787294980766,
          0.20980787294980766,
          0.20980787294980766,
          0.20980787294980766,
          0.20980787294980766,
          0.20980787294980766,
          0.20980787294980766
         ]
        }
       ],
       "layout": {
        "template": {
         "data": {
          "bar": [
           {
            "error_x": {
             "color": "#2a3f5f"
            },
            "error_y": {
             "color": "#2a3f5f"
            },
            "marker": {
             "line": {
              "color": "#E5ECF6",
              "width": 0.5
             },
             "pattern": {
              "fillmode": "overlay",
              "size": 10,
              "solidity": 0.2
             }
            },
            "type": "bar"
           }
          ],
          "barpolar": [
           {
            "marker": {
             "line": {
              "color": "#E5ECF6",
              "width": 0.5
             },
             "pattern": {
              "fillmode": "overlay",
              "size": 10,
              "solidity": 0.2
             }
            },
            "type": "barpolar"
           }
          ],
          "carpet": [
           {
            "aaxis": {
             "endlinecolor": "#2a3f5f",
             "gridcolor": "white",
             "linecolor": "white",
             "minorgridcolor": "white",
             "startlinecolor": "#2a3f5f"
            },
            "baxis": {
             "endlinecolor": "#2a3f5f",
             "gridcolor": "white",
             "linecolor": "white",
             "minorgridcolor": "white",
             "startlinecolor": "#2a3f5f"
            },
            "type": "carpet"
           }
          ],
          "choropleth": [
           {
            "colorbar": {
             "outlinewidth": 0,
             "ticks": ""
            },
            "type": "choropleth"
           }
          ],
          "contour": [
           {
            "colorbar": {
             "outlinewidth": 0,
             "ticks": ""
            },
            "colorscale": [
             [
              0,
              "#0d0887"
             ],
             [
              0.1111111111111111,
              "#46039f"
             ],
             [
              0.2222222222222222,
              "#7201a8"
             ],
             [
              0.3333333333333333,
              "#9c179e"
             ],
             [
              0.4444444444444444,
              "#bd3786"
             ],
             [
              0.5555555555555556,
              "#d8576b"
             ],
             [
              0.6666666666666666,
              "#ed7953"
             ],
             [
              0.7777777777777778,
              "#fb9f3a"
             ],
             [
              0.8888888888888888,
              "#fdca26"
             ],
             [
              1,
              "#f0f921"
             ]
            ],
            "type": "contour"
           }
          ],
          "contourcarpet": [
           {
            "colorbar": {
             "outlinewidth": 0,
             "ticks": ""
            },
            "type": "contourcarpet"
           }
          ],
          "heatmap": [
           {
            "colorbar": {
             "outlinewidth": 0,
             "ticks": ""
            },
            "colorscale": [
             [
              0,
              "#0d0887"
             ],
             [
              0.1111111111111111,
              "#46039f"
             ],
             [
              0.2222222222222222,
              "#7201a8"
             ],
             [
              0.3333333333333333,
              "#9c179e"
             ],
             [
              0.4444444444444444,
              "#bd3786"
             ],
             [
              0.5555555555555556,
              "#d8576b"
             ],
             [
              0.6666666666666666,
              "#ed7953"
             ],
             [
              0.7777777777777778,
              "#fb9f3a"
             ],
             [
              0.8888888888888888,
              "#fdca26"
             ],
             [
              1,
              "#f0f921"
             ]
            ],
            "type": "heatmap"
           }
          ],
          "heatmapgl": [
           {
            "colorbar": {
             "outlinewidth": 0,
             "ticks": ""
            },
            "colorscale": [
             [
              0,
              "#0d0887"
             ],
             [
              0.1111111111111111,
              "#46039f"
             ],
             [
              0.2222222222222222,
              "#7201a8"
             ],
             [
              0.3333333333333333,
              "#9c179e"
             ],
             [
              0.4444444444444444,
              "#bd3786"
             ],
             [
              0.5555555555555556,
              "#d8576b"
             ],
             [
              0.6666666666666666,
              "#ed7953"
             ],
             [
              0.7777777777777778,
              "#fb9f3a"
             ],
             [
              0.8888888888888888,
              "#fdca26"
             ],
             [
              1,
              "#f0f921"
             ]
            ],
            "type": "heatmapgl"
           }
          ],
          "histogram": [
           {
            "marker": {
             "pattern": {
              "fillmode": "overlay",
              "size": 10,
              "solidity": 0.2
             }
            },
            "type": "histogram"
           }
          ],
          "histogram2d": [
           {
            "colorbar": {
             "outlinewidth": 0,
             "ticks": ""
            },
            "colorscale": [
             [
              0,
              "#0d0887"
             ],
             [
              0.1111111111111111,
              "#46039f"
             ],
             [
              0.2222222222222222,
              "#7201a8"
             ],
             [
              0.3333333333333333,
              "#9c179e"
             ],
             [
              0.4444444444444444,
              "#bd3786"
             ],
             [
              0.5555555555555556,
              "#d8576b"
             ],
             [
              0.6666666666666666,
              "#ed7953"
             ],
             [
              0.7777777777777778,
              "#fb9f3a"
             ],
             [
              0.8888888888888888,
              "#fdca26"
             ],
             [
              1,
              "#f0f921"
             ]
            ],
            "type": "histogram2d"
           }
          ],
          "histogram2dcontour": [
           {
            "colorbar": {
             "outlinewidth": 0,
             "ticks": ""
            },
            "colorscale": [
             [
              0,
              "#0d0887"
             ],
             [
              0.1111111111111111,
              "#46039f"
             ],
             [
              0.2222222222222222,
              "#7201a8"
             ],
             [
              0.3333333333333333,
              "#9c179e"
             ],
             [
              0.4444444444444444,
              "#bd3786"
             ],
             [
              0.5555555555555556,
              "#d8576b"
             ],
             [
              0.6666666666666666,
              "#ed7953"
             ],
             [
              0.7777777777777778,
              "#fb9f3a"
             ],
             [
              0.8888888888888888,
              "#fdca26"
             ],
             [
              1,
              "#f0f921"
             ]
            ],
            "type": "histogram2dcontour"
           }
          ],
          "mesh3d": [
           {
            "colorbar": {
             "outlinewidth": 0,
             "ticks": ""
            },
            "type": "mesh3d"
           }
          ],
          "parcoords": [
           {
            "line": {
             "colorbar": {
              "outlinewidth": 0,
              "ticks": ""
             }
            },
            "type": "parcoords"
           }
          ],
          "pie": [
           {
            "automargin": true,
            "type": "pie"
           }
          ],
          "scatter": [
           {
            "fillpattern": {
             "fillmode": "overlay",
             "size": 10,
             "solidity": 0.2
            },
            "type": "scatter"
           }
          ],
          "scatter3d": [
           {
            "line": {
             "colorbar": {
              "outlinewidth": 0,
              "ticks": ""
             }
            },
            "marker": {
             "colorbar": {
              "outlinewidth": 0,
              "ticks": ""
             }
            },
            "type": "scatter3d"
           }
          ],
          "scattercarpet": [
           {
            "marker": {
             "colorbar": {
              "outlinewidth": 0,
              "ticks": ""
             }
            },
            "type": "scattercarpet"
           }
          ],
          "scattergeo": [
           {
            "marker": {
             "colorbar": {
              "outlinewidth": 0,
              "ticks": ""
             }
            },
            "type": "scattergeo"
           }
          ],
          "scattergl": [
           {
            "marker": {
             "colorbar": {
              "outlinewidth": 0,
              "ticks": ""
             }
            },
            "type": "scattergl"
           }
          ],
          "scattermapbox": [
           {
            "marker": {
             "colorbar": {
              "outlinewidth": 0,
              "ticks": ""
             }
            },
            "type": "scattermapbox"
           }
          ],
          "scatterpolar": [
           {
            "marker": {
             "colorbar": {
              "outlinewidth": 0,
              "ticks": ""
             }
            },
            "type": "scatterpolar"
           }
          ],
          "scatterpolargl": [
           {
            "marker": {
             "colorbar": {
              "outlinewidth": 0,
              "ticks": ""
             }
            },
            "type": "scatterpolargl"
           }
          ],
          "scatterternary": [
           {
            "marker": {
             "colorbar": {
              "outlinewidth": 0,
              "ticks": ""
             }
            },
            "type": "scatterternary"
           }
          ],
          "surface": [
           {
            "colorbar": {
             "outlinewidth": 0,
             "ticks": ""
            },
            "colorscale": [
             [
              0,
              "#0d0887"
             ],
             [
              0.1111111111111111,
              "#46039f"
             ],
             [
              0.2222222222222222,
              "#7201a8"
             ],
             [
              0.3333333333333333,
              "#9c179e"
             ],
             [
              0.4444444444444444,
              "#bd3786"
             ],
             [
              0.5555555555555556,
              "#d8576b"
             ],
             [
              0.6666666666666666,
              "#ed7953"
             ],
             [
              0.7777777777777778,
              "#fb9f3a"
             ],
             [
              0.8888888888888888,
              "#fdca26"
             ],
             [
              1,
              "#f0f921"
             ]
            ],
            "type": "surface"
           }
          ],
          "table": [
           {
            "cells": {
             "fill": {
              "color": "#EBF0F8"
             },
             "line": {
              "color": "white"
             }
            },
            "header": {
             "fill": {
              "color": "#C8D4E3"
             },
             "line": {
              "color": "white"
             }
            },
            "type": "table"
           }
          ]
         },
         "layout": {
          "annotationdefaults": {
           "arrowcolor": "#2a3f5f",
           "arrowhead": 0,
           "arrowwidth": 1
          },
          "autotypenumbers": "strict",
          "coloraxis": {
           "colorbar": {
            "outlinewidth": 0,
            "ticks": ""
           }
          },
          "colorscale": {
           "diverging": [
            [
             0,
             "#8e0152"
            ],
            [
             0.1,
             "#c51b7d"
            ],
            [
             0.2,
             "#de77ae"
            ],
            [
             0.3,
             "#f1b6da"
            ],
            [
             0.4,
             "#fde0ef"
            ],
            [
             0.5,
             "#f7f7f7"
            ],
            [
             0.6,
             "#e6f5d0"
            ],
            [
             0.7,
             "#b8e186"
            ],
            [
             0.8,
             "#7fbc41"
            ],
            [
             0.9,
             "#4d9221"
            ],
            [
             1,
             "#276419"
            ]
           ],
           "sequential": [
            [
             0,
             "#0d0887"
            ],
            [
             0.1111111111111111,
             "#46039f"
            ],
            [
             0.2222222222222222,
             "#7201a8"
            ],
            [
             0.3333333333333333,
             "#9c179e"
            ],
            [
             0.4444444444444444,
             "#bd3786"
            ],
            [
             0.5555555555555556,
             "#d8576b"
            ],
            [
             0.6666666666666666,
             "#ed7953"
            ],
            [
             0.7777777777777778,
             "#fb9f3a"
            ],
            [
             0.8888888888888888,
             "#fdca26"
            ],
            [
             1,
             "#f0f921"
            ]
           ],
           "sequentialminus": [
            [
             0,
             "#0d0887"
            ],
            [
             0.1111111111111111,
             "#46039f"
            ],
            [
             0.2222222222222222,
             "#7201a8"
            ],
            [
             0.3333333333333333,
             "#9c179e"
            ],
            [
             0.4444444444444444,
             "#bd3786"
            ],
            [
             0.5555555555555556,
             "#d8576b"
            ],
            [
             0.6666666666666666,
             "#ed7953"
            ],
            [
             0.7777777777777778,
             "#fb9f3a"
            ],
            [
             0.8888888888888888,
             "#fdca26"
            ],
            [
             1,
             "#f0f921"
            ]
           ]
          },
          "colorway": [
           "#636efa",
           "#EF553B",
           "#00cc96",
           "#ab63fa",
           "#FFA15A",
           "#19d3f3",
           "#FF6692",
           "#B6E880",
           "#FF97FF",
           "#FECB52"
          ],
          "font": {
           "color": "#2a3f5f"
          },
          "geo": {
           "bgcolor": "white",
           "lakecolor": "white",
           "landcolor": "#E5ECF6",
           "showlakes": true,
           "showland": true,
           "subunitcolor": "white"
          },
          "hoverlabel": {
           "align": "left"
          },
          "hovermode": "closest",
          "mapbox": {
           "style": "light"
          },
          "paper_bgcolor": "white",
          "plot_bgcolor": "#E5ECF6",
          "polar": {
           "angularaxis": {
            "gridcolor": "white",
            "linecolor": "white",
            "ticks": ""
           },
           "bgcolor": "#E5ECF6",
           "radialaxis": {
            "gridcolor": "white",
            "linecolor": "white",
            "ticks": ""
           }
          },
          "scene": {
           "xaxis": {
            "backgroundcolor": "#E5ECF6",
            "gridcolor": "white",
            "gridwidth": 2,
            "linecolor": "white",
            "showbackground": true,
            "ticks": "",
            "zerolinecolor": "white"
           },
           "yaxis": {
            "backgroundcolor": "#E5ECF6",
            "gridcolor": "white",
            "gridwidth": 2,
            "linecolor": "white",
            "showbackground": true,
            "ticks": "",
            "zerolinecolor": "white"
           },
           "zaxis": {
            "backgroundcolor": "#E5ECF6",
            "gridcolor": "white",
            "gridwidth": 2,
            "linecolor": "white",
            "showbackground": true,
            "ticks": "",
            "zerolinecolor": "white"
           }
          },
          "shapedefaults": {
           "line": {
            "color": "#2a3f5f"
           }
          },
          "ternary": {
           "aaxis": {
            "gridcolor": "white",
            "linecolor": "white",
            "ticks": ""
           },
           "baxis": {
            "gridcolor": "white",
            "linecolor": "white",
            "ticks": ""
           },
           "bgcolor": "#E5ECF6",
           "caxis": {
            "gridcolor": "white",
            "linecolor": "white",
            "ticks": ""
           }
          },
          "title": {
           "x": 0.05
          },
          "xaxis": {
           "automargin": true,
           "gridcolor": "white",
           "linecolor": "white",
           "ticks": "",
           "title": {
            "standoff": 15
           },
           "zerolinecolor": "white",
           "zerolinewidth": 2
          },
          "yaxis": {
           "automargin": true,
           "gridcolor": "white",
           "linecolor": "white",
           "ticks": "",
           "title": {
            "standoff": 15
           },
           "zerolinecolor": "white",
           "zerolinewidth": 2
          }
         }
        },
        "title": {
         "text": "Energías del YoYo en función del Tiempo"
        },
        "xaxis": {
         "title": {
          "text": "Tiempo (sec)"
         }
        },
        "yaxis": {
         "title": {
          "text": "Energía (J)"
         }
        }
       }
      }
     },
     "metadata": {},
     "output_type": "display_data"
    }
   ],
   "source": [
    "import plotly.graph_objects as go\n",
    "\n",
    "fig = go.Figure()\n",
    "\n",
    "fig.add_trace(go.Scatter(x=dfEnergia['Time (sec)'], y=dfEnergia['Energia_Cinetica_Traslacional'],mode='lines', name='Energía Cinética Traslacional'))\n",
    "fig.add_trace(go.Scatter(x=dfEnergia['Time (sec)'], y=dfEnergia['Energia_Cinetica_Rotacional'],mode='lines', name='Energía Cinética Rotacional'))\n",
    "fig.add_trace(go.Scatter(x=dfEnergia['Time (sec)'], y=dfEnergia['Energia_Potencial'],mode='lines', name='Energía Potencial'))\n",
    "fig.add_trace(go.Scatter(x=dfEnergia['Time (sec)'], y=dfEnergia['Energia_Mecanica'],mode='lines', name='Energía Mecánica Total'))\n",
    "fig.add_trace(go.Scatter(x=dfEnergia['Time (sec)'], y=dfEnergia['Energia_Cinetica_Perfecta'],mode='lines', name='Energía Cinética Perfecta'))\n",
    "fig.add_trace(go.Scatter(x=dfEnergia['Time (sec)'], y=dfEnergia['Energia_Mecanica_Perfecta'],mode='lines', name='Energía Mecánica Perfecta'))\n",
    "\n",
    "fig.update_layout(title='Energías del YoYo en función del Tiempo',xaxis_title='Tiempo (sec)',yaxis_title='Energía (J)')\n",
    "\n",
    "fig.show()\n"
   ]
  }
 ],
 "metadata": {
  "colab": {
   "collapsed_sections": [
    "9cZ7TmU37KYu",
    "BXvvEOq7hhtk",
    "W_hA0GPH6-Sw",
    "Ph31EEQYhipp",
    "7hcES7m0hqBH",
    "lt5wKqKEo51u",
    "l8LyhtDvqWvh"
   ],
   "provenance": []
  },
  "kernelspec": {
   "display_name": "Python 3",
   "name": "python3"
  },
  "language_info": {
   "codemirror_mode": {
    "name": "ipython",
    "version": 3
   },
   "file_extension": ".py",
   "mimetype": "text/x-python",
   "name": "python",
   "nbconvert_exporter": "python",
   "pygments_lexer": "ipython3",
   "version": "3.12.6"
  }
 },
 "nbformat": 4,
 "nbformat_minor": 0
}

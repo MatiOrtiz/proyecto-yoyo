{
  "cells": [
    {
      "cell_type": "markdown",
      "metadata": {
        "id": "9cZ7TmU37KYu"
      },
      "source": [
        "# Dependencias (posiblemente, ejecutar con precaución 💀)"
      ]
    },
    {
      "cell_type": "code",
      "execution_count": null,
      "metadata": {
        "id": "SRSCwzSZ0BnT"
      },
      "outputs": [],
      "source": [
        "%pip install opencv-python"
      ]
    },
    {
      "cell_type": "markdown",
      "metadata": {
        "id": "W_hA0GPH6-Sw"
      },
      "source": [
        "# Trackeo"
      ]
    },
    {
      "cell_type": "markdown",
      "metadata": {
        "id": "Ph_k-GqSBc8l"
      },
      "source": [
        "Solo se trackea el punto B (rosa), ya que el punto A no se distingue lo suficiente en el video usado.\n",
        "\n",
        "Erosion de la mascara eliminada por el tamaño del punto trackeado.\n",
        "Dilatacion ligeramente aumentada por el mismo motivo.\n",
        "\n",
        "Agregados graficos de posicion X e Y segun el tiempo."
      ]
    },
    {
      "cell_type": "code",
      "execution_count": 4,
      "metadata": {
        "colab": {
          "base_uri": "https://localhost:8080/",
          "height": 1000
        },
        "id": "ocGM5P8C0MCQ",
        "outputId": "2742f5d4-0705-4222-fbe6-54d0472bf2a8"
      },
      "outputs": [
        {
          "ename": "SyntaxError",
          "evalue": "invalid syntax (3821074655.py, line 103)",
          "output_type": "error",
          "traceback": [
            "\u001b[0;36m  Cell \u001b[0;32mIn[4], line 103\u001b[0;36m\u001b[0m\n\u001b[0;31m    a al dataframe\u001b[0m\n\u001b[0m      ^\u001b[0m\n\u001b[0;31mSyntaxError\u001b[0m\u001b[0;31m:\u001b[0m invalid syntax\n"
          ]
        }
      ],
      "source": [
        "import cv2\n",
        "import numpy as np\n",
        "import pandas as pd\n",
        "import matplotlib.pyplot as plt\n",
        "\n",
        "###################################################\n",
        "#      PARTE DE TRACKEO DE POR COLOR DE OPENCV    #\n",
        "###################################################\n",
        "\n",
        "# Define los límites del color en el espacio HSV\n",
        "# PUNTO B\n",
        "pinkLower = (140, 30, 230)\n",
        "pinkUpper = (170, 122, 255)\n",
        "\n",
        "# Carga el video\n",
        "cap = cv2.VideoCapture('/content/YoYoFreeFall1Saturated.mp4')\n",
        "\n",
        "# Variables para guardar las posiciones y tiempos\n",
        "positions = []\n",
        "fps = cap.get(cv2.CAP_PROP_FPS)  # Obtiene los FPS del video\n",
        "frame_duration = 1.0 / fps  # Duración de cada frame en segundos\n",
        "frame_count = 0\n",
        "\n",
        "while True:\n",
        "    # Captura frame por frame\n",
        "    ret, frame = cap.read()\n",
        "\n",
        "    if not ret:\n",
        "        break\n",
        "\n",
        "    # Convierte el frame al espacio de color HSV\n",
        "    hsv = cv2.cvtColor(frame, cv2.COLOR_BGR2HSV)\n",
        "\n",
        "    # Crea una máscara para el color\n",
        "    mask = cv2.inRange(hsv, pinkLower, pinkUpper)\n",
        "\n",
        "    # Realiza una serie de dilataciones y erosiones para eliminar cualquier pequeño punto en la máscara\n",
        "    #mask = cv2.erode(mask, None, iterations=2) # Los puntos marcados en el YoYo son pequeños, la erosion los elimina\n",
        "    mask = cv2.dilate(mask, None, iterations=3)\n",
        "\n",
        "    # Encuentra los contornos en la máscara\n",
        "    contours, _ = cv2.findContours(mask.copy(), cv2.RETR_EXTERNAL, cv2.CHAIN_APPROX_SIMPLE)\n",
        "\n",
        "    if contours:\n",
        "        # Encuentra el contorno más grande en la máscara\n",
        "        c = max(contours, key=cv2.contourArea)\n",
        "\n",
        "        # Encuentra el centro del contorno\n",
        "        M = cv2.moments(c)\n",
        "        if M[\"m00\"] > 0:\n",
        "            center_x = int(M[\"m10\"] / M[\"m00\"])\n",
        "            center_y = int(M[\"m01\"] / M[\"m00\"])\n",
        "            center = (center_x, center_y)\n",
        "\n",
        "            # Calcula el tiempo actual basado en el número de frames procesados\n",
        "            current_time = frame_count * frame_duration\n",
        "            positions.append((current_time, center_x, center_y))\n",
        "\n",
        "            # Dibuja el contorno y el centro en el frame original\n",
        "            cv2.drawContours(frame, [c], -1, (0, 255, 0), 2)\n",
        "            cv2.circle(frame, center, 5, (0, 0, 255), -1)\n",
        "\n",
        "    # Muestra el frame con el tracking\n",
        "    # imshow() necesita display, no funciona en Colab\n",
        "    #cv2.imshow('Object Tracking', frame)\n",
        "\n",
        "    # Rompe el bucle si se presiona la tecla 'q'\n",
        "    if cv2.waitKey(1) & 0xFF == ord('q'):\n",
        "        break\n",
        "\n",
        "    # Incrementa el contador de frames\n",
        "    frame_count += 1\n",
        "\n",
        "# Libera la captura y cierra las ventanas\n",
        "cap.release()\n",
        "cv2.destroyAllWindows()\n",
        "\n",
        "##########################################################################################\n",
        "#                                CREACION DE DATAFRAME                                   #\n",
        "##########################################################################################\n",
        "# Crea un DataFrame con las posiciones en funcion del tiempo que capturo el codigo de opencv\n",
        "df = pd.DataFrame(positions, columns=['Time (sec)', 'X', 'Y'])\n",
        "\n",
        "# Calcula las diferencias entre posiciones y tiempos, lo agrega al dataframe\n",
        "#diff: es una funcion que calcula la diferencia entre los elementos consecutivos, por ejemplo de tiempo en este caso.\n",
        "#fillna(0): remplaza los elementos vacios por un 0 para que no tire error.\n",
        "df['Delta_Time'] = df['Time (sec)'].diff().fillna(0)\n",
        "df['Delta_X'] = df['X'].diff().fillna(0)\n",
        "df['Delta_Y'] = df['Y'].diff().fillna(0)\n",
        "\n",
        "\n",
        "# Calcula la velocidad en X y Y a partir de las diferencias en posicion y el cambio en el tiempo, lo agrega al dataframe\n",
        "df['Speed_X'] = df['Delta_X'] / df['Delta_Time']\n",
        "df['Speed_Y'] = df['Delta_Y'] / df['Delta_Time']\n",
        "\n",
        "# Reemplaza inf y -inf por 0 en las velocidades en x e y (por si se va al infinito por dividir por cero por ejemplo)\n",
        "df['Speed_X'] = df['Speed_X'].replace([np.inf, -np.inf], 0)\n",
        "df['Speed_Y'] = df['Speed_Y'].replace([np.inf, -np.inf], 0)\n",
        "\n",
        "# Calcula la velocidad total, lo agrega al dataframe\n",
        "df['Speed'] = np.sqrt(df['Speed_X']**2 + df['Speed_Y']**2)\n",
        "\n",
        "# Reemplaza inf y -inf por 0 en la velocidad total\n",
        "df['Speed'] = df['Speed'].replace([np.inf, -np.inf], 0)\n",
        "\n",
        "#############################################################################\n",
        "# Guarda el DataFrame actualizado en un archivo CSV (es para chequear despues si todo esta en orden nomas)\n",
        "df.to_csv('positions_with_speed.csv', index=False, float_format='%.6f')\n",
        "\n",
        "print(\"Datos de posiciones y velocidades guardados en 'positions_with_speed.csv'.\")\n",
        "\n",
        "##############################################################################\n",
        "#                         PLOTEO                                             #\n",
        "##############################################################################\n",
        "# Grafica la trayectoria y la velocidad (modulo)\n",
        "fig, ((ax1, ax2), (ax3, ax4)) = plt.subplots(2, 2, figsize=(15, 12))\n",
        "\n",
        "# Grafica la trayectoria\n",
        "ax1.plot(df['X'], df['Y'], marker='o', linestyle='-', color='b')\n",
        "ax1.set_xlabel('X')\n",
        "ax1.set_ylabel('Y')\n",
        "ax1.set_title('Trayectoria del Objeto')\n",
        "\n",
        "# Grafica la velocidad\n",
        "ax2.plot(df['Time (sec)'], df['Speed'], marker='o', linestyle='-', color='r', label='Velocidad Total')\n",
        "ax2.set_xlabel('Tiempo (segundos)')\n",
        "ax2.set_ylabel('Velocidad (pixeles/segundo)')\n",
        "ax2.set_title('Velocidad del Objeto')\n",
        "ax2.legend()\n",
        "\n",
        "# Grafica la posición X en función del tiempo\n",
        "ax3.plot(df['Time (sec)'], df['X'], marker='o', linestyle='-', color='g')\n",
        "ax3.set_xlabel('Tiempo (segundos)')\n",
        "ax3.set_ylabel('Posición X')\n",
        "ax3.set_title('Posición X / Tiempo')\n",
        "\n",
        "# Grafica la posición Y en función del tiempo\n",
        "ax4.plot(df['Time (sec)'], df['Y'], marker='o', linestyle='-', color='m')\n",
        "ax4.set_xlabel('Tiempo (segundos)')\n",
        "ax4.set_ylabel('Posición Y')\n",
        "ax4.set_title('Posición Y / Tiempo')\n",
        "\n",
        "# Ajustar el diseño\n",
        "plt.tight_layout()\n",
        "\n",
        "# Muestra los graficos\n",
        "plt.show()\n"
      ]
    }
  ],
  "metadata": {
    "colab": {
      "collapsed_sections": [
        "9cZ7TmU37KYu"
      ],
      "provenance": []
    },
    "kernelspec": {
      "display_name": "Python 3",
      "name": "python3"
    },
    "language_info": {
      "name": "python",
      "version": "3.12.5"
    }
  },
  "nbformat": 4,
  "nbformat_minor": 0
}

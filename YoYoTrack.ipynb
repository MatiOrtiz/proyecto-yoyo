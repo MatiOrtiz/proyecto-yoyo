{
 "cells": [
  {
   "cell_type": "markdown",
   "metadata": {
    "id": "9cZ7TmU37KYu"
   },
   "source": [
    "# Dependencias"
   ]
  },
  {
   "cell_type": "code",
   "execution_count": 1,
   "metadata": {
    "colab": {
     "base_uri": "https://localhost:8080/"
    },
    "executionInfo": {
     "elapsed": 7689,
     "status": "ok",
     "timestamp": 1730904970590,
     "user": {
      "displayName": "Tomas Rueda",
      "userId": "17662183962868927666"
     },
     "user_tz": 180
    },
    "id": "SRSCwzSZ0BnT",
    "outputId": "ebc86fdb-6a5d-4d0c-bc96-fcd38f15a32f"
   },
   "outputs": [
    {
     "name": "stdout",
     "output_type": "stream",
     "text": [
      "Requirement already satisfied: opencv-contrib-python in c:\\users\\usuario\\appdata\\local\\programs\\python\\python312\\lib\\site-packages (4.10.0.84)\n",
      "Requirement already satisfied: numpy>=1.21.2 in c:\\users\\usuario\\appdata\\local\\programs\\python\\python312\\lib\\site-packages (from opencv-contrib-python) (2.1.1)\n",
      "Note: you may need to restart the kernel to use updated packages.\n"
     ]
    },
    {
     "name": "stderr",
     "output_type": "stream",
     "text": [
      "\n",
      "[notice] A new release of pip is available: 24.2 -> 24.3.1\n",
      "[notice] To update, run: python.exe -m pip install --upgrade pip\n"
     ]
    },
    {
     "name": "stdout",
     "output_type": "stream",
     "text": [
      "Requirement already satisfied: plotly in c:\\users\\usuario\\appdata\\local\\programs\\python\\python312\\lib\\site-packages (5.24.1)Note: you may need to restart the kernel to use updated packages.\n",
      "\n",
      "Requirement already satisfied: tenacity>=6.2.0 in c:\\users\\usuario\\appdata\\local\\programs\\python\\python312\\lib\\site-packages (from plotly) (9.0.0)\n",
      "Requirement already satisfied: packaging in c:\\users\\usuario\\appdata\\roaming\\python\\python312\\site-packages (from plotly) (24.1)\n"
     ]
    },
    {
     "name": "stderr",
     "output_type": "stream",
     "text": [
      "\n",
      "[notice] A new release of pip is available: 24.2 -> 24.3.1\n",
      "[notice] To update, run: python.exe -m pip install --upgrade pip\n"
     ]
    }
   ],
   "source": [
    "%pip install opencv-contrib-python\n",
    "%pip install plotly\n",
    "import cv2\n",
    "import numpy as np\n",
    "import pandas as pd\n",
    "import plotly.graph_objects as go\n",
    "from plotly.subplots import make_subplots\n",
    "import plotly.io as pio\n",
    "import scipy.signal as signal\n",
    "from scipy.optimize import curve_fit"
   ]
  },
  {
   "cell_type": "markdown",
   "metadata": {
    "id": "BXvvEOq7hhtk"
   },
   "source": [
    "# Definiciones"
   ]
  },
  {
   "cell_type": "code",
   "execution_count": 2,
   "metadata": {
    "executionInfo": {
     "elapsed": 4,
     "status": "ok",
     "timestamp": 1730904970591,
     "user": {
      "displayName": "Tomas Rueda",
      "userId": "17662183962868927666"
     },
     "user_tz": 180
    },
    "id": "Aw7RYknIhxMV"
   },
   "outputs": [],
   "source": [
    "# Carga el video\n",
    "nombre_video = 'yoyoNew.MOV'\n",
    "cap = cv2.VideoCapture('Videos/' + nombre_video) # Local\n",
    "if not cap.isOpened():\n",
    "  cap = cv2.VideoCapture('/content/' + nombre_video) # Colab\n",
    "\n",
    "\n",
    "# Medidas tomadas de pixeles y metros\n",
    "medida_metros = 0.10\n",
    "#Medida en pixeles del hilo\n",
    "medida_hilo = 0\n",
    "#Masa del hilo en kg\n",
    "masa = 0.0661\n",
    "\n",
    "if nombre_video == 'yoyoCL.mp4':\n",
    "  medida_pixeles = 110 # Cantidad de pixeles en 0.1 metros\n",
    "  # Definir rectangulos a trackear segun el primer frame\n",
    "  bboxCentro = (465, 70, 73, 78)\n",
    "  bboxBorde = (511, 83, 20, 21)\n",
    "elif nombre_video == 'yoyo.mp4':\n",
    "  medida_pixeles = 145\n",
    "  bboxCentro = (534, 155, 11, 13)\n",
    "  bboxBorde = (557, 174, 15, 16)\n",
    "elif nombre_video == 'yoyoNew.MOV':\n",
    "  medida_pixeles = 138\n",
    "  bboxCentro = (516, 302, 88, 82)\n",
    "  bboxBorde = (537, 344, 47, 51)\n",
    "  medida_hilo = 1478\n",
    "const_XY = medida_metros/medida_pixeles\n",
    "\n",
    "# Variables para guardar las posiciones y tiempos\n",
    "positionsCentro = []\n",
    "positionsCentro_m = []\n",
    "positionsBorde = []\n",
    "positionsBorde_m = []\n",
    "fps = cap.get(cv2.CAP_PROP_FPS)  # Obtiene los FPS del video\n",
    "frame_duration = 1.0 / fps  # Duración de cada frame en segundos # Si hay error acá, revisar video\n",
    "frame_count = 0"
   ]
  },
  {
   "cell_type": "markdown",
   "metadata": {
    "id": "W_hA0GPH6-Sw"
   },
   "source": [
    "# Trackeo"
   ]
  },
  {
   "cell_type": "code",
   "execution_count": 3,
   "metadata": {
    "executionInfo": {
     "elapsed": 4,
     "status": "ok",
     "timestamp": 1730904970591,
     "user": {
      "displayName": "Tomas Rueda",
      "userId": "17662183962868927666"
     },
     "user_tz": 180
    },
    "id": "ocGM5P8C0MCQ"
   },
   "outputs": [],
   "source": [
    "def calcularPosiciones(frame, bbox, positions, positions_m, number):\n",
    "    # Calcular centro\n",
    "    (x, y, w, h) = [int(v) for v in bbox]\n",
    "    center_x = x + w // 2\n",
    "    center_y = y + h // 2\n",
    "    # Dibujar bounding box\n",
    "    cv2.rectangle(frame, (x, y), (x + w, y + h), (0, 255, 0), 2)\n",
    "    # Dibuja centro\n",
    "    cv2.circle(frame, (center_x, center_y), 5, (0, 0, 255), -1)\n",
    "\n",
    "    # Guarda posiciones\n",
    "    current_time = frame_count * frame_duration\n",
    "    positions.append((current_time, center_x, cap.get(cv2.CAP_PROP_FRAME_HEIGHT) - center_y))\n",
    "    positions_m.append((current_time, center_x * const_XY, (cap.get(cv2.CAP_PROP_FRAME_HEIGHT) - center_y) * const_XY))"
   ]
  },
  {
   "cell_type": "code",
   "execution_count": null,
   "metadata": {
    "executionInfo": {
     "elapsed": 211142,
     "status": "ok",
     "timestamp": 1730905181730,
     "user": {
      "displayName": "Tomas Rueda",
      "userId": "17662183962868927666"
     },
     "user_tz": 180
    },
    "id": "05tAQnvtheER"
   },
   "outputs": [],
   "source": [
    "# Inicializar bounding boxes\n",
    "bbox1 = bboxCentro\n",
    "bbox2 = bboxBorde\n",
    "# Crear trackers\n",
    "trackerCentro = cv2.TrackerCSRT_create()\n",
    "trackerBorde = cv2.TrackerCSRT_create()\n",
    "# Leer primer frame\n",
    "ret, frame = cap.read()\n",
    "if not ret:\n",
    "    print(\"No se pudo leer el video.\")\n",
    "    cap.release()\n",
    "    cv2.destroyAllWindows()\n",
    "# Inicializar trackers\n",
    "ok1 = trackerCentro.init(frame, bbox1) # Si hay error acá, compilar definiciones\n",
    "ok2 = trackerBorde.init(frame, bbox2)\n",
    "\n",
    "while True:\n",
    "    # Lee el siguiente frame\n",
    "    ret, frame = cap.read()\n",
    "\n",
    "    if not ret:\n",
    "        break\n",
    "\n",
    "    # Actualiza ambos trackers\n",
    "    ok1, bbox1 = trackerCentro.update(frame)\n",
    "    ok2, bbox2 = trackerBorde.update(frame)\n",
    "    if ok1 and ok2:\n",
    "        calcularPosiciones(frame, bbox1, positionsCentro, positionsCentro_m, 1)\n",
    "        calcularPosiciones(frame, bbox2, positionsBorde, positionsBorde_m, 2)\n",
    "\n",
    "    # Muestra el frame con el seguimiento SOLO LOCAL, NO COLAB\n",
    "    #display_frame = cv2.resize(frame, (400, 1000))\n",
    "    #cv2.imshow('Object Tracking', display_frame)\n",
    "\n",
    "    # Rompe el bucle si se presiona la tecla 'q'\n",
    "    if cv2.waitKey(1) & 0xFF == ord('q'):\n",
    "        break\n",
    "\n",
    "    # Incrementa el contador de frames\n",
    "    frame_count += 1\n",
    "\n",
    "# Libera la captura y cierra las ventanas\n",
    "cap.release()\n",
    "cv2.destroyAllWindows()"
   ]
  },
  {
   "cell_type": "markdown",
   "metadata": {
    "id": "Ph31EEQYhipp"
   },
   "source": [
    "# Datos"
   ]
  },
  {
   "cell_type": "code",
   "execution_count": 5,
   "metadata": {
    "executionInfo": {
     "elapsed": 269,
     "status": "ok",
     "timestamp": 1730905891644,
     "user": {
      "displayName": "Tomas Rueda",
      "userId": "17662183962868927666"
     },
     "user_tz": 180
    },
    "id": "hKNibXM1jnKH"
   },
   "outputs": [],
   "source": [
    "#Función para pasar de coordenadas cartesianas a polares\n",
    "\n",
    "def cartesian_to_polar(x_coords, y_coords):\n",
    "    '''\n",
    "    Esta función devuelve una lista con el radio r y otra lista con el ángulo theta medido desde la horizontal para las coordenadas polares a\n",
    "    partir de las coordenadas cartesianas.\n",
    "    x: lista con los valores de x\n",
    "    y: lista con los valores de y\n",
    "    '''\n",
    "    r_coords = [] # Inicializo una lista vacía para los valores de la coordenada r\n",
    "    theta_coords = [] # Inicializo una lista vacía para los valores del ángulo medido desde el eje +x\n",
    "    for x, y in zip(x_coords, y_coords):\n",
    "        r = np.sqrt(x**2 + y**2)\n",
    "        theta = np.arctan2(y, x)\n",
    "        r_coords.append(r)\n",
    "        theta_coords.append(theta)\n",
    "\n",
    "    return r_coords, theta_coords"
   ]
  },
  {
   "cell_type": "code",
   "execution_count": 6,
   "metadata": {
    "executionInfo": {
     "elapsed": 2,
     "status": "ok",
     "timestamp": 1730905892429,
     "user": {
      "displayName": "Tomas Rueda",
      "userId": "17662183962868927666"
     },
     "user_tz": 180
    },
    "id": "QxJekv8vyAIg"
   },
   "outputs": [],
   "source": [
    "suavizado = True\n",
    "\n",
    "def crear_dataframe(positions):\n",
    "    # Crea el DataFrame y aplica filtros\n",
    "    df = pd.DataFrame(positions, columns=['Time (sec)', 'X', 'Y'])\n",
    "\n",
    "    if suavizado:\n",
    "      window_size = 13\n",
    "      polynomial_order = 2\n",
    "      df['X'] = signal.savgol_filter(df['X'], window_size, polynomial_order)\n",
    "      df['Y'] = signal.savgol_filter(df['Y'], window_size, polynomial_order)\n",
    "\n",
    "    diff_size = 3\n",
    "\n",
    "    # Calcular coordenadas polares\n",
    "    df['R'], df['Theta'] = cartesian_to_polar(df['X'], df['Y'])  # Agregar coordenadas polares\n",
    "\n",
    "    # Continuar con el resto del cálculo\n",
    "    df['Delta_Time'] = df['Time (sec)'].diff().fillna(0)\n",
    "    df['Delta_X'] = df['X'].diff(diff_size).fillna(0)\n",
    "    df['Delta_Y'] = df['Y'].diff(diff_size).fillna(0)\n",
    "\n",
    "    # Velocidades\n",
    "    df['Speed_X'] = df['Delta_X'] / df['Delta_Time']\n",
    "    df.loc[0, 'Speed_X'] = df.loc[1, 'Speed_X']\n",
    "    df['Speed_Y'] = df['Delta_Y'] / df['Delta_Time']\n",
    "    df.loc[0, 'Speed_Y'] = df.loc[1, 'Speed_Y']\n",
    "    df['Speed_X'] = df['Speed_X'].replace([np.inf, -np.inf], 0)\n",
    "    df['Speed_Y'] = df['Speed_Y'].replace([np.inf, -np.inf], 0)\n",
    "    df['Speed'] = np.sqrt(df['Speed_X']**2 + df['Speed_Y']**2)\n",
    "    df['Speed'] = df['Speed'].replace([np.inf, -np.inf], 0)\n",
    "\n",
    "    # Savitzky-Golay filters para suavizar las velocidades\n",
    "    if suavizado:\n",
    "      df['Speed_X'] = signal.savgol_filter(df['Speed_X'], window_size, polynomial_order)\n",
    "      df['Speed_Y'] = signal.savgol_filter(df['Speed_Y'], window_size, polynomial_order)\n",
    "      df['Speed'] = signal.savgol_filter(df['Speed'], window_size, polynomial_order)\n",
    "\n",
    "    # Calcular aceleraciones\n",
    "    df['Acceleration_X'] = df['Speed_X'].diff(diff_size) / df['Delta_Time']\n",
    "    df['Acceleration_X'] = df['Acceleration_X'].fillna(0)\n",
    "    df['Acceleration_Y'] = df['Speed_Y'].diff(diff_size) / df['Delta_Time']\n",
    "    df['Acceleration_Y'] = df['Acceleration_Y'].fillna(0)\n",
    "    df['Acceleration_X'] = df['Acceleration_X'].replace([np.inf, -np.inf], 0)\n",
    "    df['Acceleration_Y'] = df['Acceleration_Y'].replace([np.inf, -np.inf], 0)\n",
    "    df['Acceleration'] = np.sqrt(df['Acceleration_X']**2 + df['Acceleration_Y']**2)\n",
    "    df['Acceleration'] = df['Acceleration'].replace([np.inf, -np.inf], 0)\n",
    "\n",
    "    # Cálculo de la velocidad angular\n",
    "    df['Delta_Theta'] = df['Theta'].diff().fillna(0)  # Cambio en el ángulo\n",
    "    df['Angular_Velocity'] = df['Delta_Theta'] / df['Delta_Time']  # Velocidad angular en radianes por segundo\n",
    "    df['Angular_Velocity'] = df['Angular_Velocity'].replace([np.inf, -np.inf], 0)  # Eliminar infinitos\n",
    "    if suavizado:\n",
    "      df['Angular_Velocity'] = signal.savgol_filter(df['Angular_Velocity'], window_size, polynomial_order)\n",
    "\n",
    "    #Cálculo de la aceleración angular\n",
    "    df['Delta_Omega']= df['Angular_Velocity'].diff().fillna(0)\n",
    "    df['Angular_Acceleration'] = df['Delta_Omega'] / df['Delta_Time']\n",
    "    #df['Angular_Acceleration'] = df['Angular_Acceleration'].replace([np.inf, -np.inf], 0)\n",
    "    if suavizado:\n",
    "      df['Angular_Acceleration'] = signal.savgol_filter(df['Angular_Acceleration'], window_size, polynomial_order)\n",
    "\n",
    "    # Separar dataframes para velocidades y aceleraciones\n",
    "    df_speed = df[['Time (sec)', 'Speed_X', 'Speed_Y', 'Speed']][df['Speed'] != 0].copy()\n",
    "    df_acceleration = df[['Time (sec)', 'Acceleration_X', 'Acceleration_Y', 'Acceleration']][df['Acceleration'] != 0].copy()\n",
    "\n",
    "    return df, df_speed, df_acceleration\n",
    "\n",
    "\n",
    "\n",
    "\n",
    "def crear_dataframeRelativo(dfA, dfB):\n",
    "    dfCombined = pd.merge(dfA, dfB, on='Time (sec)')\n",
    "    dfCombined['Delta_Time'] = dfCombined['Time (sec)'].diff().fillna(0)\n",
    "\n",
    "    # Posición relativa en X e Y\n",
    "    dfCombined['Relative_Position_X'] = dfCombined['X_x'] - dfCombined['X_y']\n",
    "    dfCombined['Relative_Position_Y'] = dfCombined['Y_x'] - dfCombined['Y_y']\n",
    "\n",
    "    # Calcular coordenadas polares de la posición relativa\n",
    "    dfCombined['R_Relative'], dfCombined['Theta_Relative'] = cartesian_to_polar(\n",
    "        dfCombined['Relative_Position_X'], dfCombined['Relative_Position_Y']\n",
    "    )\n",
    "\n",
    "    dfCombined['Theta_Relative'] = np.unwrap(dfCombined['Theta_Relative'])\n",
    "    dfCombined.loc[dfCombined['Delta_Time'] <= 1e-5, 'Angular_Velocity_Relative'] = 0\n",
    "\n",
    "    # Calcular la velocidad angular relativa, manejando posibles discontinuidades\n",
    "    dfCombined['Delta_Theta'] = dfCombined['Theta_Relative'].diff().fillna(0)\n",
    "    dfCombined['Relative_Angular_Velocity'] = dfCombined['Delta_Theta'] / dfCombined['Delta_Time']\n",
    "    dfCombined['Relative_Angular_Velocity'] = dfCombined['Relative_Angular_Velocity'].replace([np.inf, -np.inf], 0)\n",
    "\n",
    "    #Aceleración angular relativa\n",
    "    dfCombined['Delta_Relative_Omega'] = dfCombined['Relative_Angular_Velocity'].diff().fillna(0)\n",
    "    dfCombined['Relative_Angular_Acceleration'] = dfCombined['Delta_Relative_Omega'] / dfCombined['Delta_Time']\n",
    "    if suavizado:\n",
    "      dfCombined['Relative_Angular_Acceleration'] = signal.savgol_filter(dfCombined['Relative_Angular_Acceleration'], 26, 2)\n",
    "\n",
    "    # Calcular velocidades y aceleraciones relativas\n",
    "    dfCombined['Delta_X'] = dfCombined['Relative_Position_X'].diff().fillna(0)\n",
    "    dfCombined['Delta_Y'] = dfCombined['Relative_Position_Y'].diff().fillna(0)\n",
    "    dfCombined['Relative_Speed_X'] = dfCombined['Delta_X'] / dfCombined['Delta_Time']\n",
    "    dfCombined['Relative_Speed_Y'] = dfCombined['Delta_Y'] / dfCombined['Delta_Time']\n",
    "    if suavizado:\n",
    "      dfCombined['Relative_Speed_X'] = signal.savgol_filter(dfCombined['Relative_Speed_X'], 26, 2)\n",
    "      dfCombined['Relative_Speed_Y'] = signal.savgol_filter(dfCombined['Relative_Speed_Y'], 26, 2)\n",
    "\n",
    "    dfCombined['Relative_Acceleration_X'] = dfCombined['Relative_Speed_X'].diff() / dfCombined['Delta_Time']\n",
    "    dfCombined['Relative_Acceleration_Y'] = dfCombined['Relative_Speed_Y'].diff() / dfCombined['Delta_Time']\n",
    "    if suavizado:\n",
    "      dfCombined['Relative_Acceleration_X'] = signal.savgol_filter(dfCombined['Relative_Acceleration_X'], 26, 2)\n",
    "      dfCombined['Relative_Acceleration_Y'] = signal.savgol_filter(dfCombined['Relative_Acceleration_Y'], 26, 2)\n",
    "\n",
    "    # Crear dataframes de velocidad y aceleración relativas\n",
    "    dfCombined_speed = dfCombined[['Time (sec)', 'Relative_Speed_X', 'Relative_Speed_Y']]\n",
    "    dfCombined_acceleration = dfCombined[['Time (sec)', 'Relative_Acceleration_X', 'Relative_Acceleration_Y']]\n",
    "\n",
    "    return dfCombined, dfCombined_speed, dfCombined_acceleration\n"
   ]
  },
  {
   "cell_type": "code",
   "execution_count": 7,
   "metadata": {
    "colab": {
     "base_uri": "https://localhost:8080/"
    },
    "collapsed": true,
    "executionInfo": {
     "elapsed": 964,
     "status": "ok",
     "timestamp": 1730905893391,
     "user": {
      "displayName": "Tomas Rueda",
      "userId": "17662183962868927666"
     },
     "user_tz": 180
    },
    "id": "h7ZS-93Rhw7_",
    "outputId": "2431dc7d-33aa-4e02-fa34-af6959275498"
   },
   "outputs": [
    {
     "name": "stdout",
     "output_type": "stream",
     "text": [
      "Datos de posiciones, velocidades y velocidad angular relativa guardados en archivos CSV.\n"
     ]
    }
   ],
   "source": [
    "# Creamos los DataFrames para los puntos\n",
    "dfCentro, dfCentro_speed, dfCentro_acceleration = crear_dataframe(positionsCentro_m)\n",
    "dfBorde, dfBorde_speed, dfBorde_acceleration = crear_dataframe(positionsBorde_m)\n",
    "dfRelativoBordeCentro, dfRelativoBordeCentro_speed, dfRelativoBordeCentro_acceleration = crear_dataframeRelativo(dfBorde, dfCentro)\n",
    "\n",
    "# Guardamos los DataFrames actualizados en archivos CSV (es para chequear después si todo está en orden)\n",
    "dfCentro.to_csv('DataFrameA.csv', index=False, float_format='%.6f')\n",
    "dfBorde.to_csv('DataFrameB.csv', index=False, float_format='%.6f')\n",
    "dfRelativoBordeCentro.to_csv('DataFrameC.csv', index=False, float_format='%.6f')\n",
    "print(\"Datos de posiciones, velocidades y velocidad angular relativa guardados en archivos CSV.\")\n",
    "\n",
    "# Comprobación opcional de conteo de filas\n",
    "#print(dfCentro_acceleration.count())\n",
    "#print(dfCentro_speed.count())\n",
    "#print(dfRelativoBordeCentro.count())"
   ]
  },
  {
   "cell_type": "code",
   "execution_count": 8,
   "metadata": {
    "colab": {
     "base_uri": "https://localhost:8080/",
     "height": 594
    },
    "executionInfo": {
     "elapsed": 12,
     "status": "ok",
     "timestamp": 1730905920278,
     "user": {
      "displayName": "Tomas Rueda",
      "userId": "17662183962868927666"
     },
     "user_tz": 180
    },
    "id": "1y5G37We8iUJ",
    "outputId": "aaa94930-cf07-4bb6-a802-075a75d1e2d0"
   },
   "outputs": [
    {
     "data": {
      "application/vnd.plotly.v1+json": {
       "config": {
        "plotlyServerURL": "https://plot.ly"
       },
       "data": [
        {
         "marker": {
          "color": "blue",
          "opacity": 0.6,
          "size": 8
         },
         "mode": "markers",
         "name": "Datos originales",
         "type": "scatter",
         "x": [
          0.01247566909975669,
          0.016634225466342255,
          0.02079278183292782,
          0.02495133819951338,
          0.029109894566098946,
          0.03326845093268451,
          0.03742700729927007,
          0.04158556366585564,
          0.0457441200324412,
          0.04990267639902676,
          0.05406123276561233,
          0.05821978913219789,
          0.06237834549878346,
          0.06653690186536902,
          0.07069545823195458,
          0.07485401459854014,
          0.07901257096512572,
          0.08317112733171128,
          0.08732968369829684,
          0.0914882400648824,
          0.09564679643146796,
          0.09980535279805353,
          0.1039639091646391,
          0.10812246553122466,
          0.11228102189781022,
          0.11643957826439578,
          0.12059813463098135,
          0.12475669099756692,
          0.12891524736415247,
          0.13307380373073804,
          0.13723236009732362,
          0.14139091646390917,
          0.14554947283049474,
          0.1497080291970803,
          0.15386658556366586,
          0.15802514193025144,
          0.162183698296837,
          0.16634225466342256,
          0.1705008110300081,
          0.17465936739659368,
          0.17881792376317926,
          0.1829764801297648,
          0.18713503649635038,
          0.19129359286293593,
          0.1954521492295215,
          0.19961070559610705
         ],
         "y": [
          -15.116855395520336,
          -10.644501309129694,
          -6.172147222739057,
          -1.6997931363483514,
          5.393697417442312,
          12.70418372945297,
          19.836189043953954,
          17.969164063943317,
          13.702347489958973,
          6.756475943052837,
          2.4472136772625723,
          -2.0827661857439654,
          -5.573851151602469,
          -6.199998287437988,
          -6.155210764400733,
          -5.401433824342795,
          -7.020224689755742,
          -8.893104247963945,
          -11.780289475011644,
          -11.331536057889192,
          -11.165558766628074,
          -13.269986891662603,
          -20.038171990979773,
          -28.775544459483566,
          -33.623720646278215,
          -34.54786581121548,
          -28.31244732583719,
          -18.5853584168323,
          -4.477288659405375,
          8.90130065740686,
          19.00337529852868,
          22.37005047811413,
          15.94816367785509,
          -1.3462602513657462,
          -29.17570487776791,
          -62.080483324145106,
          -91.14875669237814,
          -108.9689217416818,
          -110.73495524817912,
          -100.80441974758146,
          -81.6684800718291,
          -62.36288308424214,
          -43.8764670385948,
          -28.75007704445395,
          -13.623687050313409,
          1.5027029438268937
         ]
        },
        {
         "line": {
          "color": "red",
          "width": 2
         },
         "mode": "lines",
         "name": "Valor constante = -19.1060",
         "type": "scatter",
         "x": [
          0.01247566909975669,
          0.012662991458611897,
          0.012850313817467101,
          0.013037636176322307,
          0.013224958535177514,
          0.013412280894032718,
          0.013599603252887924,
          0.01378692561174313,
          0.013974247970598335,
          0.014161570329453541,
          0.014348892688308745,
          0.014536215047163951,
          0.014723537406019158,
          0.014910859764874364,
          0.015098182123729568,
          0.015285504482584774,
          0.015472826841439979,
          0.015660149200295185,
          0.01584747155915039,
          0.016034793918005597,
          0.0162221162768608,
          0.016409438635716006,
          0.016596760994571212,
          0.01678408335342642,
          0.016971405712281624,
          0.01715872807113683,
          0.017346050429992037,
          0.01753337278884724,
          0.017720695147702446,
          0.017908017506557652,
          0.018095339865412858,
          0.018282662224268064,
          0.018469984583123267,
          0.018657306941978473,
          0.01884462930083368,
          0.019031951659688885,
          0.01921927401854409,
          0.019406596377399297,
          0.019593918736254504,
          0.019781241095109706,
          0.019968563453964912,
          0.02015588581282012,
          0.020343208171675325,
          0.020530530530530527,
          0.020717852889385734,
          0.02090517524824094,
          0.021092497607096146,
          0.021279819965951352,
          0.021467142324806558,
          0.021654464683661764,
          0.02184178704251697,
          0.022029109401372173,
          0.02221643176022738,
          0.022403754119082585,
          0.022591076477937788,
          0.022778398836792994,
          0.0229657211956482,
          0.023153043554503407,
          0.023340365913358613,
          0.02352768827221382,
          0.023715010631069025,
          0.02390233298992423,
          0.024089655348779437,
          0.02427697770763464,
          0.024464300066489846,
          0.024651622425345052,
          0.024838944784200255,
          0.02502626714305546,
          0.025213589501910667,
          0.025400911860765873,
          0.02558823421962108,
          0.025775556578476286,
          0.025962878937331492,
          0.026150201296186698,
          0.026337523655041904,
          0.026524846013897107,
          0.026712168372752313,
          0.02689949073160752,
          0.027086813090462722,
          0.027274135449317928,
          0.027461457808173134,
          0.02764878016702834,
          0.027836102525883546,
          0.028023424884738753,
          0.02821074724359396,
          0.02839806960244916,
          0.028585391961304368,
          0.028772714320159574,
          0.02896003667901478,
          0.029147359037869986,
          0.029334681396725192,
          0.029522003755580395,
          0.0297093261144356,
          0.029896648473290807,
          0.030083970832146013,
          0.03027129319100122,
          0.030458615549856426,
          0.03064593790871163,
          0.030833260267566834,
          0.03102058262642204,
          0.031207904985277247,
          0.031395227344132456,
          0.031582549702987656,
          0.03176987206184286,
          0.03195719442069807,
          0.032144516779553274,
          0.03233183913840848,
          0.032519161497263686,
          0.03270648385611889,
          0.03289380621497409,
          0.033081128573829305,
          0.033268450932684504,
          0.03345577329153972,
          0.033643095650394916,
          0.03383041800925012,
          0.03401774036810533,
          0.034205062726960535,
          0.03439238508581574,
          0.03457970744467095,
          0.03476702980352615,
          0.03495435216238135,
          0.035141674521236566,
          0.035328996880091765,
          0.03551631923894698,
          0.03570364159780218,
          0.03589096395665739,
          0.03607828631551259,
          0.036265608674367796,
          0.036452931033223,
          0.03664025339207821,
          0.036827575750933414,
          0.03701489810978861,
          0.037202220468643826,
          0.037389542827499025,
          0.03757686518635424,
          0.03776418754520944,
          0.03795150990406465,
          0.03813883226291985,
          0.038326154621775056,
          0.03851347698063026,
          0.03870079933948547,
          0.038888121698340675,
          0.03907544405719588,
          0.03926276641605109,
          0.039450088774906286,
          0.0396374111337615,
          0.0398247334926167,
          0.04001205585147191,
          0.04019937821032711,
          0.04038670056918232,
          0.04057402292803752,
          0.04076134528689273,
          0.040948667645747935,
          0.04113599000460314,
          0.04132331236345835,
          0.04151063472231355,
          0.04169795708116876,
          0.04188527944002396,
          0.04207260179887917,
          0.04225992415773437,
          0.04244724651658958,
          0.042634568875444784,
          0.04282189123429999,
          0.043009213593155196,
          0.0431965359520104,
          0.04338385831086561,
          0.04357118066972081,
          0.04375850302857602,
          0.04394582538743123,
          0.044133147746286426,
          0.04432047010514163,
          0.04450779246399684,
          0.044695114822852045,
          0.04488243718170725,
          0.04506975954056246,
          0.04525708189941766,
          0.04544440425827287,
          0.045631726617128075,
          0.04581904897598328,
          0.04600637133483849,
          0.046193693693693694,
          0.04638101605254889,
          0.0465683384114041,
          0.046755660770259305,
          0.04694298312911451,
          0.04713030548796972,
          0.047317627846824924,
          0.04750495020568013,
          0.047692272564535336,
          0.04787959492339054,
          0.04806691728224575,
          0.048254239641100954,
          0.04844156199995616,
          0.04862888435881136,
          0.048816206717666566,
          0.04900352907652177,
          0.04919085143537698,
          0.049378173794232184,
          0.04956549615308739,
          0.0497528185119426,
          0.0499401408707978,
          0.05012746322965301,
          0.050314785588508215,
          0.05050210794736342,
          0.05068943030621862,
          0.05087675266507383,
          0.05106407502392903,
          0.05125139738278424,
          0.051438719741639445,
          0.05162604210049465,
          0.05181336445934986,
          0.052000686818205064,
          0.05218800917706027,
          0.052375331535915476,
          0.05256265389477068,
          0.05274997625362589,
          0.05293729861248109,
          0.053124620971336294,
          0.0533119433301915,
          0.053499265689046706,
          0.05368658804790191,
          0.05387391040675712,
          0.054061232765612324,
          0.05424855512446753,
          0.05443587748332274,
          0.05462319984217794,
          0.05481052220103315,
          0.05499784455988835,
          0.055185166918743554,
          0.05537248927759876,
          0.05555981163645397,
          0.05574713399530917,
          0.05593445635416438,
          0.056121778713019585,
          0.05630910107187479,
          0.05649642343073,
          0.0566837457895852,
          0.05687106814844041,
          0.057058390507295616,
          0.057245712866150815,
          0.05743303522500602,
          0.05762035758386123,
          0.05780767994271643,
          0.05799500230157164,
          0.058182324660426846,
          0.05836964701928205,
          0.05855696937813726,
          0.058744291736992464,
          0.05893161409584767,
          0.059118936454702876,
          0.05930625881355808,
          0.05949358117241328,
          0.05968090353126849,
          0.059868225890123694,
          0.0600555482489789,
          0.060242870607834106,
          0.06043019296668931,
          0.06061751532554452,
          0.060804837684399725,
          0.06099216004325493,
          0.06117948240211014,
          0.06136680476096534,
          0.06155412711982054,
          0.06174144947867575,
          0.061928771837530955,
          0.06211609419638616,
          0.06230341655524137,
          0.06249073891409657,
          0.06267806127295178,
          0.06286538363180699,
          0.06305270599066219,
          0.06324002834951739,
          0.0634273507083726,
          0.06361467306722782,
          0.063801995426083,
          0.06398931778493822,
          0.06417664014379343,
          0.06436396250264863,
          0.06455128486150383,
          0.06473860722035904,
          0.06492592957921425,
          0.06511325193806945,
          0.06530057429692465,
          0.06548789665577986,
          0.06567521901463508,
          0.06586254137349028,
          0.06604986373234548,
          0.06623718609120069,
          0.06642450845005589,
          0.06661183080891109,
          0.0667991531677663,
          0.06698647552662151,
          0.06717379788547671,
          0.06736112024433191,
          0.06754844260318713,
          0.06773576496204234,
          0.06792308732089754,
          0.06811040967975274,
          0.06829773203860795,
          0.06848505439746315,
          0.06867237675631835,
          0.06885969911517356,
          0.06904702147402877,
          0.06923434383288397,
          0.06942166619173917,
          0.06960898855059439,
          0.0697963109094496,
          0.0699836332683048,
          0.07017095562716,
          0.07035827798601521,
          0.07054560034487041,
          0.07073292270372561,
          0.07092024506258082,
          0.07110756742143604,
          0.07129488978029123,
          0.07148221213914643,
          0.07166953449800165,
          0.07185685685685686,
          0.07204417921571206,
          0.07223150157456726,
          0.07241882393342247,
          0.07260614629227767,
          0.07279346865113287,
          0.07298079100998808,
          0.0731681133688433,
          0.0733554357276985,
          0.0735427580865537,
          0.07373008044540891,
          0.07391740280426412,
          0.07410472516311932,
          0.07429204752197452,
          0.07447936988082973,
          0.07466669223968493,
          0.07485401459854013,
          0.07504133695739534,
          0.07522865931625056,
          0.07541598167510577,
          0.07560330403396096,
          0.07579062639281617,
          0.07597794875167138,
          0.07616527111052657,
          0.07635259346938178,
          0.07653991582823699,
          0.0767272381870922,
          0.07691456054594739,
          0.0771018829048026,
          0.07728920526365782,
          0.07747652762251303,
          0.07766384998136822,
          0.07785117234022343,
          0.07803849469907864,
          0.07822581705793383,
          0.07841313941678904,
          0.07860046177564425,
          0.07878778413449947,
          0.07897510649335465,
          0.07916242885220987,
          0.07934975121106508,
          0.07953707356992029,
          0.07972439592877548,
          0.07991171828763069,
          0.0800990406464859,
          0.08028636300534109,
          0.0804736853641963,
          0.08066100772305151,
          0.08084833008190673,
          0.08103565244076191,
          0.08122297479961713,
          0.08141029715847234,
          0.08159761951732755,
          0.08178494187618274,
          0.08197226423503795,
          0.08215958659389316,
          0.08234690895274835,
          0.08253423131160356,
          0.08272155367045878,
          0.08290887602931399,
          0.08309619838816917,
          0.08328352074702439,
          0.0834708431058796,
          0.08365816546473481,
          0.08384548782359,
          0.08403281018244521,
          0.08422013254130042,
          0.08440745490015564,
          0.08459477725901082,
          0.08478209961786604,
          0.08496942197672125,
          0.08515674433557643,
          0.08534406669443165,
          0.08553138905328686,
          0.08571871141214207,
          0.08590603377099726,
          0.08609335612985247,
          0.08628067848870768,
          0.0864680008475629,
          0.08665532320641808,
          0.0868426455652733,
          0.08702996792412851,
          0.0872172902829837,
          0.08740461264183891,
          0.08759193500069412,
          0.08777925735954933,
          0.08796657971840452,
          0.08815390207725973,
          0.08834122443611495,
          0.08852854679497016,
          0.08871586915382534,
          0.08890319151268056,
          0.08909051387153577,
          0.08927783623039096,
          0.08946515858924617,
          0.08965248094810138,
          0.0898398033069566,
          0.09002712566581178,
          0.090214448024667,
          0.0904017703835222,
          0.09058909274237742,
          0.0907764151012326,
          0.09096373746008782,
          0.09115105981894303,
          0.09133838217779822,
          0.09152570453665343,
          0.09171302689550864,
          0.09190034925436386,
          0.09208767161321904,
          0.09227499397207425,
          0.09246231633092947,
          0.09264963868978468,
          0.09283696104863987,
          0.09302428340749508,
          0.09321160576635029,
          0.09339892812520548,
          0.09358625048406069,
          0.0937735728429159,
          0.09396089520177112,
          0.0941482175606263,
          0.09433553991948151,
          0.09452286227833673,
          0.09471018463719194,
          0.09489750699604713,
          0.09508482935490234,
          0.09527215171375755,
          0.09545947407261274,
          0.09564679643146795,
          0.09583411879032316,
          0.09602144114917838,
          0.09620876350803356,
          0.09639608586688878,
          0.09658340822574399,
          0.0967707305845992,
          0.09695805294345439,
          0.0971453753023096,
          0.09733269766116481,
          0.09752002002002,
          0.09770734237887521,
          0.09789466473773042,
          0.09808198709658564,
          0.09826930945544082,
          0.09845663181429604,
          0.09864395417315125,
          0.09883127653200646,
          0.09901859889086165,
          0.09920592124971686,
          0.09939324360857207,
          0.09958056596742729,
          0.09976788832628247,
          0.09995521068513769,
          0.1001425330439929,
          0.10032985540284808,
          0.1005171777617033,
          0.10070450012055851,
          0.10089182247941372,
          0.10107914483826891,
          0.10126646719712412,
          0.10145378955597933,
          0.10164111191483455,
          0.10182843427368973,
          0.10201575663254495,
          0.10220307899140016,
          0.10239040135025534,
          0.10257772370911056,
          0.10276504606796577,
          0.10295236842682098,
          0.10313969078567617,
          0.10332701314453138,
          0.1035143355033866,
          0.10370165786224181,
          0.103888980221097,
          0.1040763025799522,
          0.10426362493880742,
          0.1044509472976626,
          0.10463826965651782,
          0.10482559201537303,
          0.10501291437422824,
          0.10520023673308343,
          0.10538755909193864,
          0.10557488145079386,
          0.10576220380964907,
          0.10594952616850425,
          0.10613684852735947,
          0.10632417088621468,
          0.10651149324506987,
          0.10669881560392508,
          0.10688613796278029,
          0.1070734603216355,
          0.10726078268049069,
          0.1074481050393459,
          0.10763542739820112,
          0.10782274975705633,
          0.10801007211591152,
          0.10819739447476673,
          0.10838471683362194,
          0.10857203919247713,
          0.10875936155133234,
          0.10894668391018755,
          0.10913400626904277,
          0.10932132862789795,
          0.10950865098675316,
          0.10969597334560838,
          0.10988329570446359,
          0.11007061806331878,
          0.11025794042217399,
          0.1104452627810292,
          0.11063258513988439,
          0.1108199074987396,
          0.11100722985759481,
          0.11119455221645003,
          0.11138187457530521,
          0.11156919693416043,
          0.11175651929301564,
          0.11194384165187085,
          0.11213116401072604,
          0.11231848636958125,
          0.11250580872843646,
          0.11269313108729168,
          0.11288045344614686,
          0.11306777580500207,
          0.11325509816385729,
          0.11344242052271247,
          0.11362974288156769,
          0.1138170652404229,
          0.11400438759927811,
          0.1141917099581333,
          0.11437903231698851,
          0.11456635467584372,
          0.11475367703469894,
          0.11494099939355412,
          0.11512832175240933,
          0.11531564411126455,
          0.11550296647011973,
          0.11569028882897495,
          0.11587761118783016,
          0.11606493354668537,
          0.11625225590554056,
          0.11643957826439577,
          0.11662690062325098,
          0.1168142229821062,
          0.11700154534096138,
          0.1171888676998166,
          0.11737619005867181,
          0.117563512417527,
          0.11775083477638221,
          0.11793815713523742,
          0.11812547949409263,
          0.11831280185294782,
          0.11850012421180303,
          0.11868744657065824,
          0.11887476892951346,
          0.11906209128836864,
          0.11924941364722386,
          0.11943673600607907,
          0.11962405836493425,
          0.11981138072378947,
          0.11999870308264468,
          0.1201860254414999,
          0.12037334780035508,
          0.12056067015921029,
          0.1207479925180655,
          0.12093531487692072,
          0.1211226372357759,
          0.12130995959463112,
          0.12149728195348633,
          0.12168460431234152,
          0.12187192667119673,
          0.12205924903005194,
          0.12224657138890715,
          0.12243389374776234,
          0.12262121610661755,
          0.12280853846547277,
          0.12299586082432798,
          0.12318318318318316,
          0.12337050554203838,
          0.12355782790089359,
          0.12374515025974878,
          0.12393247261860399,
          0.1241197949774592,
          0.12430711733631442,
          0.1244944396951696,
          0.12468176205402481,
          0.12486908441288003,
          0.12505640677173524,
          0.12524372913059043,
          0.12543105148944564,
          0.12561837384830085,
          0.12580569620715606,
          0.12599301856601125,
          0.12618034092486646,
          0.12636766328372168,
          0.12655498564257686,
          0.12674230800143207,
          0.1269296303602873,
          0.1271169527191425,
          0.1273042750779977,
          0.1274915974368529,
          0.1276789197957081,
          0.12786624215456333,
          0.1280535645134185,
          0.12824088687227372,
          0.12842820923112894,
          0.12861553158998412,
          0.12880285394883934,
          0.12899017630769455,
          0.12917749866654976,
          0.12936482102540495,
          0.12955214338426016,
          0.12973946574311537,
          0.1299267881019706,
          0.13011411046082577,
          0.13030143281968098,
          0.1304887551785362,
          0.13067607753739138,
          0.1308633998962466,
          0.1310507222551018,
          0.13123804461395702,
          0.1314253669728122,
          0.13161268933166742,
          0.13180001169052263,
          0.13198733404937785,
          0.13217465640823303,
          0.13236197876708825,
          0.13254930112594346,
          0.13273662348479864,
          0.13292394584365386,
          0.13311126820250907,
          0.13329859056136428,
          0.13348591292021947,
          0.13367323527907468,
          0.1338605576379299,
          0.1340478799967851,
          0.1342352023556403,
          0.1344225247144955,
          0.13460984707335072,
          0.1347971694322059,
          0.13498449179106112,
          0.13517181414991633,
          0.13535913650877154,
          0.13554645886762673,
          0.13573378122648194,
          0.13592110358533716,
          0.13610842594419237,
          0.13629574830304755,
          0.13648307066190277,
          0.13667039302075798,
          0.13685771537961317,
          0.13704503773846838,
          0.1372323600973236,
          0.1374196824561788,
          0.13760700481503402,
          0.1377943271738892,
          0.13798164953274442,
          0.13816897189159963,
          0.13835629425045484,
          0.13854361660931003,
          0.13873093896816524,
          0.13891826132702045,
          0.13910558368587564,
          0.13929290604473085,
          0.13948022840358607,
          0.13966755076244128,
          0.13985487312129646,
          0.14004219548015168,
          0.1402295178390069,
          0.1404168401978621,
          0.1406041625567173,
          0.1407914849155725,
          0.14097880727442771,
          0.1411661296332829,
          0.1413534519921381,
          0.14154077435099333,
          0.14172809670984854,
          0.14191541906870372,
          0.14210274142755894,
          0.14229006378641415,
          0.14247738614526936,
          0.14266470850412455,
          0.14285203086297976,
          0.14303935322183498,
          0.1432266755806902,
          0.14341399793954537,
          0.1436013202984006,
          0.1437886426572558,
          0.14397596501611098,
          0.1441632873749662,
          0.1443506097338214,
          0.14453793209267662,
          0.1447252544515318,
          0.14491257681038702,
          0.14509989916924224,
          0.14528722152809745,
          0.14547454388695263,
          0.14566186624580785,
          0.14584918860466306,
          0.14603651096351825,
          0.14622383332237346,
          0.14641115568122867,
          0.14659847804008388,
          0.14678580039893907,
          0.14697312275779428,
          0.1471604451166495,
          0.1473477674755047,
          0.1475350898343599,
          0.1477224121932151,
          0.14790973455207032,
          0.1480970569109255,
          0.14828437926978072,
          0.14847170162863593,
          0.14865902398749115,
          0.14884634634634633,
          0.14903366870520154,
          0.14922099106405676,
          0.14940831342291197,
          0.14959563578176716,
          0.14978295814062237,
          0.14997028049947758,
          0.15015760285833277,
          0.15034492521718798,
          0.1505322475760432,
          0.1507195699348984,
          0.1509068922937536,
          0.1510942146526088,
          0.15128153701146402,
          0.15146885937031923,
          0.15165618172917442,
          0.15184350408802963,
          0.15203082644688484,
          0.15221814880574003,
          0.15240547116459524,
          0.15259279352345045,
          0.15278011588230567,
          0.15296743824116085,
          0.15315476060001607,
          0.15334208295887128,
          0.1535294053177265,
          0.15371672767658168,
          0.1539040500354369,
          0.1540913723942921,
          0.1542786947531473,
          0.1544660171120025,
          0.15465333947085771,
          0.15484066182971293,
          0.1550279841885681,
          0.15521530654742333,
          0.15540262890627854,
          0.15558995126513375,
          0.15577727362398894,
          0.15596459598284415,
          0.15615191834169936,
          0.15633924070055458,
          0.15652656305940976,
          0.15671388541826498,
          0.1569012077771202,
          0.15708853013597537,
          0.1572758524948306,
          0.1574631748536858,
          0.157650497212541,
          0.1578378195713962,
          0.1580251419302514,
          0.15821246428910662,
          0.15839978664796184,
          0.15858710900681702,
          0.15877443136567224,
          0.15896175372452745,
          0.15914907608338263,
          0.15933639844223785,
          0.15952372080109306,
          0.15971104315994827,
          0.15989836551880346,
          0.16008568787765867,
          0.16027301023651389,
          0.1604603325953691,
          0.16064765495422428,
          0.1608349773130795,
          0.1610222996719347,
          0.1612096220307899,
          0.1613969443896451,
          0.16158426674850032,
          0.16177158910735553,
          0.16195891146621072,
          0.16214623382506593,
          0.16233355618392115,
          0.16252087854277636,
          0.16270820090163154,
          0.16289552326048676,
          0.16308284561934197,
          0.16327016797819716,
          0.16345749033705237,
          0.16364481269590758,
          0.1638321350547628,
          0.16401945741361798,
          0.1642067797724732,
          0.1643941021313284,
          0.16458142449018362,
          0.1647687468490388,
          0.16495606920789402,
          0.16514339156674923,
          0.16533071392560442,
          0.16551803628445963,
          0.16570535864331484,
          0.16589268100217006,
          0.16608000336102524,
          0.16626732571988045,
          0.16645464807873567,
          0.16664197043759088,
          0.16682929279644607,
          0.16701661515530128,
          0.1672039375141565,
          0.16739125987301168,
          0.1675785822318669,
          0.1677659045907221,
          0.16795322694957732,
          0.1681405493084325,
          0.16832787166728772,
          0.16851519402614293,
          0.16870251638499814,
          0.16888983874385333,
          0.16907716110270854,
          0.16926448346156375,
          0.16945180582041894,
          0.16963912817927415,
          0.16982645053812936,
          0.17001377289698458,
          0.17020109525583976,
          0.17038841761469498,
          0.1705757399735502,
          0.1707630623324054,
          0.1709503846912606,
          0.1711377070501158,
          0.171325029408971,
          0.17151235176782623,
          0.1716996741266814,
          0.17188699648553663,
          0.17207431884439184,
          0.17226164120324702,
          0.17244896356210224,
          0.17263628592095745,
          0.17282360827981266,
          0.17301093063866785,
          0.17319825299752306,
          0.17338557535637827,
          0.1735728977152335,
          0.17376022007408867,
          0.17394754243294389,
          0.1741348647917991,
          0.17432218715065428,
          0.1745095095095095,
          0.1746968318683647,
          0.17488415422721992,
          0.1750714765860751,
          0.17525879894493032,
          0.17544612130378553,
          0.17563344366264075,
          0.17582076602149593,
          0.17600808838035115,
          0.17619541073920636,
          0.17638273309806154,
          0.17657005545691676,
          0.17675737781577197,
          0.17694470017462718,
          0.17713202253348237,
          0.17731934489233758,
          0.1775066672511928,
          0.177693989610048,
          0.1778813119689032,
          0.1780686343277584,
          0.17825595668661362,
          0.1784432790454688,
          0.17863060140432402,
          0.17881792376317923,
          0.17900524612203444,
          0.17919256848088963,
          0.17937989083974484,
          0.17956721319860006,
          0.17975453555745527,
          0.17994185791631045,
          0.18012918027516567,
          0.18031650263402088,
          0.18050382499287607,
          0.18069114735173128,
          0.1808784697105865,
          0.1810657920694417,
          0.1812531144282969,
          0.1814404367871521,
          0.18162775914600732,
          0.18181508150486253,
          0.18200240386371772,
          0.18218972622257293,
          0.18237704858142814,
          0.18256437094028333,
          0.18275169329913854,
          0.18293901565799375,
          0.18312633801684897,
          0.18331366037570415,
          0.18350098273455936,
          0.18368830509341458,
          0.1838756274522698,
          0.18406294981112498,
          0.1842502721699802,
          0.1844375945288354,
          0.18462491688769062,
          0.1848122392465458,
          0.18499956160540101,
          0.18518688396425623,
          0.1853742063231114,
          0.18556152868196663,
          0.18574885104082184,
          0.18593617339967705,
          0.18612349575853224,
          0.18631081811738745,
          0.18649814047624266,
          0.18668546283509788,
          0.18687278519395306,
          0.18706010755280827,
          0.1872474299116635,
          0.18743475227051867,
          0.1876220746293739,
          0.1878093969882291,
          0.1879967193470843,
          0.1881840417059395,
          0.1883713640647947,
          0.18855868642364992,
          0.18874600878250514,
          0.18893333114136032,
          0.18912065350021554,
          0.18930797585907075,
          0.18949529821792593,
          0.18968262057678115,
          0.18986994293563636,
          0.19005726529449157,
          0.19024458765334676,
          0.19043191001220197,
          0.19061923237105718,
          0.1908065547299124,
          0.19099387708876758,
          0.1911811994476228,
          0.191368521806478,
          0.1915558441653332,
          0.1917431665241884,
          0.19193048888304362,
          0.19211781124189883,
          0.19230513360075402,
          0.19249245595960923,
          0.19267977831846445,
          0.19286710067731966,
          0.19305442303617484,
          0.19324174539503006,
          0.19342906775388527,
          0.19361639011274046,
          0.19380371247159567,
          0.19399103483045088,
          0.1941783571893061,
          0.19436567954816128,
          0.1945530019070165,
          0.1947403242658717,
          0.19492764662472692,
          0.1951149689835821,
          0.19530229134243732,
          0.19548961370129253,
          0.19567693606014772,
          0.19586425841900293,
          0.19605158077785814,
          0.19623890313671336,
          0.19642622549556854,
          0.19661354785442375,
          0.19680087021327897,
          0.19698819257213418,
          0.19717551493098937,
          0.19736283728984458,
          0.1975501596486998,
          0.197737482007555,
          0.1979248043664102,
          0.1981121267252654,
          0.19829944908412062,
          0.1984867714429758,
          0.19867409380183101,
          0.19886141616068623,
          0.19904873851954144,
          0.19923606087839663,
          0.19942338323725184,
          0.19961070559610705
         ],
         "y": [
          -19.105954053650926,
          -19.105954053650926,
          -19.105954053650926,
          -19.105954053650926,
          -19.105954053650926,
          -19.105954053650926,
          -19.105954053650926,
          -19.105954053650926,
          -19.105954053650926,
          -19.105954053650926,
          -19.105954053650926,
          -19.105954053650926,
          -19.105954053650926,
          -19.105954053650926,
          -19.105954053650926,
          -19.105954053650926,
          -19.105954053650926,
          -19.105954053650926,
          -19.105954053650926,
          -19.105954053650926,
          -19.105954053650926,
          -19.105954053650926,
          -19.105954053650926,
          -19.105954053650926,
          -19.105954053650926,
          -19.105954053650926,
          -19.105954053650926,
          -19.105954053650926,
          -19.105954053650926,
          -19.105954053650926,
          -19.105954053650926,
          -19.105954053650926,
          -19.105954053650926,
          -19.105954053650926,
          -19.105954053650926,
          -19.105954053650926,
          -19.105954053650926,
          -19.105954053650926,
          -19.105954053650926,
          -19.105954053650926,
          -19.105954053650926,
          -19.105954053650926,
          -19.105954053650926,
          -19.105954053650926,
          -19.105954053650926,
          -19.105954053650926,
          -19.105954053650926,
          -19.105954053650926,
          -19.105954053650926,
          -19.105954053650926,
          -19.105954053650926,
          -19.105954053650926,
          -19.105954053650926,
          -19.105954053650926,
          -19.105954053650926,
          -19.105954053650926,
          -19.105954053650926,
          -19.105954053650926,
          -19.105954053650926,
          -19.105954053650926,
          -19.105954053650926,
          -19.105954053650926,
          -19.105954053650926,
          -19.105954053650926,
          -19.105954053650926,
          -19.105954053650926,
          -19.105954053650926,
          -19.105954053650926,
          -19.105954053650926,
          -19.105954053650926,
          -19.105954053650926,
          -19.105954053650926,
          -19.105954053650926,
          -19.105954053650926,
          -19.105954053650926,
          -19.105954053650926,
          -19.105954053650926,
          -19.105954053650926,
          -19.105954053650926,
          -19.105954053650926,
          -19.105954053650926,
          -19.105954053650926,
          -19.105954053650926,
          -19.105954053650926,
          -19.105954053650926,
          -19.105954053650926,
          -19.105954053650926,
          -19.105954053650926,
          -19.105954053650926,
          -19.105954053650926,
          -19.105954053650926,
          -19.105954053650926,
          -19.105954053650926,
          -19.105954053650926,
          -19.105954053650926,
          -19.105954053650926,
          -19.105954053650926,
          -19.105954053650926,
          -19.105954053650926,
          -19.105954053650926,
          -19.105954053650926,
          -19.105954053650926,
          -19.105954053650926,
          -19.105954053650926,
          -19.105954053650926,
          -19.105954053650926,
          -19.105954053650926,
          -19.105954053650926,
          -19.105954053650926,
          -19.105954053650926,
          -19.105954053650926,
          -19.105954053650926,
          -19.105954053650926,
          -19.105954053650926,
          -19.105954053650926,
          -19.105954053650926,
          -19.105954053650926,
          -19.105954053650926,
          -19.105954053650926,
          -19.105954053650926,
          -19.105954053650926,
          -19.105954053650926,
          -19.105954053650926,
          -19.105954053650926,
          -19.105954053650926,
          -19.105954053650926,
          -19.105954053650926,
          -19.105954053650926,
          -19.105954053650926,
          -19.105954053650926,
          -19.105954053650926,
          -19.105954053650926,
          -19.105954053650926,
          -19.105954053650926,
          -19.105954053650926,
          -19.105954053650926,
          -19.105954053650926,
          -19.105954053650926,
          -19.105954053650926,
          -19.105954053650926,
          -19.105954053650926,
          -19.105954053650926,
          -19.105954053650926,
          -19.105954053650926,
          -19.105954053650926,
          -19.105954053650926,
          -19.105954053650926,
          -19.105954053650926,
          -19.105954053650926,
          -19.105954053650926,
          -19.105954053650926,
          -19.105954053650926,
          -19.105954053650926,
          -19.105954053650926,
          -19.105954053650926,
          -19.105954053650926,
          -19.105954053650926,
          -19.105954053650926,
          -19.105954053650926,
          -19.105954053650926,
          -19.105954053650926,
          -19.105954053650926,
          -19.105954053650926,
          -19.105954053650926,
          -19.105954053650926,
          -19.105954053650926,
          -19.105954053650926,
          -19.105954053650926,
          -19.105954053650926,
          -19.105954053650926,
          -19.105954053650926,
          -19.105954053650926,
          -19.105954053650926,
          -19.105954053650926,
          -19.105954053650926,
          -19.105954053650926,
          -19.105954053650926,
          -19.105954053650926,
          -19.105954053650926,
          -19.105954053650926,
          -19.105954053650926,
          -19.105954053650926,
          -19.105954053650926,
          -19.105954053650926,
          -19.105954053650926,
          -19.105954053650926,
          -19.105954053650926,
          -19.105954053650926,
          -19.105954053650926,
          -19.105954053650926,
          -19.105954053650926,
          -19.105954053650926,
          -19.105954053650926,
          -19.105954053650926,
          -19.105954053650926,
          -19.105954053650926,
          -19.105954053650926,
          -19.105954053650926,
          -19.105954053650926,
          -19.105954053650926,
          -19.105954053650926,
          -19.105954053650926,
          -19.105954053650926,
          -19.105954053650926,
          -19.105954053650926,
          -19.105954053650926,
          -19.105954053650926,
          -19.105954053650926,
          -19.105954053650926,
          -19.105954053650926,
          -19.105954053650926,
          -19.105954053650926,
          -19.105954053650926,
          -19.105954053650926,
          -19.105954053650926,
          -19.105954053650926,
          -19.105954053650926,
          -19.105954053650926,
          -19.105954053650926,
          -19.105954053650926,
          -19.105954053650926,
          -19.105954053650926,
          -19.105954053650926,
          -19.105954053650926,
          -19.105954053650926,
          -19.105954053650926,
          -19.105954053650926,
          -19.105954053650926,
          -19.105954053650926,
          -19.105954053650926,
          -19.105954053650926,
          -19.105954053650926,
          -19.105954053650926,
          -19.105954053650926,
          -19.105954053650926,
          -19.105954053650926,
          -19.105954053650926,
          -19.105954053650926,
          -19.105954053650926,
          -19.105954053650926,
          -19.105954053650926,
          -19.105954053650926,
          -19.105954053650926,
          -19.105954053650926,
          -19.105954053650926,
          -19.105954053650926,
          -19.105954053650926,
          -19.105954053650926,
          -19.105954053650926,
          -19.105954053650926,
          -19.105954053650926,
          -19.105954053650926,
          -19.105954053650926,
          -19.105954053650926,
          -19.105954053650926,
          -19.105954053650926,
          -19.105954053650926,
          -19.105954053650926,
          -19.105954053650926,
          -19.105954053650926,
          -19.105954053650926,
          -19.105954053650926,
          -19.105954053650926,
          -19.105954053650926,
          -19.105954053650926,
          -19.105954053650926,
          -19.105954053650926,
          -19.105954053650926,
          -19.105954053650926,
          -19.105954053650926,
          -19.105954053650926,
          -19.105954053650926,
          -19.105954053650926,
          -19.105954053650926,
          -19.105954053650926,
          -19.105954053650926,
          -19.105954053650926,
          -19.105954053650926,
          -19.105954053650926,
          -19.105954053650926,
          -19.105954053650926,
          -19.105954053650926,
          -19.105954053650926,
          -19.105954053650926,
          -19.105954053650926,
          -19.105954053650926,
          -19.105954053650926,
          -19.105954053650926,
          -19.105954053650926,
          -19.105954053650926,
          -19.105954053650926,
          -19.105954053650926,
          -19.105954053650926,
          -19.105954053650926,
          -19.105954053650926,
          -19.105954053650926,
          -19.105954053650926,
          -19.105954053650926,
          -19.105954053650926,
          -19.105954053650926,
          -19.105954053650926,
          -19.105954053650926,
          -19.105954053650926,
          -19.105954053650926,
          -19.105954053650926,
          -19.105954053650926,
          -19.105954053650926,
          -19.105954053650926,
          -19.105954053650926,
          -19.105954053650926,
          -19.105954053650926,
          -19.105954053650926,
          -19.105954053650926,
          -19.105954053650926,
          -19.105954053650926,
          -19.105954053650926,
          -19.105954053650926,
          -19.105954053650926,
          -19.105954053650926,
          -19.105954053650926,
          -19.105954053650926,
          -19.105954053650926,
          -19.105954053650926,
          -19.105954053650926,
          -19.105954053650926,
          -19.105954053650926,
          -19.105954053650926,
          -19.105954053650926,
          -19.105954053650926,
          -19.105954053650926,
          -19.105954053650926,
          -19.105954053650926,
          -19.105954053650926,
          -19.105954053650926,
          -19.105954053650926,
          -19.105954053650926,
          -19.105954053650926,
          -19.105954053650926,
          -19.105954053650926,
          -19.105954053650926,
          -19.105954053650926,
          -19.105954053650926,
          -19.105954053650926,
          -19.105954053650926,
          -19.105954053650926,
          -19.105954053650926,
          -19.105954053650926,
          -19.105954053650926,
          -19.105954053650926,
          -19.105954053650926,
          -19.105954053650926,
          -19.105954053650926,
          -19.105954053650926,
          -19.105954053650926,
          -19.105954053650926,
          -19.105954053650926,
          -19.105954053650926,
          -19.105954053650926,
          -19.105954053650926,
          -19.105954053650926,
          -19.105954053650926,
          -19.105954053650926,
          -19.105954053650926,
          -19.105954053650926,
          -19.105954053650926,
          -19.105954053650926,
          -19.105954053650926,
          -19.105954053650926,
          -19.105954053650926,
          -19.105954053650926,
          -19.105954053650926,
          -19.105954053650926,
          -19.105954053650926,
          -19.105954053650926,
          -19.105954053650926,
          -19.105954053650926,
          -19.105954053650926,
          -19.105954053650926,
          -19.105954053650926,
          -19.105954053650926,
          -19.105954053650926,
          -19.105954053650926,
          -19.105954053650926,
          -19.105954053650926,
          -19.105954053650926,
          -19.105954053650926,
          -19.105954053650926,
          -19.105954053650926,
          -19.105954053650926,
          -19.105954053650926,
          -19.105954053650926,
          -19.105954053650926,
          -19.105954053650926,
          -19.105954053650926,
          -19.105954053650926,
          -19.105954053650926,
          -19.105954053650926,
          -19.105954053650926,
          -19.105954053650926,
          -19.105954053650926,
          -19.105954053650926,
          -19.105954053650926,
          -19.105954053650926,
          -19.105954053650926,
          -19.105954053650926,
          -19.105954053650926,
          -19.105954053650926,
          -19.105954053650926,
          -19.105954053650926,
          -19.105954053650926,
          -19.105954053650926,
          -19.105954053650926,
          -19.105954053650926,
          -19.105954053650926,
          -19.105954053650926,
          -19.105954053650926,
          -19.105954053650926,
          -19.105954053650926,
          -19.105954053650926,
          -19.105954053650926,
          -19.105954053650926,
          -19.105954053650926,
          -19.105954053650926,
          -19.105954053650926,
          -19.105954053650926,
          -19.105954053650926,
          -19.105954053650926,
          -19.105954053650926,
          -19.105954053650926,
          -19.105954053650926,
          -19.105954053650926,
          -19.105954053650926,
          -19.105954053650926,
          -19.105954053650926,
          -19.105954053650926,
          -19.105954053650926,
          -19.105954053650926,
          -19.105954053650926,
          -19.105954053650926,
          -19.105954053650926,
          -19.105954053650926,
          -19.105954053650926,
          -19.105954053650926,
          -19.105954053650926,
          -19.105954053650926,
          -19.105954053650926,
          -19.105954053650926,
          -19.105954053650926,
          -19.105954053650926,
          -19.105954053650926,
          -19.105954053650926,
          -19.105954053650926,
          -19.105954053650926,
          -19.105954053650926,
          -19.105954053650926,
          -19.105954053650926,
          -19.105954053650926,
          -19.105954053650926,
          -19.105954053650926,
          -19.105954053650926,
          -19.105954053650926,
          -19.105954053650926,
          -19.105954053650926,
          -19.105954053650926,
          -19.105954053650926,
          -19.105954053650926,
          -19.105954053650926,
          -19.105954053650926,
          -19.105954053650926,
          -19.105954053650926,
          -19.105954053650926,
          -19.105954053650926,
          -19.105954053650926,
          -19.105954053650926,
          -19.105954053650926,
          -19.105954053650926,
          -19.105954053650926,
          -19.105954053650926,
          -19.105954053650926,
          -19.105954053650926,
          -19.105954053650926,
          -19.105954053650926,
          -19.105954053650926,
          -19.105954053650926,
          -19.105954053650926,
          -19.105954053650926,
          -19.105954053650926,
          -19.105954053650926,
          -19.105954053650926,
          -19.105954053650926,
          -19.105954053650926,
          -19.105954053650926,
          -19.105954053650926,
          -19.105954053650926,
          -19.105954053650926,
          -19.105954053650926,
          -19.105954053650926,
          -19.105954053650926,
          -19.105954053650926,
          -19.105954053650926,
          -19.105954053650926,
          -19.105954053650926,
          -19.105954053650926,
          -19.105954053650926,
          -19.105954053650926,
          -19.105954053650926,
          -19.105954053650926,
          -19.105954053650926,
          -19.105954053650926,
          -19.105954053650926,
          -19.105954053650926,
          -19.105954053650926,
          -19.105954053650926,
          -19.105954053650926,
          -19.105954053650926,
          -19.105954053650926,
          -19.105954053650926,
          -19.105954053650926,
          -19.105954053650926,
          -19.105954053650926,
          -19.105954053650926,
          -19.105954053650926,
          -19.105954053650926,
          -19.105954053650926,
          -19.105954053650926,
          -19.105954053650926,
          -19.105954053650926,
          -19.105954053650926,
          -19.105954053650926,
          -19.105954053650926,
          -19.105954053650926,
          -19.105954053650926,
          -19.105954053650926,
          -19.105954053650926,
          -19.105954053650926,
          -19.105954053650926,
          -19.105954053650926,
          -19.105954053650926,
          -19.105954053650926,
          -19.105954053650926,
          -19.105954053650926,
          -19.105954053650926,
          -19.105954053650926,
          -19.105954053650926,
          -19.105954053650926,
          -19.105954053650926,
          -19.105954053650926,
          -19.105954053650926,
          -19.105954053650926,
          -19.105954053650926,
          -19.105954053650926,
          -19.105954053650926,
          -19.105954053650926,
          -19.105954053650926,
          -19.105954053650926,
          -19.105954053650926,
          -19.105954053650926,
          -19.105954053650926,
          -19.105954053650926,
          -19.105954053650926,
          -19.105954053650926,
          -19.105954053650926,
          -19.105954053650926,
          -19.105954053650926,
          -19.105954053650926,
          -19.105954053650926,
          -19.105954053650926,
          -19.105954053650926,
          -19.105954053650926,
          -19.105954053650926,
          -19.105954053650926,
          -19.105954053650926,
          -19.105954053650926,
          -19.105954053650926,
          -19.105954053650926,
          -19.105954053650926,
          -19.105954053650926,
          -19.105954053650926,
          -19.105954053650926,
          -19.105954053650926,
          -19.105954053650926,
          -19.105954053650926,
          -19.105954053650926,
          -19.105954053650926,
          -19.105954053650926,
          -19.105954053650926,
          -19.105954053650926,
          -19.105954053650926,
          -19.105954053650926,
          -19.105954053650926,
          -19.105954053650926,
          -19.105954053650926,
          -19.105954053650926,
          -19.105954053650926,
          -19.105954053650926,
          -19.105954053650926,
          -19.105954053650926,
          -19.105954053650926,
          -19.105954053650926,
          -19.105954053650926,
          -19.105954053650926,
          -19.105954053650926,
          -19.105954053650926,
          -19.105954053650926,
          -19.105954053650926,
          -19.105954053650926,
          -19.105954053650926,
          -19.105954053650926,
          -19.105954053650926,
          -19.105954053650926,
          -19.105954053650926,
          -19.105954053650926,
          -19.105954053650926,
          -19.105954053650926,
          -19.105954053650926,
          -19.105954053650926,
          -19.105954053650926,
          -19.105954053650926,
          -19.105954053650926,
          -19.105954053650926,
          -19.105954053650926,
          -19.105954053650926,
          -19.105954053650926,
          -19.105954053650926,
          -19.105954053650926,
          -19.105954053650926,
          -19.105954053650926,
          -19.105954053650926,
          -19.105954053650926,
          -19.105954053650926,
          -19.105954053650926,
          -19.105954053650926,
          -19.105954053650926,
          -19.105954053650926,
          -19.105954053650926,
          -19.105954053650926,
          -19.105954053650926,
          -19.105954053650926,
          -19.105954053650926,
          -19.105954053650926,
          -19.105954053650926,
          -19.105954053650926,
          -19.105954053650926,
          -19.105954053650926,
          -19.105954053650926,
          -19.105954053650926,
          -19.105954053650926,
          -19.105954053650926,
          -19.105954053650926,
          -19.105954053650926,
          -19.105954053650926,
          -19.105954053650926,
          -19.105954053650926,
          -19.105954053650926,
          -19.105954053650926,
          -19.105954053650926,
          -19.105954053650926,
          -19.105954053650926,
          -19.105954053650926,
          -19.105954053650926,
          -19.105954053650926,
          -19.105954053650926,
          -19.105954053650926,
          -19.105954053650926,
          -19.105954053650926,
          -19.105954053650926,
          -19.105954053650926,
          -19.105954053650926,
          -19.105954053650926,
          -19.105954053650926,
          -19.105954053650926,
          -19.105954053650926,
          -19.105954053650926,
          -19.105954053650926,
          -19.105954053650926,
          -19.105954053650926,
          -19.105954053650926,
          -19.105954053650926,
          -19.105954053650926,
          -19.105954053650926,
          -19.105954053650926,
          -19.105954053650926,
          -19.105954053650926,
          -19.105954053650926,
          -19.105954053650926,
          -19.105954053650926,
          -19.105954053650926,
          -19.105954053650926,
          -19.105954053650926,
          -19.105954053650926,
          -19.105954053650926,
          -19.105954053650926,
          -19.105954053650926,
          -19.105954053650926,
          -19.105954053650926,
          -19.105954053650926,
          -19.105954053650926,
          -19.105954053650926,
          -19.105954053650926,
          -19.105954053650926,
          -19.105954053650926,
          -19.105954053650926,
          -19.105954053650926,
          -19.105954053650926,
          -19.105954053650926,
          -19.105954053650926,
          -19.105954053650926,
          -19.105954053650926,
          -19.105954053650926,
          -19.105954053650926,
          -19.105954053650926,
          -19.105954053650926,
          -19.105954053650926,
          -19.105954053650926,
          -19.105954053650926,
          -19.105954053650926,
          -19.105954053650926,
          -19.105954053650926,
          -19.105954053650926,
          -19.105954053650926,
          -19.105954053650926,
          -19.105954053650926,
          -19.105954053650926,
          -19.105954053650926,
          -19.105954053650926,
          -19.105954053650926,
          -19.105954053650926,
          -19.105954053650926,
          -19.105954053650926,
          -19.105954053650926,
          -19.105954053650926,
          -19.105954053650926,
          -19.105954053650926,
          -19.105954053650926,
          -19.105954053650926,
          -19.105954053650926,
          -19.105954053650926,
          -19.105954053650926,
          -19.105954053650926,
          -19.105954053650926,
          -19.105954053650926,
          -19.105954053650926,
          -19.105954053650926,
          -19.105954053650926,
          -19.105954053650926,
          -19.105954053650926,
          -19.105954053650926,
          -19.105954053650926,
          -19.105954053650926,
          -19.105954053650926,
          -19.105954053650926,
          -19.105954053650926,
          -19.105954053650926,
          -19.105954053650926,
          -19.105954053650926,
          -19.105954053650926,
          -19.105954053650926,
          -19.105954053650926,
          -19.105954053650926,
          -19.105954053650926,
          -19.105954053650926,
          -19.105954053650926,
          -19.105954053650926,
          -19.105954053650926,
          -19.105954053650926,
          -19.105954053650926,
          -19.105954053650926,
          -19.105954053650926,
          -19.105954053650926,
          -19.105954053650926,
          -19.105954053650926,
          -19.105954053650926,
          -19.105954053650926,
          -19.105954053650926,
          -19.105954053650926,
          -19.105954053650926,
          -19.105954053650926,
          -19.105954053650926,
          -19.105954053650926,
          -19.105954053650926,
          -19.105954053650926,
          -19.105954053650926,
          -19.105954053650926,
          -19.105954053650926,
          -19.105954053650926,
          -19.105954053650926,
          -19.105954053650926,
          -19.105954053650926,
          -19.105954053650926,
          -19.105954053650926,
          -19.105954053650926,
          -19.105954053650926,
          -19.105954053650926,
          -19.105954053650926,
          -19.105954053650926,
          -19.105954053650926,
          -19.105954053650926,
          -19.105954053650926,
          -19.105954053650926,
          -19.105954053650926,
          -19.105954053650926,
          -19.105954053650926,
          -19.105954053650926,
          -19.105954053650926,
          -19.105954053650926,
          -19.105954053650926,
          -19.105954053650926,
          -19.105954053650926,
          -19.105954053650926,
          -19.105954053650926,
          -19.105954053650926,
          -19.105954053650926,
          -19.105954053650926,
          -19.105954053650926,
          -19.105954053650926,
          -19.105954053650926,
          -19.105954053650926,
          -19.105954053650926,
          -19.105954053650926,
          -19.105954053650926,
          -19.105954053650926,
          -19.105954053650926,
          -19.105954053650926,
          -19.105954053650926,
          -19.105954053650926,
          -19.105954053650926,
          -19.105954053650926,
          -19.105954053650926,
          -19.105954053650926,
          -19.105954053650926,
          -19.105954053650926,
          -19.105954053650926,
          -19.105954053650926,
          -19.105954053650926,
          -19.105954053650926,
          -19.105954053650926,
          -19.105954053650926,
          -19.105954053650926,
          -19.105954053650926,
          -19.105954053650926,
          -19.105954053650926,
          -19.105954053650926,
          -19.105954053650926,
          -19.105954053650926,
          -19.105954053650926,
          -19.105954053650926,
          -19.105954053650926,
          -19.105954053650926,
          -19.105954053650926,
          -19.105954053650926,
          -19.105954053650926,
          -19.105954053650926,
          -19.105954053650926,
          -19.105954053650926,
          -19.105954053650926,
          -19.105954053650926,
          -19.105954053650926,
          -19.105954053650926,
          -19.105954053650926,
          -19.105954053650926,
          -19.105954053650926,
          -19.105954053650926,
          -19.105954053650926,
          -19.105954053650926,
          -19.105954053650926,
          -19.105954053650926,
          -19.105954053650926,
          -19.105954053650926,
          -19.105954053650926,
          -19.105954053650926,
          -19.105954053650926,
          -19.105954053650926,
          -19.105954053650926,
          -19.105954053650926,
          -19.105954053650926,
          -19.105954053650926,
          -19.105954053650926,
          -19.105954053650926,
          -19.105954053650926,
          -19.105954053650926,
          -19.105954053650926,
          -19.105954053650926,
          -19.105954053650926,
          -19.105954053650926,
          -19.105954053650926,
          -19.105954053650926,
          -19.105954053650926,
          -19.105954053650926,
          -19.105954053650926,
          -19.105954053650926,
          -19.105954053650926,
          -19.105954053650926,
          -19.105954053650926,
          -19.105954053650926,
          -19.105954053650926,
          -19.105954053650926,
          -19.105954053650926,
          -19.105954053650926,
          -19.105954053650926,
          -19.105954053650926,
          -19.105954053650926,
          -19.105954053650926,
          -19.105954053650926,
          -19.105954053650926,
          -19.105954053650926,
          -19.105954053650926,
          -19.105954053650926,
          -19.105954053650926,
          -19.105954053650926,
          -19.105954053650926,
          -19.105954053650926,
          -19.105954053650926,
          -19.105954053650926,
          -19.105954053650926,
          -19.105954053650926,
          -19.105954053650926,
          -19.105954053650926,
          -19.105954053650926,
          -19.105954053650926,
          -19.105954053650926,
          -19.105954053650926,
          -19.105954053650926,
          -19.105954053650926,
          -19.105954053650926,
          -19.105954053650926,
          -19.105954053650926,
          -19.105954053650926,
          -19.105954053650926,
          -19.105954053650926,
          -19.105954053650926,
          -19.105954053650926,
          -19.105954053650926,
          -19.105954053650926,
          -19.105954053650926,
          -19.105954053650926,
          -19.105954053650926,
          -19.105954053650926,
          -19.105954053650926,
          -19.105954053650926,
          -19.105954053650926,
          -19.105954053650926,
          -19.105954053650926,
          -19.105954053650926,
          -19.105954053650926,
          -19.105954053650926,
          -19.105954053650926,
          -19.105954053650926,
          -19.105954053650926,
          -19.105954053650926,
          -19.105954053650926,
          -19.105954053650926,
          -19.105954053650926,
          -19.105954053650926,
          -19.105954053650926,
          -19.105954053650926,
          -19.105954053650926,
          -19.105954053650926,
          -19.105954053650926,
          -19.105954053650926,
          -19.105954053650926,
          -19.105954053650926,
          -19.105954053650926,
          -19.105954053650926,
          -19.105954053650926,
          -19.105954053650926,
          -19.105954053650926,
          -19.105954053650926,
          -19.105954053650926,
          -19.105954053650926,
          -19.105954053650926,
          -19.105954053650926,
          -19.105954053650926,
          -19.105954053650926,
          -19.105954053650926,
          -19.105954053650926,
          -19.105954053650926,
          -19.105954053650926,
          -19.105954053650926,
          -19.105954053650926,
          -19.105954053650926,
          -19.105954053650926,
          -19.105954053650926,
          -19.105954053650926,
          -19.105954053650926,
          -19.105954053650926,
          -19.105954053650926,
          -19.105954053650926,
          -19.105954053650926,
          -19.105954053650926,
          -19.105954053650926,
          -19.105954053650926,
          -19.105954053650926,
          -19.105954053650926,
          -19.105954053650926,
          -19.105954053650926,
          -19.105954053650926,
          -19.105954053650926,
          -19.105954053650926,
          -19.105954053650926,
          -19.105954053650926
         ]
        }
       ],
       "layout": {
        "hovermode": "x unified",
        "legend": {
         "x": 0.01,
         "xanchor": "left",
         "y": 0.99,
         "yanchor": "top"
        },
        "showlegend": true,
        "template": {
         "data": {
          "bar": [
           {
            "error_x": {
             "color": "#2a3f5f"
            },
            "error_y": {
             "color": "#2a3f5f"
            },
            "marker": {
             "line": {
              "color": "white",
              "width": 0.5
             },
             "pattern": {
              "fillmode": "overlay",
              "size": 10,
              "solidity": 0.2
             }
            },
            "type": "bar"
           }
          ],
          "barpolar": [
           {
            "marker": {
             "line": {
              "color": "white",
              "width": 0.5
             },
             "pattern": {
              "fillmode": "overlay",
              "size": 10,
              "solidity": 0.2
             }
            },
            "type": "barpolar"
           }
          ],
          "carpet": [
           {
            "aaxis": {
             "endlinecolor": "#2a3f5f",
             "gridcolor": "#C8D4E3",
             "linecolor": "#C8D4E3",
             "minorgridcolor": "#C8D4E3",
             "startlinecolor": "#2a3f5f"
            },
            "baxis": {
             "endlinecolor": "#2a3f5f",
             "gridcolor": "#C8D4E3",
             "linecolor": "#C8D4E3",
             "minorgridcolor": "#C8D4E3",
             "startlinecolor": "#2a3f5f"
            },
            "type": "carpet"
           }
          ],
          "choropleth": [
           {
            "colorbar": {
             "outlinewidth": 0,
             "ticks": ""
            },
            "type": "choropleth"
           }
          ],
          "contour": [
           {
            "colorbar": {
             "outlinewidth": 0,
             "ticks": ""
            },
            "colorscale": [
             [
              0,
              "#0d0887"
             ],
             [
              0.1111111111111111,
              "#46039f"
             ],
             [
              0.2222222222222222,
              "#7201a8"
             ],
             [
              0.3333333333333333,
              "#9c179e"
             ],
             [
              0.4444444444444444,
              "#bd3786"
             ],
             [
              0.5555555555555556,
              "#d8576b"
             ],
             [
              0.6666666666666666,
              "#ed7953"
             ],
             [
              0.7777777777777778,
              "#fb9f3a"
             ],
             [
              0.8888888888888888,
              "#fdca26"
             ],
             [
              1,
              "#f0f921"
             ]
            ],
            "type": "contour"
           }
          ],
          "contourcarpet": [
           {
            "colorbar": {
             "outlinewidth": 0,
             "ticks": ""
            },
            "type": "contourcarpet"
           }
          ],
          "heatmap": [
           {
            "colorbar": {
             "outlinewidth": 0,
             "ticks": ""
            },
            "colorscale": [
             [
              0,
              "#0d0887"
             ],
             [
              0.1111111111111111,
              "#46039f"
             ],
             [
              0.2222222222222222,
              "#7201a8"
             ],
             [
              0.3333333333333333,
              "#9c179e"
             ],
             [
              0.4444444444444444,
              "#bd3786"
             ],
             [
              0.5555555555555556,
              "#d8576b"
             ],
             [
              0.6666666666666666,
              "#ed7953"
             ],
             [
              0.7777777777777778,
              "#fb9f3a"
             ],
             [
              0.8888888888888888,
              "#fdca26"
             ],
             [
              1,
              "#f0f921"
             ]
            ],
            "type": "heatmap"
           }
          ],
          "heatmapgl": [
           {
            "colorbar": {
             "outlinewidth": 0,
             "ticks": ""
            },
            "colorscale": [
             [
              0,
              "#0d0887"
             ],
             [
              0.1111111111111111,
              "#46039f"
             ],
             [
              0.2222222222222222,
              "#7201a8"
             ],
             [
              0.3333333333333333,
              "#9c179e"
             ],
             [
              0.4444444444444444,
              "#bd3786"
             ],
             [
              0.5555555555555556,
              "#d8576b"
             ],
             [
              0.6666666666666666,
              "#ed7953"
             ],
             [
              0.7777777777777778,
              "#fb9f3a"
             ],
             [
              0.8888888888888888,
              "#fdca26"
             ],
             [
              1,
              "#f0f921"
             ]
            ],
            "type": "heatmapgl"
           }
          ],
          "histogram": [
           {
            "marker": {
             "pattern": {
              "fillmode": "overlay",
              "size": 10,
              "solidity": 0.2
             }
            },
            "type": "histogram"
           }
          ],
          "histogram2d": [
           {
            "colorbar": {
             "outlinewidth": 0,
             "ticks": ""
            },
            "colorscale": [
             [
              0,
              "#0d0887"
             ],
             [
              0.1111111111111111,
              "#46039f"
             ],
             [
              0.2222222222222222,
              "#7201a8"
             ],
             [
              0.3333333333333333,
              "#9c179e"
             ],
             [
              0.4444444444444444,
              "#bd3786"
             ],
             [
              0.5555555555555556,
              "#d8576b"
             ],
             [
              0.6666666666666666,
              "#ed7953"
             ],
             [
              0.7777777777777778,
              "#fb9f3a"
             ],
             [
              0.8888888888888888,
              "#fdca26"
             ],
             [
              1,
              "#f0f921"
             ]
            ],
            "type": "histogram2d"
           }
          ],
          "histogram2dcontour": [
           {
            "colorbar": {
             "outlinewidth": 0,
             "ticks": ""
            },
            "colorscale": [
             [
              0,
              "#0d0887"
             ],
             [
              0.1111111111111111,
              "#46039f"
             ],
             [
              0.2222222222222222,
              "#7201a8"
             ],
             [
              0.3333333333333333,
              "#9c179e"
             ],
             [
              0.4444444444444444,
              "#bd3786"
             ],
             [
              0.5555555555555556,
              "#d8576b"
             ],
             [
              0.6666666666666666,
              "#ed7953"
             ],
             [
              0.7777777777777778,
              "#fb9f3a"
             ],
             [
              0.8888888888888888,
              "#fdca26"
             ],
             [
              1,
              "#f0f921"
             ]
            ],
            "type": "histogram2dcontour"
           }
          ],
          "mesh3d": [
           {
            "colorbar": {
             "outlinewidth": 0,
             "ticks": ""
            },
            "type": "mesh3d"
           }
          ],
          "parcoords": [
           {
            "line": {
             "colorbar": {
              "outlinewidth": 0,
              "ticks": ""
             }
            },
            "type": "parcoords"
           }
          ],
          "pie": [
           {
            "automargin": true,
            "type": "pie"
           }
          ],
          "scatter": [
           {
            "fillpattern": {
             "fillmode": "overlay",
             "size": 10,
             "solidity": 0.2
            },
            "type": "scatter"
           }
          ],
          "scatter3d": [
           {
            "line": {
             "colorbar": {
              "outlinewidth": 0,
              "ticks": ""
             }
            },
            "marker": {
             "colorbar": {
              "outlinewidth": 0,
              "ticks": ""
             }
            },
            "type": "scatter3d"
           }
          ],
          "scattercarpet": [
           {
            "marker": {
             "colorbar": {
              "outlinewidth": 0,
              "ticks": ""
             }
            },
            "type": "scattercarpet"
           }
          ],
          "scattergeo": [
           {
            "marker": {
             "colorbar": {
              "outlinewidth": 0,
              "ticks": ""
             }
            },
            "type": "scattergeo"
           }
          ],
          "scattergl": [
           {
            "marker": {
             "colorbar": {
              "outlinewidth": 0,
              "ticks": ""
             }
            },
            "type": "scattergl"
           }
          ],
          "scattermapbox": [
           {
            "marker": {
             "colorbar": {
              "outlinewidth": 0,
              "ticks": ""
             }
            },
            "type": "scattermapbox"
           }
          ],
          "scatterpolar": [
           {
            "marker": {
             "colorbar": {
              "outlinewidth": 0,
              "ticks": ""
             }
            },
            "type": "scatterpolar"
           }
          ],
          "scatterpolargl": [
           {
            "marker": {
             "colorbar": {
              "outlinewidth": 0,
              "ticks": ""
             }
            },
            "type": "scatterpolargl"
           }
          ],
          "scatterternary": [
           {
            "marker": {
             "colorbar": {
              "outlinewidth": 0,
              "ticks": ""
             }
            },
            "type": "scatterternary"
           }
          ],
          "surface": [
           {
            "colorbar": {
             "outlinewidth": 0,
             "ticks": ""
            },
            "colorscale": [
             [
              0,
              "#0d0887"
             ],
             [
              0.1111111111111111,
              "#46039f"
             ],
             [
              0.2222222222222222,
              "#7201a8"
             ],
             [
              0.3333333333333333,
              "#9c179e"
             ],
             [
              0.4444444444444444,
              "#bd3786"
             ],
             [
              0.5555555555555556,
              "#d8576b"
             ],
             [
              0.6666666666666666,
              "#ed7953"
             ],
             [
              0.7777777777777778,
              "#fb9f3a"
             ],
             [
              0.8888888888888888,
              "#fdca26"
             ],
             [
              1,
              "#f0f921"
             ]
            ],
            "type": "surface"
           }
          ],
          "table": [
           {
            "cells": {
             "fill": {
              "color": "#EBF0F8"
             },
             "line": {
              "color": "white"
             }
            },
            "header": {
             "fill": {
              "color": "#C8D4E3"
             },
             "line": {
              "color": "white"
             }
            },
            "type": "table"
           }
          ]
         },
         "layout": {
          "annotationdefaults": {
           "arrowcolor": "#2a3f5f",
           "arrowhead": 0,
           "arrowwidth": 1
          },
          "autotypenumbers": "strict",
          "coloraxis": {
           "colorbar": {
            "outlinewidth": 0,
            "ticks": ""
           }
          },
          "colorscale": {
           "diverging": [
            [
             0,
             "#8e0152"
            ],
            [
             0.1,
             "#c51b7d"
            ],
            [
             0.2,
             "#de77ae"
            ],
            [
             0.3,
             "#f1b6da"
            ],
            [
             0.4,
             "#fde0ef"
            ],
            [
             0.5,
             "#f7f7f7"
            ],
            [
             0.6,
             "#e6f5d0"
            ],
            [
             0.7,
             "#b8e186"
            ],
            [
             0.8,
             "#7fbc41"
            ],
            [
             0.9,
             "#4d9221"
            ],
            [
             1,
             "#276419"
            ]
           ],
           "sequential": [
            [
             0,
             "#0d0887"
            ],
            [
             0.1111111111111111,
             "#46039f"
            ],
            [
             0.2222222222222222,
             "#7201a8"
            ],
            [
             0.3333333333333333,
             "#9c179e"
            ],
            [
             0.4444444444444444,
             "#bd3786"
            ],
            [
             0.5555555555555556,
             "#d8576b"
            ],
            [
             0.6666666666666666,
             "#ed7953"
            ],
            [
             0.7777777777777778,
             "#fb9f3a"
            ],
            [
             0.8888888888888888,
             "#fdca26"
            ],
            [
             1,
             "#f0f921"
            ]
           ],
           "sequentialminus": [
            [
             0,
             "#0d0887"
            ],
            [
             0.1111111111111111,
             "#46039f"
            ],
            [
             0.2222222222222222,
             "#7201a8"
            ],
            [
             0.3333333333333333,
             "#9c179e"
            ],
            [
             0.4444444444444444,
             "#bd3786"
            ],
            [
             0.5555555555555556,
             "#d8576b"
            ],
            [
             0.6666666666666666,
             "#ed7953"
            ],
            [
             0.7777777777777778,
             "#fb9f3a"
            ],
            [
             0.8888888888888888,
             "#fdca26"
            ],
            [
             1,
             "#f0f921"
            ]
           ]
          },
          "colorway": [
           "#636efa",
           "#EF553B",
           "#00cc96",
           "#ab63fa",
           "#FFA15A",
           "#19d3f3",
           "#FF6692",
           "#B6E880",
           "#FF97FF",
           "#FECB52"
          ],
          "font": {
           "color": "#2a3f5f"
          },
          "geo": {
           "bgcolor": "white",
           "lakecolor": "white",
           "landcolor": "white",
           "showlakes": true,
           "showland": true,
           "subunitcolor": "#C8D4E3"
          },
          "hoverlabel": {
           "align": "left"
          },
          "hovermode": "closest",
          "mapbox": {
           "style": "light"
          },
          "paper_bgcolor": "white",
          "plot_bgcolor": "white",
          "polar": {
           "angularaxis": {
            "gridcolor": "#EBF0F8",
            "linecolor": "#EBF0F8",
            "ticks": ""
           },
           "bgcolor": "white",
           "radialaxis": {
            "gridcolor": "#EBF0F8",
            "linecolor": "#EBF0F8",
            "ticks": ""
           }
          },
          "scene": {
           "xaxis": {
            "backgroundcolor": "white",
            "gridcolor": "#DFE8F3",
            "gridwidth": 2,
            "linecolor": "#EBF0F8",
            "showbackground": true,
            "ticks": "",
            "zerolinecolor": "#EBF0F8"
           },
           "yaxis": {
            "backgroundcolor": "white",
            "gridcolor": "#DFE8F3",
            "gridwidth": 2,
            "linecolor": "#EBF0F8",
            "showbackground": true,
            "ticks": "",
            "zerolinecolor": "#EBF0F8"
           },
           "zaxis": {
            "backgroundcolor": "white",
            "gridcolor": "#DFE8F3",
            "gridwidth": 2,
            "linecolor": "#EBF0F8",
            "showbackground": true,
            "ticks": "",
            "zerolinecolor": "#EBF0F8"
           }
          },
          "shapedefaults": {
           "line": {
            "color": "#2a3f5f"
           }
          },
          "ternary": {
           "aaxis": {
            "gridcolor": "#DFE8F3",
            "linecolor": "#A2B1C6",
            "ticks": ""
           },
           "baxis": {
            "gridcolor": "#DFE8F3",
            "linecolor": "#A2B1C6",
            "ticks": ""
           },
           "bgcolor": "white",
           "caxis": {
            "gridcolor": "#DFE8F3",
            "linecolor": "#A2B1C6",
            "ticks": ""
           }
          },
          "title": {
           "x": 0.05
          },
          "xaxis": {
           "automargin": true,
           "gridcolor": "#EBF0F8",
           "linecolor": "#EBF0F8",
           "ticks": "",
           "title": {
            "standoff": 15
           },
           "zerolinecolor": "#EBF0F8",
           "zerolinewidth": 2
          },
          "yaxis": {
           "automargin": true,
           "gridcolor": "#EBF0F8",
           "linecolor": "#EBF0F8",
           "ticks": "",
           "title": {
            "standoff": 15
           },
           "zerolinecolor": "#EBF0F8",
           "zerolinewidth": 2
          }
         }
        },
        "title": {
         "text": "Ajuste constante para datos de aceleración",
         "x": 0.5,
         "xanchor": "center"
        },
        "xaxis": {
         "gridcolor": "LightGray",
         "gridwidth": 1,
         "showgrid": true,
         "title": {
          "text": "Tiempo (s)"
         }
        },
        "yaxis": {
         "gridcolor": "LightGray",
         "gridwidth": 1,
         "showgrid": true,
         "title": {
          "text": "Aceleración Y"
         }
        }
       }
      }
     },
     "metadata": {},
     "output_type": "display_data"
    },
    {
     "name": "stdout",
     "output_type": "stream",
     "text": [
      "[-19.10595405]\n",
      "[[25.26664239]]\n",
      "0.0\n"
     ]
    }
   ],
   "source": [
    "import matplotlib.pyplot as plt ###\n",
    "\n",
    "# Ajuste de curva para aceleracion Y\n",
    "def fit_acceleration_curve(df):\n",
    "    def model_func(x, a):\n",
    "        return np.full_like(x, a)\n",
    "\n",
    "    x_data = df['Time (sec)'].values\n",
    "    y_data = df['Acceleration_Y'].values\n",
    "\n",
    "    popt, pcov = curve_fit(model_func, x_data, y_data)\n",
    "\n",
    "    y_pred = model_func(x_data, *popt)\n",
    "    ss_res = np.sum((y_data - y_pred) ** 2)\n",
    "    ss_tot = np.sum((y_data - np.mean(y_data)) ** 2)\n",
    "    r_squared = 1 - (ss_res / ss_tot)\n",
    "\n",
    "    #return popt, pcov, r_squared\n",
    "\n",
    "    # GRAFICO DE EJEMPLO\n",
    "    x_fit = np.linspace(min(x_data), max(x_data), 1000)\n",
    "    y_fit = model_func(x_fit, *popt)\n",
    "    fig = go.Figure()\n",
    "    fig.add_trace(go.Scatter(x=x_data,y=y_data,mode='markers',name='Datos originales',marker=dict(size=8,opacity=0.6,color='blue')))\n",
    "    fig.add_trace(go.Scatter(x=x_fit,y=y_fit,mode='lines',name=f'Valor constante = {popt[0]:.4f}',line=dict(color='red', width=2)))\n",
    "    fig.update_layout(title=dict(text='Ajuste constante para datos de aceleración',x=0.5,xanchor='center'),xaxis_title='Tiempo (s)',yaxis_title='Aceleración Y',showlegend=True,legend=dict(yanchor=\"top\",y=0.99,xanchor=\"left\",x=0.01),template='plotly_white',hovermode='x unified')\n",
    "    fig.update_xaxes(showgrid=True, gridwidth=1, gridcolor='LightGray')\n",
    "    fig.update_yaxes(showgrid=True, gridwidth=1, gridcolor='LightGray')\n",
    "    fig.show()\n",
    "\n",
    "    return popt, pcov, r_squared\n",
    "\n",
    "# popt, pcov, r_squared = fit_acceleration_curve(dfCentro_acceleration[dfCentro_acceleration['Time (sec)'].between(0.05, 0.35)])\n",
    "popt, pcov, r_squared = fit_acceleration_curve(dfCentro_acceleration)\n",
    "print(popt)\n",
    "print(pcov)\n",
    "print(r_squared)"
   ]
  },
  {
   "cell_type": "markdown",
   "metadata": {
    "id": "7hcES7m0hqBH"
   },
   "source": [
    "# Graficos"
   ]
  },
  {
   "cell_type": "code",
   "execution_count": 9,
   "metadata": {
    "executionInfo": {
     "elapsed": 278,
     "status": "ok",
     "timestamp": 1730906625660,
     "user": {
      "displayName": "Tomas Rueda",
      "userId": "17662183962868927666"
     },
     "user_tz": 180
    },
    "id": "jB5INxE4yusW"
   },
   "outputs": [],
   "source": [
    "pio.renderers.default = 'vscode'  # 'browser' | 'vscode' | colab"
   ]
  },
  {
   "cell_type": "code",
   "execution_count": 10,
   "metadata": {
    "colab": {
     "base_uri": "https://localhost:8080/",
     "height": 1000
    },
    "executionInfo": {
     "elapsed": 1166,
     "status": "ok",
     "timestamp": 1730906046471,
     "user": {
      "displayName": "Tomas Rueda",
      "userId": "17662183962868927666"
     },
     "user_tz": 180
    },
    "id": "H-qvuS0OhwlV",
    "outputId": "44c03292-2dfc-456f-da03-99f1f1559bdf"
   },
   "outputs": [
    {
     "data": {
      "application/vnd.plotly.v1+json": {
       "config": {
        "plotlyServerURL": "https://plot.ly"
       },
       "data": [
        {
         "marker": {
          "color": "blue"
         },
         "mode": "lines",
         "type": "scatter",
         "x": [
          0.4060359929925149,
          0.406139512661252,
          0.4062292779684086,
          0.40630528891398476,
          0.4063675454979805,
          0.4064160477203957,
          0.4064507955812293,
          0.40641532380662715,
          0.40645586297760106,
          0.4063950542211401,
          0.4064001216175119,
          0.40641532380662715,
          0.4064964021485751,
          0.406476132563088,
          0.406476132563088,
          0.4064964021485751,
          0.40641532380662715,
          0.40645586297760106,
          0.4063950542211401,
          0.4063545150501662,
          0.4063342454646792,
          0.4063342454646792,
          0.406298773690077,
          0.40633931286105096,
          0.4064457281848576,
          0.4064862673558315,
          0.40667376102158603,
          0.4068308503091101,
          0.4069575352184037,
          0.40705381574946686,
          0.40705381574946686,
          0.4070690179385821,
          0.4069980743893777,
          0.4067497719671622,
          0.4064102564102554,
          0.40602006688963105,
          0.405685618729096,
          0.40523462045201075,
          0.40473801560757977,
          0.4042008715921749,
          0.403683997162257,
          0.4032025945069413,
          0.4027262592479974,
          0.40224485659268266,
          0.40176417785113433,
          0.4012842230233534,
          0.40080499210933984,
          0.40032648510909374,
          0.39984870202261497
         ],
         "xaxis": "x",
         "y": [
          1.1431199235547065,
          1.1428173275999367,
          1.1425603382125125,
          1.142348955392434,
          1.1421831791397012,
          1.142063009454314,
          1.1419884463362693,
          1.1420745920745892,
          1.1420188507145,
          1.142054322489102,
          1.14213540083105,
          1.1421506030201654,
          1.1420999290564477,
          1.1421506030201654,
          1.1421810073983958,
          1.1422468835512285,
          1.1422367487584848,
          1.1421049964528196,
          1.1420289855072434,
          1.1420188507145,
          1.1419732441471542,
          1.1418465592378606,
          1.1417148069321952,
          1.141542515455556,
          1.1412486064659948,
          1.141106719367586,
          1.140767203810679,
          1.1403466099118245,
          1.13983987027465,
          1.1392419175027844,
          1.1387351778656098,
          1.1382132360393202,
          1.1379041248606439,
          1.1375798114928521,
          1.1374784635654172,
          1.1371693523867408,
          1.136753825884258,
          1.1361204013377897,
          1.1352792135400802,
          1.1341390493564378,
          1.1327607175433234,
          1.131103678929763,
          1.1293148880105375,
          1.127726621204882,
          1.1260913000043433,
          1.1244089244089244,
          1.1226794944186247,
          1.1209030100334445,
          1.1190794712533838
         ],
         "yaxis": "y"
        },
        {
         "marker": {
          "color": "red"
         },
         "mode": "lines",
         "name": "Velocidad Total",
         "type": "scatter",
         "x": [
          0,
          0.004158556366585564,
          0.008317112733171128,
          0.01247566909975669,
          0.016634225466342255,
          0.02079278183292782,
          0.02495133819951338,
          0.029109894566098946,
          0.03326845093268451,
          0.03742700729927007,
          0.04158556366585564,
          0.0457441200324412,
          0.04990267639902676,
          0.05406123276561233,
          0.05821978913219789,
          0.06237834549878346,
          0.06653690186536902,
          0.07069545823195458,
          0.07485401459854014,
          0.07901257096512572,
          0.08317112733171128,
          0.08732968369829684,
          0.0914882400648824,
          0.09564679643146796,
          0.09980535279805353,
          0.1039639091646391,
          0.10812246553122466,
          0.11228102189781022,
          0.11643957826439578,
          0.12059813463098135,
          0.12475669099756692,
          0.12891524736415247,
          0.13307380373073804,
          0.13723236009732362,
          0.14139091646390917,
          0.14554947283049474,
          0.1497080291970803,
          0.15386658556366586,
          0.15802514193025144,
          0.162183698296837,
          0.16634225466342256,
          0.1705008110300081,
          0.17465936739659368,
          0.17881792376317926,
          0.1829764801297648,
          0.18713503649635038,
          0.19129359286293593,
          0.1954521492295215,
          0.19961070559610705
         ],
         "xaxis": "x2",
         "y": [
          0.015672312585609725,
          0.04134022980470156,
          0.0618065606677875,
          0.07707130517486757,
          0.08713446332594177,
          0.09199603512101008,
          0.09165602056007223,
          0.07771420267154314,
          0.0553379965871845,
          0.022453418740707377,
          0.015479528683666005,
          0.014761423499518544,
          0.015113155269609033,
          0.0211863292911118,
          0.025560259316764266,
          0.02850549990146841,
          0.030116465413324935,
          0.030658687956828433,
          0.03399090428464638,
          0.04270669139909358,
          0.05146206587967066,
          0.06378806834954048,
          0.07862247510885129,
          0.09967202774370013,
          0.12956613446082235,
          0.17226364145609296,
          0.22507043867955062,
          0.2735151731096232,
          0.3135982870948352,
          0.3343595685317255,
          0.34272447060731026,
          0.337214126620939,
          0.320788462779447,
          0.3020913425422249,
          0.29186024078548845,
          0.3075288273072774,
          0.35990516621423213,
          0.4559503276004732,
          0.5907686866687214,
          0.7414946526045044,
          0.8884234143224843,
          1.0151457720588641,
          1.1232130923678418,
          1.1992996621140257,
          1.2558876742640974,
          1.2929771288180603,
          1.3105680257759142,
          1.3086603651376594,
          1.287254146903296
         ],
         "yaxis": "y2"
        },
        {
         "marker": {
          "color": "green"
         },
         "mode": "lines",
         "type": "scatter",
         "x": [
          0,
          0.004158556366585564,
          0.008317112733171128,
          0.01247566909975669,
          0.016634225466342255,
          0.02079278183292782,
          0.02495133819951338,
          0.029109894566098946,
          0.03326845093268451,
          0.03742700729927007,
          0.04158556366585564,
          0.0457441200324412,
          0.04990267639902676,
          0.05406123276561233,
          0.05821978913219789,
          0.06237834549878346,
          0.06653690186536902,
          0.07069545823195458,
          0.07485401459854014,
          0.07901257096512572,
          0.08317112733171128,
          0.08732968369829684,
          0.0914882400648824,
          0.09564679643146796,
          0.09980535279805353,
          0.1039639091646391,
          0.10812246553122466,
          0.11228102189781022,
          0.11643957826439578,
          0.12059813463098135,
          0.12475669099756692,
          0.12891524736415247,
          0.13307380373073804,
          0.13723236009732362,
          0.14139091646390917,
          0.14554947283049474,
          0.1497080291970803,
          0.15386658556366586,
          0.15802514193025144,
          0.162183698296837,
          0.16634225466342256,
          0.1705008110300081,
          0.17465936739659368,
          0.17881792376317926,
          0.1829764801297648,
          0.18713503649635038,
          0.19129359286293593,
          0.1954521492295215,
          0.19961070559610705
         ],
         "xaxis": "x3",
         "y": [
          0.4060359929925149,
          0.406139512661252,
          0.4062292779684086,
          0.40630528891398476,
          0.4063675454979805,
          0.4064160477203957,
          0.4064507955812293,
          0.40641532380662715,
          0.40645586297760106,
          0.4063950542211401,
          0.4064001216175119,
          0.40641532380662715,
          0.4064964021485751,
          0.406476132563088,
          0.406476132563088,
          0.4064964021485751,
          0.40641532380662715,
          0.40645586297760106,
          0.4063950542211401,
          0.4063545150501662,
          0.4063342454646792,
          0.4063342454646792,
          0.406298773690077,
          0.40633931286105096,
          0.4064457281848576,
          0.4064862673558315,
          0.40667376102158603,
          0.4068308503091101,
          0.4069575352184037,
          0.40705381574946686,
          0.40705381574946686,
          0.4070690179385821,
          0.4069980743893777,
          0.4067497719671622,
          0.4064102564102554,
          0.40602006688963105,
          0.405685618729096,
          0.40523462045201075,
          0.40473801560757977,
          0.4042008715921749,
          0.403683997162257,
          0.4032025945069413,
          0.4027262592479974,
          0.40224485659268266,
          0.40176417785113433,
          0.4012842230233534,
          0.40080499210933984,
          0.40032648510909374,
          0.39984870202261497
         ],
         "yaxis": "y3"
        },
        {
         "marker": {
          "color": "magenta"
         },
         "mode": "lines",
         "type": "scatter",
         "x": [
          0,
          0.004158556366585564,
          0.008317112733171128,
          0.01247566909975669,
          0.016634225466342255,
          0.02079278183292782,
          0.02495133819951338,
          0.029109894566098946,
          0.03326845093268451,
          0.03742700729927007,
          0.04158556366585564,
          0.0457441200324412,
          0.04990267639902676,
          0.05406123276561233,
          0.05821978913219789,
          0.06237834549878346,
          0.06653690186536902,
          0.07069545823195458,
          0.07485401459854014,
          0.07901257096512572,
          0.08317112733171128,
          0.08732968369829684,
          0.0914882400648824,
          0.09564679643146796,
          0.09980535279805353,
          0.1039639091646391,
          0.10812246553122466,
          0.11228102189781022,
          0.11643957826439578,
          0.12059813463098135,
          0.12475669099756692,
          0.12891524736415247,
          0.13307380373073804,
          0.13723236009732362,
          0.14139091646390917,
          0.14554947283049474,
          0.1497080291970803,
          0.15386658556366586,
          0.15802514193025144,
          0.162183698296837,
          0.16634225466342256,
          0.1705008110300081,
          0.17465936739659368,
          0.17881792376317926,
          0.1829764801297648,
          0.18713503649635038,
          0.19129359286293593,
          0.1954521492295215,
          0.19961070559610705
         ],
         "xaxis": "x4",
         "y": [
          1.1431199235547065,
          1.1428173275999367,
          1.1425603382125125,
          1.142348955392434,
          1.1421831791397012,
          1.142063009454314,
          1.1419884463362693,
          1.1420745920745892,
          1.1420188507145,
          1.142054322489102,
          1.14213540083105,
          1.1421506030201654,
          1.1420999290564477,
          1.1421506030201654,
          1.1421810073983958,
          1.1422468835512285,
          1.1422367487584848,
          1.1421049964528196,
          1.1420289855072434,
          1.1420188507145,
          1.1419732441471542,
          1.1418465592378606,
          1.1417148069321952,
          1.141542515455556,
          1.1412486064659948,
          1.141106719367586,
          1.140767203810679,
          1.1403466099118245,
          1.13983987027465,
          1.1392419175027844,
          1.1387351778656098,
          1.1382132360393202,
          1.1379041248606439,
          1.1375798114928521,
          1.1374784635654172,
          1.1371693523867408,
          1.136753825884258,
          1.1361204013377897,
          1.1352792135400802,
          1.1341390493564378,
          1.1327607175433234,
          1.131103678929763,
          1.1293148880105375,
          1.127726621204882,
          1.1260913000043433,
          1.1244089244089244,
          1.1226794944186247,
          1.1209030100334445,
          1.1190794712533838
         ],
         "yaxis": "y4"
        },
        {
         "marker": {
          "color": "blue"
         },
         "mode": "lines",
         "type": "scatter",
         "x": [
          0,
          0.004158556366585564,
          0.008317112733171128,
          0.01247566909975669,
          0.016634225466342255,
          0.02079278183292782,
          0.02495133819951338,
          0.029109894566098946,
          0.03326845093268451,
          0.03742700729927007,
          0.04158556366585564,
          0.0457441200324412,
          0.04990267639902676,
          0.05406123276561233,
          0.05821978913219789,
          0.06237834549878346,
          0.06653690186536902,
          0.07069545823195458,
          0.07485401459854014,
          0.07901257096512572,
          0.08317112733171128,
          0.08732968369829684,
          0.0914882400648824,
          0.09564679643146796,
          0.09980535279805353,
          0.1039639091646391,
          0.10812246553122466,
          0.11228102189781022,
          0.11643957826439578,
          0.12059813463098135,
          0.12475669099756692,
          0.12891524736415247,
          0.13307380373073804,
          0.13723236009732362,
          0.14139091646390917,
          0.14554947283049474,
          0.1497080291970803,
          0.15386658556366586,
          0.15802514193025144,
          0.162183698296837,
          0.16634225466342256,
          0.1705008110300081,
          0.17465936739659368,
          0.17881792376317926,
          0.1829764801297648,
          0.18713503649635038,
          0.19129359286293593,
          0.1954521492295215,
          0.19961070559610705
         ],
         "xaxis": "x5",
         "y": [
          0.007156333304991146,
          0.014995588553119681,
          0.021134234256202082,
          0.025572270414238346,
          0.028309697027228485,
          0.029346514095172485,
          0.028682721618070256,
          0.021897326053176222,
          0.01374852126104694,
          0.004543074317810508,
          0.0038199804955321385,
          0.0028388127838255973,
          0.0046684592736632325,
          0.005353815876306029,
          0.005168781766891704,
          0.002590477531769501,
          -0.0033914804527797266,
          -0.010293739665721413,
          -0.01947118802662994,
          -0.02235139001918582,
          -0.02252181617259129,
          -0.016003015804816802,
          -0.005607020447058115,
          0.010915795125647389,
          0.03406818806584374,
          0.05473235916631054,
          0.07392234403981579,
          0.08626119754640471,
          0.09248175214572224,
          0.0852642045489845,
          0.05877998030970569,
          0.01838046064483366,
          -0.03303710983773346,
          -0.08655092200719348,
          -0.1436777686288621,
          -0.19830787210313344,
          -0.2494783246632654,
          -0.2938061671641655,
          -0.32587671724616,
          -0.3450679194493198,
          -0.35383147572334034,
          -0.35802274176742377,
          -0.36129735857212736,
          -0.36445337268642186,
          -0.364088869403223,
          -0.36020384872253164,
          -0.35279831064434786,
          -0.3418722551686717,
          -0.32742568229550295
         ],
         "yaxis": "y5"
        },
        {
         "marker": {
          "color": "red"
         },
         "mode": "lines",
         "type": "scatter",
         "x": [
          0,
          0.004158556366585564,
          0.008317112733171128,
          0.01247566909975669,
          0.016634225466342255,
          0.02079278183292782,
          0.02495133819951338,
          0.029109894566098946,
          0.03326845093268451,
          0.03742700729927007,
          0.04158556366585564,
          0.0457441200324412,
          0.04990267639902676,
          0.05406123276561233,
          0.05821978913219789,
          0.06237834549878346,
          0.06653690186536902,
          0.07069545823195458,
          0.07485401459854014,
          0.07901257096512572,
          0.08317112733171128,
          0.08732968369829684,
          0.0914882400648824,
          0.09564679643146796,
          0.09980535279805353,
          0.1039639091646391,
          0.10812246553122466,
          0.11228102189781022,
          0.11643957826439578,
          0.12059813463098135,
          0.12475669099756692,
          0.12891524736415247,
          0.13307380373073804,
          0.13723236009732362,
          0.14139091646390917,
          0.14554947283049474,
          0.1497080291970803,
          0.15386658556366586,
          0.15802514193025144,
          0.162183698296837,
          0.16634225466342256,
          0.1705008110300081,
          0.17465936739659368,
          0.17881792376317926,
          0.1829764801297648,
          0.18713503649635038,
          0.19129359286293593,
          0.1954521492295215,
          0.19961070559610705
         ],
         "xaxis": "x6",
         "y": [
          -0.012524061520019109,
          -0.03967833878914549,
          -0.06063310387174363,
          -0.07538835676781352,
          -0.08394409747735516,
          -0.08630032600036855,
          -0.0824570423368534,
          -0.06151410274261432,
          -0.03346926186997916,
          0.00003286790067606976,
          0.013211678877717771,
          0.023512722521557415,
          0.02813005394934063,
          0.02338855489569332,
          0.014851421939722722,
          0.004950879756443881,
          -0.002394487455351499,
          -0.010745368972251926,
          -0.017511287262467444,
          -0.031588487533796485,
          -0.0477278442613315,
          -0.066500285058998,
          -0.07871131895052544,
          -0.0941604497567779,
          -0.12168427353182845,
          -0.16204118665835113,
          -0.21382517337072915,
          -0.2615104110937031,
          -0.3057104339795249,
          -0.33156408145120775,
          -0.33879867166329586,
          -0.3243294912391364,
          -0.2945475209314561,
          -0.25977206432898436,
          -0.23130237540253482,
          -0.22822618333356298,
          -0.26537056346838245,
          -0.3526311886715984,
          -0.48639137250189624,
          -0.6444178059178286,
          -0.8057845919404345,
          -0.9468889256527772,
          -1.0636186674390982,
          -1.1454075696925066,
          -1.2062284901413824,
          -1.2460814287857287,
          -1.2649663856255455,
          -1.2628833606608327,
          -1.2398323538915905
         ],
         "yaxis": "y6"
        },
        {
         "marker": {
          "color": "green"
         },
         "mode": "lines",
         "type": "scatter",
         "x": [
          0.01247566909975669,
          0.016634225466342255,
          0.02079278183292782,
          0.02495133819951338,
          0.029109894566098946,
          0.03326845093268451,
          0.03742700729927007,
          0.04158556366585564,
          0.0457441200324412,
          0.04990267639902676,
          0.05406123276561233,
          0.05821978913219789,
          0.06237834549878346,
          0.06653690186536902,
          0.07069545823195458,
          0.07485401459854014,
          0.07901257096512572,
          0.08317112733171128,
          0.08732968369829684,
          0.0914882400648824,
          0.09564679643146796,
          0.09980535279805353,
          0.1039639091646391,
          0.10812246553122466,
          0.11228102189781022,
          0.11643957826439578,
          0.12059813463098135,
          0.12475669099756692,
          0.12891524736415247,
          0.13307380373073804,
          0.13723236009732362,
          0.14139091646390917,
          0.14554947283049474,
          0.1497080291970803,
          0.15386658556366586,
          0.15802514193025144,
          0.162183698296837,
          0.16634225466342256,
          0.1705008110300081,
          0.17465936739659368,
          0.17881792376317926,
          0.1829764801297648,
          0.18713503649635038,
          0.19129359286293593,
          0.1954521492295215,
          0.19961070559610705
         ],
         "xaxis": "x7",
         "y": [
          4.428444750014979,
          3.2016178934326964,
          1.9747910368504153,
          0.7479641802681125,
          -1.5419704360812165,
          -3.750819144705371,
          -5.804814260598788,
          -4.347024294992712,
          -2.6234364802367476,
          0.03015107763362441,
          0.36883842505981573,
          0.5602831313740635,
          -0.49968824724621513,
          -2.1029644804998036,
          -3.7182425990077004,
          -5.30512601336061,
          -4.559252753852491,
          -2.9404618884389206,
          0.833984661042536,
          4.026486139918765,
          8.040677665671051,
          12.040525474895071,
          14.509693820240537,
          15.151062859321245,
          12.550751962853576,
          9.077523460480673,
          2.7273552428678762,
          -6.608355115134042,
          -17.8189941337096,
          -28.447688081681687,
          -34.947440771669655,
          -38.96982870686839,
          -39.74234029707218,
          -39.178837147720614,
          -36.10108540107822,
          -30.676233264037315,
          -22.98624483104935,
          -14.4341697617674,
          -7.730092293460431,
          -3.9026618114913036,
          -2.554227002531347,
          -1.458709970734368,
          0.26295419688961846,
          2.802670209239845,
          5.342386221589793,
          7.88210223393984
         ],
         "yaxis": "y7"
        },
        {
         "marker": {
          "color": "purple"
         },
         "mode": "lines",
         "type": "scatter",
         "x": [
          0.01247566909975669,
          0.016634225466342255,
          0.02079278183292782,
          0.02495133819951338,
          0.029109894566098946,
          0.03326845093268451,
          0.03742700729927007,
          0.04158556366585564,
          0.0457441200324412,
          0.04990267639902676,
          0.05406123276561233,
          0.05821978913219789,
          0.06237834549878346,
          0.06653690186536902,
          0.07069545823195458,
          0.07485401459854014,
          0.07901257096512572,
          0.08317112733171128,
          0.08732968369829684,
          0.0914882400648824,
          0.09564679643146796,
          0.09980535279805353,
          0.1039639091646391,
          0.10812246553122466,
          0.11228102189781022,
          0.11643957826439578,
          0.12059813463098135,
          0.12475669099756692,
          0.12891524736415247,
          0.13307380373073804,
          0.13723236009732362,
          0.14139091646390917,
          0.14554947283049474,
          0.1497080291970803,
          0.15386658556366586,
          0.15802514193025144,
          0.162183698296837,
          0.16634225466342256,
          0.1705008110300081,
          0.17465936739659368,
          0.17881792376317926,
          0.1829764801297648,
          0.18713503649635038,
          0.19129359286293593,
          0.1954521492295215,
          0.19961070559610705
         ],
         "xaxis": "x8",
         "y": [
          -15.116855395520336,
          -10.644501309129694,
          -6.172147222739057,
          -1.6997931363483514,
          5.393697417442312,
          12.70418372945297,
          19.836189043953954,
          17.969164063943317,
          13.702347489958973,
          6.756475943052837,
          2.4472136772625723,
          -2.0827661857439654,
          -5.573851151602469,
          -6.199998287437988,
          -6.155210764400733,
          -5.401433824342795,
          -7.020224689755742,
          -8.893104247963945,
          -11.780289475011644,
          -11.331536057889192,
          -11.165558766628074,
          -13.269986891662603,
          -20.038171990979773,
          -28.775544459483566,
          -33.623720646278215,
          -34.54786581121548,
          -28.31244732583719,
          -18.5853584168323,
          -4.477288659405375,
          8.90130065740686,
          19.00337529852868,
          22.37005047811413,
          15.94816367785509,
          -1.3462602513657462,
          -29.17570487776791,
          -62.080483324145106,
          -91.14875669237814,
          -108.9689217416818,
          -110.73495524817912,
          -100.80441974758146,
          -81.6684800718291,
          -62.36288308424214,
          -43.8764670385948,
          -28.75007704445395,
          -13.623687050313409,
          1.5027029438268937
         ],
         "yaxis": "y8"
        }
       ],
       "layout": {
        "annotations": [
         {
          "font": {
           "size": 16
          },
          "showarrow": false,
          "text": "Trayectoria del Objeto",
          "x": 0.225,
          "xanchor": "center",
          "xref": "paper",
          "y": 1,
          "yanchor": "bottom",
          "yref": "paper"
         },
         {
          "font": {
           "size": 16
          },
          "showarrow": false,
          "text": "Velocidad del Objeto",
          "x": 0.775,
          "xanchor": "center",
          "xref": "paper",
          "y": 1,
          "yanchor": "bottom",
          "yref": "paper"
         },
         {
          "font": {
           "size": 16
          },
          "showarrow": false,
          "text": "Posición X / Tiempo",
          "x": 0.225,
          "xanchor": "center",
          "xref": "paper",
          "y": 0.71875,
          "yanchor": "bottom",
          "yref": "paper"
         },
         {
          "font": {
           "size": 16
          },
          "showarrow": false,
          "text": "Posición Y / Tiempo",
          "x": 0.775,
          "xanchor": "center",
          "xref": "paper",
          "y": 0.71875,
          "yanchor": "bottom",
          "yref": "paper"
         },
         {
          "font": {
           "size": 16
          },
          "showarrow": false,
          "text": "Velocidad X / Tiempo",
          "x": 0.225,
          "xanchor": "center",
          "xref": "paper",
          "y": 0.4375,
          "yanchor": "bottom",
          "yref": "paper"
         },
         {
          "font": {
           "size": 16
          },
          "showarrow": false,
          "text": "Velocidad Y / Tiempo",
          "x": 0.775,
          "xanchor": "center",
          "xref": "paper",
          "y": 0.4375,
          "yanchor": "bottom",
          "yref": "paper"
         },
         {
          "font": {
           "size": 16
          },
          "showarrow": false,
          "text": "Aceleración X / Tiempo",
          "x": 0.225,
          "xanchor": "center",
          "xref": "paper",
          "y": 0.15625,
          "yanchor": "bottom",
          "yref": "paper"
         },
         {
          "font": {
           "size": 16
          },
          "showarrow": false,
          "text": "Aceleración Y / Tiempo",
          "x": 0.775,
          "xanchor": "center",
          "xref": "paper",
          "y": 0.15625,
          "yanchor": "bottom",
          "yref": "paper"
         }
        ],
        "height": 1000,
        "showlegend": false,
        "template": {
         "data": {
          "bar": [
           {
            "error_x": {
             "color": "#2a3f5f"
            },
            "error_y": {
             "color": "#2a3f5f"
            },
            "marker": {
             "line": {
              "color": "#E5ECF6",
              "width": 0.5
             },
             "pattern": {
              "fillmode": "overlay",
              "size": 10,
              "solidity": 0.2
             }
            },
            "type": "bar"
           }
          ],
          "barpolar": [
           {
            "marker": {
             "line": {
              "color": "#E5ECF6",
              "width": 0.5
             },
             "pattern": {
              "fillmode": "overlay",
              "size": 10,
              "solidity": 0.2
             }
            },
            "type": "barpolar"
           }
          ],
          "carpet": [
           {
            "aaxis": {
             "endlinecolor": "#2a3f5f",
             "gridcolor": "white",
             "linecolor": "white",
             "minorgridcolor": "white",
             "startlinecolor": "#2a3f5f"
            },
            "baxis": {
             "endlinecolor": "#2a3f5f",
             "gridcolor": "white",
             "linecolor": "white",
             "minorgridcolor": "white",
             "startlinecolor": "#2a3f5f"
            },
            "type": "carpet"
           }
          ],
          "choropleth": [
           {
            "colorbar": {
             "outlinewidth": 0,
             "ticks": ""
            },
            "type": "choropleth"
           }
          ],
          "contour": [
           {
            "colorbar": {
             "outlinewidth": 0,
             "ticks": ""
            },
            "colorscale": [
             [
              0,
              "#0d0887"
             ],
             [
              0.1111111111111111,
              "#46039f"
             ],
             [
              0.2222222222222222,
              "#7201a8"
             ],
             [
              0.3333333333333333,
              "#9c179e"
             ],
             [
              0.4444444444444444,
              "#bd3786"
             ],
             [
              0.5555555555555556,
              "#d8576b"
             ],
             [
              0.6666666666666666,
              "#ed7953"
             ],
             [
              0.7777777777777778,
              "#fb9f3a"
             ],
             [
              0.8888888888888888,
              "#fdca26"
             ],
             [
              1,
              "#f0f921"
             ]
            ],
            "type": "contour"
           }
          ],
          "contourcarpet": [
           {
            "colorbar": {
             "outlinewidth": 0,
             "ticks": ""
            },
            "type": "contourcarpet"
           }
          ],
          "heatmap": [
           {
            "colorbar": {
             "outlinewidth": 0,
             "ticks": ""
            },
            "colorscale": [
             [
              0,
              "#0d0887"
             ],
             [
              0.1111111111111111,
              "#46039f"
             ],
             [
              0.2222222222222222,
              "#7201a8"
             ],
             [
              0.3333333333333333,
              "#9c179e"
             ],
             [
              0.4444444444444444,
              "#bd3786"
             ],
             [
              0.5555555555555556,
              "#d8576b"
             ],
             [
              0.6666666666666666,
              "#ed7953"
             ],
             [
              0.7777777777777778,
              "#fb9f3a"
             ],
             [
              0.8888888888888888,
              "#fdca26"
             ],
             [
              1,
              "#f0f921"
             ]
            ],
            "type": "heatmap"
           }
          ],
          "heatmapgl": [
           {
            "colorbar": {
             "outlinewidth": 0,
             "ticks": ""
            },
            "colorscale": [
             [
              0,
              "#0d0887"
             ],
             [
              0.1111111111111111,
              "#46039f"
             ],
             [
              0.2222222222222222,
              "#7201a8"
             ],
             [
              0.3333333333333333,
              "#9c179e"
             ],
             [
              0.4444444444444444,
              "#bd3786"
             ],
             [
              0.5555555555555556,
              "#d8576b"
             ],
             [
              0.6666666666666666,
              "#ed7953"
             ],
             [
              0.7777777777777778,
              "#fb9f3a"
             ],
             [
              0.8888888888888888,
              "#fdca26"
             ],
             [
              1,
              "#f0f921"
             ]
            ],
            "type": "heatmapgl"
           }
          ],
          "histogram": [
           {
            "marker": {
             "pattern": {
              "fillmode": "overlay",
              "size": 10,
              "solidity": 0.2
             }
            },
            "type": "histogram"
           }
          ],
          "histogram2d": [
           {
            "colorbar": {
             "outlinewidth": 0,
             "ticks": ""
            },
            "colorscale": [
             [
              0,
              "#0d0887"
             ],
             [
              0.1111111111111111,
              "#46039f"
             ],
             [
              0.2222222222222222,
              "#7201a8"
             ],
             [
              0.3333333333333333,
              "#9c179e"
             ],
             [
              0.4444444444444444,
              "#bd3786"
             ],
             [
              0.5555555555555556,
              "#d8576b"
             ],
             [
              0.6666666666666666,
              "#ed7953"
             ],
             [
              0.7777777777777778,
              "#fb9f3a"
             ],
             [
              0.8888888888888888,
              "#fdca26"
             ],
             [
              1,
              "#f0f921"
             ]
            ],
            "type": "histogram2d"
           }
          ],
          "histogram2dcontour": [
           {
            "colorbar": {
             "outlinewidth": 0,
             "ticks": ""
            },
            "colorscale": [
             [
              0,
              "#0d0887"
             ],
             [
              0.1111111111111111,
              "#46039f"
             ],
             [
              0.2222222222222222,
              "#7201a8"
             ],
             [
              0.3333333333333333,
              "#9c179e"
             ],
             [
              0.4444444444444444,
              "#bd3786"
             ],
             [
              0.5555555555555556,
              "#d8576b"
             ],
             [
              0.6666666666666666,
              "#ed7953"
             ],
             [
              0.7777777777777778,
              "#fb9f3a"
             ],
             [
              0.8888888888888888,
              "#fdca26"
             ],
             [
              1,
              "#f0f921"
             ]
            ],
            "type": "histogram2dcontour"
           }
          ],
          "mesh3d": [
           {
            "colorbar": {
             "outlinewidth": 0,
             "ticks": ""
            },
            "type": "mesh3d"
           }
          ],
          "parcoords": [
           {
            "line": {
             "colorbar": {
              "outlinewidth": 0,
              "ticks": ""
             }
            },
            "type": "parcoords"
           }
          ],
          "pie": [
           {
            "automargin": true,
            "type": "pie"
           }
          ],
          "scatter": [
           {
            "fillpattern": {
             "fillmode": "overlay",
             "size": 10,
             "solidity": 0.2
            },
            "type": "scatter"
           }
          ],
          "scatter3d": [
           {
            "line": {
             "colorbar": {
              "outlinewidth": 0,
              "ticks": ""
             }
            },
            "marker": {
             "colorbar": {
              "outlinewidth": 0,
              "ticks": ""
             }
            },
            "type": "scatter3d"
           }
          ],
          "scattercarpet": [
           {
            "marker": {
             "colorbar": {
              "outlinewidth": 0,
              "ticks": ""
             }
            },
            "type": "scattercarpet"
           }
          ],
          "scattergeo": [
           {
            "marker": {
             "colorbar": {
              "outlinewidth": 0,
              "ticks": ""
             }
            },
            "type": "scattergeo"
           }
          ],
          "scattergl": [
           {
            "marker": {
             "colorbar": {
              "outlinewidth": 0,
              "ticks": ""
             }
            },
            "type": "scattergl"
           }
          ],
          "scattermapbox": [
           {
            "marker": {
             "colorbar": {
              "outlinewidth": 0,
              "ticks": ""
             }
            },
            "type": "scattermapbox"
           }
          ],
          "scatterpolar": [
           {
            "marker": {
             "colorbar": {
              "outlinewidth": 0,
              "ticks": ""
             }
            },
            "type": "scatterpolar"
           }
          ],
          "scatterpolargl": [
           {
            "marker": {
             "colorbar": {
              "outlinewidth": 0,
              "ticks": ""
             }
            },
            "type": "scatterpolargl"
           }
          ],
          "scatterternary": [
           {
            "marker": {
             "colorbar": {
              "outlinewidth": 0,
              "ticks": ""
             }
            },
            "type": "scatterternary"
           }
          ],
          "surface": [
           {
            "colorbar": {
             "outlinewidth": 0,
             "ticks": ""
            },
            "colorscale": [
             [
              0,
              "#0d0887"
             ],
             [
              0.1111111111111111,
              "#46039f"
             ],
             [
              0.2222222222222222,
              "#7201a8"
             ],
             [
              0.3333333333333333,
              "#9c179e"
             ],
             [
              0.4444444444444444,
              "#bd3786"
             ],
             [
              0.5555555555555556,
              "#d8576b"
             ],
             [
              0.6666666666666666,
              "#ed7953"
             ],
             [
              0.7777777777777778,
              "#fb9f3a"
             ],
             [
              0.8888888888888888,
              "#fdca26"
             ],
             [
              1,
              "#f0f921"
             ]
            ],
            "type": "surface"
           }
          ],
          "table": [
           {
            "cells": {
             "fill": {
              "color": "#EBF0F8"
             },
             "line": {
              "color": "white"
             }
            },
            "header": {
             "fill": {
              "color": "#C8D4E3"
             },
             "line": {
              "color": "white"
             }
            },
            "type": "table"
           }
          ]
         },
         "layout": {
          "annotationdefaults": {
           "arrowcolor": "#2a3f5f",
           "arrowhead": 0,
           "arrowwidth": 1
          },
          "autotypenumbers": "strict",
          "coloraxis": {
           "colorbar": {
            "outlinewidth": 0,
            "ticks": ""
           }
          },
          "colorscale": {
           "diverging": [
            [
             0,
             "#8e0152"
            ],
            [
             0.1,
             "#c51b7d"
            ],
            [
             0.2,
             "#de77ae"
            ],
            [
             0.3,
             "#f1b6da"
            ],
            [
             0.4,
             "#fde0ef"
            ],
            [
             0.5,
             "#f7f7f7"
            ],
            [
             0.6,
             "#e6f5d0"
            ],
            [
             0.7,
             "#b8e186"
            ],
            [
             0.8,
             "#7fbc41"
            ],
            [
             0.9,
             "#4d9221"
            ],
            [
             1,
             "#276419"
            ]
           ],
           "sequential": [
            [
             0,
             "#0d0887"
            ],
            [
             0.1111111111111111,
             "#46039f"
            ],
            [
             0.2222222222222222,
             "#7201a8"
            ],
            [
             0.3333333333333333,
             "#9c179e"
            ],
            [
             0.4444444444444444,
             "#bd3786"
            ],
            [
             0.5555555555555556,
             "#d8576b"
            ],
            [
             0.6666666666666666,
             "#ed7953"
            ],
            [
             0.7777777777777778,
             "#fb9f3a"
            ],
            [
             0.8888888888888888,
             "#fdca26"
            ],
            [
             1,
             "#f0f921"
            ]
           ],
           "sequentialminus": [
            [
             0,
             "#0d0887"
            ],
            [
             0.1111111111111111,
             "#46039f"
            ],
            [
             0.2222222222222222,
             "#7201a8"
            ],
            [
             0.3333333333333333,
             "#9c179e"
            ],
            [
             0.4444444444444444,
             "#bd3786"
            ],
            [
             0.5555555555555556,
             "#d8576b"
            ],
            [
             0.6666666666666666,
             "#ed7953"
            ],
            [
             0.7777777777777778,
             "#fb9f3a"
            ],
            [
             0.8888888888888888,
             "#fdca26"
            ],
            [
             1,
             "#f0f921"
            ]
           ]
          },
          "colorway": [
           "#636efa",
           "#EF553B",
           "#00cc96",
           "#ab63fa",
           "#FFA15A",
           "#19d3f3",
           "#FF6692",
           "#B6E880",
           "#FF97FF",
           "#FECB52"
          ],
          "font": {
           "color": "#2a3f5f"
          },
          "geo": {
           "bgcolor": "white",
           "lakecolor": "white",
           "landcolor": "#E5ECF6",
           "showlakes": true,
           "showland": true,
           "subunitcolor": "white"
          },
          "hoverlabel": {
           "align": "left"
          },
          "hovermode": "closest",
          "mapbox": {
           "style": "light"
          },
          "paper_bgcolor": "white",
          "plot_bgcolor": "#E5ECF6",
          "polar": {
           "angularaxis": {
            "gridcolor": "white",
            "linecolor": "white",
            "ticks": ""
           },
           "bgcolor": "#E5ECF6",
           "radialaxis": {
            "gridcolor": "white",
            "linecolor": "white",
            "ticks": ""
           }
          },
          "scene": {
           "xaxis": {
            "backgroundcolor": "#E5ECF6",
            "gridcolor": "white",
            "gridwidth": 2,
            "linecolor": "white",
            "showbackground": true,
            "ticks": "",
            "zerolinecolor": "white"
           },
           "yaxis": {
            "backgroundcolor": "#E5ECF6",
            "gridcolor": "white",
            "gridwidth": 2,
            "linecolor": "white",
            "showbackground": true,
            "ticks": "",
            "zerolinecolor": "white"
           },
           "zaxis": {
            "backgroundcolor": "#E5ECF6",
            "gridcolor": "white",
            "gridwidth": 2,
            "linecolor": "white",
            "showbackground": true,
            "ticks": "",
            "zerolinecolor": "white"
           }
          },
          "shapedefaults": {
           "line": {
            "color": "#2a3f5f"
           }
          },
          "ternary": {
           "aaxis": {
            "gridcolor": "white",
            "linecolor": "white",
            "ticks": ""
           },
           "baxis": {
            "gridcolor": "white",
            "linecolor": "white",
            "ticks": ""
           },
           "bgcolor": "#E5ECF6",
           "caxis": {
            "gridcolor": "white",
            "linecolor": "white",
            "ticks": ""
           }
          },
          "title": {
           "x": 0.05
          },
          "xaxis": {
           "automargin": true,
           "gridcolor": "white",
           "linecolor": "white",
           "ticks": "",
           "title": {
            "standoff": 15
           },
           "zerolinecolor": "white",
           "zerolinewidth": 2
          },
          "yaxis": {
           "automargin": true,
           "gridcolor": "white",
           "linecolor": "white",
           "ticks": "",
           "title": {
            "standoff": 15
           },
           "zerolinecolor": "white",
           "zerolinewidth": 2
          }
         }
        },
        "title": {
         "text": "Análisis de Movimiento del Centro del Objeto"
        },
        "width": 1200,
        "xaxis": {
         "anchor": "y",
         "domain": [
          0,
          0.45
         ],
         "range": [
          0.35,
          0.6
         ],
         "scaleanchor": "y",
         "title": {
          "text": "Posición X (m)"
         }
        },
        "xaxis2": {
         "anchor": "y2",
         "domain": [
          0.55,
          1
         ],
         "title": {
          "text": "Tiempo (s)"
         }
        },
        "xaxis3": {
         "anchor": "y3",
         "domain": [
          0,
          0.45
         ],
         "title": {
          "text": "Tiempo (s)"
         }
        },
        "xaxis4": {
         "anchor": "y4",
         "domain": [
          0.55,
          1
         ],
         "title": {
          "text": "Tiempo (s)"
         }
        },
        "xaxis5": {
         "anchor": "y5",
         "domain": [
          0,
          0.45
         ],
         "title": {
          "text": "Tiempo (s)"
         }
        },
        "xaxis6": {
         "anchor": "y6",
         "domain": [
          0.55,
          1
         ],
         "title": {
          "text": "Tiempo (s)"
         }
        },
        "xaxis7": {
         "anchor": "y7",
         "domain": [
          0,
          0.45
         ],
         "title": {
          "text": "Tiempo (s)"
         }
        },
        "xaxis8": {
         "anchor": "y8",
         "domain": [
          0.55,
          1
         ],
         "title": {
          "text": "Tiempo (s)"
         }
        },
        "yaxis": {
         "anchor": "x",
         "domain": [
          0.84375,
          1
         ],
         "title": {
          "text": "Posición Y (m)"
         }
        },
        "yaxis2": {
         "anchor": "x2",
         "domain": [
          0.84375,
          1
         ],
         "title": {
          "text": "Velocidad (m/s)"
         }
        },
        "yaxis3": {
         "anchor": "x3",
         "domain": [
          0.5625,
          0.71875
         ],
         "range": [
          0.35,
          0.6
         ],
         "title": {
          "text": "Posición X (m)"
         }
        },
        "yaxis4": {
         "anchor": "x4",
         "domain": [
          0.5625,
          0.71875
         ],
         "title": {
          "text": "Posición Y (m)"
         }
        },
        "yaxis5": {
         "anchor": "x5",
         "domain": [
          0.28125,
          0.4375
         ],
         "range": [
          -0.5,
          0.5
         ],
         "title": {
          "text": "Velocidad X (m/s)"
         }
        },
        "yaxis6": {
         "anchor": "x6",
         "domain": [
          0.28125,
          0.4375
         ],
         "title": {
          "text": "Velocidad Y (m/s)"
         }
        },
        "yaxis7": {
         "anchor": "x7",
         "domain": [
          0,
          0.15625
         ],
         "title": {
          "text": "Aceleración X (m/s^2)"
         }
        },
        "yaxis8": {
         "anchor": "x8",
         "domain": [
          0,
          0.15625
         ],
         "title": {
          "text": "Aceleración Y (m/s^2)"
         }
        }
       }
      }
     },
     "metadata": {},
     "output_type": "display_data"
    }
   ],
   "source": [
    "# Elegir dataframe a graficar\n",
    "dfG = dfCentro\n",
    "dfG_speed = dfCentro_speed.copy()\n",
    "dfG_acceleration = dfCentro_acceleration.copy()\n",
    "\n",
    "import plotly.graph_objects as go\n",
    "from plotly.subplots import make_subplots\n",
    "\n",
    "# Suponiendo que tienes tus DataFrames cargados (dfG, dfG_speed, dfG_acceleration)\n",
    "\n",
    "# Crear figura y ejes\n",
    "fig = make_subplots(rows=4, cols=2, subplot_titles=(\"Trayectoria del Objeto\", \"Velocidad del Objeto\", \"Posición X / Tiempo\", \"Posición Y / Tiempo\",\"Velocidad X / Tiempo\", \"Velocidad Y / Tiempo\", \"Aceleración X / Tiempo\", \"Aceleración Y / Tiempo\"))\n",
    "\n",
    "# Grafica la trayectoria\n",
    "fig.update_xaxes(title_text=\"Posición X (m)\", range=[0.35, 0.6], row=1, col=1, scaleanchor=\"y\") # Relación 1:1 entre X e Y\n",
    "fig.update_yaxes(title_text=\"Posición Y (m)\", row=1, col=1)\n",
    "fig.add_trace(go.Scatter(x=dfG['X'], y=dfG['Y'], mode='lines', marker=dict(color='blue')), row=1, col=1)\n",
    "\n",
    "# Grafica la velocidad\n",
    "fig.update_yaxes(title_text=\"Velocidad (m/s)\", row=1, col=2)\n",
    "fig.update_xaxes(title_text=\"Tiempo (s)\", row=1, col=2)\n",
    "fig.add_trace(go.Scatter(x=dfG_speed['Time (sec)'], y=dfG_speed['Speed'], mode='lines', marker=dict(color='red'), name='Velocidad Total'), row=1, col=2)\n",
    "\n",
    "# Grafica la posición X / tiempo\n",
    "fig.update_yaxes(title_text=\"Posición X (m)\", range=[0.35,0.6], row=2, col=1)\n",
    "fig.update_xaxes(title_text=\"Tiempo (s)\", row=2, col=1)\n",
    "fig.add_trace(go.Scatter(x=dfG['Time (sec)'], y=dfG['X'], mode='lines', marker=dict(color='green')), row=2, col=1)\n",
    "\n",
    "# Grafica la posición Y / tiempo\n",
    "fig.update_yaxes(title_text=\"Posición Y (m)\", row=2, col=2)\n",
    "fig.update_xaxes(title_text=\"Tiempo (s)\", row=2, col=2)\n",
    "fig.add_trace(go.Scatter(x=dfG['Time (sec)'], y=dfG['Y'], mode='lines', marker=dict(color='magenta')), row=2, col=2)\n",
    "\n",
    "# Grafica la velocidad X / tiempo\n",
    "fig.update_yaxes(title_text=\"Velocidad X (m/s)\", range=[-0.5,0.5], row=3, col=1)\n",
    "fig.update_xaxes(title_text=\"Tiempo (s)\", row=3, col=1)\n",
    "fig.add_trace(go.Scatter(x=dfG_speed['Time (sec)'], y=dfG_speed['Speed_X'], mode='lines', marker=dict(color='blue')), row=3, col=1)\n",
    "\n",
    "# Grafica la velocidad Y / tiempo\n",
    "fig.update_yaxes(title_text=\"Velocidad Y (m/s)\", row=3, col=2)\n",
    "fig.update_xaxes(title_text=\"Tiempo (s)\", row=3, col=2)\n",
    "fig.add_trace(go.Scatter(x=dfG_speed['Time (sec)'], y=dfG_speed['Speed_Y'], mode='lines', marker=dict(color='red')), row=3, col=2)\n",
    "\n",
    "# Grafica la aceleración X / tiempo\n",
    "fig.update_yaxes(title_text=\"Aceleración X (m/s^2)\", row=4, col=1)\n",
    "fig.update_xaxes(title_text=\"Tiempo (s)\", row=4, col=1)\n",
    "fig.add_trace(go.Scatter(x=dfG_acceleration['Time (sec)'], y=dfG_acceleration['Acceleration_X'], mode='lines', marker=dict(color='green')), row=4, col=1)\n",
    "\n",
    "# Grafica la aceleración Y / tiempo\n",
    "fig.update_yaxes(title_text=\"Aceleración Y (m/s^2)\", row=4, col=2)\n",
    "fig.update_xaxes(title_text=\"Tiempo (s)\", row=4, col=2)\n",
    "fig.add_trace(go.Scatter(x=dfG_acceleration['Time (sec)'], y=dfG_acceleration['Acceleration_Y'], mode='lines', marker=dict(color='purple')), row=4, col=2)\n",
    "\n",
    "# Actualizar los títulos y ajustar el diseño\n",
    "fig.update_layout(height=1000, width=1200, title_text=\"Análisis de Movimiento del Centro del Objeto\", showlegend=False)\n",
    "\n",
    "# Mostrar los gráficos\n",
    "fig.show()"
   ]
  },
  {
   "cell_type": "code",
   "execution_count": 11,
   "metadata": {
    "colab": {
     "base_uri": "https://localhost:8080/",
     "height": 1000
    },
    "collapsed": true,
    "executionInfo": {
     "elapsed": 1391,
     "status": "ok",
     "timestamp": 1730906047857,
     "user": {
      "displayName": "Tomas Rueda",
      "userId": "17662183962868927666"
     },
     "user_tz": 180
    },
    "id": "8QpPuME9ywe3",
    "outputId": "43cfb47c-7953-4dca-c68e-63a74c54491a"
   },
   "outputs": [
    {
     "data": {
      "application/vnd.plotly.v1+json": {
       "config": {
        "plotlyServerURL": "https://plot.ly"
       },
       "data": [
        {
         "marker": {
          "color": "blue"
         },
         "mode": "lines",
         "type": "scatter",
         "x": [
          0.4058608058608059,
          0.40580506450071674,
          0.40576669707104496,
          0.4057457035717906,
          0.4057420840029536,
          0.40575583836453405,
          0.40578696665653086,
          0.40587817979122226,
          0.4058933819803375,
          0.4059440559440549,
          0.4060758082497203,
          0.4061112800243225,
          0.40616195398803995,
          0.4061619539880399,
          0.40626836931184657,
          0.4064051890138836,
          0.4063950542211401,
          0.40647106516671627,
          0.40645586297760106,
          0.4064609303739728,
          0.4064203912029989,
          0.4064913347522032,
          0.4066078848687534,
          0.40663828924698386,
          0.40668389581432957,
          0.40684605249822536,
          0.40700314178574937,
          0.4070335461639799,
          0.4071754332623887,
          0.40753521840478263,
          0.40799635147461133,
          0.40844228235532476,
          0.40910104388365154,
          0.40963312050268474,
          0.4102108036890636,
          0.41076314989358365,
          0.41110773284686225,
          0.41151819195297357,
          0.4116803486368693,
          0.4119134488699696,
          0.41238978412891353,
          0.41294719772980537,
          0.41342353298874934,
          0.4136950006515225,
          0.41390421173029873,
          0.4140511662250793,
          0.4141358641358642,
          0.4141583054626533,
          0.4141184902054468
         ],
         "xaxis": "x",
         "y": [
          1.1238493390667308,
          1.12390508042682,
          1.1239434478564916,
          1.123964441355746,
          1.1239680609245828,
          1.1239543065630022,
          1.1239231782710015,
          1.12383196513631,
          1.123761021587106,
          1.1237103476233883,
          1.1236799432451579,
          1.1237255498125036,
          1.123735684605247,
          1.1237204824161318,
          1.1237458193979906,
          1.1237103476233883,
          1.123634336677812,
          1.1234164386338272,
          1.1232998885172771,
          1.1230161143204596,
          1.1227627445018722,
          1.1225144420796567,
          1.122413094152222,
          1.1223218810175302,
          1.1220583764061995,
          1.1217289956420362,
          1.1214401540488468,
          1.121120908077427,
          1.1206547076112265,
          1.1201124961994497,
          1.1195094760312123,
          1.1189064558629747,
          1.118465592378633,
          1.118126076821726,
          1.117948717948715,
          1.1177510894902172,
          1.1176193371845518,
          1.1175838654099495,
          1.117573730617206,
          1.1174622478970275,
          1.1172696868349015,
          1.1169504408634814,
          1.1166920036485226,
          1.1165269513095597,
          1.1163901316075227,
          1.116281544542414,
          1.1162011901142332,
          1.116149068322981,
          1.116125179168657
         ],
         "yaxis": "y"
        },
        {
         "marker": {
          "color": "red"
         },
         "mode": "lines",
         "name": "Velocidad Total",
         "type": "scatter",
         "x": [
          0,
          0.004158556366585564,
          0.008317112733171128,
          0.01247566909975669,
          0.016634225466342255,
          0.02079278183292782,
          0.02495133819951338,
          0.029109894566098946,
          0.03326845093268451,
          0.03742700729927007,
          0.04158556366585564,
          0.0457441200324412,
          0.04990267639902676,
          0.05406123276561233,
          0.05821978913219789,
          0.06237834549878346,
          0.06653690186536902,
          0.07069545823195458,
          0.07485401459854014,
          0.07901257096512572,
          0.08317112733171128,
          0.08732968369829684,
          0.0914882400648824,
          0.09564679643146796,
          0.09980535279805353,
          0.1039639091646391,
          0.10812246553122466,
          0.11228102189781022,
          0.11643957826439578,
          0.12059813463098135,
          0.12475669099756692,
          0.12891524736415247,
          0.13307380373073804,
          0.13723236009732362,
          0.14139091646390917,
          0.14554947283049474,
          0.1497080291970803,
          0.15386658556366586,
          0.15802514193025144,
          0.162183698296837,
          0.16634225466342256,
          0.1705008110300081,
          0.17465936739659368,
          0.17881792376317926,
          0.1829764801297648,
          0.18713503649635038,
          0.19129359286293593,
          0.1954521492295215,
          0.19961070559610705
         ],
         "xaxis": "x2",
         "y": [
          -0.004725878894357755,
          0.0023574461150718392,
          0.009160899424980513,
          0.01568448103536826,
          0.021928190946235087,
          0.027892029157580992,
          0.03357599566940589,
          0.04305270145515708,
          0.04737324390730198,
          0.046961175118954444,
          0.05096754624338309,
          0.05072073629694425,
          0.04869128381685399,
          0.043871044127290856,
          0.046755314575303276,
          0.05406582317175394,
          0.07256310320482981,
          0.09563312168550948,
          0.11632590583095878,
          0.13008136481466387,
          0.13521927769696668,
          0.14211720560947072,
          0.14984363311926419,
          0.1533035607520548,
          0.15813909658494865,
          0.17068354927077456,
          0.20224711685989671,
          0.25176976797146433,
          0.3161096166306978,
          0.38046326715688583,
          0.43516382809118714,
          0.4727861231094145,
          0.4993030768077822,
          0.5040619884274444,
          0.47860273536570763,
          0.42256904760448255,
          0.3594398502759399,
          0.3156973831821048,
          0.29517238708383664,
          0.291551677181964,
          0.2918774065554446,
          0.29410202230108323,
          0.29343998538978666,
          0.2704490515485231,
          0.24024618357479072,
          0.2028313814685902,
          0.15820464522992161,
          0.1063659748587849,
          0.0473153703551801
         ],
         "yaxis": "y2"
        },
        {
         "marker": {
          "color": "green"
         },
         "mode": "lines",
         "type": "scatter",
         "x": [
          0,
          0.004158556366585564,
          0.008317112733171128,
          0.01247566909975669,
          0.016634225466342255,
          0.02079278183292782,
          0.02495133819951338,
          0.029109894566098946,
          0.03326845093268451,
          0.03742700729927007,
          0.04158556366585564,
          0.0457441200324412,
          0.04990267639902676,
          0.05406123276561233,
          0.05821978913219789,
          0.06237834549878346,
          0.06653690186536902,
          0.07069545823195458,
          0.07485401459854014,
          0.07901257096512572,
          0.08317112733171128,
          0.08732968369829684,
          0.0914882400648824,
          0.09564679643146796,
          0.09980535279805353,
          0.1039639091646391,
          0.10812246553122466,
          0.11228102189781022,
          0.11643957826439578,
          0.12059813463098135,
          0.12475669099756692,
          0.12891524736415247,
          0.13307380373073804,
          0.13723236009732362,
          0.14139091646390917,
          0.14554947283049474,
          0.1497080291970803,
          0.15386658556366586,
          0.15802514193025144,
          0.162183698296837,
          0.16634225466342256,
          0.1705008110300081,
          0.17465936739659368,
          0.17881792376317926,
          0.1829764801297648,
          0.18713503649635038,
          0.19129359286293593,
          0.1954521492295215,
          0.19961070559610705
         ],
         "xaxis": "x3",
         "y": [
          0.4058608058608059,
          0.40580506450071674,
          0.40576669707104496,
          0.4057457035717906,
          0.4057420840029536,
          0.40575583836453405,
          0.40578696665653086,
          0.40587817979122226,
          0.4058933819803375,
          0.4059440559440549,
          0.4060758082497203,
          0.4061112800243225,
          0.40616195398803995,
          0.4061619539880399,
          0.40626836931184657,
          0.4064051890138836,
          0.4063950542211401,
          0.40647106516671627,
          0.40645586297760106,
          0.4064609303739728,
          0.4064203912029989,
          0.4064913347522032,
          0.4066078848687534,
          0.40663828924698386,
          0.40668389581432957,
          0.40684605249822536,
          0.40700314178574937,
          0.4070335461639799,
          0.4071754332623887,
          0.40753521840478263,
          0.40799635147461133,
          0.40844228235532476,
          0.40910104388365154,
          0.40963312050268474,
          0.4102108036890636,
          0.41076314989358365,
          0.41110773284686225,
          0.41151819195297357,
          0.4116803486368693,
          0.4119134488699696,
          0.41238978412891353,
          0.41294719772980537,
          0.41342353298874934,
          0.4136950006515225,
          0.41390421173029873,
          0.4140511662250793,
          0.4141358641358642,
          0.4141583054626533,
          0.4141184902054468
         ],
         "yaxis": "y3"
        },
        {
         "marker": {
          "color": "magenta"
         },
         "mode": "lines",
         "type": "scatter",
         "x": [
          0,
          0.004158556366585564,
          0.008317112733171128,
          0.01247566909975669,
          0.016634225466342255,
          0.02079278183292782,
          0.02495133819951338,
          0.029109894566098946,
          0.03326845093268451,
          0.03742700729927007,
          0.04158556366585564,
          0.0457441200324412,
          0.04990267639902676,
          0.05406123276561233,
          0.05821978913219789,
          0.06237834549878346,
          0.06653690186536902,
          0.07069545823195458,
          0.07485401459854014,
          0.07901257096512572,
          0.08317112733171128,
          0.08732968369829684,
          0.0914882400648824,
          0.09564679643146796,
          0.09980535279805353,
          0.1039639091646391,
          0.10812246553122466,
          0.11228102189781022,
          0.11643957826439578,
          0.12059813463098135,
          0.12475669099756692,
          0.12891524736415247,
          0.13307380373073804,
          0.13723236009732362,
          0.14139091646390917,
          0.14554947283049474,
          0.1497080291970803,
          0.15386658556366586,
          0.15802514193025144,
          0.162183698296837,
          0.16634225466342256,
          0.1705008110300081,
          0.17465936739659368,
          0.17881792376317926,
          0.1829764801297648,
          0.18713503649635038,
          0.19129359286293593,
          0.1954521492295215,
          0.19961070559610705
         ],
         "xaxis": "x4",
         "y": [
          1.1238493390667308,
          1.12390508042682,
          1.1239434478564916,
          1.123964441355746,
          1.1239680609245828,
          1.1239543065630022,
          1.1239231782710015,
          1.12383196513631,
          1.123761021587106,
          1.1237103476233883,
          1.1236799432451579,
          1.1237255498125036,
          1.123735684605247,
          1.1237204824161318,
          1.1237458193979906,
          1.1237103476233883,
          1.123634336677812,
          1.1234164386338272,
          1.1232998885172771,
          1.1230161143204596,
          1.1227627445018722,
          1.1225144420796567,
          1.122413094152222,
          1.1223218810175302,
          1.1220583764061995,
          1.1217289956420362,
          1.1214401540488468,
          1.121120908077427,
          1.1206547076112265,
          1.1201124961994497,
          1.1195094760312123,
          1.1189064558629747,
          1.118465592378633,
          1.118126076821726,
          1.117948717948715,
          1.1177510894902172,
          1.1176193371845518,
          1.1175838654099495,
          1.117573730617206,
          1.1174622478970275,
          1.1172696868349015,
          1.1169504408634814,
          1.1166920036485226,
          1.1165269513095597,
          1.1163901316075227,
          1.116281544542414,
          1.1162011901142332,
          1.116149068322981,
          1.116125179168657
         ],
         "yaxis": "y4"
        },
        {
         "marker": {
          "color": "blue"
         },
         "mode": "lines",
         "type": "scatter",
         "x": [
          0,
          0.004158556366585564,
          0.008317112733171128,
          0.01247566909975669,
          0.016634225466342255,
          0.02079278183292782,
          0.02495133819951338,
          0.029109894566098946,
          0.03326845093268451,
          0.03742700729927007,
          0.04158556366585564,
          0.0457441200324412,
          0.04990267639902676,
          0.05406123276561233,
          0.05821978913219789,
          0.06237834549878346,
          0.06653690186536902,
          0.07069545823195458,
          0.07485401459854014,
          0.07901257096512572,
          0.08317112733171128,
          0.08732968369829684,
          0.0914882400648824,
          0.09564679643146796,
          0.09980535279805353,
          0.1039639091646391,
          0.10812246553122466,
          0.11228102189781022,
          0.11643957826439578,
          0.12059813463098135,
          0.12475669099756692,
          0.12891524736415247,
          0.13307380373073804,
          0.13723236009732362,
          0.14139091646390917,
          0.14554947283049474,
          0.1497080291970803,
          0.15386658556366586,
          0.15802514193025144,
          0.162183698296837,
          0.16634225466342256,
          0.1705008110300081,
          0.17465936739659368,
          0.17881792376317926,
          0.1829764801297648,
          0.18713503649635038,
          0.19129359286293593,
          0.1954521492295215,
          0.19961070559610705
         ],
         "xaxis": "x5",
         "y": [
          -0.007441362351194873,
          -0.007273023048704398,
          -0.006041781042513279,
          -0.0037476363326215136,
          -0.0003905889190291027,
          0.004029361198263953,
          0.009512214019257632,
          0.021686728020773902,
          0.0310601664581064,
          0.038373883098572974,
          0.04182866469407166,
          0.04463947889563833,
          0.048637189522719074,
          0.04833772642460411,
          0.049290895554008785,
          0.04413185242445966,
          0.03538046944706491,
          0.027532345082722502,
          0.023919310630517006,
          0.022385475249867094,
          0.017042615340594584,
          0.01764762818518672,
          0.025478709934189187,
          0.03367620791301035,
          0.0404080409725432,
          0.04930428618033251,
          0.06644063590530114,
          0.09254140129942026,
          0.12799004120785096,
          0.17714946515779337,
          0.23489836723939406,
          0.29020165401962067,
          0.3420878964240567,
          0.3788573390213813,
          0.39035258306861,
          0.36962876281444423,
          0.3335410248307408,
          0.30604033031933775,
          0.2884511339581781,
          0.28029745984738574,
          0.27222899881333223,
          0.26818989897765333,
          0.2624587109045737,
          0.2382482845793622,
          0.20774009017307865,
          0.1709341276857238,
          0.12783039711729763,
          0.07842889846780021,
          0.022729631737231415
         ],
         "yaxis": "y5"
        },
        {
         "marker": {
          "color": "red"
         },
         "mode": "lines",
         "type": "scatter",
         "x": [
          0,
          0.004158556366585564,
          0.008317112733171128,
          0.01247566909975669,
          0.016634225466342255,
          0.02079278183292782,
          0.02495133819951338,
          0.029109894566098946,
          0.03326845093268451,
          0.03742700729927007,
          0.04158556366585564,
          0.0457441200324412,
          0.04990267639902676,
          0.05406123276561233,
          0.05821978913219789,
          0.06237834549878346,
          0.06653690186536902,
          0.07069545823195458,
          0.07485401459854014,
          0.07901257096512572,
          0.08317112733171128,
          0.08732968369829684,
          0.0914882400648824,
          0.09564679643146796,
          0.09980535279805353,
          0.1039639091646391,
          0.10812246553122466,
          0.11228102189781022,
          0.11643957826439578,
          0.12059813463098135,
          0.12475669099756692,
          0.12891524736415247,
          0.13307380373073804,
          0.13723236009732362,
          0.14139091646390917,
          0.14554947283049474,
          0.1497080291970803,
          0.15386658556366586,
          0.15802514193025144,
          0.162183698296837,
          0.16634225466342256,
          0.1705008110300081,
          0.17465936739659368,
          0.17881792376317926,
          0.1829764801297648,
          0.18713503649635038,
          0.19129359286293593,
          0.1954521492295215,
          0.19961070559610705
         ],
         "xaxis": "x6",
         "y": [
          0.017953004027595185,
          0.009844023305834173,
          0.0026624738862585165,
          -0.0035916442311317853,
          -0.008918331046336735,
          -0.013317586559356331,
          -0.016789410770190506,
          -0.024260162937709422,
          -0.028733849464588117,
          -0.030253076889175973,
          -0.02480309196910805,
          -0.013894600821361472,
          -0.0056642349413968465,
          0.0007364844486994809,
          -0.0033440045957079563,
          -0.015713291344021437,
          -0.0428025284278923,
          -0.07612084141874258,
          -0.10429228457674751,
          -0.1219995619156247,
          -0.13291535704128793,
          -0.14198202840249205,
          -0.14716298346604206,
          -0.14737601615780244,
          -0.15211386322249054,
          -0.16475948380520378,
          -0.19509533911145194,
          -0.2380342084620629,
          -0.29302220685848,
          -0.3370006757448719,
          -0.36045131445352935,
          -0.36100519945209597,
          -0.34563276041488444,
          -0.3126041718848138,
          -0.25922670063808395,
          -0.19270937296374757,
          -0.1320206197359047,
          -0.09224072087166955,
          -0.07882818259863164,
          -0.08456667464969776,
          -0.10037370037798186,
          -0.11564997037139654,
          -0.12901138079835195,
          -0.12586701826800276,
          -0.11843104694812914,
          -0.10670346683873141,
          -0.0906842779398096,
          -0.07037348025136367,
          -0.045771073773393685
         ],
         "yaxis": "y6"
        },
        {
         "marker": {
          "color": "green"
         },
         "mode": "lines",
         "type": "scatter",
         "x": [
          0.01247566909975669,
          0.016634225466342255,
          0.02079278183292782,
          0.02495133819951338,
          0.029109894566098946,
          0.03326845093268451,
          0.03742700729927007,
          0.04158556366585564,
          0.0457441200324412,
          0.04990267639902676,
          0.05406123276561233,
          0.05821978913219789,
          0.06237834549878346,
          0.06653690186536902,
          0.07069545823195458,
          0.07485401459854014,
          0.07901257096512572,
          0.08317112733171128,
          0.08732968369829684,
          0.0914882400648824,
          0.09564679643146796,
          0.09980535279805353,
          0.1039639091646391,
          0.10812246553122466,
          0.11228102189781022,
          0.11643957826439578,
          0.12059813463098135,
          0.12475669099756692,
          0.12891524736415247,
          0.13307380373073804,
          0.13723236009732362,
          0.14139091646390917,
          0.14554947283049474,
          0.1497080291970803,
          0.15386658556366586,
          0.15802514193025144,
          0.162183698296837,
          0.16634225466342256,
          0.1705008110300081,
          0.17465936739659368,
          0.17881792376317926,
          0.1829764801297648,
          0.18713503649635038,
          0.19129359286293593,
          0.1954521492295215,
          0.19961070559610705
         ],
         "xaxis": "x7",
         "y": [
          0.888223145958255,
          1.6550056132402997,
          2.421788080522345,
          3.1885705478043875,
          5.308889670751262,
          6.500045418895315,
          6.940309697668618,
          4.843492524266428,
          3.2653909771773533,
          2.4679974297361578,
          1.5652214751333988,
          1.118517160364851,
          -1.0833896913025547,
          -3.1158065047890484,
          -5.232236515084544,
          -4.860470800961737,
          -3.12488110095463,
          -2.522445006736954,
          -1.50813933790195,
          0.7438241571465903,
          3.9998478092225542,
          5.473152406984019,
          5.729290202144249,
          7.878798579131071,
          12.536408246326564,
          18.921411204081974,
          26.62193787778118,
          34.232304047584044,
          39.00671254937354,
          39.662425304983344,
          34.61753529150459,
          24.08310005215101,
          6.622698831662166,
          -10.897126357300827,
          -20.27440422035151,
          -19.52062728030733,
          -12.803377011112044,
          -8.130545440644502,
          -4.872179957286623,
          -4.289649428861476,
          -8.171276577373952,
          -14.536248514098657,
          -22.008739367887195,
          -26.551975668596032,
          -31.095211969304316,
          -35.638448270013036
         ],
         "yaxis": "y7"
        },
        {
         "marker": {
          "color": "purple"
         },
         "mode": "lines",
         "type": "scatter",
         "x": [
          0.01247566909975669,
          0.016634225466342255,
          0.02079278183292782,
          0.02495133819951338,
          0.029109894566098946,
          0.03326845093268451,
          0.03742700729927007,
          0.04158556366585564,
          0.0457441200324412,
          0.04990267639902676,
          0.05406123276561233,
          0.05821978913219789,
          0.06237834549878346,
          0.06653690186536902,
          0.07069545823195458,
          0.07485401459854014,
          0.07901257096512572,
          0.08317112733171128,
          0.08732968369829684,
          0.0914882400648824,
          0.09564679643146796,
          0.09980535279805353,
          0.1039639091646391,
          0.10812246553122466,
          0.11228102189781022,
          0.11643957826439578,
          0.12059813463098135,
          0.12475669099756692,
          0.12891524736415247,
          0.13307380373073804,
          0.13723236009732362,
          0.14139091646390917,
          0.14554947283049474,
          0.1497080291970803,
          0.15386658556366586,
          0.15802514193025144,
          0.162183698296837,
          0.16634225466342256,
          0.1705008110300081,
          0.17465936739659368,
          0.17881792376317926,
          0.1829764801297648,
          0.18713503649635038,
          0.19129359286293593,
          0.1954521492295215,
          0.19961070559610705
         ],
         "xaxis": "x8",
         "y": [
          -5.180799864068329,
          -4.511747033881369,
          -3.8426942036944127,
          -3.1736413735074427,
          -3.689220618637254,
          -3.7071189004682177,
          -3.237581730806258,
          -0.1305570932646528,
          3.5683653977763945,
          5.9128312280081285,
          6.141452505735085,
          2.537081452214684,
          -2.4164771417720345,
          -10.469742150529049,
          -17.500505080994976,
          -21.300419045529264,
          -19.044357345757927,
          -13.657267237951919,
          -9.063179743957688,
          -6.050999272874624,
          -3.477326707101394,
          -2.4363827075686295,
          -4.231396376048042,
          -11.474973223178912,
          -20.661099108804056,
          -30.84308874201652,
          -34.12370162242944,
          -29.43740452217995,
          -16.347738638308883,
          -2.075740691979604,
          11.505709758600894,
          24.47447860315501,
          36.77319097557314,
          43.42457724029367,
          40.154795329495535,
          27.384789413980997,
          11.411158321071358,
          -1.955721839353106,
          -8.854464031949156,
          -10.687532458564693,
          -6.130328807098132,
          -0.6687601012406258,
          5.36434088975369,
          8.46032546556067,
          11.556310041367462,
          14.652294617174396
         ],
         "yaxis": "y8"
        },
        {
         "marker": {
          "color": "orange"
         },
         "mode": "lines",
         "type": "scatter",
         "x": [
          0,
          0.004158556366585564,
          0.008317112733171128,
          0.01247566909975669,
          0.016634225466342255,
          0.02079278183292782,
          0.02495133819951338,
          0.029109894566098946,
          0.03326845093268451,
          0.03742700729927007,
          0.04158556366585564,
          0.0457441200324412,
          0.04990267639902676,
          0.05406123276561233,
          0.05821978913219789,
          0.06237834549878346,
          0.06653690186536902,
          0.07069545823195458,
          0.07485401459854014,
          0.07901257096512572,
          0.08317112733171128,
          0.08732968369829684,
          0.0914882400648824,
          0.09564679643146796,
          0.09980535279805353,
          0.1039639091646391,
          0.10812246553122466,
          0.11228102189781022,
          0.11643957826439578,
          0.12059813463098135,
          0.12475669099756692,
          0.12891524736415247,
          0.13307380373073804,
          0.13723236009732362,
          0.14139091646390917,
          0.14554947283049474,
          0.1497080291970803,
          0.15386658556366586,
          0.15802514193025144,
          0.162183698296837,
          0.16634225466342256,
          0.1705008110300081,
          0.17465936739659368,
          0.17881792376317926,
          0.1829764801297648,
          0.18713503649635038,
          0.19129359286293593,
          0.1954521492295215,
          0.19961070559610705
         ],
         "xaxis": "x9",
         "y": [
          null,
          null,
          null,
          null,
          null,
          null,
          null,
          -0.013018122447821577,
          -0.013276038338615329,
          -0.012511781474575323,
          -0.014187490657461183,
          -0.012385165736225653,
          -0.013317288965613494,
          -0.012130856386072317,
          -0.014297510564078832,
          -0.012777158861239443,
          -0.012955856761226762,
          -0.017611059220972818,
          -0.017961416654058204,
          -0.016796377944211394,
          -0.01652134811661461,
          -0.021035215643144912,
          -0.024455733175804243,
          -0.023052796956439192,
          -0.02770148741605416,
          -0.03510038241109021,
          -0.04526796174950971,
          -0.06062796749680778,
          -0.07888049195335911,
          -0.09673275713413279,
          -0.11300179756001447,
          -0.12276796565036399,
          -0.13334173940464625,
          -0.1325846789537764,
          -0.11653834186026041,
          -0.09789246453807295,
          -0.08667131474571374,
          -0.08339288686355374,
          -0.08015573390032774,
          -0.08190269516733581,
          -0.08160929423839453,
          -0.08140961308813947,
          -0.0812756994269152,
          -0.07351039528679337,
          -0.062369953214446355,
          -0.047854373209874415,
          -0.02996365527307756,
          -0.008697799404055781,
          0.015943194397190955
         ],
         "yaxis": "y9"
        }
       ],
       "layout": {
        "annotations": [
         {
          "font": {
           "size": 16
          },
          "showarrow": false,
          "text": "Trayectoria del Objeto",
          "x": 0.225,
          "xanchor": "center",
          "xref": "paper",
          "y": 1,
          "yanchor": "bottom",
          "yref": "paper"
         },
         {
          "font": {
           "size": 16
          },
          "showarrow": false,
          "text": "Velocidad del Objeto",
          "x": 0.775,
          "xanchor": "center",
          "xref": "paper",
          "y": 1,
          "yanchor": "bottom",
          "yref": "paper"
         },
         {
          "font": {
           "size": 16
          },
          "showarrow": false,
          "text": "Posición X / Tiempo",
          "x": 0.225,
          "xanchor": "center",
          "xref": "paper",
          "y": 0.78,
          "yanchor": "bottom",
          "yref": "paper"
         },
         {
          "font": {
           "size": 16
          },
          "showarrow": false,
          "text": "Posición Y / Tiempo",
          "x": 0.775,
          "xanchor": "center",
          "xref": "paper",
          "y": 0.78,
          "yanchor": "bottom",
          "yref": "paper"
         },
         {
          "font": {
           "size": 16
          },
          "showarrow": false,
          "text": "Velocidad X / Tiempo",
          "x": 0.225,
          "xanchor": "center",
          "xref": "paper",
          "y": 0.56,
          "yanchor": "bottom",
          "yref": "paper"
         },
         {
          "font": {
           "size": 16
          },
          "showarrow": false,
          "text": "Velocidad Y / Tiempo",
          "x": 0.775,
          "xanchor": "center",
          "xref": "paper",
          "y": 0.56,
          "yanchor": "bottom",
          "yref": "paper"
         },
         {
          "font": {
           "size": 16
          },
          "showarrow": false,
          "text": "Aceleración X / Tiempo",
          "x": 0.225,
          "xanchor": "center",
          "xref": "paper",
          "y": 0.33999999999999997,
          "yanchor": "bottom",
          "yref": "paper"
         },
         {
          "font": {
           "size": 16
          },
          "showarrow": false,
          "text": "Aceleración Y / Tiempo",
          "x": 0.775,
          "xanchor": "center",
          "xref": "paper",
          "y": 0.33999999999999997,
          "yanchor": "bottom",
          "yref": "paper"
         },
         {
          "font": {
           "size": 16
          },
          "showarrow": false,
          "text": "Velocidad Angular / Tiempo",
          "x": 0.225,
          "xanchor": "center",
          "xref": "paper",
          "y": 0.12,
          "yanchor": "bottom",
          "yref": "paper"
         }
        ],
        "height": 1200,
        "showlegend": false,
        "template": {
         "data": {
          "bar": [
           {
            "error_x": {
             "color": "#2a3f5f"
            },
            "error_y": {
             "color": "#2a3f5f"
            },
            "marker": {
             "line": {
              "color": "#E5ECF6",
              "width": 0.5
             },
             "pattern": {
              "fillmode": "overlay",
              "size": 10,
              "solidity": 0.2
             }
            },
            "type": "bar"
           }
          ],
          "barpolar": [
           {
            "marker": {
             "line": {
              "color": "#E5ECF6",
              "width": 0.5
             },
             "pattern": {
              "fillmode": "overlay",
              "size": 10,
              "solidity": 0.2
             }
            },
            "type": "barpolar"
           }
          ],
          "carpet": [
           {
            "aaxis": {
             "endlinecolor": "#2a3f5f",
             "gridcolor": "white",
             "linecolor": "white",
             "minorgridcolor": "white",
             "startlinecolor": "#2a3f5f"
            },
            "baxis": {
             "endlinecolor": "#2a3f5f",
             "gridcolor": "white",
             "linecolor": "white",
             "minorgridcolor": "white",
             "startlinecolor": "#2a3f5f"
            },
            "type": "carpet"
           }
          ],
          "choropleth": [
           {
            "colorbar": {
             "outlinewidth": 0,
             "ticks": ""
            },
            "type": "choropleth"
           }
          ],
          "contour": [
           {
            "colorbar": {
             "outlinewidth": 0,
             "ticks": ""
            },
            "colorscale": [
             [
              0,
              "#0d0887"
             ],
             [
              0.1111111111111111,
              "#46039f"
             ],
             [
              0.2222222222222222,
              "#7201a8"
             ],
             [
              0.3333333333333333,
              "#9c179e"
             ],
             [
              0.4444444444444444,
              "#bd3786"
             ],
             [
              0.5555555555555556,
              "#d8576b"
             ],
             [
              0.6666666666666666,
              "#ed7953"
             ],
             [
              0.7777777777777778,
              "#fb9f3a"
             ],
             [
              0.8888888888888888,
              "#fdca26"
             ],
             [
              1,
              "#f0f921"
             ]
            ],
            "type": "contour"
           }
          ],
          "contourcarpet": [
           {
            "colorbar": {
             "outlinewidth": 0,
             "ticks": ""
            },
            "type": "contourcarpet"
           }
          ],
          "heatmap": [
           {
            "colorbar": {
             "outlinewidth": 0,
             "ticks": ""
            },
            "colorscale": [
             [
              0,
              "#0d0887"
             ],
             [
              0.1111111111111111,
              "#46039f"
             ],
             [
              0.2222222222222222,
              "#7201a8"
             ],
             [
              0.3333333333333333,
              "#9c179e"
             ],
             [
              0.4444444444444444,
              "#bd3786"
             ],
             [
              0.5555555555555556,
              "#d8576b"
             ],
             [
              0.6666666666666666,
              "#ed7953"
             ],
             [
              0.7777777777777778,
              "#fb9f3a"
             ],
             [
              0.8888888888888888,
              "#fdca26"
             ],
             [
              1,
              "#f0f921"
             ]
            ],
            "type": "heatmap"
           }
          ],
          "heatmapgl": [
           {
            "colorbar": {
             "outlinewidth": 0,
             "ticks": ""
            },
            "colorscale": [
             [
              0,
              "#0d0887"
             ],
             [
              0.1111111111111111,
              "#46039f"
             ],
             [
              0.2222222222222222,
              "#7201a8"
             ],
             [
              0.3333333333333333,
              "#9c179e"
             ],
             [
              0.4444444444444444,
              "#bd3786"
             ],
             [
              0.5555555555555556,
              "#d8576b"
             ],
             [
              0.6666666666666666,
              "#ed7953"
             ],
             [
              0.7777777777777778,
              "#fb9f3a"
             ],
             [
              0.8888888888888888,
              "#fdca26"
             ],
             [
              1,
              "#f0f921"
             ]
            ],
            "type": "heatmapgl"
           }
          ],
          "histogram": [
           {
            "marker": {
             "pattern": {
              "fillmode": "overlay",
              "size": 10,
              "solidity": 0.2
             }
            },
            "type": "histogram"
           }
          ],
          "histogram2d": [
           {
            "colorbar": {
             "outlinewidth": 0,
             "ticks": ""
            },
            "colorscale": [
             [
              0,
              "#0d0887"
             ],
             [
              0.1111111111111111,
              "#46039f"
             ],
             [
              0.2222222222222222,
              "#7201a8"
             ],
             [
              0.3333333333333333,
              "#9c179e"
             ],
             [
              0.4444444444444444,
              "#bd3786"
             ],
             [
              0.5555555555555556,
              "#d8576b"
             ],
             [
              0.6666666666666666,
              "#ed7953"
             ],
             [
              0.7777777777777778,
              "#fb9f3a"
             ],
             [
              0.8888888888888888,
              "#fdca26"
             ],
             [
              1,
              "#f0f921"
             ]
            ],
            "type": "histogram2d"
           }
          ],
          "histogram2dcontour": [
           {
            "colorbar": {
             "outlinewidth": 0,
             "ticks": ""
            },
            "colorscale": [
             [
              0,
              "#0d0887"
             ],
             [
              0.1111111111111111,
              "#46039f"
             ],
             [
              0.2222222222222222,
              "#7201a8"
             ],
             [
              0.3333333333333333,
              "#9c179e"
             ],
             [
              0.4444444444444444,
              "#bd3786"
             ],
             [
              0.5555555555555556,
              "#d8576b"
             ],
             [
              0.6666666666666666,
              "#ed7953"
             ],
             [
              0.7777777777777778,
              "#fb9f3a"
             ],
             [
              0.8888888888888888,
              "#fdca26"
             ],
             [
              1,
              "#f0f921"
             ]
            ],
            "type": "histogram2dcontour"
           }
          ],
          "mesh3d": [
           {
            "colorbar": {
             "outlinewidth": 0,
             "ticks": ""
            },
            "type": "mesh3d"
           }
          ],
          "parcoords": [
           {
            "line": {
             "colorbar": {
              "outlinewidth": 0,
              "ticks": ""
             }
            },
            "type": "parcoords"
           }
          ],
          "pie": [
           {
            "automargin": true,
            "type": "pie"
           }
          ],
          "scatter": [
           {
            "fillpattern": {
             "fillmode": "overlay",
             "size": 10,
             "solidity": 0.2
            },
            "type": "scatter"
           }
          ],
          "scatter3d": [
           {
            "line": {
             "colorbar": {
              "outlinewidth": 0,
              "ticks": ""
             }
            },
            "marker": {
             "colorbar": {
              "outlinewidth": 0,
              "ticks": ""
             }
            },
            "type": "scatter3d"
           }
          ],
          "scattercarpet": [
           {
            "marker": {
             "colorbar": {
              "outlinewidth": 0,
              "ticks": ""
             }
            },
            "type": "scattercarpet"
           }
          ],
          "scattergeo": [
           {
            "marker": {
             "colorbar": {
              "outlinewidth": 0,
              "ticks": ""
             }
            },
            "type": "scattergeo"
           }
          ],
          "scattergl": [
           {
            "marker": {
             "colorbar": {
              "outlinewidth": 0,
              "ticks": ""
             }
            },
            "type": "scattergl"
           }
          ],
          "scattermapbox": [
           {
            "marker": {
             "colorbar": {
              "outlinewidth": 0,
              "ticks": ""
             }
            },
            "type": "scattermapbox"
           }
          ],
          "scatterpolar": [
           {
            "marker": {
             "colorbar": {
              "outlinewidth": 0,
              "ticks": ""
             }
            },
            "type": "scatterpolar"
           }
          ],
          "scatterpolargl": [
           {
            "marker": {
             "colorbar": {
              "outlinewidth": 0,
              "ticks": ""
             }
            },
            "type": "scatterpolargl"
           }
          ],
          "scatterternary": [
           {
            "marker": {
             "colorbar": {
              "outlinewidth": 0,
              "ticks": ""
             }
            },
            "type": "scatterternary"
           }
          ],
          "surface": [
           {
            "colorbar": {
             "outlinewidth": 0,
             "ticks": ""
            },
            "colorscale": [
             [
              0,
              "#0d0887"
             ],
             [
              0.1111111111111111,
              "#46039f"
             ],
             [
              0.2222222222222222,
              "#7201a8"
             ],
             [
              0.3333333333333333,
              "#9c179e"
             ],
             [
              0.4444444444444444,
              "#bd3786"
             ],
             [
              0.5555555555555556,
              "#d8576b"
             ],
             [
              0.6666666666666666,
              "#ed7953"
             ],
             [
              0.7777777777777778,
              "#fb9f3a"
             ],
             [
              0.8888888888888888,
              "#fdca26"
             ],
             [
              1,
              "#f0f921"
             ]
            ],
            "type": "surface"
           }
          ],
          "table": [
           {
            "cells": {
             "fill": {
              "color": "#EBF0F8"
             },
             "line": {
              "color": "white"
             }
            },
            "header": {
             "fill": {
              "color": "#C8D4E3"
             },
             "line": {
              "color": "white"
             }
            },
            "type": "table"
           }
          ]
         },
         "layout": {
          "annotationdefaults": {
           "arrowcolor": "#2a3f5f",
           "arrowhead": 0,
           "arrowwidth": 1
          },
          "autotypenumbers": "strict",
          "coloraxis": {
           "colorbar": {
            "outlinewidth": 0,
            "ticks": ""
           }
          },
          "colorscale": {
           "diverging": [
            [
             0,
             "#8e0152"
            ],
            [
             0.1,
             "#c51b7d"
            ],
            [
             0.2,
             "#de77ae"
            ],
            [
             0.3,
             "#f1b6da"
            ],
            [
             0.4,
             "#fde0ef"
            ],
            [
             0.5,
             "#f7f7f7"
            ],
            [
             0.6,
             "#e6f5d0"
            ],
            [
             0.7,
             "#b8e186"
            ],
            [
             0.8,
             "#7fbc41"
            ],
            [
             0.9,
             "#4d9221"
            ],
            [
             1,
             "#276419"
            ]
           ],
           "sequential": [
            [
             0,
             "#0d0887"
            ],
            [
             0.1111111111111111,
             "#46039f"
            ],
            [
             0.2222222222222222,
             "#7201a8"
            ],
            [
             0.3333333333333333,
             "#9c179e"
            ],
            [
             0.4444444444444444,
             "#bd3786"
            ],
            [
             0.5555555555555556,
             "#d8576b"
            ],
            [
             0.6666666666666666,
             "#ed7953"
            ],
            [
             0.7777777777777778,
             "#fb9f3a"
            ],
            [
             0.8888888888888888,
             "#fdca26"
            ],
            [
             1,
             "#f0f921"
            ]
           ],
           "sequentialminus": [
            [
             0,
             "#0d0887"
            ],
            [
             0.1111111111111111,
             "#46039f"
            ],
            [
             0.2222222222222222,
             "#7201a8"
            ],
            [
             0.3333333333333333,
             "#9c179e"
            ],
            [
             0.4444444444444444,
             "#bd3786"
            ],
            [
             0.5555555555555556,
             "#d8576b"
            ],
            [
             0.6666666666666666,
             "#ed7953"
            ],
            [
             0.7777777777777778,
             "#fb9f3a"
            ],
            [
             0.8888888888888888,
             "#fdca26"
            ],
            [
             1,
             "#f0f921"
            ]
           ]
          },
          "colorway": [
           "#636efa",
           "#EF553B",
           "#00cc96",
           "#ab63fa",
           "#FFA15A",
           "#19d3f3",
           "#FF6692",
           "#B6E880",
           "#FF97FF",
           "#FECB52"
          ],
          "font": {
           "color": "#2a3f5f"
          },
          "geo": {
           "bgcolor": "white",
           "lakecolor": "white",
           "landcolor": "#E5ECF6",
           "showlakes": true,
           "showland": true,
           "subunitcolor": "white"
          },
          "hoverlabel": {
           "align": "left"
          },
          "hovermode": "closest",
          "mapbox": {
           "style": "light"
          },
          "paper_bgcolor": "white",
          "plot_bgcolor": "#E5ECF6",
          "polar": {
           "angularaxis": {
            "gridcolor": "white",
            "linecolor": "white",
            "ticks": ""
           },
           "bgcolor": "#E5ECF6",
           "radialaxis": {
            "gridcolor": "white",
            "linecolor": "white",
            "ticks": ""
           }
          },
          "scene": {
           "xaxis": {
            "backgroundcolor": "#E5ECF6",
            "gridcolor": "white",
            "gridwidth": 2,
            "linecolor": "white",
            "showbackground": true,
            "ticks": "",
            "zerolinecolor": "white"
           },
           "yaxis": {
            "backgroundcolor": "#E5ECF6",
            "gridcolor": "white",
            "gridwidth": 2,
            "linecolor": "white",
            "showbackground": true,
            "ticks": "",
            "zerolinecolor": "white"
           },
           "zaxis": {
            "backgroundcolor": "#E5ECF6",
            "gridcolor": "white",
            "gridwidth": 2,
            "linecolor": "white",
            "showbackground": true,
            "ticks": "",
            "zerolinecolor": "white"
           }
          },
          "shapedefaults": {
           "line": {
            "color": "#2a3f5f"
           }
          },
          "ternary": {
           "aaxis": {
            "gridcolor": "white",
            "linecolor": "white",
            "ticks": ""
           },
           "baxis": {
            "gridcolor": "white",
            "linecolor": "white",
            "ticks": ""
           },
           "bgcolor": "#E5ECF6",
           "caxis": {
            "gridcolor": "white",
            "linecolor": "white",
            "ticks": ""
           }
          },
          "title": {
           "x": 0.05
          },
          "xaxis": {
           "automargin": true,
           "gridcolor": "white",
           "linecolor": "white",
           "ticks": "",
           "title": {
            "standoff": 15
           },
           "zerolinecolor": "white",
           "zerolinewidth": 2
          },
          "yaxis": {
           "automargin": true,
           "gridcolor": "white",
           "linecolor": "white",
           "ticks": "",
           "title": {
            "standoff": 15
           },
           "zerolinecolor": "white",
           "zerolinewidth": 2
          }
         }
        },
        "title": {
         "text": "Análisis de Movimiento del Borde del Objeto"
        },
        "width": 1200,
        "xaxis": {
         "anchor": "y",
         "domain": [
          0,
          0.45
         ],
         "scaleanchor": "y",
         "title": {
          "text": "Posición X (m)"
         }
        },
        "xaxis10": {
         "anchor": "y10",
         "domain": [
          0.55,
          1
         ]
        },
        "xaxis2": {
         "anchor": "y2",
         "domain": [
          0.55,
          1
         ],
         "title": {
          "text": "Velocidad X (m/s)"
         }
        },
        "xaxis3": {
         "anchor": "y3",
         "domain": [
          0,
          0.45
         ],
         "title": {
          "text": "Tiempo (s)"
         }
        },
        "xaxis4": {
         "anchor": "y4",
         "domain": [
          0.55,
          1
         ],
         "title": {
          "text": "Tiempo (s)"
         }
        },
        "xaxis5": {
         "anchor": "y5",
         "domain": [
          0,
          0.45
         ],
         "title": {
          "text": "Tiempo (s)"
         }
        },
        "xaxis6": {
         "anchor": "y6",
         "domain": [
          0.55,
          1
         ],
         "title": {
          "text": "Tiempo (s)"
         }
        },
        "xaxis7": {
         "anchor": "y7",
         "domain": [
          0,
          0.45
         ],
         "title": {
          "text": "Tiempo (s)"
         }
        },
        "xaxis8": {
         "anchor": "y8",
         "domain": [
          0.55,
          1
         ],
         "title": {
          "text": "Tiempo (s)"
         }
        },
        "xaxis9": {
         "anchor": "y9",
         "domain": [
          0,
          0.45
         ],
         "title": {
          "text": "Tiempo (s)"
         }
        },
        "yaxis": {
         "anchor": "x",
         "domain": [
          0.88,
          1
         ],
         "title": {
          "text": "Posición Y (m)"
         }
        },
        "yaxis10": {
         "anchor": "x10",
         "domain": [
          0,
          0.12
         ]
        },
        "yaxis2": {
         "anchor": "x2",
         "domain": [
          0.88,
          1
         ],
         "title": {
          "text": "Velocidad Y (m/s)"
         }
        },
        "yaxis3": {
         "anchor": "x3",
         "domain": [
          0.66,
          0.78
         ],
         "title": {
          "text": "Posición X (m)"
         }
        },
        "yaxis4": {
         "anchor": "x4",
         "domain": [
          0.66,
          0.78
         ],
         "title": {
          "text": "Posición Y (m)"
         }
        },
        "yaxis5": {
         "anchor": "x5",
         "domain": [
          0.44,
          0.56
         ],
         "title": {
          "text": "Velocidad X (m/s)"
         }
        },
        "yaxis6": {
         "anchor": "x6",
         "domain": [
          0.44,
          0.56
         ],
         "title": {
          "text": "Velocidad Y (m/s)"
         }
        },
        "yaxis7": {
         "anchor": "x7",
         "domain": [
          0.22,
          0.33999999999999997
         ],
         "title": {
          "text": "Aceleración X (m/s^2)"
         }
        },
        "yaxis8": {
         "anchor": "x8",
         "domain": [
          0.22,
          0.33999999999999997
         ],
         "title": {
          "text": "Aceleración Y (m/s^2)"
         }
        },
        "yaxis9": {
         "anchor": "x9",
         "domain": [
          0,
          0.12
         ],
         "title": {
          "text": "Velocidad Angular (rad/s)"
         }
        }
       }
      }
     },
     "metadata": {},
     "output_type": "display_data"
    }
   ],
   "source": [
    "# Elegir dataframe a graficar\n",
    "dfG = dfBorde\n",
    "dfG_speed = dfBorde_speed.copy()\n",
    "dfG_acceleration = dfBorde_acceleration.copy()\n",
    "\n",
    "# Crear figura y ejes\n",
    "# 5 filas, 2 columnas\n",
    "fig = make_subplots(\n",
    "    rows=5, cols=2,\n",
    "    subplot_titles=(\n",
    "        \"Trayectoria del Objeto\", \"Velocidad del Objeto\",\n",
    "        \"Posición X / Tiempo\", \"Posición Y / Tiempo\",\n",
    "        \"Velocidad X / Tiempo\", \"Velocidad Y / Tiempo\",\n",
    "        \"Aceleración X / Tiempo\", \"Aceleración Y / Tiempo\",\n",
    "        \"Velocidad Angular / Tiempo\", \"\"\n",
    "    )\n",
    ")\n",
    "\n",
    "# Grafica la trayectoria\n",
    "fig.update_yaxes(title_text=\"Posición Y (m)\", row=1, col=1)\n",
    "fig.update_xaxes(title_text=\"Posición X (m)\", row=1, col=1, scaleanchor=\"y\")\n",
    "fig.add_trace(go.Scatter(x=dfG['X'], y=dfG['Y'], mode='lines', marker=dict(color='blue')), row=1, col=1)\n",
    "\n",
    "# Grafica la velocidad\n",
    "fig.update_yaxes(title_text=\"Velocidad Y (m/s)\", row=1, col=2)\n",
    "fig.update_xaxes(title_text=\"Velocidad X (m/s)\", row=1, col=2)\n",
    "fig.add_trace(go.Scatter(x=dfG_speed['Time (sec)'], y=dfG_speed['Speed'], mode='lines', marker=dict(color='red'), name='Velocidad Total'), row=1, col=2)\n",
    "\n",
    "# Grafica la posición X en función del tiempo\n",
    "fig.update_yaxes(title_text=\"Posición X (m)\", row=2, col=1)\n",
    "fig.update_xaxes(title_text=\"Tiempo (s)\", row=2, col=1)\n",
    "fig.add_trace(go.Scatter(x=dfG['Time (sec)'], y=dfG['X'], mode='lines', marker=dict(color='green')), row=2, col=1)\n",
    "\n",
    "# Grafica la posición Y / tiempo\n",
    "fig.update_yaxes(title_text=\"Posición Y (m)\", row=2, col=2)\n",
    "fig.update_xaxes(title_text=\"Tiempo (s)\", row=2, col=2)\n",
    "fig.add_trace(go.Scatter(x=dfG['Time (sec)'], y=dfG['Y'], mode='lines', marker=dict(color='magenta')), row=2, col=2)\n",
    "\n",
    "# Grafica la velocidad X / tiempo\n",
    "fig.update_yaxes(title_text=\"Velocidad X (m/s)\", row=3, col=1)\n",
    "fig.update_xaxes(title_text=\"Tiempo (s)\", row=3, col=1)\n",
    "fig.add_trace(go.Scatter(x=dfG_speed['Time (sec)'], y=dfG_speed['Speed_X'], mode='lines', marker=dict(color='blue')), row=3, col=1)\n",
    "\n",
    "# Grafica la velocidad Y / tiempo\n",
    "fig.update_yaxes(title_text=\"Velocidad Y (m/s)\", row=3, col=2)\n",
    "fig.update_xaxes(title_text=\"Tiempo (s)\", row=3, col=2)\n",
    "fig.add_trace(go.Scatter(x=dfG_speed['Time (sec)'], y=dfG_speed['Speed_Y'], mode='lines', marker=dict(color='red')), row=3, col=2)\n",
    "\n",
    "# Grafica la aceleración X / tiempo\n",
    "fig.update_yaxes(title_text=\"Aceleración X (m/s^2)\", row=4, col=1)\n",
    "fig.update_xaxes(title_text=\"Tiempo (s)\", row=4, col=1)\n",
    "fig.add_trace(go.Scatter(x=dfG_acceleration['Time (sec)'], y=dfG_acceleration['Acceleration_X'], mode='lines', marker=dict(color='green')), row=4, col=1)\n",
    "\n",
    "# Grafica la aceleración Y / tiempo\n",
    "fig.update_yaxes(title_text=\"Aceleración Y (m/s^2)\", row=4, col=2)\n",
    "fig.update_xaxes(title_text=\"Tiempo (s)\", row=4, col=2)\n",
    "fig.add_trace(go.Scatter(x=dfG_acceleration['Time (sec)'], y=dfG_acceleration['Acceleration_Y'], mode='lines', marker=dict(color='purple')), row=4, col=2)\n",
    "\n",
    "# Grafica la velocidad angular\n",
    "fig.update_yaxes(title_text=\"Velocidad Angular (rad/s)\", row=5, col=1)\n",
    "fig.update_xaxes(title_text=\"Tiempo (s)\", row=5, col=1)\n",
    "fig.add_trace(go.Scatter(x=dfG['Time (sec)'], y=dfG['Angular_Velocity'], mode='lines', marker=dict(color='orange')), row=5, col=1)\n",
    "\n",
    "# Actualizar los títulos y ajustar el diseño\n",
    "fig.update_layout(height=1200, width=1200, title_text=\"Análisis de Movimiento del Borde del Objeto\", showlegend=False)\n",
    "\n",
    "# Mostrar los gráficos\n",
    "fig.show()"
   ]
  },
  {
   "cell_type": "code",
   "execution_count": 12,
   "metadata": {
    "colab": {
     "base_uri": "https://localhost:8080/",
     "height": 1000
    },
    "executionInfo": {
     "elapsed": 6,
     "status": "ok",
     "timestamp": 1730906047857,
     "user": {
      "displayName": "Tomas Rueda",
      "userId": "17662183962868927666"
     },
     "user_tz": 180
    },
    "id": "tZ-Sexfzomr4",
    "outputId": "9deac0b1-d649-4496-8194-761196f45bca"
   },
   "outputs": [
    {
     "data": {
      "application/vnd.plotly.v1+json": {
       "config": {
        "plotlyServerURL": "https://plot.ly"
       },
       "data": [
        {
         "marker": {
          "color": "green"
         },
         "mode": "lines",
         "type": "scatter",
         "x": [
          0,
          0.004158556366585564,
          0.008317112733171128,
          0.01247566909975669,
          0.016634225466342255,
          0.02079278183292782,
          0.02495133819951338,
          0.029109894566098946,
          0.03326845093268451,
          0.03742700729927007,
          0.04158556366585564,
          0.0457441200324412,
          0.04990267639902676,
          0.05406123276561233,
          0.05821978913219789,
          0.06237834549878346,
          0.06653690186536902,
          0.07069545823195458,
          0.07485401459854014,
          0.07901257096512572,
          0.08317112733171128,
          0.08732968369829684,
          0.0914882400648824,
          0.09564679643146796,
          0.09980535279805353,
          0.1039639091646391,
          0.10812246553122466,
          0.11228102189781022,
          0.11643957826439578,
          0.12059813463098135,
          0.12475669099756692,
          0.12891524736415247,
          0.13307380373073804,
          0.13723236009732362,
          0.14139091646390917,
          0.14554947283049474,
          0.1497080291970803,
          0.15386658556366586,
          0.15802514193025144,
          0.162183698296837,
          0.16634225466342256,
          0.1705008110300081,
          0.17465936739659368,
          0.17881792376317926,
          0.1829764801297648,
          0.18713503649635038,
          0.19129359286293593,
          0.1954521492295215,
          0.19961070559610705
         ],
         "xaxis": "x",
         "y": [
          -0.00017518713170899813,
          -0.00033444816053523896,
          -0.00046258089736361807,
          -0.000559585342194191,
          -0.0006254614950269022,
          -0.0006602093558616406,
          -0.0006638289246984619,
          -0.000537144015404889,
          -0.0005624809972635814,
          -0.0004509982770851684,
          -0.0003243133677915955,
          -0.0003040437823046416,
          -0.00033444816053512794,
          -0.0003141785750481185,
          -0.00020776325124144401,
          -0.00009121313469145909,
          -0.000020269585487064923,
          0.000015202189115215425,
          0.000060808756460972724,
          0.000106415323806619,
          0.0000861457383196651,
          0.00015708928752400375,
          0.00030911117867638005,
          0.0002989763859329031,
          0.0002381676294719859,
          0.0003597851423938758,
          0.00032938076416333395,
          0.00020269585486981656,
          0.00021789804398497647,
          0.00048140265531576576,
          0.0009425357251444666,
          0.001373264416742681,
          0.002102969494273854,
          0.002883348535522523,
          0.003800547278808186,
          0.004743083003952597,
          0.005422114117766275,
          0.006283571500962815,
          0.006942333029289538,
          0.00771257727779473,
          0.008705786966656526,
          0.009744603222864079,
          0.010697273740751967,
          0.011450144058839817,
          0.012140033879164402,
          0.012766943201725889,
          0.013330872026524332,
          0.013831820353559565,
          0.01426978818283181
         ],
         "yaxis": "y"
        },
        {
         "marker": {
          "color": "magenta"
         },
         "mode": "lines",
         "type": "scatter",
         "x": [
          0,
          0.004158556366585564,
          0.008317112733171128,
          0.01247566909975669,
          0.016634225466342255,
          0.02079278183292782,
          0.02495133819951338,
          0.029109894566098946,
          0.03326845093268451,
          0.03742700729927007,
          0.04158556366585564,
          0.0457441200324412,
          0.04990267639902676,
          0.05406123276561233,
          0.05821978913219789,
          0.06237834549878346,
          0.06653690186536902,
          0.07069545823195458,
          0.07485401459854014,
          0.07901257096512572,
          0.08317112733171128,
          0.08732968369829684,
          0.0914882400648824,
          0.09564679643146796,
          0.09980535279805353,
          0.1039639091646391,
          0.10812246553122466,
          0.11228102189781022,
          0.11643957826439578,
          0.12059813463098135,
          0.12475669099756692,
          0.12891524736415247,
          0.13307380373073804,
          0.13723236009732362,
          0.14139091646390917,
          0.14554947283049474,
          0.1497080291970803,
          0.15386658556366586,
          0.15802514193025144,
          0.162183698296837,
          0.16634225466342256,
          0.1705008110300081,
          0.17465936739659368,
          0.17881792376317926,
          0.1829764801297648,
          0.18713503649635038,
          0.19129359286293593,
          0.1954521492295215,
          0.19961070559610705
         ],
         "xaxis": "x2",
         "y": [
          -0.019270584487975695,
          -0.01891224717311668,
          -0.018616890356020876,
          -0.01838451403668806,
          -0.018215118215118453,
          -0.018108702891311834,
          -0.01806526806526776,
          -0.01824262693827916,
          -0.018257829127394043,
          -0.018343974865713708,
          -0.018455457585892177,
          -0.018425053207661746,
          -0.018364244451200662,
          -0.018430120604033595,
          -0.018435188000405223,
          -0.018536535927840214,
          -0.018602412080672703,
          -0.01868855781899237,
          -0.018729096989966276,
          -0.019002736394040376,
          -0.019210499645281987,
          -0.019332117158203932,
          -0.01930171277997328,
          -0.019220634438025908,
          -0.019190230059795255,
          -0.01937772372554969,
          -0.019327049761832304,
          -0.019225701834397535,
          -0.019185162663423405,
          -0.019129421303334615,
          -0.019225701834397535,
          -0.019306780176345573,
          -0.019438532482010773,
          -0.0194537346711261,
          -0.019529745616702066,
          -0.019418262896523597,
          -0.019134488699706242,
          -0.018536535927840214,
          -0.017705482922874216,
          -0.016676801459410306,
          -0.015491030708421949,
          -0.01415323806628166,
          -0.012622884362014863,
          -0.011199669895322284,
          -0.00970116839682067,
          -0.008127379866510465,
          -0.006478304304391447,
          -0.004753941710463394,
          -0.0029542920847267506
         ],
         "yaxis": "y2"
        },
        {
         "marker": {
          "color": "blue"
         },
         "mode": "lines",
         "type": "scatter",
         "x": [
          0,
          0.004158556366585564,
          0.008317112733171128,
          0.01247566909975669,
          0.016634225466342255,
          0.02079278183292782,
          0.02495133819951338,
          0.029109894566098946,
          0.03326845093268451,
          0.03742700729927007,
          0.04158556366585564,
          0.0457441200324412,
          0.04990267639902676,
          0.05406123276561233,
          0.05821978913219789,
          0.06237834549878346,
          0.06653690186536902,
          0.07069545823195458,
          0.07485401459854014,
          0.07901257096512572,
          0.08317112733171128,
          0.08732968369829684,
          0.0914882400648824,
          0.09564679643146796,
          0.09980535279805353,
          0.1039639091646391,
          0.10812246553122466,
          0.11228102189781022,
          0.11643957826439578,
          0.12059813463098135,
          0.12475669099756692,
          0.12891524736415247,
          0.13307380373073804,
          0.13723236009732362,
          0.14139091646390917,
          0.14554947283049474,
          0.1497080291970803,
          0.15386658556366586,
          0.15802514193025144,
          0.162183698296837,
          0.16634225466342256,
          0.1705008110300081,
          0.17465936739659368,
          0.17881792376317926,
          0.1829764801297648,
          0.18713503649635038,
          0.19129359286293593,
          0.1954521492295215,
          0.19961070559610705
         ],
         "xaxis": "x3",
         "y": [
          null,
          null,
          null,
          null,
          null,
          null,
          null,
          null,
          null,
          null,
          null,
          null,
          null,
          0.017013209220821418,
          0.018469439835190195,
          0.017073945276001316,
          0.012483530963729658,
          0.006626686209528714,
          0.003112304370932975,
          -0.0020014801806127807,
          -0.0027534475409654365,
          -0.004156534107051577,
          -0.000569101619407807,
          0.009788966310911005,
          0.018236359245477445,
          0.030156945886732272,
          0.042024806936776654,
          0.05372486670051246,
          0.06729710340927106,
          0.08322692726784772,
          0.10190816616160478,
          0.12098711861355026,
          0.13974421779670226,
          0.15649708693847525,
          0.1729462160247631,
          0.18889570736577566,
          0.1923487890956242,
          0.19766091007821535,
          0.20084764109132708,
          0.20190898213495956,
          0.20084493320911273,
          0.19765549431378648,
          0.19234066544898099,
          0.18490044661469612,
          0.1753348378109319,
          0.16364383903768842,
          0.14982745029496558,
          0.13388567158276332,
          0.11581850290108185
         ],
         "yaxis": "y3"
        },
        {
         "marker": {
          "color": "red"
         },
         "mode": "lines",
         "type": "scatter",
         "x": [
          0,
          0.004158556366585564,
          0.008317112733171128,
          0.01247566909975669,
          0.016634225466342255,
          0.02079278183292782,
          0.02495133819951338,
          0.029109894566098946,
          0.03326845093268451,
          0.03742700729927007,
          0.04158556366585564,
          0.0457441200324412,
          0.04990267639902676,
          0.05406123276561233,
          0.05821978913219789,
          0.06237834549878346,
          0.06653690186536902,
          0.07069545823195458,
          0.07485401459854014,
          0.07901257096512572,
          0.08317112733171128,
          0.08732968369829684,
          0.0914882400648824,
          0.09564679643146796,
          0.09980535279805353,
          0.1039639091646391,
          0.10812246553122466,
          0.11228102189781022,
          0.11643957826439578,
          0.12059813463098135,
          0.12475669099756692,
          0.12891524736415247,
          0.13307380373073804,
          0.13723236009732362,
          0.14139091646390917,
          0.14554947283049474,
          0.1497080291970803,
          0.15386658556366586,
          0.15802514193025144,
          0.162183698296837,
          0.16634225466342256,
          0.1705008110300081,
          0.17465936739659368,
          0.17881792376317926,
          0.1829764801297648,
          0.18713503649635038,
          0.19129359286293593,
          0.1954521492295215,
          0.19961070559610705
         ],
         "xaxis": "x4",
         "y": [
          null,
          null,
          null,
          null,
          null,
          null,
          null,
          null,
          null,
          null,
          null,
          null,
          null,
          -0.022836457850003527,
          -0.02458770070090554,
          -0.02410492079772336,
          -0.022813562270149475,
          -0.018991494923672213,
          -0.015588721564429652,
          -0.01203357005099321,
          -0.013414896849284172,
          -0.011918494355895265,
          -0.013712419828253608,
          -0.017314916770524342,
          -0.020914066056217425,
          -0.02324110583969481,
          -0.02542879941783663,
          -0.02394327680835135,
          -0.02068224083772191,
          -0.01419406391938348,
          -0.00143291657744264,
          0.015319534107256557,
          0.03140466531953703,
          0.05022447328407126,
          0.07210977820693201,
          0.09826920367439161,
          0.10897892805046484,
          0.1318096930244713,
          0.1565222129609551,
          0.18311648785991622,
          0.21159251772135476,
          0.24195030254527058,
          0.2741898423316639,
          0.3083111370805345,
          0.3443141867918824,
          0.3821989914657078,
          0.42196555110201056,
          0.46361386570079055,
          0.507143935262048
         ],
         "yaxis": "y4"
        },
        {
         "marker": {
          "color": "green"
         },
         "mode": "lines",
         "type": "scatter",
         "x": [
          0,
          0.004158556366585564,
          0.008317112733171128,
          0.01247566909975669,
          0.016634225466342255,
          0.02079278183292782,
          0.02495133819951338,
          0.029109894566098946,
          0.03326845093268451,
          0.03742700729927007,
          0.04158556366585564,
          0.0457441200324412,
          0.04990267639902676,
          0.05406123276561233,
          0.05821978913219789,
          0.06237834549878346,
          0.06653690186536902,
          0.07069545823195458,
          0.07485401459854014,
          0.07901257096512572,
          0.08317112733171128,
          0.08732968369829684,
          0.0914882400648824,
          0.09564679643146796,
          0.09980535279805353,
          0.1039639091646391,
          0.10812246553122466,
          0.11228102189781022,
          0.11643957826439578,
          0.12059813463098135,
          0.12475669099756692,
          0.12891524736415247,
          0.13307380373073804,
          0.13723236009732362,
          0.14139091646390917,
          0.14554947283049474,
          0.1497080291970803,
          0.15386658556366586,
          0.15802514193025144,
          0.162183698296837,
          0.16634225466342256,
          0.1705008110300081,
          0.17465936739659368,
          0.17881792376317926,
          0.1829764801297648,
          0.18713503649635038,
          0.19129359286293593,
          0.1954521492295215,
          0.19961070559610705
         ],
         "xaxis": "x5",
         "y": [
          null,
          null,
          null,
          null,
          null,
          null,
          null,
          null,
          null,
          null,
          null,
          null,
          null,
          null,
          null,
          null,
          null,
          null,
          null,
          null,
          null,
          null,
          null,
          null,
          null,
          null,
          2.9776599492289932,
          3.3525626456243764,
          3.630685034532849,
          3.7802995958511767,
          3.8054762243970885,
          3.7491600965271283,
          3.5489358064988346,
          3.287456174226554,
          2.898085763919929,
          2.466497346027229,
          2.3011568718735327,
          1.9334077912356247,
          1.516234534156961,
          1.0496371006375433,
          0.5336154906773709,
          -0.031830295723557,
          -0.6467002585652386,
          -1.3109943978476752,
          -2.0247127135708674,
          -2.787855205734812,
          -3.6004218743395144,
          -4.462412719384971,
          -5.373827740871179
         ],
         "yaxis": "y5"
        },
        {
         "marker": {
          "color": "purple"
         },
         "mode": "lines",
         "type": "scatter",
         "x": [
          0,
          0.004158556366585564,
          0.008317112733171128,
          0.01247566909975669,
          0.016634225466342255,
          0.02079278183292782,
          0.02495133819951338,
          0.029109894566098946,
          0.03326845093268451,
          0.03742700729927007,
          0.04158556366585564,
          0.0457441200324412,
          0.04990267639902676,
          0.05406123276561233,
          0.05821978913219789,
          0.06237834549878346,
          0.06653690186536902,
          0.07069545823195458,
          0.07485401459854014,
          0.07901257096512572,
          0.08317112733171128,
          0.08732968369829684,
          0.0914882400648824,
          0.09564679643146796,
          0.09980535279805353,
          0.1039639091646391,
          0.10812246553122466,
          0.11228102189781022,
          0.11643957826439578,
          0.12059813463098135,
          0.12475669099756692,
          0.12891524736415247,
          0.13307380373073804,
          0.13723236009732362,
          0.14139091646390917,
          0.14554947283049474,
          0.1497080291970803,
          0.15386658556366586,
          0.15802514193025144,
          0.162183698296837,
          0.16634225466342256,
          0.1705008110300081,
          0.17465936739659368,
          0.17881792376317926,
          0.1829764801297648,
          0.18713503649635038,
          0.19129359286293593,
          0.1954521492295215,
          0.19961070559610705
         ],
         "xaxis": "x6",
         "y": [
          null,
          null,
          null,
          null,
          null,
          null,
          null,
          null,
          null,
          null,
          null,
          null,
          null,
          null,
          null,
          null,
          null,
          null,
          null,
          null,
          null,
          null,
          null,
          null,
          null,
          null,
          0.8993164859361823,
          1.1813890338875002,
          1.5253981697150982,
          1.917205277006964,
          2.3873414765655383,
          2.897528698489874,
          3.4517396227161603,
          3.961411688120238,
          4.524151451288716,
          5.04552988563732,
          5.276281771666904,
          5.731698920640024,
          6.179000572164943,
          6.6181867262416585,
          7.04925738287017,
          7.47221254205048,
          7.887052203782586,
          8.293776368066487,
          8.692385034902188,
          9.082878204289685,
          9.465255876228976,
          9.839518050720066,
          10.205664727762954
         ],
         "yaxis": "y6"
        },
        {
         "marker": {
          "color": "orange"
         },
         "mode": "lines",
         "type": "scatter",
         "x": [
          0,
          0.004158556366585564,
          0.008317112733171128,
          0.01247566909975669,
          0.016634225466342255,
          0.02079278183292782,
          0.02495133819951338,
          0.029109894566098946,
          0.03326845093268451,
          0.03742700729927007,
          0.04158556366585564,
          0.0457441200324412,
          0.04990267639902676,
          0.05406123276561233,
          0.05821978913219789,
          0.06237834549878346,
          0.06653690186536902,
          0.07069545823195458,
          0.07485401459854014,
          0.07901257096512572,
          0.08317112733171128,
          0.08732968369829684,
          0.0914882400648824,
          0.09564679643146796,
          0.09980535279805353,
          0.1039639091646391,
          0.10812246553122466,
          0.11228102189781022,
          0.11643957826439578,
          0.12059813463098135,
          0.12475669099756692,
          0.12891524736415247,
          0.13307380373073804,
          0.13723236009732362,
          0.14139091646390917,
          0.14554947283049474,
          0.1497080291970803,
          0.15386658556366586,
          0.15802514193025144,
          0.162183698296837,
          0.16634225466342256,
          0.1705008110300081,
          0.17465936739659368,
          0.17881792376317926,
          0.1829764801297648,
          0.18713503649635038,
          0.19129359286293593,
          0.1954521492295215,
          0.19961070559610705
         ],
         "xaxis": "x7",
         "y": [
          null,
          -2.066031569847857,
          -1.721726857797739,
          -1.3433036642759033,
          -0.9367523931971452,
          -0.5093059387183957,
          -0.06916645085455347,
          1.7538965335691663,
          -0.3275125799383538,
          1.495046624749086,
          1.6856161594795454,
          0.2574934759345691,
          -0.4111414444063143,
          0.2800350857689943,
          1.3889229401197045,
          1.5266762987788633,
          0.9212478387663786,
          0.4576275038830954,
          0.5851292562702517,
          0.5658693586466104,
          -0.26828218479428245,
          0.8756320943773498,
          1.8967382285259442,
          -0.11052340598018116,
          -0.7559049039326695,
          1.4799776175322947,
          -0.3664702291259139,
          -1.5626224262073236,
          0.19587881518734965,
          3.3192065121785914,
          5.7292247880159985,
          5.29593926012347,
          8.838994822173495,
          9.469141967465866,
          10.834616637333998,
          11.390296848003079,
          8.79192434326916,
          12.190996742803936,
          11.266296126311524,
          14.307870324113043,
          18.954375555389344,
          21.87530910652953,
          24.05677671524838,
          22.470296058533222,
          24.081615669983826,
          25.802464146470935,
          27.543116470477877,
          29.17043402265027,
          30.51555655338054
         ],
         "yaxis": "y7"
        },
        {
         "marker": {
          "color": "black"
         },
         "mode": "lines",
         "type": "scatter",
         "x": [
          0,
          0.004158556366585564,
          0.008317112733171128,
          0.01247566909975669,
          0.016634225466342255,
          0.02079278183292782,
          0.02495133819951338,
          0.029109894566098946,
          0.03326845093268451,
          0.03742700729927007,
          0.04158556366585564,
          0.0457441200324412,
          0.04990267639902676,
          0.05406123276561233,
          0.05821978913219789,
          0.06237834549878346,
          0.06653690186536902,
          0.07069545823195458,
          0.07485401459854014,
          0.07901257096512572,
          0.08317112733171128,
          0.08732968369829684,
          0.0914882400648824,
          0.09564679643146796,
          0.09980535279805353,
          0.1039639091646391,
          0.10812246553122466,
          0.11228102189781022,
          0.11643957826439578,
          0.12059813463098135,
          0.12475669099756692,
          0.12891524736415247,
          0.13307380373073804,
          0.13723236009732362,
          0.14139091646390917,
          0.14554947283049474,
          0.1497080291970803,
          0.15386658556366586,
          0.15802514193025144,
          0.162183698296837,
          0.16634225466342256,
          0.1705008110300081,
          0.17465936739659368,
          0.17881792376317926,
          0.1829764801297648,
          0.18713503649635038,
          0.19129359286293593,
          0.1954521492295215,
          0.19961070559610705
         ],
         "xaxis": "x8",
         "y": [
          null,
          null,
          null,
          null,
          null,
          null,
          null,
          null,
          null,
          null,
          null,
          null,
          null,
          20.27870232182157,
          18.258626011037038,
          -18.288705247392123,
          -59.32215656832166,
          -74.8844941726934,
          -45.328946642962705,
          -63.30251901751644,
          -7.196592512030346,
          -14.94027190172823,
          43.536495976087735,
          119.27829964812307,
          83.68135387824402,
          115.74089963213734,
          112.0227118145215,
          111.26120249394188,
          137.5244287619535,
          167.7722138260735,
          242.24306771737622,
          270.0886701152467,
          293.8576582326777,
          302.45406515538,
          338.8837519073767,
          379.6627494366546,
          388.26771012268415,
          402.4116626347122,
          412.4676566666888,
          418.4356922186142,
          420.31576929048805,
          418.10788788231065,
          411.81204799408175,
          401.4282496258016,
          386.9564927774699,
          368.3967774490871,
          345.74910364065266,
          319.01347135216685,
          288.1898805836298
         ],
         "yaxis": "y8"
        }
       ],
       "layout": {
        "annotations": [
         {
          "font": {
           "size": 16
          },
          "showarrow": false,
          "text": "Posición X / Tiempo",
          "x": 0.225,
          "xanchor": "center",
          "xref": "paper",
          "y": 1,
          "yanchor": "bottom",
          "yref": "paper"
         },
         {
          "font": {
           "size": 16
          },
          "showarrow": false,
          "text": "Posición Y / Tiempo",
          "x": 0.775,
          "xanchor": "center",
          "xref": "paper",
          "y": 1,
          "yanchor": "bottom",
          "yref": "paper"
         },
         {
          "font": {
           "size": 16
          },
          "showarrow": false,
          "text": "Velocidad X / Tiempo",
          "x": 0.225,
          "xanchor": "center",
          "xref": "paper",
          "y": 0.71875,
          "yanchor": "bottom",
          "yref": "paper"
         },
         {
          "font": {
           "size": 16
          },
          "showarrow": false,
          "text": "Velocidad Y / Tiempo",
          "x": 0.775,
          "xanchor": "center",
          "xref": "paper",
          "y": 0.71875,
          "yanchor": "bottom",
          "yref": "paper"
         },
         {
          "font": {
           "size": 16
          },
          "showarrow": false,
          "text": "Aceleración X / Tiempo",
          "x": 0.225,
          "xanchor": "center",
          "xref": "paper",
          "y": 0.4375,
          "yanchor": "bottom",
          "yref": "paper"
         },
         {
          "font": {
           "size": 16
          },
          "showarrow": false,
          "text": "Aceleración Y / Tiempo",
          "x": 0.775,
          "xanchor": "center",
          "xref": "paper",
          "y": 0.4375,
          "yanchor": "bottom",
          "yref": "paper"
         },
         {
          "font": {
           "size": 16
          },
          "showarrow": false,
          "text": "Velocidad Angular / Tiempo",
          "x": 0.225,
          "xanchor": "center",
          "xref": "paper",
          "y": 0.15625,
          "yanchor": "bottom",
          "yref": "paper"
         },
         {
          "font": {
           "size": 16
          },
          "showarrow": false,
          "text": "Aceleración Angular / Tiempo",
          "x": 0.775,
          "xanchor": "center",
          "xref": "paper",
          "y": 0.15625,
          "yanchor": "bottom",
          "yref": "paper"
         }
        ],
        "height": 1000,
        "showlegend": false,
        "template": {
         "data": {
          "bar": [
           {
            "error_x": {
             "color": "#2a3f5f"
            },
            "error_y": {
             "color": "#2a3f5f"
            },
            "marker": {
             "line": {
              "color": "#E5ECF6",
              "width": 0.5
             },
             "pattern": {
              "fillmode": "overlay",
              "size": 10,
              "solidity": 0.2
             }
            },
            "type": "bar"
           }
          ],
          "barpolar": [
           {
            "marker": {
             "line": {
              "color": "#E5ECF6",
              "width": 0.5
             },
             "pattern": {
              "fillmode": "overlay",
              "size": 10,
              "solidity": 0.2
             }
            },
            "type": "barpolar"
           }
          ],
          "carpet": [
           {
            "aaxis": {
             "endlinecolor": "#2a3f5f",
             "gridcolor": "white",
             "linecolor": "white",
             "minorgridcolor": "white",
             "startlinecolor": "#2a3f5f"
            },
            "baxis": {
             "endlinecolor": "#2a3f5f",
             "gridcolor": "white",
             "linecolor": "white",
             "minorgridcolor": "white",
             "startlinecolor": "#2a3f5f"
            },
            "type": "carpet"
           }
          ],
          "choropleth": [
           {
            "colorbar": {
             "outlinewidth": 0,
             "ticks": ""
            },
            "type": "choropleth"
           }
          ],
          "contour": [
           {
            "colorbar": {
             "outlinewidth": 0,
             "ticks": ""
            },
            "colorscale": [
             [
              0,
              "#0d0887"
             ],
             [
              0.1111111111111111,
              "#46039f"
             ],
             [
              0.2222222222222222,
              "#7201a8"
             ],
             [
              0.3333333333333333,
              "#9c179e"
             ],
             [
              0.4444444444444444,
              "#bd3786"
             ],
             [
              0.5555555555555556,
              "#d8576b"
             ],
             [
              0.6666666666666666,
              "#ed7953"
             ],
             [
              0.7777777777777778,
              "#fb9f3a"
             ],
             [
              0.8888888888888888,
              "#fdca26"
             ],
             [
              1,
              "#f0f921"
             ]
            ],
            "type": "contour"
           }
          ],
          "contourcarpet": [
           {
            "colorbar": {
             "outlinewidth": 0,
             "ticks": ""
            },
            "type": "contourcarpet"
           }
          ],
          "heatmap": [
           {
            "colorbar": {
             "outlinewidth": 0,
             "ticks": ""
            },
            "colorscale": [
             [
              0,
              "#0d0887"
             ],
             [
              0.1111111111111111,
              "#46039f"
             ],
             [
              0.2222222222222222,
              "#7201a8"
             ],
             [
              0.3333333333333333,
              "#9c179e"
             ],
             [
              0.4444444444444444,
              "#bd3786"
             ],
             [
              0.5555555555555556,
              "#d8576b"
             ],
             [
              0.6666666666666666,
              "#ed7953"
             ],
             [
              0.7777777777777778,
              "#fb9f3a"
             ],
             [
              0.8888888888888888,
              "#fdca26"
             ],
             [
              1,
              "#f0f921"
             ]
            ],
            "type": "heatmap"
           }
          ],
          "heatmapgl": [
           {
            "colorbar": {
             "outlinewidth": 0,
             "ticks": ""
            },
            "colorscale": [
             [
              0,
              "#0d0887"
             ],
             [
              0.1111111111111111,
              "#46039f"
             ],
             [
              0.2222222222222222,
              "#7201a8"
             ],
             [
              0.3333333333333333,
              "#9c179e"
             ],
             [
              0.4444444444444444,
              "#bd3786"
             ],
             [
              0.5555555555555556,
              "#d8576b"
             ],
             [
              0.6666666666666666,
              "#ed7953"
             ],
             [
              0.7777777777777778,
              "#fb9f3a"
             ],
             [
              0.8888888888888888,
              "#fdca26"
             ],
             [
              1,
              "#f0f921"
             ]
            ],
            "type": "heatmapgl"
           }
          ],
          "histogram": [
           {
            "marker": {
             "pattern": {
              "fillmode": "overlay",
              "size": 10,
              "solidity": 0.2
             }
            },
            "type": "histogram"
           }
          ],
          "histogram2d": [
           {
            "colorbar": {
             "outlinewidth": 0,
             "ticks": ""
            },
            "colorscale": [
             [
              0,
              "#0d0887"
             ],
             [
              0.1111111111111111,
              "#46039f"
             ],
             [
              0.2222222222222222,
              "#7201a8"
             ],
             [
              0.3333333333333333,
              "#9c179e"
             ],
             [
              0.4444444444444444,
              "#bd3786"
             ],
             [
              0.5555555555555556,
              "#d8576b"
             ],
             [
              0.6666666666666666,
              "#ed7953"
             ],
             [
              0.7777777777777778,
              "#fb9f3a"
             ],
             [
              0.8888888888888888,
              "#fdca26"
             ],
             [
              1,
              "#f0f921"
             ]
            ],
            "type": "histogram2d"
           }
          ],
          "histogram2dcontour": [
           {
            "colorbar": {
             "outlinewidth": 0,
             "ticks": ""
            },
            "colorscale": [
             [
              0,
              "#0d0887"
             ],
             [
              0.1111111111111111,
              "#46039f"
             ],
             [
              0.2222222222222222,
              "#7201a8"
             ],
             [
              0.3333333333333333,
              "#9c179e"
             ],
             [
              0.4444444444444444,
              "#bd3786"
             ],
             [
              0.5555555555555556,
              "#d8576b"
             ],
             [
              0.6666666666666666,
              "#ed7953"
             ],
             [
              0.7777777777777778,
              "#fb9f3a"
             ],
             [
              0.8888888888888888,
              "#fdca26"
             ],
             [
              1,
              "#f0f921"
             ]
            ],
            "type": "histogram2dcontour"
           }
          ],
          "mesh3d": [
           {
            "colorbar": {
             "outlinewidth": 0,
             "ticks": ""
            },
            "type": "mesh3d"
           }
          ],
          "parcoords": [
           {
            "line": {
             "colorbar": {
              "outlinewidth": 0,
              "ticks": ""
             }
            },
            "type": "parcoords"
           }
          ],
          "pie": [
           {
            "automargin": true,
            "type": "pie"
           }
          ],
          "scatter": [
           {
            "fillpattern": {
             "fillmode": "overlay",
             "size": 10,
             "solidity": 0.2
            },
            "type": "scatter"
           }
          ],
          "scatter3d": [
           {
            "line": {
             "colorbar": {
              "outlinewidth": 0,
              "ticks": ""
             }
            },
            "marker": {
             "colorbar": {
              "outlinewidth": 0,
              "ticks": ""
             }
            },
            "type": "scatter3d"
           }
          ],
          "scattercarpet": [
           {
            "marker": {
             "colorbar": {
              "outlinewidth": 0,
              "ticks": ""
             }
            },
            "type": "scattercarpet"
           }
          ],
          "scattergeo": [
           {
            "marker": {
             "colorbar": {
              "outlinewidth": 0,
              "ticks": ""
             }
            },
            "type": "scattergeo"
           }
          ],
          "scattergl": [
           {
            "marker": {
             "colorbar": {
              "outlinewidth": 0,
              "ticks": ""
             }
            },
            "type": "scattergl"
           }
          ],
          "scattermapbox": [
           {
            "marker": {
             "colorbar": {
              "outlinewidth": 0,
              "ticks": ""
             }
            },
            "type": "scattermapbox"
           }
          ],
          "scatterpolar": [
           {
            "marker": {
             "colorbar": {
              "outlinewidth": 0,
              "ticks": ""
             }
            },
            "type": "scatterpolar"
           }
          ],
          "scatterpolargl": [
           {
            "marker": {
             "colorbar": {
              "outlinewidth": 0,
              "ticks": ""
             }
            },
            "type": "scatterpolargl"
           }
          ],
          "scatterternary": [
           {
            "marker": {
             "colorbar": {
              "outlinewidth": 0,
              "ticks": ""
             }
            },
            "type": "scatterternary"
           }
          ],
          "surface": [
           {
            "colorbar": {
             "outlinewidth": 0,
             "ticks": ""
            },
            "colorscale": [
             [
              0,
              "#0d0887"
             ],
             [
              0.1111111111111111,
              "#46039f"
             ],
             [
              0.2222222222222222,
              "#7201a8"
             ],
             [
              0.3333333333333333,
              "#9c179e"
             ],
             [
              0.4444444444444444,
              "#bd3786"
             ],
             [
              0.5555555555555556,
              "#d8576b"
             ],
             [
              0.6666666666666666,
              "#ed7953"
             ],
             [
              0.7777777777777778,
              "#fb9f3a"
             ],
             [
              0.8888888888888888,
              "#fdca26"
             ],
             [
              1,
              "#f0f921"
             ]
            ],
            "type": "surface"
           }
          ],
          "table": [
           {
            "cells": {
             "fill": {
              "color": "#EBF0F8"
             },
             "line": {
              "color": "white"
             }
            },
            "header": {
             "fill": {
              "color": "#C8D4E3"
             },
             "line": {
              "color": "white"
             }
            },
            "type": "table"
           }
          ]
         },
         "layout": {
          "annotationdefaults": {
           "arrowcolor": "#2a3f5f",
           "arrowhead": 0,
           "arrowwidth": 1
          },
          "autotypenumbers": "strict",
          "coloraxis": {
           "colorbar": {
            "outlinewidth": 0,
            "ticks": ""
           }
          },
          "colorscale": {
           "diverging": [
            [
             0,
             "#8e0152"
            ],
            [
             0.1,
             "#c51b7d"
            ],
            [
             0.2,
             "#de77ae"
            ],
            [
             0.3,
             "#f1b6da"
            ],
            [
             0.4,
             "#fde0ef"
            ],
            [
             0.5,
             "#f7f7f7"
            ],
            [
             0.6,
             "#e6f5d0"
            ],
            [
             0.7,
             "#b8e186"
            ],
            [
             0.8,
             "#7fbc41"
            ],
            [
             0.9,
             "#4d9221"
            ],
            [
             1,
             "#276419"
            ]
           ],
           "sequential": [
            [
             0,
             "#0d0887"
            ],
            [
             0.1111111111111111,
             "#46039f"
            ],
            [
             0.2222222222222222,
             "#7201a8"
            ],
            [
             0.3333333333333333,
             "#9c179e"
            ],
            [
             0.4444444444444444,
             "#bd3786"
            ],
            [
             0.5555555555555556,
             "#d8576b"
            ],
            [
             0.6666666666666666,
             "#ed7953"
            ],
            [
             0.7777777777777778,
             "#fb9f3a"
            ],
            [
             0.8888888888888888,
             "#fdca26"
            ],
            [
             1,
             "#f0f921"
            ]
           ],
           "sequentialminus": [
            [
             0,
             "#0d0887"
            ],
            [
             0.1111111111111111,
             "#46039f"
            ],
            [
             0.2222222222222222,
             "#7201a8"
            ],
            [
             0.3333333333333333,
             "#9c179e"
            ],
            [
             0.4444444444444444,
             "#bd3786"
            ],
            [
             0.5555555555555556,
             "#d8576b"
            ],
            [
             0.6666666666666666,
             "#ed7953"
            ],
            [
             0.7777777777777778,
             "#fb9f3a"
            ],
            [
             0.8888888888888888,
             "#fdca26"
            ],
            [
             1,
             "#f0f921"
            ]
           ]
          },
          "colorway": [
           "#636efa",
           "#EF553B",
           "#00cc96",
           "#ab63fa",
           "#FFA15A",
           "#19d3f3",
           "#FF6692",
           "#B6E880",
           "#FF97FF",
           "#FECB52"
          ],
          "font": {
           "color": "#2a3f5f"
          },
          "geo": {
           "bgcolor": "white",
           "lakecolor": "white",
           "landcolor": "#E5ECF6",
           "showlakes": true,
           "showland": true,
           "subunitcolor": "white"
          },
          "hoverlabel": {
           "align": "left"
          },
          "hovermode": "closest",
          "mapbox": {
           "style": "light"
          },
          "paper_bgcolor": "white",
          "plot_bgcolor": "#E5ECF6",
          "polar": {
           "angularaxis": {
            "gridcolor": "white",
            "linecolor": "white",
            "ticks": ""
           },
           "bgcolor": "#E5ECF6",
           "radialaxis": {
            "gridcolor": "white",
            "linecolor": "white",
            "ticks": ""
           }
          },
          "scene": {
           "xaxis": {
            "backgroundcolor": "#E5ECF6",
            "gridcolor": "white",
            "gridwidth": 2,
            "linecolor": "white",
            "showbackground": true,
            "ticks": "",
            "zerolinecolor": "white"
           },
           "yaxis": {
            "backgroundcolor": "#E5ECF6",
            "gridcolor": "white",
            "gridwidth": 2,
            "linecolor": "white",
            "showbackground": true,
            "ticks": "",
            "zerolinecolor": "white"
           },
           "zaxis": {
            "backgroundcolor": "#E5ECF6",
            "gridcolor": "white",
            "gridwidth": 2,
            "linecolor": "white",
            "showbackground": true,
            "ticks": "",
            "zerolinecolor": "white"
           }
          },
          "shapedefaults": {
           "line": {
            "color": "#2a3f5f"
           }
          },
          "ternary": {
           "aaxis": {
            "gridcolor": "white",
            "linecolor": "white",
            "ticks": ""
           },
           "baxis": {
            "gridcolor": "white",
            "linecolor": "white",
            "ticks": ""
           },
           "bgcolor": "#E5ECF6",
           "caxis": {
            "gridcolor": "white",
            "linecolor": "white",
            "ticks": ""
           }
          },
          "title": {
           "x": 0.05
          },
          "xaxis": {
           "automargin": true,
           "gridcolor": "white",
           "linecolor": "white",
           "ticks": "",
           "title": {
            "standoff": 15
           },
           "zerolinecolor": "white",
           "zerolinewidth": 2
          },
          "yaxis": {
           "automargin": true,
           "gridcolor": "white",
           "linecolor": "white",
           "ticks": "",
           "title": {
            "standoff": 15
           },
           "zerolinecolor": "white",
           "zerolinewidth": 2
          }
         }
        },
        "title": {
         "text": "Análisis del movimiento relativo de ambos puntos"
        },
        "width": 1200,
        "xaxis": {
         "anchor": "y",
         "domain": [
          0,
          0.45
         ],
         "title": {
          "text": "Tiempo (s)"
         }
        },
        "xaxis2": {
         "anchor": "y2",
         "domain": [
          0.55,
          1
         ],
         "title": {
          "text": "Tiempo (s)"
         }
        },
        "xaxis3": {
         "anchor": "y3",
         "domain": [
          0,
          0.45
         ],
         "title": {
          "text": "Tiempo (s)"
         }
        },
        "xaxis4": {
         "anchor": "y4",
         "domain": [
          0.55,
          1
         ],
         "title": {
          "text": "Tiempo (s)"
         }
        },
        "xaxis5": {
         "anchor": "y5",
         "domain": [
          0,
          0.45
         ],
         "title": {
          "text": "Tiempo (s)"
         }
        },
        "xaxis6": {
         "anchor": "y6",
         "domain": [
          0.55,
          1
         ],
         "title": {
          "text": "Tiempo (s)"
         }
        },
        "xaxis7": {
         "anchor": "y7",
         "domain": [
          0,
          0.45
         ],
         "title": {
          "text": "Tiempo (s)"
         }
        },
        "xaxis8": {
         "anchor": "y8",
         "domain": [
          0.55,
          1
         ],
         "title": {
          "text": "Tiempo (s)"
         }
        },
        "yaxis": {
         "anchor": "x",
         "domain": [
          0.84375,
          1
         ],
         "title": {
          "text": "Posición X (m)"
         }
        },
        "yaxis2": {
         "anchor": "x2",
         "domain": [
          0.84375,
          1
         ],
         "title": {
          "text": "Posición Y (m)"
         }
        },
        "yaxis3": {
         "anchor": "x3",
         "domain": [
          0.5625,
          0.71875
         ],
         "title": {
          "text": "Velocidad X (m/s)"
         }
        },
        "yaxis4": {
         "anchor": "x4",
         "domain": [
          0.5625,
          0.71875
         ],
         "title": {
          "text": "Velocidad Y (m/s)"
         }
        },
        "yaxis5": {
         "anchor": "x5",
         "domain": [
          0.28125,
          0.4375
         ],
         "title": {
          "text": "Aceleración X (m/s^2)"
         }
        },
        "yaxis6": {
         "anchor": "x6",
         "domain": [
          0.28125,
          0.4375
         ],
         "title": {
          "text": "Aceleración Y (m/s^2)"
         }
        },
        "yaxis7": {
         "anchor": "x7",
         "domain": [
          0,
          0.15625
         ],
         "title": {
          "text": "Velocidad Angular (rad/s)"
         }
        },
        "yaxis8": {
         "anchor": "x8",
         "domain": [
          0,
          0.15625
         ],
         "title": {
          "text": "Aceleración Angular (rad/s)"
         }
        }
       }
      }
     },
     "metadata": {},
     "output_type": "display_data"
    }
   ],
   "source": [
    "# Elegir dataframe a graficar\n",
    "dfG = dfRelativoBordeCentro\n",
    "dfG_speed = dfRelativoBordeCentro_speed\n",
    "dfG_acceleration = dfRelativoBordeCentro_acceleration\n",
    "\n",
    "# Crear figura y ejes\n",
    "# 3 filas, 2 columnas\n",
    "fig = make_subplots(rows=4, cols=2, subplot_titles=(\"Posición X / Tiempo\", \"Posición Y / Tiempo\",\n",
    "                                                    \"Velocidad X / Tiempo\", \"Velocidad Y / Tiempo\",\n",
    "                                                    \"Aceleración X / Tiempo\", \"Aceleración Y / Tiempo\",\n",
    "                                                    \"Velocidad Angular / Tiempo\", \"Aceleración Angular / Tiempo\"))\n",
    "\n",
    "# Grafica la posición X en funcion del tiempo\n",
    "fig.update_yaxes(title_text=\"Posición X (m)\", row=1, col=1)\n",
    "fig.update_xaxes(title_text=\"Tiempo (s)\", row=1, col=1)\n",
    "fig.add_trace(go.Scatter(x=dfG['Time (sec)'], y=dfG['Relative_Position_X'], mode='lines', marker=dict(color='green')), row=1, col=1)\n",
    "\n",
    "# Grafica la posición Y / tiempo\n",
    "fig.update_yaxes(title_text=\"Posición Y (m)\", row=1, col=2)\n",
    "fig.update_xaxes(title_text=\"Tiempo (s)\", row=1, col=2)\n",
    "fig.add_trace(go.Scatter(x=dfG['Time (sec)'], y=dfG['Relative_Position_Y'], mode='lines', marker=dict(color='magenta')), row=1, col=2)\n",
    "\n",
    "# Grafica la velocidad X / tiempo\n",
    "fig.update_yaxes(title_text=\"Velocidad X (m/s)\", row=2, col=1)\n",
    "fig.update_xaxes(title_text=\"Tiempo (s)\", row=2, col=1)\n",
    "fig.add_trace(go.Scatter(x=dfG_speed['Time (sec)'], y=dfG_speed['Relative_Speed_X'], mode='lines', marker=dict(color='blue')), row=2, col=1)\n",
    "\n",
    "# Grafica la velocidad Y / tiempo\n",
    "fig.update_yaxes(title_text=\"Velocidad Y (m/s)\", row=2, col=2)\n",
    "fig.update_xaxes(title_text=\"Tiempo (s)\", row=2, col=2)\n",
    "fig.add_trace(go.Scatter(x=dfG_speed['Time (sec)'], y=dfG_speed['Relative_Speed_Y'], mode='lines', marker=dict(color='red')), row=2, col=2)\n",
    "\n",
    "# Grafica la aceleración X / tiempo\n",
    "fig.update_yaxes(title_text=\"Aceleración X (m/s^2)\", row=3, col=1)\n",
    "fig.update_xaxes(title_text=\"Tiempo (s)\", row=3, col=1)\n",
    "fig.add_trace(go.Scatter(x=dfG_acceleration['Time (sec)'], y=dfG_acceleration['Relative_Acceleration_X'], mode='lines', marker=dict(color='green')), row=3, col=1)\n",
    "\n",
    "# Grafica la aceleración Y / tiempo\n",
    "fig.update_yaxes(title_text=\"Aceleración Y (m/s^2)\", row=3, col=2)\n",
    "fig.update_xaxes(title_text=\"Tiempo (s)\", row=3, col=2)\n",
    "fig.add_trace(go.Scatter(x=dfG_acceleration['Time (sec)'], y=dfG_acceleration['Relative_Acceleration_Y'], mode='lines', marker=dict(color='purple')), row=3, col=2)\n",
    "\n",
    "# Grafica la velocidad angular\n",
    "fig.update_yaxes(title_text=\"Velocidad Angular (rad/s)\", row=4, col=1)\n",
    "fig.update_xaxes(title_text=\"Tiempo (s)\", row=4, col=1)\n",
    "fig.add_trace(go.Scatter(x=dfG['Time (sec)'], y=dfG['Relative_Angular_Velocity'], mode='lines', marker=dict(color='orange')), row=4, col=1)\n",
    "\n",
    "#Grafica la aceleración angular\n",
    "fig.update_yaxes(title_text=\"Aceleración Angular (rad/s)\", row=4, col=2)\n",
    "fig.update_xaxes(title_text=\"Tiempo (s)\", row=4, col=2)\n",
    "fig.add_trace(go.Scatter(x=dfG['Time (sec)'], y=dfG['Relative_Angular_Acceleration'], mode='lines', marker=dict(color='black')), row=4, col=2)\n",
    "\n",
    "# Actualizar los títulos y ajustar el diseño\n",
    "fig.update_layout(height=1000, width=1200, title_text=\"Análisis del movimiento relativo de ambos puntos\", showlegend=False)\n",
    "\n",
    "# Mostrar los gráficos\n",
    "fig.show() # Si hay error acá, revisar el renderer"
   ]
  },
  {
   "cell_type": "markdown",
   "metadata": {},
   "source": [
    "<h1>Análisis de la Dinámica"
   ]
  },
  {
   "cell_type": "code",
   "execution_count": 13,
   "metadata": {},
   "outputs": [
    {
     "name": "stdout",
     "output_type": "stream",
     "text": [
      "3    -0.342029\n",
      "4    -0.046407\n",
      "5     0.249216\n",
      "6     0.544838\n",
      "7     1.013718\n",
      "8     1.496941\n",
      "9     1.968367\n",
      "10    1.844956\n",
      "11    1.562920\n",
      "12    1.103798\n",
      "13    0.818956\n",
      "14    0.519524\n",
      "15    0.288763\n",
      "16    0.247375\n",
      "17    0.250335\n",
      "18    0.300160\n",
      "19    0.193158\n",
      "20    0.069360\n",
      "21   -0.121482\n",
      "22   -0.091820\n",
      "23   -0.080849\n",
      "24   -0.219951\n",
      "25   -0.667328\n",
      "26   -1.244869\n",
      "27   -1.565333\n",
      "28   -1.626419\n",
      "29   -1.214258\n",
      "30   -0.571298\n",
      "31    0.361246\n",
      "32    1.245571\n",
      "33    1.913318\n",
      "34    2.135855\n",
      "35    1.711368\n",
      "36    0.568207\n",
      "37   -1.271319\n",
      "38   -3.446325\n",
      "39   -5.367738\n",
      "40   -6.545651\n",
      "41   -6.662386\n",
      "42   -6.005977\n",
      "43   -4.741092\n",
      "44   -3.464992\n",
      "45   -2.243040\n",
      "46   -1.243185\n",
      "47   -0.243331\n",
      "48    0.756523\n",
      "Name: tension, dtype: float64\n",
      "peso 0.6571946805070001\n"
     ]
    }
   ],
   "source": [
    "#Por ahora trabaja con masa constante#\n",
    "\n",
    "#Calcular la de tensión \n",
    "if nombre_video == 'yoyoNew.MOV':\n",
    "    df_tension = pd.DataFrame()\n",
    "    g = 9.94243087\n",
    "    df_tension['tension'] = (masa * (g)) + (masa * dfCentro_acceleration['Acceleration_Y'] )\n",
    "    df_tension['time(sec)'] = dfCentro_acceleration['Time (sec)']\n",
    "    print(df_tension['tension'])\n",
    "    peso= masa*g\n",
    "    print(f\"peso {peso}\")"
   ]
  },
  {
   "cell_type": "code",
   "execution_count": 14,
   "metadata": {},
   "outputs": [
    {
     "data": {
      "application/vnd.plotly.v1+json": {
       "config": {
        "plotlyServerURL": "https://plot.ly"
       },
       "data": [
        {
         "marker": {
          "color": "red"
         },
         "mode": "lines",
         "name": "tension",
         "type": "scatter",
         "x": [
          0.01247566909975669,
          0.016634225466342255,
          0.02079278183292782,
          0.02495133819951338,
          0.029109894566098946,
          0.03326845093268451,
          0.03742700729927007,
          0.04158556366585564,
          0.0457441200324412,
          0.04990267639902676,
          0.05406123276561233,
          0.05821978913219789,
          0.06237834549878346,
          0.06653690186536902,
          0.07069545823195458,
          0.07485401459854014,
          0.07901257096512572,
          0.08317112733171128,
          0.08732968369829684,
          0.0914882400648824,
          0.09564679643146796,
          0.09980535279805353,
          0.1039639091646391,
          0.10812246553122466,
          0.11228102189781022,
          0.11643957826439578,
          0.12059813463098135,
          0.12475669099756692,
          0.12891524736415247,
          0.13307380373073804,
          0.13723236009732362,
          0.14139091646390917,
          0.14554947283049474,
          0.1497080291970803,
          0.15386658556366586,
          0.15802514193025144,
          0.162183698296837,
          0.16634225466342256,
          0.1705008110300081,
          0.17465936739659368,
          0.17881792376317926,
          0.1829764801297648,
          0.18713503649635038,
          0.19129359286293593,
          0.1954521492295215,
          0.19961070559610705
         ],
         "xaxis": "x",
         "y": [
          -0.34202946113689414,
          -0.046406856026472765,
          0.24921574908394845,
          0.5448383541943741,
          1.013718079799937,
          1.4969412250238414,
          1.9683667763123567,
          1.8449564251336534,
          1.5629198495932883,
          1.1037977403427928,
          0.8189555045740562,
          0.519523835629324,
          0.2887631193860769,
          0.2473747937073491,
          0.2503352489801116,
          0.30015990471794135,
          0.19315782851414554,
          0.06936048971658326,
          -0.12148245379126965,
          -0.09181985291947548,
          -0.08084875396711555,
          -0.219951453031898,
          -0.6673284880967629,
          -1.2448688082648638,
          -1.56533325421199,
          -1.6264192496143433,
          -1.2142580877308384,
          -0.5712975108456151,
          0.3612459001203048,
          1.2455706539615936,
          1.913317787739746,
          2.1358550171103445,
          1.7113682996132218,
          0.5682068778917243,
          -1.2713194119134588,
          -3.446325267218992,
          -5.367738136859195,
          -6.5456510466181665,
          -6.66238586139764,
          -6.005977464808135,
          -4.741091852240903,
          -3.464991891361406,
          -2.243039790744116,
          -1.243185412131406,
          -0.24333103351871632,
          0.7565233450939578
         ],
         "yaxis": "y"
        }
       ],
       "layout": {
        "annotations": [
         {
          "font": {
           "size": 16
          },
          "showarrow": false,
          "text": "t",
          "x": 0.5,
          "xanchor": "center",
          "xref": "paper",
          "y": 1,
          "yanchor": "bottom",
          "yref": "paper"
         }
        ],
        "height": 750,
        "showlegend": false,
        "template": {
         "data": {
          "bar": [
           {
            "error_x": {
             "color": "#2a3f5f"
            },
            "error_y": {
             "color": "#2a3f5f"
            },
            "marker": {
             "line": {
              "color": "#E5ECF6",
              "width": 0.5
             },
             "pattern": {
              "fillmode": "overlay",
              "size": 10,
              "solidity": 0.2
             }
            },
            "type": "bar"
           }
          ],
          "barpolar": [
           {
            "marker": {
             "line": {
              "color": "#E5ECF6",
              "width": 0.5
             },
             "pattern": {
              "fillmode": "overlay",
              "size": 10,
              "solidity": 0.2
             }
            },
            "type": "barpolar"
           }
          ],
          "carpet": [
           {
            "aaxis": {
             "endlinecolor": "#2a3f5f",
             "gridcolor": "white",
             "linecolor": "white",
             "minorgridcolor": "white",
             "startlinecolor": "#2a3f5f"
            },
            "baxis": {
             "endlinecolor": "#2a3f5f",
             "gridcolor": "white",
             "linecolor": "white",
             "minorgridcolor": "white",
             "startlinecolor": "#2a3f5f"
            },
            "type": "carpet"
           }
          ],
          "choropleth": [
           {
            "colorbar": {
             "outlinewidth": 0,
             "ticks": ""
            },
            "type": "choropleth"
           }
          ],
          "contour": [
           {
            "colorbar": {
             "outlinewidth": 0,
             "ticks": ""
            },
            "colorscale": [
             [
              0,
              "#0d0887"
             ],
             [
              0.1111111111111111,
              "#46039f"
             ],
             [
              0.2222222222222222,
              "#7201a8"
             ],
             [
              0.3333333333333333,
              "#9c179e"
             ],
             [
              0.4444444444444444,
              "#bd3786"
             ],
             [
              0.5555555555555556,
              "#d8576b"
             ],
             [
              0.6666666666666666,
              "#ed7953"
             ],
             [
              0.7777777777777778,
              "#fb9f3a"
             ],
             [
              0.8888888888888888,
              "#fdca26"
             ],
             [
              1,
              "#f0f921"
             ]
            ],
            "type": "contour"
           }
          ],
          "contourcarpet": [
           {
            "colorbar": {
             "outlinewidth": 0,
             "ticks": ""
            },
            "type": "contourcarpet"
           }
          ],
          "heatmap": [
           {
            "colorbar": {
             "outlinewidth": 0,
             "ticks": ""
            },
            "colorscale": [
             [
              0,
              "#0d0887"
             ],
             [
              0.1111111111111111,
              "#46039f"
             ],
             [
              0.2222222222222222,
              "#7201a8"
             ],
             [
              0.3333333333333333,
              "#9c179e"
             ],
             [
              0.4444444444444444,
              "#bd3786"
             ],
             [
              0.5555555555555556,
              "#d8576b"
             ],
             [
              0.6666666666666666,
              "#ed7953"
             ],
             [
              0.7777777777777778,
              "#fb9f3a"
             ],
             [
              0.8888888888888888,
              "#fdca26"
             ],
             [
              1,
              "#f0f921"
             ]
            ],
            "type": "heatmap"
           }
          ],
          "heatmapgl": [
           {
            "colorbar": {
             "outlinewidth": 0,
             "ticks": ""
            },
            "colorscale": [
             [
              0,
              "#0d0887"
             ],
             [
              0.1111111111111111,
              "#46039f"
             ],
             [
              0.2222222222222222,
              "#7201a8"
             ],
             [
              0.3333333333333333,
              "#9c179e"
             ],
             [
              0.4444444444444444,
              "#bd3786"
             ],
             [
              0.5555555555555556,
              "#d8576b"
             ],
             [
              0.6666666666666666,
              "#ed7953"
             ],
             [
              0.7777777777777778,
              "#fb9f3a"
             ],
             [
              0.8888888888888888,
              "#fdca26"
             ],
             [
              1,
              "#f0f921"
             ]
            ],
            "type": "heatmapgl"
           }
          ],
          "histogram": [
           {
            "marker": {
             "pattern": {
              "fillmode": "overlay",
              "size": 10,
              "solidity": 0.2
             }
            },
            "type": "histogram"
           }
          ],
          "histogram2d": [
           {
            "colorbar": {
             "outlinewidth": 0,
             "ticks": ""
            },
            "colorscale": [
             [
              0,
              "#0d0887"
             ],
             [
              0.1111111111111111,
              "#46039f"
             ],
             [
              0.2222222222222222,
              "#7201a8"
             ],
             [
              0.3333333333333333,
              "#9c179e"
             ],
             [
              0.4444444444444444,
              "#bd3786"
             ],
             [
              0.5555555555555556,
              "#d8576b"
             ],
             [
              0.6666666666666666,
              "#ed7953"
             ],
             [
              0.7777777777777778,
              "#fb9f3a"
             ],
             [
              0.8888888888888888,
              "#fdca26"
             ],
             [
              1,
              "#f0f921"
             ]
            ],
            "type": "histogram2d"
           }
          ],
          "histogram2dcontour": [
           {
            "colorbar": {
             "outlinewidth": 0,
             "ticks": ""
            },
            "colorscale": [
             [
              0,
              "#0d0887"
             ],
             [
              0.1111111111111111,
              "#46039f"
             ],
             [
              0.2222222222222222,
              "#7201a8"
             ],
             [
              0.3333333333333333,
              "#9c179e"
             ],
             [
              0.4444444444444444,
              "#bd3786"
             ],
             [
              0.5555555555555556,
              "#d8576b"
             ],
             [
              0.6666666666666666,
              "#ed7953"
             ],
             [
              0.7777777777777778,
              "#fb9f3a"
             ],
             [
              0.8888888888888888,
              "#fdca26"
             ],
             [
              1,
              "#f0f921"
             ]
            ],
            "type": "histogram2dcontour"
           }
          ],
          "mesh3d": [
           {
            "colorbar": {
             "outlinewidth": 0,
             "ticks": ""
            },
            "type": "mesh3d"
           }
          ],
          "parcoords": [
           {
            "line": {
             "colorbar": {
              "outlinewidth": 0,
              "ticks": ""
             }
            },
            "type": "parcoords"
           }
          ],
          "pie": [
           {
            "automargin": true,
            "type": "pie"
           }
          ],
          "scatter": [
           {
            "fillpattern": {
             "fillmode": "overlay",
             "size": 10,
             "solidity": 0.2
            },
            "type": "scatter"
           }
          ],
          "scatter3d": [
           {
            "line": {
             "colorbar": {
              "outlinewidth": 0,
              "ticks": ""
             }
            },
            "marker": {
             "colorbar": {
              "outlinewidth": 0,
              "ticks": ""
             }
            },
            "type": "scatter3d"
           }
          ],
          "scattercarpet": [
           {
            "marker": {
             "colorbar": {
              "outlinewidth": 0,
              "ticks": ""
             }
            },
            "type": "scattercarpet"
           }
          ],
          "scattergeo": [
           {
            "marker": {
             "colorbar": {
              "outlinewidth": 0,
              "ticks": ""
             }
            },
            "type": "scattergeo"
           }
          ],
          "scattergl": [
           {
            "marker": {
             "colorbar": {
              "outlinewidth": 0,
              "ticks": ""
             }
            },
            "type": "scattergl"
           }
          ],
          "scattermapbox": [
           {
            "marker": {
             "colorbar": {
              "outlinewidth": 0,
              "ticks": ""
             }
            },
            "type": "scattermapbox"
           }
          ],
          "scatterpolar": [
           {
            "marker": {
             "colorbar": {
              "outlinewidth": 0,
              "ticks": ""
             }
            },
            "type": "scatterpolar"
           }
          ],
          "scatterpolargl": [
           {
            "marker": {
             "colorbar": {
              "outlinewidth": 0,
              "ticks": ""
             }
            },
            "type": "scatterpolargl"
           }
          ],
          "scatterternary": [
           {
            "marker": {
             "colorbar": {
              "outlinewidth": 0,
              "ticks": ""
             }
            },
            "type": "scatterternary"
           }
          ],
          "surface": [
           {
            "colorbar": {
             "outlinewidth": 0,
             "ticks": ""
            },
            "colorscale": [
             [
              0,
              "#0d0887"
             ],
             [
              0.1111111111111111,
              "#46039f"
             ],
             [
              0.2222222222222222,
              "#7201a8"
             ],
             [
              0.3333333333333333,
              "#9c179e"
             ],
             [
              0.4444444444444444,
              "#bd3786"
             ],
             [
              0.5555555555555556,
              "#d8576b"
             ],
             [
              0.6666666666666666,
              "#ed7953"
             ],
             [
              0.7777777777777778,
              "#fb9f3a"
             ],
             [
              0.8888888888888888,
              "#fdca26"
             ],
             [
              1,
              "#f0f921"
             ]
            ],
            "type": "surface"
           }
          ],
          "table": [
           {
            "cells": {
             "fill": {
              "color": "#EBF0F8"
             },
             "line": {
              "color": "white"
             }
            },
            "header": {
             "fill": {
              "color": "#C8D4E3"
             },
             "line": {
              "color": "white"
             }
            },
            "type": "table"
           }
          ]
         },
         "layout": {
          "annotationdefaults": {
           "arrowcolor": "#2a3f5f",
           "arrowhead": 0,
           "arrowwidth": 1
          },
          "autotypenumbers": "strict",
          "coloraxis": {
           "colorbar": {
            "outlinewidth": 0,
            "ticks": ""
           }
          },
          "colorscale": {
           "diverging": [
            [
             0,
             "#8e0152"
            ],
            [
             0.1,
             "#c51b7d"
            ],
            [
             0.2,
             "#de77ae"
            ],
            [
             0.3,
             "#f1b6da"
            ],
            [
             0.4,
             "#fde0ef"
            ],
            [
             0.5,
             "#f7f7f7"
            ],
            [
             0.6,
             "#e6f5d0"
            ],
            [
             0.7,
             "#b8e186"
            ],
            [
             0.8,
             "#7fbc41"
            ],
            [
             0.9,
             "#4d9221"
            ],
            [
             1,
             "#276419"
            ]
           ],
           "sequential": [
            [
             0,
             "#0d0887"
            ],
            [
             0.1111111111111111,
             "#46039f"
            ],
            [
             0.2222222222222222,
             "#7201a8"
            ],
            [
             0.3333333333333333,
             "#9c179e"
            ],
            [
             0.4444444444444444,
             "#bd3786"
            ],
            [
             0.5555555555555556,
             "#d8576b"
            ],
            [
             0.6666666666666666,
             "#ed7953"
            ],
            [
             0.7777777777777778,
             "#fb9f3a"
            ],
            [
             0.8888888888888888,
             "#fdca26"
            ],
            [
             1,
             "#f0f921"
            ]
           ],
           "sequentialminus": [
            [
             0,
             "#0d0887"
            ],
            [
             0.1111111111111111,
             "#46039f"
            ],
            [
             0.2222222222222222,
             "#7201a8"
            ],
            [
             0.3333333333333333,
             "#9c179e"
            ],
            [
             0.4444444444444444,
             "#bd3786"
            ],
            [
             0.5555555555555556,
             "#d8576b"
            ],
            [
             0.6666666666666666,
             "#ed7953"
            ],
            [
             0.7777777777777778,
             "#fb9f3a"
            ],
            [
             0.8888888888888888,
             "#fdca26"
            ],
            [
             1,
             "#f0f921"
            ]
           ]
          },
          "colorway": [
           "#636efa",
           "#EF553B",
           "#00cc96",
           "#ab63fa",
           "#FFA15A",
           "#19d3f3",
           "#FF6692",
           "#B6E880",
           "#FF97FF",
           "#FECB52"
          ],
          "font": {
           "color": "#2a3f5f"
          },
          "geo": {
           "bgcolor": "white",
           "lakecolor": "white",
           "landcolor": "#E5ECF6",
           "showlakes": true,
           "showland": true,
           "subunitcolor": "white"
          },
          "hoverlabel": {
           "align": "left"
          },
          "hovermode": "closest",
          "mapbox": {
           "style": "light"
          },
          "paper_bgcolor": "white",
          "plot_bgcolor": "#E5ECF6",
          "polar": {
           "angularaxis": {
            "gridcolor": "white",
            "linecolor": "white",
            "ticks": ""
           },
           "bgcolor": "#E5ECF6",
           "radialaxis": {
            "gridcolor": "white",
            "linecolor": "white",
            "ticks": ""
           }
          },
          "scene": {
           "xaxis": {
            "backgroundcolor": "#E5ECF6",
            "gridcolor": "white",
            "gridwidth": 2,
            "linecolor": "white",
            "showbackground": true,
            "ticks": "",
            "zerolinecolor": "white"
           },
           "yaxis": {
            "backgroundcolor": "#E5ECF6",
            "gridcolor": "white",
            "gridwidth": 2,
            "linecolor": "white",
            "showbackground": true,
            "ticks": "",
            "zerolinecolor": "white"
           },
           "zaxis": {
            "backgroundcolor": "#E5ECF6",
            "gridcolor": "white",
            "gridwidth": 2,
            "linecolor": "white",
            "showbackground": true,
            "ticks": "",
            "zerolinecolor": "white"
           }
          },
          "shapedefaults": {
           "line": {
            "color": "#2a3f5f"
           }
          },
          "ternary": {
           "aaxis": {
            "gridcolor": "white",
            "linecolor": "white",
            "ticks": ""
           },
           "baxis": {
            "gridcolor": "white",
            "linecolor": "white",
            "ticks": ""
           },
           "bgcolor": "#E5ECF6",
           "caxis": {
            "gridcolor": "white",
            "linecolor": "white",
            "ticks": ""
           }
          },
          "title": {
           "x": 0.05
          },
          "xaxis": {
           "automargin": true,
           "gridcolor": "white",
           "linecolor": "white",
           "ticks": "",
           "title": {
            "standoff": 15
           },
           "zerolinecolor": "white",
           "zerolinewidth": 2
          },
          "yaxis": {
           "automargin": true,
           "gridcolor": "white",
           "linecolor": "white",
           "ticks": "",
           "title": {
            "standoff": 15
           },
           "zerolinecolor": "white",
           "zerolinewidth": 2
          }
         }
        },
        "title": {
         "text": "Análisis Dinámico"
        },
        "width": 750,
        "xaxis": {
         "anchor": "y",
         "domain": [
          0,
          1
         ],
         "title": {
          "text": "Tiempo (s)"
         }
        },
        "yaxis": {
         "anchor": "x",
         "domain": [
          0,
          1
         ],
         "title": {
          "text": "Tension (N)"
         }
        }
       }
      }
     },
     "metadata": {},
     "output_type": "display_data"
    }
   ],
   "source": [
    "#Elegir dataframe\n",
    "dfGTension = df_tension\n",
    "\n",
    "fig = make_subplots(rows=1, cols=1, subplot_titles=(\"tension/Tiempo\"))\n",
    "\n",
    "fig.update_yaxes(title_text=\"Tension (N)\", row=1, col=1)\n",
    "fig.update_xaxes(title_text=\"Tiempo (s)\", row=1, col=1)\n",
    "fig.add_trace(go.Scatter(x=dfGTension['time(sec)'], y=dfGTension['tension'], mode='lines', marker=dict(color='red'), name='tension'), row=1, col=1)\n",
    "\n",
    "\n",
    "fig.update_layout(height=750, width=750, title_text=\"Análisis Dinámico\", showlegend=False)\n",
    "\n",
    "fig.show()"
   ]
  }
 ],
 "metadata": {
  "colab": {
   "collapsed_sections": [
    "9cZ7TmU37KYu",
    "BXvvEOq7hhtk",
    "W_hA0GPH6-Sw"
   ],
   "provenance": []
  },
  "kernelspec": {
   "display_name": "Python 3",
   "name": "python3"
  },
  "language_info": {
   "codemirror_mode": {
    "name": "ipython",
    "version": 3
   },
   "file_extension": ".py",
   "mimetype": "text/x-python",
   "name": "python",
   "nbconvert_exporter": "python",
   "pygments_lexer": "ipython3",
   "version": "3.12.6"
  }
 },
 "nbformat": 4,
 "nbformat_minor": 0
}
